{
 "cells": [
  {
   "cell_type": "markdown",
   "id": "bf63bfb9",
   "metadata": {},
   "source": [
    "# CASE STUDY:DATA EXPLORATORY ANALYSIS AND HYPOTHESIS TESTING FOR INSURANCE CLAIMS DATA\n",
    "\n",
    "## ANALYTICS IN INSURANCE CLAIMS\n",
    "\n",
    "## BUSINESS PROBLEM:\n",
    "\n",
    "## DATA AVAILABLE -\n",
    "\n",
    "    1. Import claims_data.csv and cust_data.csv which is provided to you and combine the two datasets appropriately to create a 360-degree view of the data. Use the same for the subsequent questions.\n",
    "    2. Perform a data audit for the datatypes and find out if there are any mismatch within the current datatypes of the columns and their business significance.\n",
    "    3. Convert the column claim_amount to numeric. Use the appropriate modules/attributes to remove the $ sign$.\n",
    "    \n",
    "    4. Of all the injury claims, some of them have gone unreported with the police. Create an alert flag (1,0) for all such claims.\n",
    "    5. One customer can claim for insurance more than once and in each claim, multiple categories of claims can be involved. However, customer ID should remain unique. Retain the most recent observation and delete any duplicated records in the data based on the customer ID column.\n",
    "    6. Check for missing values and impute the missing values with an appropriate value. (mean for continuous and mode for categorical)\n",
    "    7. Calculate the age of customers in years. Based on the age, categorize the customers according to the below criteria\n",
    "        Children < 18\n",
    "        Youth 18-30\n",
    "        Adult 30-60\n",
    "        Senior > 60\n",
    "    8. What is the average amount claimed by the customers from various segments?\n",
    "    9. What is the total claim amount based on incident cause for all the claims that have been done at least 20 days prior to 1st of October, 2018.\n",
    "    10. How many adults from TX, DE and AK claimed insurance for driver related issues and causes?\n",
    "    11. Draw a pie chart between the aggregated value of claim amount based on gender and segment. Represent the claim amount as a percentage on the pie chart.\n",
    "    12. Among males and females, which gender had claimed the most for any type of driver related issues? E.g. This metric can be compared using a bar chart\n",
    "    13. Which age group had the maximum fraudulent policy claims? Visualize it on a bar chart.\n",
    "    14. Visualize the monthly trend of the total amount that has been claimed by the customers. Ensure that on the “month” axis, the month is in a chronological order not alphabetical order.\n",
    "    15. What is the average claim amount for gender and age categories and suitably represent the above using a facetted bar chart, one facet that represents fraudulent claims and the other for non-fraudulent claims.\n",
    "    Based on the conclusions from exploratory analysis as well as suitable statistical tests, answer the below questions. Please include a detailed write-up on the parameters taken into consideration, the Hypothesis testing steps, conclusion from the p-values and the business implications of the statements.\n",
    "    16. Is there any similarity in the amount claimed by males and females?\n",
    "    17. Is there any relationship between age category and segment?\n",
    "    18. The current year has shown a significant rise in claim amounts as\n",
    "    compared to 2016-17 fiscal average which was $10,000.\n",
    "    19. Is there any difference between age groups and insurance claims?\n",
    "    20. Is there any relationship between total number of policy claims and the\n",
    "    claimed amount?\n",
    "    \n",
    "---\n",
    "---\n",
    "\n",
    "## Import Libraries"
   ]
  },
  {
   "cell_type": "code",
   "execution_count": 1,
   "id": "f8f52e45",
   "metadata": {
    "ExecuteTime": {
     "end_time": "2022-06-25T07:56:00.663355Z",
     "start_time": "2022-06-25T07:54:58.419752Z"
    }
   },
   "outputs": [
    {
     "data": {
      "text/html": [
       "        <script type=\"text/javascript\">\n",
       "        window.PlotlyConfig = {MathJaxConfig: 'local'};\n",
       "        if (window.MathJax) {MathJax.Hub.Config({SVG: {font: \"STIX-Web\"}});}\n",
       "        if (typeof require !== 'undefined') {\n",
       "        require.undef(\"plotly\");\n",
       "        requirejs.config({\n",
       "            paths: {\n",
       "                'plotly': ['https://cdn.plot.ly/plotly-2.9.0.min']\n",
       "            }\n",
       "        });\n",
       "        require(['plotly'], function(Plotly) {\n",
       "            window._Plotly = Plotly;\n",
       "        });\n",
       "        }\n",
       "        </script>\n",
       "        "
      ]
     },
     "metadata": {},
     "output_type": "display_data"
    },
    {
     "data": {
      "text/html": [
       "        <script type=\"text/javascript\">\n",
       "        window.PlotlyConfig = {MathJaxConfig: 'local'};\n",
       "        if (window.MathJax) {MathJax.Hub.Config({SVG: {font: \"STIX-Web\"}});}\n",
       "        if (typeof require !== 'undefined') {\n",
       "        require.undef(\"plotly\");\n",
       "        requirejs.config({\n",
       "            paths: {\n",
       "                'plotly': ['https://cdn.plot.ly/plotly-2.9.0.min']\n",
       "            }\n",
       "        });\n",
       "        require(['plotly'], function(Plotly) {\n",
       "            window._Plotly = Plotly;\n",
       "        });\n",
       "        }\n",
       "        </script>\n",
       "        "
      ]
     },
     "metadata": {},
     "output_type": "display_data"
    },
    {
     "data": {
      "text/html": [
       "        <script type=\"text/javascript\">\n",
       "        window.PlotlyConfig = {MathJaxConfig: 'local'};\n",
       "        if (window.MathJax) {MathJax.Hub.Config({SVG: {font: \"STIX-Web\"}});}\n",
       "        if (typeof require !== 'undefined') {\n",
       "        require.undef(\"plotly\");\n",
       "        requirejs.config({\n",
       "            paths: {\n",
       "                'plotly': ['https://cdn.plot.ly/plotly-2.9.0.min']\n",
       "            }\n",
       "        });\n",
       "        require(['plotly'], function(Plotly) {\n",
       "            window._Plotly = Plotly;\n",
       "        });\n",
       "        }\n",
       "        </script>\n",
       "        "
      ]
     },
     "metadata": {},
     "output_type": "display_data"
    }
   ],
   "source": [
    "# Handle table-like data and matrices\n",
    "import pandas as pd\n",
    "import numpy as np\n",
    "from numpy import percentile\n",
    "from datetime import date\n",
    "import datetime\n",
    "from datetime import timedelta\n",
    "import scipy.stats as stats\n",
    "import seaborn as sns\n",
    "from scipy import stats\n",
    "\n",
    "# Visualisation\n",
    "import matplotlib.pyplot as plt\n",
    "import seaborn as sns\n",
    "import cufflinks as cf\n",
    "import plotly\n",
    "import plotly.express as px\n",
    "from plotly import __version__\n",
    "from plotly.offline import download_plotlyjs, init_notebook_mode, plot, iplot\n",
    "init_notebook_mode(connected = True)\n",
    "cf.go_offline()\n",
    "import plotly.graph_objects as go\n",
    "from plotly.subplots import make_subplots\n",
    "\n",
    "# Configure visualisations\n",
    "%matplotlib inline"
   ]
  },
  {
   "cell_type": "markdown",
   "id": "eef1c1d7",
   "metadata": {},
   "source": [
    "## Load Data"
   ]
  },
  {
   "cell_type": "code",
   "execution_count": 2,
   "id": "ea847d70",
   "metadata": {
    "ExecuteTime": {
     "end_time": "2022-06-25T07:56:00.946193Z",
     "start_time": "2022-06-25T07:56:00.667317Z"
    }
   },
   "outputs": [
    {
     "data": {
      "text/html": [
       "<div>\n",
       "<style scoped>\n",
       "    .dataframe tbody tr th:only-of-type {\n",
       "        vertical-align: middle;\n",
       "    }\n",
       "\n",
       "    .dataframe tbody tr th {\n",
       "        vertical-align: top;\n",
       "    }\n",
       "\n",
       "    .dataframe thead th {\n",
       "        text-align: right;\n",
       "    }\n",
       "</style>\n",
       "<table border=\"1\" class=\"dataframe\">\n",
       "  <thead>\n",
       "    <tr style=\"text-align: right;\">\n",
       "      <th></th>\n",
       "      <th>claim_id</th>\n",
       "      <th>customer_id</th>\n",
       "      <th>incident_cause</th>\n",
       "      <th>claim_date</th>\n",
       "      <th>claim_area</th>\n",
       "      <th>police_report</th>\n",
       "      <th>claim_type</th>\n",
       "      <th>claim_amount</th>\n",
       "      <th>total_policy_claims</th>\n",
       "      <th>fraudulent</th>\n",
       "    </tr>\n",
       "  </thead>\n",
       "  <tbody>\n",
       "    <tr>\n",
       "      <th>0</th>\n",
       "      <td>54004764</td>\n",
       "      <td>21868593</td>\n",
       "      <td>Driver error</td>\n",
       "      <td>11/27/2017</td>\n",
       "      <td>Auto</td>\n",
       "      <td>No</td>\n",
       "      <td>Material only</td>\n",
       "      <td>$2980</td>\n",
       "      <td>1.0</td>\n",
       "      <td>No</td>\n",
       "    </tr>\n",
       "    <tr>\n",
       "      <th>1</th>\n",
       "      <td>33985796</td>\n",
       "      <td>75740424</td>\n",
       "      <td>Crime</td>\n",
       "      <td>10/03/2018</td>\n",
       "      <td>Home</td>\n",
       "      <td>Unknown</td>\n",
       "      <td>Material only</td>\n",
       "      <td>$2980</td>\n",
       "      <td>3.0</td>\n",
       "      <td>No</td>\n",
       "    </tr>\n",
       "    <tr>\n",
       "      <th>2</th>\n",
       "      <td>53522022</td>\n",
       "      <td>30308357</td>\n",
       "      <td>Other driver error</td>\n",
       "      <td>02/02/2018</td>\n",
       "      <td>Auto</td>\n",
       "      <td>No</td>\n",
       "      <td>Material only</td>\n",
       "      <td>$3369.5</td>\n",
       "      <td>1.0</td>\n",
       "      <td>Yes</td>\n",
       "    </tr>\n",
       "    <tr>\n",
       "      <th>3</th>\n",
       "      <td>13015401</td>\n",
       "      <td>47830476</td>\n",
       "      <td>Natural causes</td>\n",
       "      <td>06/17/2018</td>\n",
       "      <td>Auto</td>\n",
       "      <td>No</td>\n",
       "      <td>Material only</td>\n",
       "      <td>$1680</td>\n",
       "      <td>1.0</td>\n",
       "      <td>No</td>\n",
       "    </tr>\n",
       "    <tr>\n",
       "      <th>4</th>\n",
       "      <td>22890252</td>\n",
       "      <td>19269962</td>\n",
       "      <td>Crime</td>\n",
       "      <td>01/13/2018</td>\n",
       "      <td>Auto</td>\n",
       "      <td>No</td>\n",
       "      <td>Material only</td>\n",
       "      <td>$2680</td>\n",
       "      <td>1.0</td>\n",
       "      <td>No</td>\n",
       "    </tr>\n",
       "    <tr>\n",
       "      <th>...</th>\n",
       "      <td>...</td>\n",
       "      <td>...</td>\n",
       "      <td>...</td>\n",
       "      <td>...</td>\n",
       "      <td>...</td>\n",
       "      <td>...</td>\n",
       "      <td>...</td>\n",
       "      <td>...</td>\n",
       "      <td>...</td>\n",
       "      <td>...</td>\n",
       "    </tr>\n",
       "    <tr>\n",
       "      <th>1095</th>\n",
       "      <td>97727122</td>\n",
       "      <td>35951012</td>\n",
       "      <td>Other driver error</td>\n",
       "      <td>06/11/2017</td>\n",
       "      <td>Auto</td>\n",
       "      <td>No</td>\n",
       "      <td>Material only</td>\n",
       "      <td>$3059</td>\n",
       "      <td>4.0</td>\n",
       "      <td>Yes</td>\n",
       "    </tr>\n",
       "    <tr>\n",
       "      <th>1096</th>\n",
       "      <td>10247193</td>\n",
       "      <td>14818669</td>\n",
       "      <td>Natural causes</td>\n",
       "      <td>03/14/2018</td>\n",
       "      <td>Auto</td>\n",
       "      <td>No</td>\n",
       "      <td>Material only</td>\n",
       "      <td>$1520</td>\n",
       "      <td>2.0</td>\n",
       "      <td>No</td>\n",
       "    </tr>\n",
       "    <tr>\n",
       "      <th>1097</th>\n",
       "      <td>79807493</td>\n",
       "      <td>85322831</td>\n",
       "      <td>Other driver error</td>\n",
       "      <td>02/09/2018</td>\n",
       "      <td>Auto</td>\n",
       "      <td>No</td>\n",
       "      <td>Material and injury</td>\n",
       "      <td>$23575</td>\n",
       "      <td>2.0</td>\n",
       "      <td>Yes</td>\n",
       "    </tr>\n",
       "    <tr>\n",
       "      <th>1098</th>\n",
       "      <td>69299345</td>\n",
       "      <td>73449366</td>\n",
       "      <td>Other causes</td>\n",
       "      <td>03/21/2018</td>\n",
       "      <td>Auto</td>\n",
       "      <td>Unknown</td>\n",
       "      <td>Material and injury</td>\n",
       "      <td>$25120</td>\n",
       "      <td>1.0</td>\n",
       "      <td>No</td>\n",
       "    </tr>\n",
       "    <tr>\n",
       "      <th>1099</th>\n",
       "      <td>58809728</td>\n",
       "      <td>43020876</td>\n",
       "      <td>Other driver error</td>\n",
       "      <td>06/04/2017</td>\n",
       "      <td>Auto</td>\n",
       "      <td>Yes</td>\n",
       "      <td>Material and injury</td>\n",
       "      <td>$36685</td>\n",
       "      <td>3.0</td>\n",
       "      <td>Yes</td>\n",
       "    </tr>\n",
       "  </tbody>\n",
       "</table>\n",
       "<p>1100 rows × 10 columns</p>\n",
       "</div>"
      ],
      "text/plain": [
       "      claim_id  customer_id      incident_cause  claim_date claim_area  \\\n",
       "0     54004764     21868593        Driver error  11/27/2017       Auto   \n",
       "1     33985796     75740424               Crime  10/03/2018       Home   \n",
       "2     53522022     30308357  Other driver error  02/02/2018       Auto   \n",
       "3     13015401     47830476      Natural causes  06/17/2018       Auto   \n",
       "4     22890252     19269962               Crime  01/13/2018       Auto   \n",
       "...        ...          ...                 ...         ...        ...   \n",
       "1095  97727122     35951012  Other driver error  06/11/2017       Auto   \n",
       "1096  10247193     14818669      Natural causes  03/14/2018       Auto   \n",
       "1097  79807493     85322831  Other driver error  02/09/2018       Auto   \n",
       "1098  69299345     73449366        Other causes  03/21/2018       Auto   \n",
       "1099  58809728     43020876  Other driver error  06/04/2017       Auto   \n",
       "\n",
       "     police_report           claim_type claim_amount  total_policy_claims  \\\n",
       "0               No        Material only        $2980                  1.0   \n",
       "1          Unknown        Material only        $2980                  3.0   \n",
       "2               No        Material only      $3369.5                  1.0   \n",
       "3               No        Material only        $1680                  1.0   \n",
       "4               No        Material only        $2680                  1.0   \n",
       "...            ...                  ...          ...                  ...   \n",
       "1095            No        Material only        $3059                  4.0   \n",
       "1096            No        Material only        $1520                  2.0   \n",
       "1097            No  Material and injury       $23575                  2.0   \n",
       "1098       Unknown  Material and injury       $25120                  1.0   \n",
       "1099           Yes  Material and injury       $36685                  3.0   \n",
       "\n",
       "     fraudulent  \n",
       "0            No  \n",
       "1            No  \n",
       "2           Yes  \n",
       "3            No  \n",
       "4            No  \n",
       "...         ...  \n",
       "1095        Yes  \n",
       "1096         No  \n",
       "1097        Yes  \n",
       "1098         No  \n",
       "1099        Yes  \n",
       "\n",
       "[1100 rows x 10 columns]"
      ]
     },
     "execution_count": 2,
     "metadata": {},
     "output_type": "execute_result"
    }
   ],
   "source": [
    "claim_data= pd.read_csv('claims.csv')\n",
    "claim_data"
   ]
  },
  {
   "cell_type": "code",
   "execution_count": 3,
   "id": "8aeeb1ea",
   "metadata": {
    "ExecuteTime": {
     "end_time": "2022-06-25T07:56:01.006283Z",
     "start_time": "2022-06-25T07:56:00.950449Z"
    }
   },
   "outputs": [
    {
     "data": {
      "text/html": [
       "<div>\n",
       "<style scoped>\n",
       "    .dataframe tbody tr th:only-of-type {\n",
       "        vertical-align: middle;\n",
       "    }\n",
       "\n",
       "    .dataframe tbody tr th {\n",
       "        vertical-align: top;\n",
       "    }\n",
       "\n",
       "    .dataframe thead th {\n",
       "        text-align: right;\n",
       "    }\n",
       "</style>\n",
       "<table border=\"1\" class=\"dataframe\">\n",
       "  <thead>\n",
       "    <tr style=\"text-align: right;\">\n",
       "      <th></th>\n",
       "      <th>CUST_ID</th>\n",
       "      <th>gender</th>\n",
       "      <th>DateOfBirth</th>\n",
       "      <th>State</th>\n",
       "      <th>Contact</th>\n",
       "      <th>Segment</th>\n",
       "    </tr>\n",
       "  </thead>\n",
       "  <tbody>\n",
       "    <tr>\n",
       "      <th>0</th>\n",
       "      <td>21868593</td>\n",
       "      <td>Female</td>\n",
       "      <td>12-Jan-79</td>\n",
       "      <td>VT</td>\n",
       "      <td>789-916-8172</td>\n",
       "      <td>Platinum</td>\n",
       "    </tr>\n",
       "    <tr>\n",
       "      <th>1</th>\n",
       "      <td>75740424</td>\n",
       "      <td>Female</td>\n",
       "      <td>13-Jan-70</td>\n",
       "      <td>ME</td>\n",
       "      <td>265-543-1264</td>\n",
       "      <td>Silver</td>\n",
       "    </tr>\n",
       "    <tr>\n",
       "      <th>2</th>\n",
       "      <td>30308357</td>\n",
       "      <td>Female</td>\n",
       "      <td>11-Mar-84</td>\n",
       "      <td>TN</td>\n",
       "      <td>798-631-4758</td>\n",
       "      <td>Silver</td>\n",
       "    </tr>\n",
       "    <tr>\n",
       "      <th>3</th>\n",
       "      <td>47830476</td>\n",
       "      <td>Female</td>\n",
       "      <td>01-May-86</td>\n",
       "      <td>MA</td>\n",
       "      <td>413-187-7945</td>\n",
       "      <td>Silver</td>\n",
       "    </tr>\n",
       "    <tr>\n",
       "      <th>4</th>\n",
       "      <td>19269962</td>\n",
       "      <td>Male</td>\n",
       "      <td>13-May-77</td>\n",
       "      <td>NV</td>\n",
       "      <td>956-871-8691</td>\n",
       "      <td>Gold</td>\n",
       "    </tr>\n",
       "    <tr>\n",
       "      <th>...</th>\n",
       "      <td>...</td>\n",
       "      <td>...</td>\n",
       "      <td>...</td>\n",
       "      <td>...</td>\n",
       "      <td>...</td>\n",
       "      <td>...</td>\n",
       "    </tr>\n",
       "    <tr>\n",
       "      <th>1080</th>\n",
       "      <td>79539873</td>\n",
       "      <td>Female</td>\n",
       "      <td>15-Mar-81</td>\n",
       "      <td>ND</td>\n",
       "      <td>459-425-4319</td>\n",
       "      <td>Platinum</td>\n",
       "    </tr>\n",
       "    <tr>\n",
       "      <th>1081</th>\n",
       "      <td>42364152</td>\n",
       "      <td>Female</td>\n",
       "      <td>07-Jul-96</td>\n",
       "      <td>ID</td>\n",
       "      <td>529-462-1635</td>\n",
       "      <td>Silver</td>\n",
       "    </tr>\n",
       "    <tr>\n",
       "      <th>1082</th>\n",
       "      <td>19888166</td>\n",
       "      <td>Male</td>\n",
       "      <td>11-Apr-90</td>\n",
       "      <td>WI</td>\n",
       "      <td>712-651-9613</td>\n",
       "      <td>Gold</td>\n",
       "    </tr>\n",
       "    <tr>\n",
       "      <th>1083</th>\n",
       "      <td>11256802</td>\n",
       "      <td>Female</td>\n",
       "      <td>22-Oct-64</td>\n",
       "      <td>LA</td>\n",
       "      <td>469-345-5617</td>\n",
       "      <td>Silver</td>\n",
       "    </tr>\n",
       "    <tr>\n",
       "      <th>1084</th>\n",
       "      <td>61575264</td>\n",
       "      <td>Male</td>\n",
       "      <td>12-Jul-95</td>\n",
       "      <td>WY</td>\n",
       "      <td>182-385-1392</td>\n",
       "      <td>Gold</td>\n",
       "    </tr>\n",
       "  </tbody>\n",
       "</table>\n",
       "<p>1085 rows × 6 columns</p>\n",
       "</div>"
      ],
      "text/plain": [
       "       CUST_ID  gender DateOfBirth State       Contact   Segment\n",
       "0     21868593  Female   12-Jan-79    VT  789-916-8172  Platinum\n",
       "1     75740424  Female   13-Jan-70    ME  265-543-1264    Silver\n",
       "2     30308357  Female   11-Mar-84    TN  798-631-4758    Silver\n",
       "3     47830476  Female   01-May-86    MA  413-187-7945    Silver\n",
       "4     19269962    Male   13-May-77    NV  956-871-8691      Gold\n",
       "...        ...     ...         ...   ...           ...       ...\n",
       "1080  79539873  Female   15-Mar-81    ND  459-425-4319  Platinum\n",
       "1081  42364152  Female   07-Jul-96    ID  529-462-1635    Silver\n",
       "1082  19888166    Male   11-Apr-90    WI  712-651-9613      Gold\n",
       "1083  11256802  Female   22-Oct-64    LA  469-345-5617    Silver\n",
       "1084  61575264    Male   12-Jul-95    WY  182-385-1392      Gold\n",
       "\n",
       "[1085 rows x 6 columns]"
      ]
     },
     "execution_count": 3,
     "metadata": {},
     "output_type": "execute_result"
    }
   ],
   "source": [
    "cust_data= pd.read_csv('cust_demographics.csv')\n",
    "cust_data"
   ]
  },
  {
   "cell_type": "code",
   "execution_count": 4,
   "id": "b0a89685",
   "metadata": {
    "ExecuteTime": {
     "end_time": "2022-06-25T07:56:01.170017Z",
     "start_time": "2022-06-25T07:56:01.008279Z"
    }
   },
   "outputs": [],
   "source": [
    "claim_data.rename(columns={\"customer_id\":\"CUST_ID\"},inplace=True)"
   ]
  },
  {
   "cell_type": "code",
   "execution_count": 5,
   "id": "3f2c537b",
   "metadata": {
    "ExecuteTime": {
     "end_time": "2022-06-25T07:56:01.420144Z",
     "start_time": "2022-06-25T07:56:01.181746Z"
    }
   },
   "outputs": [
    {
     "data": {
      "text/html": [
       "<div>\n",
       "<style scoped>\n",
       "    .dataframe tbody tr th:only-of-type {\n",
       "        vertical-align: middle;\n",
       "    }\n",
       "\n",
       "    .dataframe tbody tr th {\n",
       "        vertical-align: top;\n",
       "    }\n",
       "\n",
       "    .dataframe thead th {\n",
       "        text-align: right;\n",
       "    }\n",
       "</style>\n",
       "<table border=\"1\" class=\"dataframe\">\n",
       "  <thead>\n",
       "    <tr style=\"text-align: right;\">\n",
       "      <th></th>\n",
       "      <th>claim_id</th>\n",
       "      <th>CUST_ID</th>\n",
       "      <th>incident_cause</th>\n",
       "      <th>claim_date</th>\n",
       "      <th>claim_area</th>\n",
       "      <th>police_report</th>\n",
       "      <th>claim_type</th>\n",
       "      <th>claim_amount</th>\n",
       "      <th>total_policy_claims</th>\n",
       "      <th>fraudulent</th>\n",
       "    </tr>\n",
       "  </thead>\n",
       "  <tbody>\n",
       "    <tr>\n",
       "      <th>0</th>\n",
       "      <td>54004764</td>\n",
       "      <td>21868593</td>\n",
       "      <td>Driver error</td>\n",
       "      <td>2017-11-27</td>\n",
       "      <td>Auto</td>\n",
       "      <td>No</td>\n",
       "      <td>Material only</td>\n",
       "      <td>2980.0</td>\n",
       "      <td>1.0</td>\n",
       "      <td>No</td>\n",
       "    </tr>\n",
       "    <tr>\n",
       "      <th>1</th>\n",
       "      <td>33985796</td>\n",
       "      <td>75740424</td>\n",
       "      <td>Crime</td>\n",
       "      <td>2018-10-03</td>\n",
       "      <td>Home</td>\n",
       "      <td>Unknown</td>\n",
       "      <td>Material only</td>\n",
       "      <td>2980.0</td>\n",
       "      <td>3.0</td>\n",
       "      <td>No</td>\n",
       "    </tr>\n",
       "    <tr>\n",
       "      <th>2</th>\n",
       "      <td>53522022</td>\n",
       "      <td>30308357</td>\n",
       "      <td>Other driver error</td>\n",
       "      <td>2018-02-02</td>\n",
       "      <td>Auto</td>\n",
       "      <td>No</td>\n",
       "      <td>Material only</td>\n",
       "      <td>3369.5</td>\n",
       "      <td>1.0</td>\n",
       "      <td>Yes</td>\n",
       "    </tr>\n",
       "    <tr>\n",
       "      <th>3</th>\n",
       "      <td>13015401</td>\n",
       "      <td>47830476</td>\n",
       "      <td>Natural causes</td>\n",
       "      <td>2018-06-17</td>\n",
       "      <td>Auto</td>\n",
       "      <td>No</td>\n",
       "      <td>Material only</td>\n",
       "      <td>1680.0</td>\n",
       "      <td>1.0</td>\n",
       "      <td>No</td>\n",
       "    </tr>\n",
       "    <tr>\n",
       "      <th>4</th>\n",
       "      <td>22890252</td>\n",
       "      <td>19269962</td>\n",
       "      <td>Crime</td>\n",
       "      <td>2018-01-13</td>\n",
       "      <td>Auto</td>\n",
       "      <td>No</td>\n",
       "      <td>Material only</td>\n",
       "      <td>2680.0</td>\n",
       "      <td>1.0</td>\n",
       "      <td>No</td>\n",
       "    </tr>\n",
       "    <tr>\n",
       "      <th>...</th>\n",
       "      <td>...</td>\n",
       "      <td>...</td>\n",
       "      <td>...</td>\n",
       "      <td>...</td>\n",
       "      <td>...</td>\n",
       "      <td>...</td>\n",
       "      <td>...</td>\n",
       "      <td>...</td>\n",
       "      <td>...</td>\n",
       "      <td>...</td>\n",
       "    </tr>\n",
       "    <tr>\n",
       "      <th>1095</th>\n",
       "      <td>97727122</td>\n",
       "      <td>35951012</td>\n",
       "      <td>Other driver error</td>\n",
       "      <td>2017-06-11</td>\n",
       "      <td>Auto</td>\n",
       "      <td>No</td>\n",
       "      <td>Material only</td>\n",
       "      <td>3059.0</td>\n",
       "      <td>4.0</td>\n",
       "      <td>Yes</td>\n",
       "    </tr>\n",
       "    <tr>\n",
       "      <th>1096</th>\n",
       "      <td>10247193</td>\n",
       "      <td>14818669</td>\n",
       "      <td>Natural causes</td>\n",
       "      <td>2018-03-14</td>\n",
       "      <td>Auto</td>\n",
       "      <td>No</td>\n",
       "      <td>Material only</td>\n",
       "      <td>1520.0</td>\n",
       "      <td>2.0</td>\n",
       "      <td>No</td>\n",
       "    </tr>\n",
       "    <tr>\n",
       "      <th>1097</th>\n",
       "      <td>79807493</td>\n",
       "      <td>85322831</td>\n",
       "      <td>Other driver error</td>\n",
       "      <td>2018-02-09</td>\n",
       "      <td>Auto</td>\n",
       "      <td>No</td>\n",
       "      <td>Material and injury</td>\n",
       "      <td>23575.0</td>\n",
       "      <td>2.0</td>\n",
       "      <td>Yes</td>\n",
       "    </tr>\n",
       "    <tr>\n",
       "      <th>1098</th>\n",
       "      <td>69299345</td>\n",
       "      <td>73449366</td>\n",
       "      <td>Other causes</td>\n",
       "      <td>2018-03-21</td>\n",
       "      <td>Auto</td>\n",
       "      <td>Unknown</td>\n",
       "      <td>Material and injury</td>\n",
       "      <td>25120.0</td>\n",
       "      <td>1.0</td>\n",
       "      <td>No</td>\n",
       "    </tr>\n",
       "    <tr>\n",
       "      <th>1099</th>\n",
       "      <td>58809728</td>\n",
       "      <td>43020876</td>\n",
       "      <td>Other driver error</td>\n",
       "      <td>2017-06-04</td>\n",
       "      <td>Auto</td>\n",
       "      <td>Yes</td>\n",
       "      <td>Material and injury</td>\n",
       "      <td>36685.0</td>\n",
       "      <td>3.0</td>\n",
       "      <td>Yes</td>\n",
       "    </tr>\n",
       "  </tbody>\n",
       "</table>\n",
       "<p>1100 rows × 10 columns</p>\n",
       "</div>"
      ],
      "text/plain": [
       "      claim_id   CUST_ID      incident_cause claim_date claim_area  \\\n",
       "0     54004764  21868593        Driver error 2017-11-27       Auto   \n",
       "1     33985796  75740424               Crime 2018-10-03       Home   \n",
       "2     53522022  30308357  Other driver error 2018-02-02       Auto   \n",
       "3     13015401  47830476      Natural causes 2018-06-17       Auto   \n",
       "4     22890252  19269962               Crime 2018-01-13       Auto   \n",
       "...        ...       ...                 ...        ...        ...   \n",
       "1095  97727122  35951012  Other driver error 2017-06-11       Auto   \n",
       "1096  10247193  14818669      Natural causes 2018-03-14       Auto   \n",
       "1097  79807493  85322831  Other driver error 2018-02-09       Auto   \n",
       "1098  69299345  73449366        Other causes 2018-03-21       Auto   \n",
       "1099  58809728  43020876  Other driver error 2017-06-04       Auto   \n",
       "\n",
       "     police_report           claim_type  claim_amount  total_policy_claims  \\\n",
       "0               No        Material only        2980.0                  1.0   \n",
       "1          Unknown        Material only        2980.0                  3.0   \n",
       "2               No        Material only        3369.5                  1.0   \n",
       "3               No        Material only        1680.0                  1.0   \n",
       "4               No        Material only        2680.0                  1.0   \n",
       "...            ...                  ...           ...                  ...   \n",
       "1095            No        Material only        3059.0                  4.0   \n",
       "1096            No        Material only        1520.0                  2.0   \n",
       "1097            No  Material and injury       23575.0                  2.0   \n",
       "1098       Unknown  Material and injury       25120.0                  1.0   \n",
       "1099           Yes  Material and injury       36685.0                  3.0   \n",
       "\n",
       "     fraudulent  \n",
       "0            No  \n",
       "1            No  \n",
       "2           Yes  \n",
       "3            No  \n",
       "4            No  \n",
       "...         ...  \n",
       "1095        Yes  \n",
       "1096         No  \n",
       "1097        Yes  \n",
       "1098         No  \n",
       "1099        Yes  \n",
       "\n",
       "[1100 rows x 10 columns]"
      ]
     },
     "execution_count": 5,
     "metadata": {},
     "output_type": "execute_result"
    }
   ],
   "source": [
    "claim_data['claim_id']=claim_data['claim_id'].astype('object')\n",
    "claim_data[\"CUST_ID\"] = claim_data[\"CUST_ID\"].astype('object')\n",
    "claim_data[\"claim_date\"] = claim_data[\"claim_date\"].astype('datetime64[ns]')\n",
    "claim_data['claim_amount']=claim_data['claim_amount'].str.strip('$').astype(float)\n",
    "claim_data"
   ]
  },
  {
   "cell_type": "code",
   "execution_count": 6,
   "id": "3169c84c",
   "metadata": {
    "ExecuteTime": {
     "end_time": "2022-06-25T07:56:01.577041Z",
     "start_time": "2022-06-25T07:56:01.427590Z"
    }
   },
   "outputs": [
    {
     "name": "stdout",
     "output_type": "stream",
     "text": [
      "<class 'pandas.core.frame.DataFrame'>\n",
      "RangeIndex: 1100 entries, 0 to 1099\n",
      "Data columns (total 10 columns):\n",
      " #   Column               Non-Null Count  Dtype         \n",
      "---  ------               --------------  -----         \n",
      " 0   claim_id             1100 non-null   object        \n",
      " 1   CUST_ID              1100 non-null   object        \n",
      " 2   incident_cause       1100 non-null   object        \n",
      " 3   claim_date           1100 non-null   datetime64[ns]\n",
      " 4   claim_area           1100 non-null   object        \n",
      " 5   police_report        1100 non-null   object        \n",
      " 6   claim_type           1100 non-null   object        \n",
      " 7   claim_amount         1035 non-null   float64       \n",
      " 8   total_policy_claims  1090 non-null   float64       \n",
      " 9   fraudulent           1100 non-null   object        \n",
      "dtypes: datetime64[ns](1), float64(2), object(7)\n",
      "memory usage: 86.1+ KB\n"
     ]
    }
   ],
   "source": [
    "claim_data.info()"
   ]
  },
  {
   "cell_type": "code",
   "execution_count": 7,
   "id": "9f668702",
   "metadata": {
    "ExecuteTime": {
     "end_time": "2022-06-25T07:56:01.705606Z",
     "start_time": "2022-06-25T07:56:01.577041Z"
    }
   },
   "outputs": [
    {
     "data": {
      "text/html": [
       "<div>\n",
       "<style scoped>\n",
       "    .dataframe tbody tr th:only-of-type {\n",
       "        vertical-align: middle;\n",
       "    }\n",
       "\n",
       "    .dataframe tbody tr th {\n",
       "        vertical-align: top;\n",
       "    }\n",
       "\n",
       "    .dataframe thead th {\n",
       "        text-align: right;\n",
       "    }\n",
       "</style>\n",
       "<table border=\"1\" class=\"dataframe\">\n",
       "  <thead>\n",
       "    <tr style=\"text-align: right;\">\n",
       "      <th></th>\n",
       "      <th>CUST_ID</th>\n",
       "      <th>gender</th>\n",
       "      <th>DateOfBirth</th>\n",
       "      <th>State</th>\n",
       "      <th>Contact</th>\n",
       "      <th>Segment</th>\n",
       "    </tr>\n",
       "  </thead>\n",
       "  <tbody>\n",
       "    <tr>\n",
       "      <th>0</th>\n",
       "      <td>21868593</td>\n",
       "      <td>Female</td>\n",
       "      <td>1979-01-12</td>\n",
       "      <td>VT</td>\n",
       "      <td>789-916-8172</td>\n",
       "      <td>Platinum</td>\n",
       "    </tr>\n",
       "    <tr>\n",
       "      <th>1</th>\n",
       "      <td>75740424</td>\n",
       "      <td>Female</td>\n",
       "      <td>2070-01-13</td>\n",
       "      <td>ME</td>\n",
       "      <td>265-543-1264</td>\n",
       "      <td>Silver</td>\n",
       "    </tr>\n",
       "    <tr>\n",
       "      <th>2</th>\n",
       "      <td>30308357</td>\n",
       "      <td>Female</td>\n",
       "      <td>1984-03-11</td>\n",
       "      <td>TN</td>\n",
       "      <td>798-631-4758</td>\n",
       "      <td>Silver</td>\n",
       "    </tr>\n",
       "    <tr>\n",
       "      <th>3</th>\n",
       "      <td>47830476</td>\n",
       "      <td>Female</td>\n",
       "      <td>1986-05-01</td>\n",
       "      <td>MA</td>\n",
       "      <td>413-187-7945</td>\n",
       "      <td>Silver</td>\n",
       "    </tr>\n",
       "    <tr>\n",
       "      <th>4</th>\n",
       "      <td>19269962</td>\n",
       "      <td>Male</td>\n",
       "      <td>1977-05-13</td>\n",
       "      <td>NV</td>\n",
       "      <td>956-871-8691</td>\n",
       "      <td>Gold</td>\n",
       "    </tr>\n",
       "    <tr>\n",
       "      <th>...</th>\n",
       "      <td>...</td>\n",
       "      <td>...</td>\n",
       "      <td>...</td>\n",
       "      <td>...</td>\n",
       "      <td>...</td>\n",
       "      <td>...</td>\n",
       "    </tr>\n",
       "    <tr>\n",
       "      <th>1080</th>\n",
       "      <td>79539873</td>\n",
       "      <td>Female</td>\n",
       "      <td>1981-03-15</td>\n",
       "      <td>ND</td>\n",
       "      <td>459-425-4319</td>\n",
       "      <td>Platinum</td>\n",
       "    </tr>\n",
       "    <tr>\n",
       "      <th>1081</th>\n",
       "      <td>42364152</td>\n",
       "      <td>Female</td>\n",
       "      <td>1996-07-07</td>\n",
       "      <td>ID</td>\n",
       "      <td>529-462-1635</td>\n",
       "      <td>Silver</td>\n",
       "    </tr>\n",
       "    <tr>\n",
       "      <th>1082</th>\n",
       "      <td>19888166</td>\n",
       "      <td>Male</td>\n",
       "      <td>1990-04-11</td>\n",
       "      <td>WI</td>\n",
       "      <td>712-651-9613</td>\n",
       "      <td>Gold</td>\n",
       "    </tr>\n",
       "    <tr>\n",
       "      <th>1083</th>\n",
       "      <td>11256802</td>\n",
       "      <td>Female</td>\n",
       "      <td>2064-10-22</td>\n",
       "      <td>LA</td>\n",
       "      <td>469-345-5617</td>\n",
       "      <td>Silver</td>\n",
       "    </tr>\n",
       "    <tr>\n",
       "      <th>1084</th>\n",
       "      <td>61575264</td>\n",
       "      <td>Male</td>\n",
       "      <td>1995-07-12</td>\n",
       "      <td>WY</td>\n",
       "      <td>182-385-1392</td>\n",
       "      <td>Gold</td>\n",
       "    </tr>\n",
       "  </tbody>\n",
       "</table>\n",
       "<p>1085 rows × 6 columns</p>\n",
       "</div>"
      ],
      "text/plain": [
       "       CUST_ID  gender DateOfBirth State       Contact   Segment\n",
       "0     21868593  Female  1979-01-12    VT  789-916-8172  Platinum\n",
       "1     75740424  Female  2070-01-13    ME  265-543-1264    Silver\n",
       "2     30308357  Female  1984-03-11    TN  798-631-4758    Silver\n",
       "3     47830476  Female  1986-05-01    MA  413-187-7945    Silver\n",
       "4     19269962    Male  1977-05-13    NV  956-871-8691      Gold\n",
       "...        ...     ...         ...   ...           ...       ...\n",
       "1080  79539873  Female  1981-03-15    ND  459-425-4319  Platinum\n",
       "1081  42364152  Female  1996-07-07    ID  529-462-1635    Silver\n",
       "1082  19888166    Male  1990-04-11    WI  712-651-9613      Gold\n",
       "1083  11256802  Female  2064-10-22    LA  469-345-5617    Silver\n",
       "1084  61575264    Male  1995-07-12    WY  182-385-1392      Gold\n",
       "\n",
       "[1085 rows x 6 columns]"
      ]
     },
     "execution_count": 7,
     "metadata": {},
     "output_type": "execute_result"
    }
   ],
   "source": [
    "cust_data[\"CUST_ID\"] = cust_data[\"CUST_ID\"].astype('object')\n",
    "cust_data[\"DateOfBirth\"] = cust_data[\"DateOfBirth\"].astype('datetime64[ns]')\n",
    "cust_data"
   ]
  },
  {
   "cell_type": "code",
   "execution_count": 8,
   "id": "34acbff3",
   "metadata": {
    "ExecuteTime": {
     "end_time": "2022-06-25T07:56:01.779502Z",
     "start_time": "2022-06-25T07:56:01.706603Z"
    }
   },
   "outputs": [
    {
     "name": "stdout",
     "output_type": "stream",
     "text": [
      "<class 'pandas.core.frame.DataFrame'>\n",
      "RangeIndex: 1085 entries, 0 to 1084\n",
      "Data columns (total 6 columns):\n",
      " #   Column       Non-Null Count  Dtype         \n",
      "---  ------       --------------  -----         \n",
      " 0   CUST_ID      1085 non-null   object        \n",
      " 1   gender       1085 non-null   object        \n",
      " 2   DateOfBirth  1085 non-null   datetime64[ns]\n",
      " 3   State        1085 non-null   object        \n",
      " 4   Contact      1085 non-null   object        \n",
      " 5   Segment      1085 non-null   object        \n",
      "dtypes: datetime64[ns](1), object(5)\n",
      "memory usage: 51.0+ KB\n"
     ]
    }
   ],
   "source": [
    "cust_data.info()"
   ]
  },
  {
   "cell_type": "markdown",
   "id": "c40c9da0",
   "metadata": {},
   "source": [
    "### 1. Import claims_data.csv and cust_data.csv which is provided to you and combine the two datasets appropriately to create a 360-degree view of the data. Use the same for the subsequent questions."
   ]
  },
  {
   "cell_type": "code",
   "execution_count": 9,
   "id": "3902c79d",
   "metadata": {
    "ExecuteTime": {
     "end_time": "2022-06-25T07:56:01.992098Z",
     "start_time": "2022-06-25T07:56:01.781985Z"
    }
   },
   "outputs": [
    {
     "data": {
      "text/html": [
       "<div>\n",
       "<style scoped>\n",
       "    .dataframe tbody tr th:only-of-type {\n",
       "        vertical-align: middle;\n",
       "    }\n",
       "\n",
       "    .dataframe tbody tr th {\n",
       "        vertical-align: top;\n",
       "    }\n",
       "\n",
       "    .dataframe thead th {\n",
       "        text-align: right;\n",
       "    }\n",
       "</style>\n",
       "<table border=\"1\" class=\"dataframe\">\n",
       "  <thead>\n",
       "    <tr style=\"text-align: right;\">\n",
       "      <th></th>\n",
       "      <th>claim_id</th>\n",
       "      <th>CUST_ID</th>\n",
       "      <th>incident_cause</th>\n",
       "      <th>claim_date</th>\n",
       "      <th>claim_area</th>\n",
       "      <th>police_report</th>\n",
       "      <th>claim_type</th>\n",
       "      <th>claim_amount</th>\n",
       "      <th>total_policy_claims</th>\n",
       "      <th>fraudulent</th>\n",
       "      <th>gender</th>\n",
       "      <th>DateOfBirth</th>\n",
       "      <th>State</th>\n",
       "      <th>Contact</th>\n",
       "      <th>Segment</th>\n",
       "    </tr>\n",
       "  </thead>\n",
       "  <tbody>\n",
       "    <tr>\n",
       "      <th>0</th>\n",
       "      <td>54004764</td>\n",
       "      <td>21868593</td>\n",
       "      <td>Driver error</td>\n",
       "      <td>2017-11-27</td>\n",
       "      <td>Auto</td>\n",
       "      <td>No</td>\n",
       "      <td>Material only</td>\n",
       "      <td>2980.0</td>\n",
       "      <td>1.0</td>\n",
       "      <td>No</td>\n",
       "      <td>Female</td>\n",
       "      <td>1979-01-12</td>\n",
       "      <td>VT</td>\n",
       "      <td>789-916-8172</td>\n",
       "      <td>Platinum</td>\n",
       "    </tr>\n",
       "    <tr>\n",
       "      <th>1</th>\n",
       "      <td>33985796</td>\n",
       "      <td>75740424</td>\n",
       "      <td>Crime</td>\n",
       "      <td>2018-10-03</td>\n",
       "      <td>Home</td>\n",
       "      <td>Unknown</td>\n",
       "      <td>Material only</td>\n",
       "      <td>2980.0</td>\n",
       "      <td>3.0</td>\n",
       "      <td>No</td>\n",
       "      <td>Female</td>\n",
       "      <td>2070-01-13</td>\n",
       "      <td>ME</td>\n",
       "      <td>265-543-1264</td>\n",
       "      <td>Silver</td>\n",
       "    </tr>\n",
       "    <tr>\n",
       "      <th>2</th>\n",
       "      <td>53522022</td>\n",
       "      <td>30308357</td>\n",
       "      <td>Other driver error</td>\n",
       "      <td>2018-02-02</td>\n",
       "      <td>Auto</td>\n",
       "      <td>No</td>\n",
       "      <td>Material only</td>\n",
       "      <td>3369.5</td>\n",
       "      <td>1.0</td>\n",
       "      <td>Yes</td>\n",
       "      <td>Female</td>\n",
       "      <td>1984-03-11</td>\n",
       "      <td>TN</td>\n",
       "      <td>798-631-4758</td>\n",
       "      <td>Silver</td>\n",
       "    </tr>\n",
       "    <tr>\n",
       "      <th>3</th>\n",
       "      <td>63017412</td>\n",
       "      <td>30308357</td>\n",
       "      <td>Driver error</td>\n",
       "      <td>2018-04-04</td>\n",
       "      <td>Auto</td>\n",
       "      <td>No</td>\n",
       "      <td>Material only</td>\n",
       "      <td>1950.0</td>\n",
       "      <td>6.0</td>\n",
       "      <td>No</td>\n",
       "      <td>Female</td>\n",
       "      <td>1984-03-11</td>\n",
       "      <td>TN</td>\n",
       "      <td>798-631-4758</td>\n",
       "      <td>Silver</td>\n",
       "    </tr>\n",
       "    <tr>\n",
       "      <th>4</th>\n",
       "      <td>13015401</td>\n",
       "      <td>47830476</td>\n",
       "      <td>Natural causes</td>\n",
       "      <td>2018-06-17</td>\n",
       "      <td>Auto</td>\n",
       "      <td>No</td>\n",
       "      <td>Material only</td>\n",
       "      <td>1680.0</td>\n",
       "      <td>1.0</td>\n",
       "      <td>No</td>\n",
       "      <td>Female</td>\n",
       "      <td>1986-05-01</td>\n",
       "      <td>MA</td>\n",
       "      <td>413-187-7945</td>\n",
       "      <td>Silver</td>\n",
       "    </tr>\n",
       "    <tr>\n",
       "      <th>...</th>\n",
       "      <td>...</td>\n",
       "      <td>...</td>\n",
       "      <td>...</td>\n",
       "      <td>...</td>\n",
       "      <td>...</td>\n",
       "      <td>...</td>\n",
       "      <td>...</td>\n",
       "      <td>...</td>\n",
       "      <td>...</td>\n",
       "      <td>...</td>\n",
       "      <td>...</td>\n",
       "      <td>...</td>\n",
       "      <td>...</td>\n",
       "      <td>...</td>\n",
       "      <td>...</td>\n",
       "    </tr>\n",
       "    <tr>\n",
       "      <th>1080</th>\n",
       "      <td>62020796</td>\n",
       "      <td>79539873</td>\n",
       "      <td>Other driver error</td>\n",
       "      <td>2018-09-06</td>\n",
       "      <td>Auto</td>\n",
       "      <td>Yes</td>\n",
       "      <td>Material only</td>\n",
       "      <td>1770.0</td>\n",
       "      <td>1.0</td>\n",
       "      <td>No</td>\n",
       "      <td>Female</td>\n",
       "      <td>1981-03-15</td>\n",
       "      <td>ND</td>\n",
       "      <td>459-425-4319</td>\n",
       "      <td>Platinum</td>\n",
       "    </tr>\n",
       "    <tr>\n",
       "      <th>1081</th>\n",
       "      <td>63269067</td>\n",
       "      <td>42364152</td>\n",
       "      <td>Other causes</td>\n",
       "      <td>2017-05-09</td>\n",
       "      <td>Home</td>\n",
       "      <td>No</td>\n",
       "      <td>Material only</td>\n",
       "      <td>2800.0</td>\n",
       "      <td>1.0</td>\n",
       "      <td>No</td>\n",
       "      <td>Female</td>\n",
       "      <td>1996-07-07</td>\n",
       "      <td>ID</td>\n",
       "      <td>529-462-1635</td>\n",
       "      <td>Silver</td>\n",
       "    </tr>\n",
       "    <tr>\n",
       "      <th>1082</th>\n",
       "      <td>22690595</td>\n",
       "      <td>19888166</td>\n",
       "      <td>Other driver error</td>\n",
       "      <td>2017-05-15</td>\n",
       "      <td>Auto</td>\n",
       "      <td>Yes</td>\n",
       "      <td>Injury only</td>\n",
       "      <td>33080.0</td>\n",
       "      <td>2.0</td>\n",
       "      <td>No</td>\n",
       "      <td>Male</td>\n",
       "      <td>1990-04-11</td>\n",
       "      <td>WI</td>\n",
       "      <td>712-651-9613</td>\n",
       "      <td>Gold</td>\n",
       "    </tr>\n",
       "    <tr>\n",
       "      <th>1083</th>\n",
       "      <td>12376894</td>\n",
       "      <td>11256802</td>\n",
       "      <td>Other driver error</td>\n",
       "      <td>2017-04-18</td>\n",
       "      <td>Auto</td>\n",
       "      <td>No</td>\n",
       "      <td>Material only</td>\n",
       "      <td>2840.0</td>\n",
       "      <td>4.0</td>\n",
       "      <td>No</td>\n",
       "      <td>Female</td>\n",
       "      <td>2064-10-22</td>\n",
       "      <td>LA</td>\n",
       "      <td>469-345-5617</td>\n",
       "      <td>Silver</td>\n",
       "    </tr>\n",
       "    <tr>\n",
       "      <th>1084</th>\n",
       "      <td>63226031</td>\n",
       "      <td>61575264</td>\n",
       "      <td>Natural causes</td>\n",
       "      <td>2017-03-16</td>\n",
       "      <td>Auto</td>\n",
       "      <td>No</td>\n",
       "      <td>Material only</td>\n",
       "      <td>1490.0</td>\n",
       "      <td>1.0</td>\n",
       "      <td>No</td>\n",
       "      <td>Male</td>\n",
       "      <td>1995-07-12</td>\n",
       "      <td>WY</td>\n",
       "      <td>182-385-1392</td>\n",
       "      <td>Gold</td>\n",
       "    </tr>\n",
       "  </tbody>\n",
       "</table>\n",
       "<p>1085 rows × 15 columns</p>\n",
       "</div>"
      ],
      "text/plain": [
       "      claim_id   CUST_ID      incident_cause claim_date claim_area  \\\n",
       "0     54004764  21868593        Driver error 2017-11-27       Auto   \n",
       "1     33985796  75740424               Crime 2018-10-03       Home   \n",
       "2     53522022  30308357  Other driver error 2018-02-02       Auto   \n",
       "3     63017412  30308357        Driver error 2018-04-04       Auto   \n",
       "4     13015401  47830476      Natural causes 2018-06-17       Auto   \n",
       "...        ...       ...                 ...        ...        ...   \n",
       "1080  62020796  79539873  Other driver error 2018-09-06       Auto   \n",
       "1081  63269067  42364152        Other causes 2017-05-09       Home   \n",
       "1082  22690595  19888166  Other driver error 2017-05-15       Auto   \n",
       "1083  12376894  11256802  Other driver error 2017-04-18       Auto   \n",
       "1084  63226031  61575264      Natural causes 2017-03-16       Auto   \n",
       "\n",
       "     police_report     claim_type  claim_amount  total_policy_claims  \\\n",
       "0               No  Material only        2980.0                  1.0   \n",
       "1          Unknown  Material only        2980.0                  3.0   \n",
       "2               No  Material only        3369.5                  1.0   \n",
       "3               No  Material only        1950.0                  6.0   \n",
       "4               No  Material only        1680.0                  1.0   \n",
       "...            ...            ...           ...                  ...   \n",
       "1080           Yes  Material only        1770.0                  1.0   \n",
       "1081            No  Material only        2800.0                  1.0   \n",
       "1082           Yes    Injury only       33080.0                  2.0   \n",
       "1083            No  Material only        2840.0                  4.0   \n",
       "1084            No  Material only        1490.0                  1.0   \n",
       "\n",
       "     fraudulent  gender DateOfBirth State       Contact   Segment  \n",
       "0            No  Female  1979-01-12    VT  789-916-8172  Platinum  \n",
       "1            No  Female  2070-01-13    ME  265-543-1264    Silver  \n",
       "2           Yes  Female  1984-03-11    TN  798-631-4758    Silver  \n",
       "3            No  Female  1984-03-11    TN  798-631-4758    Silver  \n",
       "4            No  Female  1986-05-01    MA  413-187-7945    Silver  \n",
       "...         ...     ...         ...   ...           ...       ...  \n",
       "1080         No  Female  1981-03-15    ND  459-425-4319  Platinum  \n",
       "1081         No  Female  1996-07-07    ID  529-462-1635    Silver  \n",
       "1082         No    Male  1990-04-11    WI  712-651-9613      Gold  \n",
       "1083         No  Female  2064-10-22    LA  469-345-5617    Silver  \n",
       "1084         No    Male  1995-07-12    WY  182-385-1392      Gold  \n",
       "\n",
       "[1085 rows x 15 columns]"
      ]
     },
     "execution_count": 9,
     "metadata": {},
     "output_type": "execute_result"
    }
   ],
   "source": [
    "cust_claim_data= pd.merge(left=claim_data, right=cust_data, on=['CUST_ID'], how='inner')\n",
    "cust_claim_data"
   ]
  },
  {
   "cell_type": "markdown",
   "id": "2d847f3f",
   "metadata": {},
   "source": [
    "### 2. Perform a data audit for the datatypes and find out if there are any mismatch within the current datatypes of the columns and their business significance."
   ]
  },
  {
   "cell_type": "code",
   "execution_count": 10,
   "id": "5730891a",
   "metadata": {
    "ExecuteTime": {
     "end_time": "2022-06-25T07:56:02.251707Z",
     "start_time": "2022-06-25T07:56:01.992098Z"
    }
   },
   "outputs": [
    {
     "data": {
      "text/html": [
       "<div>\n",
       "<style scoped>\n",
       "    .dataframe tbody tr th:only-of-type {\n",
       "        vertical-align: middle;\n",
       "    }\n",
       "\n",
       "    .dataframe tbody tr th {\n",
       "        vertical-align: top;\n",
       "    }\n",
       "\n",
       "    .dataframe thead th {\n",
       "        text-align: right;\n",
       "    }\n",
       "</style>\n",
       "<table border=\"1\" class=\"dataframe\">\n",
       "  <thead>\n",
       "    <tr style=\"text-align: right;\">\n",
       "      <th></th>\n",
       "      <th>count</th>\n",
       "      <th>unique</th>\n",
       "      <th>top</th>\n",
       "      <th>freq</th>\n",
       "      <th>mean</th>\n",
       "      <th>min</th>\n",
       "      <th>25%</th>\n",
       "      <th>50%</th>\n",
       "      <th>75%</th>\n",
       "      <th>max</th>\n",
       "      <th>std</th>\n",
       "    </tr>\n",
       "  </thead>\n",
       "  <tbody>\n",
       "    <tr>\n",
       "      <th>claim_id</th>\n",
       "      <td>1085.0</td>\n",
       "      <td>1085.0</td>\n",
       "      <td>54004764.0</td>\n",
       "      <td>1.0</td>\n",
       "      <td>NaN</td>\n",
       "      <td>NaN</td>\n",
       "      <td>NaN</td>\n",
       "      <td>NaN</td>\n",
       "      <td>NaN</td>\n",
       "      <td>NaN</td>\n",
       "      <td>NaN</td>\n",
       "    </tr>\n",
       "    <tr>\n",
       "      <th>CUST_ID</th>\n",
       "      <td>1085.0</td>\n",
       "      <td>1078.0</td>\n",
       "      <td>84147585.0</td>\n",
       "      <td>2.0</td>\n",
       "      <td>NaN</td>\n",
       "      <td>NaN</td>\n",
       "      <td>NaN</td>\n",
       "      <td>NaN</td>\n",
       "      <td>NaN</td>\n",
       "      <td>NaN</td>\n",
       "      <td>NaN</td>\n",
       "    </tr>\n",
       "    <tr>\n",
       "      <th>incident_cause</th>\n",
       "      <td>1085</td>\n",
       "      <td>5</td>\n",
       "      <td>Other causes</td>\n",
       "      <td>285</td>\n",
       "      <td>NaN</td>\n",
       "      <td>NaN</td>\n",
       "      <td>NaN</td>\n",
       "      <td>NaN</td>\n",
       "      <td>NaN</td>\n",
       "      <td>NaN</td>\n",
       "      <td>NaN</td>\n",
       "    </tr>\n",
       "    <tr>\n",
       "      <th>claim_date</th>\n",
       "      <td>1085</td>\n",
       "      <td>NaN</td>\n",
       "      <td>NaN</td>\n",
       "      <td>NaN</td>\n",
       "      <td>2017-11-26 01:03:42.304147456</td>\n",
       "      <td>2017-01-01 00:00:00</td>\n",
       "      <td>2017-06-04 00:00:00</td>\n",
       "      <td>2017-11-27 00:00:00</td>\n",
       "      <td>2018-05-14 00:00:00</td>\n",
       "      <td>2018-10-30 00:00:00</td>\n",
       "      <td>NaN</td>\n",
       "    </tr>\n",
       "    <tr>\n",
       "      <th>claim_area</th>\n",
       "      <td>1085</td>\n",
       "      <td>2</td>\n",
       "      <td>Auto</td>\n",
       "      <td>970</td>\n",
       "      <td>NaN</td>\n",
       "      <td>NaN</td>\n",
       "      <td>NaN</td>\n",
       "      <td>NaN</td>\n",
       "      <td>NaN</td>\n",
       "      <td>NaN</td>\n",
       "      <td>NaN</td>\n",
       "    </tr>\n",
       "    <tr>\n",
       "      <th>police_report</th>\n",
       "      <td>1085</td>\n",
       "      <td>3</td>\n",
       "      <td>No</td>\n",
       "      <td>621</td>\n",
       "      <td>NaN</td>\n",
       "      <td>NaN</td>\n",
       "      <td>NaN</td>\n",
       "      <td>NaN</td>\n",
       "      <td>NaN</td>\n",
       "      <td>NaN</td>\n",
       "      <td>NaN</td>\n",
       "    </tr>\n",
       "    <tr>\n",
       "      <th>claim_type</th>\n",
       "      <td>1085</td>\n",
       "      <td>3</td>\n",
       "      <td>Material only</td>\n",
       "      <td>653</td>\n",
       "      <td>NaN</td>\n",
       "      <td>NaN</td>\n",
       "      <td>NaN</td>\n",
       "      <td>NaN</td>\n",
       "      <td>NaN</td>\n",
       "      <td>NaN</td>\n",
       "      <td>NaN</td>\n",
       "    </tr>\n",
       "    <tr>\n",
       "      <th>claim_amount</th>\n",
       "      <td>1020.0</td>\n",
       "      <td>NaN</td>\n",
       "      <td>NaN</td>\n",
       "      <td>NaN</td>\n",
       "      <td>12467.681373</td>\n",
       "      <td>1000.0</td>\n",
       "      <td>1870.0</td>\n",
       "      <td>2740.0</td>\n",
       "      <td>24260.0</td>\n",
       "      <td>48150.5</td>\n",
       "      <td>13783.249662</td>\n",
       "    </tr>\n",
       "    <tr>\n",
       "      <th>total_policy_claims</th>\n",
       "      <td>1075.0</td>\n",
       "      <td>NaN</td>\n",
       "      <td>NaN</td>\n",
       "      <td>NaN</td>\n",
       "      <td>1.586977</td>\n",
       "      <td>1.0</td>\n",
       "      <td>1.0</td>\n",
       "      <td>1.0</td>\n",
       "      <td>2.0</td>\n",
       "      <td>8.0</td>\n",
       "      <td>1.146859</td>\n",
       "    </tr>\n",
       "    <tr>\n",
       "      <th>fraudulent</th>\n",
       "      <td>1085</td>\n",
       "      <td>2</td>\n",
       "      <td>No</td>\n",
       "      <td>838</td>\n",
       "      <td>NaN</td>\n",
       "      <td>NaN</td>\n",
       "      <td>NaN</td>\n",
       "      <td>NaN</td>\n",
       "      <td>NaN</td>\n",
       "      <td>NaN</td>\n",
       "      <td>NaN</td>\n",
       "    </tr>\n",
       "    <tr>\n",
       "      <th>gender</th>\n",
       "      <td>1085</td>\n",
       "      <td>2</td>\n",
       "      <td>Male</td>\n",
       "      <td>556</td>\n",
       "      <td>NaN</td>\n",
       "      <td>NaN</td>\n",
       "      <td>NaN</td>\n",
       "      <td>NaN</td>\n",
       "      <td>NaN</td>\n",
       "      <td>NaN</td>\n",
       "      <td>NaN</td>\n",
       "    </tr>\n",
       "    <tr>\n",
       "      <th>DateOfBirth</th>\n",
       "      <td>1085</td>\n",
       "      <td>NaN</td>\n",
       "      <td>NaN</td>\n",
       "      <td>NaN</td>\n",
       "      <td>2011-02-23 21:37:59.447004416</td>\n",
       "      <td>1972-01-08 00:00:00</td>\n",
       "      <td>1982-08-03 00:00:00</td>\n",
       "      <td>1993-01-15 00:00:00</td>\n",
       "      <td>2062-07-09 00:00:00</td>\n",
       "      <td>2071-12-27 00:00:00</td>\n",
       "      <td>NaN</td>\n",
       "    </tr>\n",
       "    <tr>\n",
       "      <th>State</th>\n",
       "      <td>1085</td>\n",
       "      <td>50</td>\n",
       "      <td>NY</td>\n",
       "      <td>31</td>\n",
       "      <td>NaN</td>\n",
       "      <td>NaN</td>\n",
       "      <td>NaN</td>\n",
       "      <td>NaN</td>\n",
       "      <td>NaN</td>\n",
       "      <td>NaN</td>\n",
       "      <td>NaN</td>\n",
       "    </tr>\n",
       "    <tr>\n",
       "      <th>Contact</th>\n",
       "      <td>1085</td>\n",
       "      <td>1078</td>\n",
       "      <td>743-569-4783</td>\n",
       "      <td>2</td>\n",
       "      <td>NaN</td>\n",
       "      <td>NaN</td>\n",
       "      <td>NaN</td>\n",
       "      <td>NaN</td>\n",
       "      <td>NaN</td>\n",
       "      <td>NaN</td>\n",
       "      <td>NaN</td>\n",
       "    </tr>\n",
       "    <tr>\n",
       "      <th>Segment</th>\n",
       "      <td>1085</td>\n",
       "      <td>3</td>\n",
       "      <td>Gold</td>\n",
       "      <td>375</td>\n",
       "      <td>NaN</td>\n",
       "      <td>NaN</td>\n",
       "      <td>NaN</td>\n",
       "      <td>NaN</td>\n",
       "      <td>NaN</td>\n",
       "      <td>NaN</td>\n",
       "      <td>NaN</td>\n",
       "    </tr>\n",
       "  </tbody>\n",
       "</table>\n",
       "</div>"
      ],
      "text/plain": [
       "                      count  unique            top freq  \\\n",
       "claim_id             1085.0  1085.0     54004764.0  1.0   \n",
       "CUST_ID              1085.0  1078.0     84147585.0  2.0   \n",
       "incident_cause         1085       5   Other causes  285   \n",
       "claim_date             1085     NaN            NaN  NaN   \n",
       "claim_area             1085       2           Auto  970   \n",
       "police_report          1085       3             No  621   \n",
       "claim_type             1085       3  Material only  653   \n",
       "claim_amount         1020.0     NaN            NaN  NaN   \n",
       "total_policy_claims  1075.0     NaN            NaN  NaN   \n",
       "fraudulent             1085       2             No  838   \n",
       "gender                 1085       2           Male  556   \n",
       "DateOfBirth            1085     NaN            NaN  NaN   \n",
       "State                  1085      50             NY   31   \n",
       "Contact                1085    1078   743-569-4783    2   \n",
       "Segment                1085       3           Gold  375   \n",
       "\n",
       "                                              mean                  min  \\\n",
       "claim_id                                       NaN                  NaN   \n",
       "CUST_ID                                        NaN                  NaN   \n",
       "incident_cause                                 NaN                  NaN   \n",
       "claim_date           2017-11-26 01:03:42.304147456  2017-01-01 00:00:00   \n",
       "claim_area                                     NaN                  NaN   \n",
       "police_report                                  NaN                  NaN   \n",
       "claim_type                                     NaN                  NaN   \n",
       "claim_amount                          12467.681373               1000.0   \n",
       "total_policy_claims                       1.586977                  1.0   \n",
       "fraudulent                                     NaN                  NaN   \n",
       "gender                                         NaN                  NaN   \n",
       "DateOfBirth          2011-02-23 21:37:59.447004416  1972-01-08 00:00:00   \n",
       "State                                          NaN                  NaN   \n",
       "Contact                                        NaN                  NaN   \n",
       "Segment                                        NaN                  NaN   \n",
       "\n",
       "                                     25%                  50%  \\\n",
       "claim_id                             NaN                  NaN   \n",
       "CUST_ID                              NaN                  NaN   \n",
       "incident_cause                       NaN                  NaN   \n",
       "claim_date           2017-06-04 00:00:00  2017-11-27 00:00:00   \n",
       "claim_area                           NaN                  NaN   \n",
       "police_report                        NaN                  NaN   \n",
       "claim_type                           NaN                  NaN   \n",
       "claim_amount                      1870.0               2740.0   \n",
       "total_policy_claims                  1.0                  1.0   \n",
       "fraudulent                           NaN                  NaN   \n",
       "gender                               NaN                  NaN   \n",
       "DateOfBirth          1982-08-03 00:00:00  1993-01-15 00:00:00   \n",
       "State                                NaN                  NaN   \n",
       "Contact                              NaN                  NaN   \n",
       "Segment                              NaN                  NaN   \n",
       "\n",
       "                                     75%                  max           std  \n",
       "claim_id                             NaN                  NaN           NaN  \n",
       "CUST_ID                              NaN                  NaN           NaN  \n",
       "incident_cause                       NaN                  NaN           NaN  \n",
       "claim_date           2018-05-14 00:00:00  2018-10-30 00:00:00           NaN  \n",
       "claim_area                           NaN                  NaN           NaN  \n",
       "police_report                        NaN                  NaN           NaN  \n",
       "claim_type                           NaN                  NaN           NaN  \n",
       "claim_amount                     24260.0              48150.5  13783.249662  \n",
       "total_policy_claims                  2.0                  8.0      1.146859  \n",
       "fraudulent                           NaN                  NaN           NaN  \n",
       "gender                               NaN                  NaN           NaN  \n",
       "DateOfBirth          2062-07-09 00:00:00  2071-12-27 00:00:00           NaN  \n",
       "State                                NaN                  NaN           NaN  \n",
       "Contact                              NaN                  NaN           NaN  \n",
       "Segment                              NaN                  NaN           NaN  "
      ]
     },
     "execution_count": 10,
     "metadata": {},
     "output_type": "execute_result"
    }
   ],
   "source": [
    "cust_claim_data.describe(include='all',datetime_is_numeric=True).T"
   ]
  },
  {
   "cell_type": "markdown",
   "id": "b6e1865e",
   "metadata": {},
   "source": [
    "### 3. Convert the column claim_amount to numeric. Use the appropriate modules/attributes to remove the $ sign."
   ]
  },
  {
   "cell_type": "code",
   "execution_count": 11,
   "id": "93e49973",
   "metadata": {
    "ExecuteTime": {
     "end_time": "2022-06-25T07:56:02.290793Z",
     "start_time": "2022-06-25T07:56:02.260306Z"
    }
   },
   "outputs": [],
   "source": [
    "# Done above step done:\n",
    "#claim_data['claim_amount']=claim_data['claim_amount'].str.strip('$').astype(float)"
   ]
  },
  {
   "cell_type": "markdown",
   "id": "842bd285",
   "metadata": {},
   "source": [
    "### 4. Of all the injury claims, some of them have gone unreported with the police. Create an alert flag (1,0) for all such claims."
   ]
  },
  {
   "cell_type": "code",
   "execution_count": 12,
   "id": "e24307a8",
   "metadata": {
    "ExecuteTime": {
     "end_time": "2022-06-25T07:56:02.381040Z",
     "start_time": "2022-06-25T07:56:02.294106Z"
    }
   },
   "outputs": [
    {
     "data": {
      "text/html": [
       "<div>\n",
       "<style scoped>\n",
       "    .dataframe tbody tr th:only-of-type {\n",
       "        vertical-align: middle;\n",
       "    }\n",
       "\n",
       "    .dataframe tbody tr th {\n",
       "        vertical-align: top;\n",
       "    }\n",
       "\n",
       "    .dataframe thead th {\n",
       "        text-align: right;\n",
       "    }\n",
       "</style>\n",
       "<table border=\"1\" class=\"dataframe\">\n",
       "  <thead>\n",
       "    <tr style=\"text-align: right;\">\n",
       "      <th></th>\n",
       "      <th>claim_id</th>\n",
       "      <th>CUST_ID</th>\n",
       "      <th>incident_cause</th>\n",
       "      <th>claim_date</th>\n",
       "      <th>claim_area</th>\n",
       "      <th>police_report</th>\n",
       "      <th>claim_type</th>\n",
       "      <th>claim_amount</th>\n",
       "      <th>total_policy_claims</th>\n",
       "      <th>fraudulent</th>\n",
       "      <th>gender</th>\n",
       "      <th>DateOfBirth</th>\n",
       "      <th>State</th>\n",
       "      <th>Contact</th>\n",
       "      <th>Segment</th>\n",
       "      <th>alert_flag</th>\n",
       "    </tr>\n",
       "  </thead>\n",
       "  <tbody>\n",
       "    <tr>\n",
       "      <th>0</th>\n",
       "      <td>54004764</td>\n",
       "      <td>21868593</td>\n",
       "      <td>Driver error</td>\n",
       "      <td>2017-11-27</td>\n",
       "      <td>Auto</td>\n",
       "      <td>No</td>\n",
       "      <td>Material only</td>\n",
       "      <td>2980.0</td>\n",
       "      <td>1.0</td>\n",
       "      <td>No</td>\n",
       "      <td>Female</td>\n",
       "      <td>1979-01-12</td>\n",
       "      <td>VT</td>\n",
       "      <td>789-916-8172</td>\n",
       "      <td>Platinum</td>\n",
       "      <td>0</td>\n",
       "    </tr>\n",
       "    <tr>\n",
       "      <th>1</th>\n",
       "      <td>33985796</td>\n",
       "      <td>75740424</td>\n",
       "      <td>Crime</td>\n",
       "      <td>2018-10-03</td>\n",
       "      <td>Home</td>\n",
       "      <td>Unknown</td>\n",
       "      <td>Material only</td>\n",
       "      <td>2980.0</td>\n",
       "      <td>3.0</td>\n",
       "      <td>No</td>\n",
       "      <td>Female</td>\n",
       "      <td>2070-01-13</td>\n",
       "      <td>ME</td>\n",
       "      <td>265-543-1264</td>\n",
       "      <td>Silver</td>\n",
       "      <td>1</td>\n",
       "    </tr>\n",
       "    <tr>\n",
       "      <th>2</th>\n",
       "      <td>53522022</td>\n",
       "      <td>30308357</td>\n",
       "      <td>Other driver error</td>\n",
       "      <td>2018-02-02</td>\n",
       "      <td>Auto</td>\n",
       "      <td>No</td>\n",
       "      <td>Material only</td>\n",
       "      <td>3369.5</td>\n",
       "      <td>1.0</td>\n",
       "      <td>Yes</td>\n",
       "      <td>Female</td>\n",
       "      <td>1984-03-11</td>\n",
       "      <td>TN</td>\n",
       "      <td>798-631-4758</td>\n",
       "      <td>Silver</td>\n",
       "      <td>0</td>\n",
       "    </tr>\n",
       "    <tr>\n",
       "      <th>3</th>\n",
       "      <td>63017412</td>\n",
       "      <td>30308357</td>\n",
       "      <td>Driver error</td>\n",
       "      <td>2018-04-04</td>\n",
       "      <td>Auto</td>\n",
       "      <td>No</td>\n",
       "      <td>Material only</td>\n",
       "      <td>1950.0</td>\n",
       "      <td>6.0</td>\n",
       "      <td>No</td>\n",
       "      <td>Female</td>\n",
       "      <td>1984-03-11</td>\n",
       "      <td>TN</td>\n",
       "      <td>798-631-4758</td>\n",
       "      <td>Silver</td>\n",
       "      <td>0</td>\n",
       "    </tr>\n",
       "    <tr>\n",
       "      <th>4</th>\n",
       "      <td>13015401</td>\n",
       "      <td>47830476</td>\n",
       "      <td>Natural causes</td>\n",
       "      <td>2018-06-17</td>\n",
       "      <td>Auto</td>\n",
       "      <td>No</td>\n",
       "      <td>Material only</td>\n",
       "      <td>1680.0</td>\n",
       "      <td>1.0</td>\n",
       "      <td>No</td>\n",
       "      <td>Female</td>\n",
       "      <td>1986-05-01</td>\n",
       "      <td>MA</td>\n",
       "      <td>413-187-7945</td>\n",
       "      <td>Silver</td>\n",
       "      <td>0</td>\n",
       "    </tr>\n",
       "    <tr>\n",
       "      <th>...</th>\n",
       "      <td>...</td>\n",
       "      <td>...</td>\n",
       "      <td>...</td>\n",
       "      <td>...</td>\n",
       "      <td>...</td>\n",
       "      <td>...</td>\n",
       "      <td>...</td>\n",
       "      <td>...</td>\n",
       "      <td>...</td>\n",
       "      <td>...</td>\n",
       "      <td>...</td>\n",
       "      <td>...</td>\n",
       "      <td>...</td>\n",
       "      <td>...</td>\n",
       "      <td>...</td>\n",
       "      <td>...</td>\n",
       "    </tr>\n",
       "    <tr>\n",
       "      <th>1080</th>\n",
       "      <td>62020796</td>\n",
       "      <td>79539873</td>\n",
       "      <td>Other driver error</td>\n",
       "      <td>2018-09-06</td>\n",
       "      <td>Auto</td>\n",
       "      <td>Yes</td>\n",
       "      <td>Material only</td>\n",
       "      <td>1770.0</td>\n",
       "      <td>1.0</td>\n",
       "      <td>No</td>\n",
       "      <td>Female</td>\n",
       "      <td>1981-03-15</td>\n",
       "      <td>ND</td>\n",
       "      <td>459-425-4319</td>\n",
       "      <td>Platinum</td>\n",
       "      <td>0</td>\n",
       "    </tr>\n",
       "    <tr>\n",
       "      <th>1081</th>\n",
       "      <td>63269067</td>\n",
       "      <td>42364152</td>\n",
       "      <td>Other causes</td>\n",
       "      <td>2017-05-09</td>\n",
       "      <td>Home</td>\n",
       "      <td>No</td>\n",
       "      <td>Material only</td>\n",
       "      <td>2800.0</td>\n",
       "      <td>1.0</td>\n",
       "      <td>No</td>\n",
       "      <td>Female</td>\n",
       "      <td>1996-07-07</td>\n",
       "      <td>ID</td>\n",
       "      <td>529-462-1635</td>\n",
       "      <td>Silver</td>\n",
       "      <td>0</td>\n",
       "    </tr>\n",
       "    <tr>\n",
       "      <th>1082</th>\n",
       "      <td>22690595</td>\n",
       "      <td>19888166</td>\n",
       "      <td>Other driver error</td>\n",
       "      <td>2017-05-15</td>\n",
       "      <td>Auto</td>\n",
       "      <td>Yes</td>\n",
       "      <td>Injury only</td>\n",
       "      <td>33080.0</td>\n",
       "      <td>2.0</td>\n",
       "      <td>No</td>\n",
       "      <td>Male</td>\n",
       "      <td>1990-04-11</td>\n",
       "      <td>WI</td>\n",
       "      <td>712-651-9613</td>\n",
       "      <td>Gold</td>\n",
       "      <td>0</td>\n",
       "    </tr>\n",
       "    <tr>\n",
       "      <th>1083</th>\n",
       "      <td>12376894</td>\n",
       "      <td>11256802</td>\n",
       "      <td>Other driver error</td>\n",
       "      <td>2017-04-18</td>\n",
       "      <td>Auto</td>\n",
       "      <td>No</td>\n",
       "      <td>Material only</td>\n",
       "      <td>2840.0</td>\n",
       "      <td>4.0</td>\n",
       "      <td>No</td>\n",
       "      <td>Female</td>\n",
       "      <td>2064-10-22</td>\n",
       "      <td>LA</td>\n",
       "      <td>469-345-5617</td>\n",
       "      <td>Silver</td>\n",
       "      <td>0</td>\n",
       "    </tr>\n",
       "    <tr>\n",
       "      <th>1084</th>\n",
       "      <td>63226031</td>\n",
       "      <td>61575264</td>\n",
       "      <td>Natural causes</td>\n",
       "      <td>2017-03-16</td>\n",
       "      <td>Auto</td>\n",
       "      <td>No</td>\n",
       "      <td>Material only</td>\n",
       "      <td>1490.0</td>\n",
       "      <td>1.0</td>\n",
       "      <td>No</td>\n",
       "      <td>Male</td>\n",
       "      <td>1995-07-12</td>\n",
       "      <td>WY</td>\n",
       "      <td>182-385-1392</td>\n",
       "      <td>Gold</td>\n",
       "      <td>0</td>\n",
       "    </tr>\n",
       "  </tbody>\n",
       "</table>\n",
       "<p>1085 rows × 16 columns</p>\n",
       "</div>"
      ],
      "text/plain": [
       "      claim_id   CUST_ID      incident_cause claim_date claim_area  \\\n",
       "0     54004764  21868593        Driver error 2017-11-27       Auto   \n",
       "1     33985796  75740424               Crime 2018-10-03       Home   \n",
       "2     53522022  30308357  Other driver error 2018-02-02       Auto   \n",
       "3     63017412  30308357        Driver error 2018-04-04       Auto   \n",
       "4     13015401  47830476      Natural causes 2018-06-17       Auto   \n",
       "...        ...       ...                 ...        ...        ...   \n",
       "1080  62020796  79539873  Other driver error 2018-09-06       Auto   \n",
       "1081  63269067  42364152        Other causes 2017-05-09       Home   \n",
       "1082  22690595  19888166  Other driver error 2017-05-15       Auto   \n",
       "1083  12376894  11256802  Other driver error 2017-04-18       Auto   \n",
       "1084  63226031  61575264      Natural causes 2017-03-16       Auto   \n",
       "\n",
       "     police_report     claim_type  claim_amount  total_policy_claims  \\\n",
       "0               No  Material only        2980.0                  1.0   \n",
       "1          Unknown  Material only        2980.0                  3.0   \n",
       "2               No  Material only        3369.5                  1.0   \n",
       "3               No  Material only        1950.0                  6.0   \n",
       "4               No  Material only        1680.0                  1.0   \n",
       "...            ...            ...           ...                  ...   \n",
       "1080           Yes  Material only        1770.0                  1.0   \n",
       "1081            No  Material only        2800.0                  1.0   \n",
       "1082           Yes    Injury only       33080.0                  2.0   \n",
       "1083            No  Material only        2840.0                  4.0   \n",
       "1084            No  Material only        1490.0                  1.0   \n",
       "\n",
       "     fraudulent  gender DateOfBirth State       Contact   Segment  alert_flag  \n",
       "0            No  Female  1979-01-12    VT  789-916-8172  Platinum           0  \n",
       "1            No  Female  2070-01-13    ME  265-543-1264    Silver           1  \n",
       "2           Yes  Female  1984-03-11    TN  798-631-4758    Silver           0  \n",
       "3            No  Female  1984-03-11    TN  798-631-4758    Silver           0  \n",
       "4            No  Female  1986-05-01    MA  413-187-7945    Silver           0  \n",
       "...         ...     ...         ...   ...           ...       ...         ...  \n",
       "1080         No  Female  1981-03-15    ND  459-425-4319  Platinum           0  \n",
       "1081         No  Female  1996-07-07    ID  529-462-1635    Silver           0  \n",
       "1082         No    Male  1990-04-11    WI  712-651-9613      Gold           0  \n",
       "1083         No  Female  2064-10-22    LA  469-345-5617    Silver           0  \n",
       "1084         No    Male  1995-07-12    WY  182-385-1392      Gold           0  \n",
       "\n",
       "[1085 rows x 16 columns]"
      ]
     },
     "execution_count": 12,
     "metadata": {},
     "output_type": "execute_result"
    }
   ],
   "source": [
    "cust_claim_data['alert_flag']= np.where(cust_claim_data.police_report == 'Unknown', 1, 0)\n",
    "cust_claim_data"
   ]
  },
  {
   "cell_type": "markdown",
   "id": "3a4bd4f9",
   "metadata": {},
   "source": [
    "### 5. One customer can claim for insurance more than once and in each claim, multiple categories of claims can be involved. However, customer ID should remain unique.\n",
    "### Retain the most recent observation and delete any duplicated records in the data based on the customer ID column. "
   ]
  },
  {
   "cell_type": "code",
   "execution_count": 13,
   "id": "34df45f7",
   "metadata": {
    "ExecuteTime": {
     "end_time": "2022-06-25T07:56:02.531606Z",
     "start_time": "2022-06-25T07:56:02.383224Z"
    }
   },
   "outputs": [
    {
     "data": {
      "text/html": [
       "<div>\n",
       "<style scoped>\n",
       "    .dataframe tbody tr th:only-of-type {\n",
       "        vertical-align: middle;\n",
       "    }\n",
       "\n",
       "    .dataframe tbody tr th {\n",
       "        vertical-align: top;\n",
       "    }\n",
       "\n",
       "    .dataframe thead th {\n",
       "        text-align: right;\n",
       "    }\n",
       "</style>\n",
       "<table border=\"1\" class=\"dataframe\">\n",
       "  <thead>\n",
       "    <tr style=\"text-align: right;\">\n",
       "      <th></th>\n",
       "      <th>claim_id</th>\n",
       "      <th>CUST_ID</th>\n",
       "      <th>incident_cause</th>\n",
       "      <th>claim_date</th>\n",
       "      <th>claim_area</th>\n",
       "      <th>police_report</th>\n",
       "      <th>claim_type</th>\n",
       "      <th>claim_amount</th>\n",
       "      <th>total_policy_claims</th>\n",
       "      <th>fraudulent</th>\n",
       "      <th>gender</th>\n",
       "      <th>DateOfBirth</th>\n",
       "      <th>State</th>\n",
       "      <th>Contact</th>\n",
       "      <th>Segment</th>\n",
       "      <th>alert_flag</th>\n",
       "    </tr>\n",
       "  </thead>\n",
       "  <tbody>\n",
       "    <tr>\n",
       "      <th>0</th>\n",
       "      <td>54004764</td>\n",
       "      <td>21868593</td>\n",
       "      <td>Driver error</td>\n",
       "      <td>2017-11-27</td>\n",
       "      <td>Auto</td>\n",
       "      <td>No</td>\n",
       "      <td>Material only</td>\n",
       "      <td>2980.0</td>\n",
       "      <td>1.0</td>\n",
       "      <td>No</td>\n",
       "      <td>Female</td>\n",
       "      <td>1979-01-12</td>\n",
       "      <td>VT</td>\n",
       "      <td>789-916-8172</td>\n",
       "      <td>Platinum</td>\n",
       "      <td>0</td>\n",
       "    </tr>\n",
       "    <tr>\n",
       "      <th>1</th>\n",
       "      <td>33985796</td>\n",
       "      <td>75740424</td>\n",
       "      <td>Crime</td>\n",
       "      <td>2018-10-03</td>\n",
       "      <td>Home</td>\n",
       "      <td>Unknown</td>\n",
       "      <td>Material only</td>\n",
       "      <td>2980.0</td>\n",
       "      <td>3.0</td>\n",
       "      <td>No</td>\n",
       "      <td>Female</td>\n",
       "      <td>2070-01-13</td>\n",
       "      <td>ME</td>\n",
       "      <td>265-543-1264</td>\n",
       "      <td>Silver</td>\n",
       "      <td>1</td>\n",
       "    </tr>\n",
       "    <tr>\n",
       "      <th>3</th>\n",
       "      <td>63017412</td>\n",
       "      <td>30308357</td>\n",
       "      <td>Driver error</td>\n",
       "      <td>2018-04-04</td>\n",
       "      <td>Auto</td>\n",
       "      <td>No</td>\n",
       "      <td>Material only</td>\n",
       "      <td>1950.0</td>\n",
       "      <td>6.0</td>\n",
       "      <td>No</td>\n",
       "      <td>Female</td>\n",
       "      <td>1984-03-11</td>\n",
       "      <td>TN</td>\n",
       "      <td>798-631-4758</td>\n",
       "      <td>Silver</td>\n",
       "      <td>0</td>\n",
       "    </tr>\n",
       "    <tr>\n",
       "      <th>5</th>\n",
       "      <td>91609100</td>\n",
       "      <td>47830476</td>\n",
       "      <td>Natural causes</td>\n",
       "      <td>2017-04-12</td>\n",
       "      <td>Auto</td>\n",
       "      <td>Unknown</td>\n",
       "      <td>Material only</td>\n",
       "      <td>1440.0</td>\n",
       "      <td>1.0</td>\n",
       "      <td>No</td>\n",
       "      <td>Female</td>\n",
       "      <td>1986-05-01</td>\n",
       "      <td>MA</td>\n",
       "      <td>413-187-7945</td>\n",
       "      <td>Silver</td>\n",
       "      <td>1</td>\n",
       "    </tr>\n",
       "    <tr>\n",
       "      <th>7</th>\n",
       "      <td>39219616</td>\n",
       "      <td>19269962</td>\n",
       "      <td>Other causes</td>\n",
       "      <td>2018-09-26</td>\n",
       "      <td>Auto</td>\n",
       "      <td>No</td>\n",
       "      <td>Material only</td>\n",
       "      <td>2240.0</td>\n",
       "      <td>2.0</td>\n",
       "      <td>No</td>\n",
       "      <td>Male</td>\n",
       "      <td>1977-05-13</td>\n",
       "      <td>NV</td>\n",
       "      <td>956-871-8691</td>\n",
       "      <td>Gold</td>\n",
       "      <td>0</td>\n",
       "    </tr>\n",
       "    <tr>\n",
       "      <th>...</th>\n",
       "      <td>...</td>\n",
       "      <td>...</td>\n",
       "      <td>...</td>\n",
       "      <td>...</td>\n",
       "      <td>...</td>\n",
       "      <td>...</td>\n",
       "      <td>...</td>\n",
       "      <td>...</td>\n",
       "      <td>...</td>\n",
       "      <td>...</td>\n",
       "      <td>...</td>\n",
       "      <td>...</td>\n",
       "      <td>...</td>\n",
       "      <td>...</td>\n",
       "      <td>...</td>\n",
       "      <td>...</td>\n",
       "    </tr>\n",
       "    <tr>\n",
       "      <th>1080</th>\n",
       "      <td>62020796</td>\n",
       "      <td>79539873</td>\n",
       "      <td>Other driver error</td>\n",
       "      <td>2018-09-06</td>\n",
       "      <td>Auto</td>\n",
       "      <td>Yes</td>\n",
       "      <td>Material only</td>\n",
       "      <td>1770.0</td>\n",
       "      <td>1.0</td>\n",
       "      <td>No</td>\n",
       "      <td>Female</td>\n",
       "      <td>1981-03-15</td>\n",
       "      <td>ND</td>\n",
       "      <td>459-425-4319</td>\n",
       "      <td>Platinum</td>\n",
       "      <td>0</td>\n",
       "    </tr>\n",
       "    <tr>\n",
       "      <th>1081</th>\n",
       "      <td>63269067</td>\n",
       "      <td>42364152</td>\n",
       "      <td>Other causes</td>\n",
       "      <td>2017-05-09</td>\n",
       "      <td>Home</td>\n",
       "      <td>No</td>\n",
       "      <td>Material only</td>\n",
       "      <td>2800.0</td>\n",
       "      <td>1.0</td>\n",
       "      <td>No</td>\n",
       "      <td>Female</td>\n",
       "      <td>1996-07-07</td>\n",
       "      <td>ID</td>\n",
       "      <td>529-462-1635</td>\n",
       "      <td>Silver</td>\n",
       "      <td>0</td>\n",
       "    </tr>\n",
       "    <tr>\n",
       "      <th>1082</th>\n",
       "      <td>22690595</td>\n",
       "      <td>19888166</td>\n",
       "      <td>Other driver error</td>\n",
       "      <td>2017-05-15</td>\n",
       "      <td>Auto</td>\n",
       "      <td>Yes</td>\n",
       "      <td>Injury only</td>\n",
       "      <td>33080.0</td>\n",
       "      <td>2.0</td>\n",
       "      <td>No</td>\n",
       "      <td>Male</td>\n",
       "      <td>1990-04-11</td>\n",
       "      <td>WI</td>\n",
       "      <td>712-651-9613</td>\n",
       "      <td>Gold</td>\n",
       "      <td>0</td>\n",
       "    </tr>\n",
       "    <tr>\n",
       "      <th>1083</th>\n",
       "      <td>12376894</td>\n",
       "      <td>11256802</td>\n",
       "      <td>Other driver error</td>\n",
       "      <td>2017-04-18</td>\n",
       "      <td>Auto</td>\n",
       "      <td>No</td>\n",
       "      <td>Material only</td>\n",
       "      <td>2840.0</td>\n",
       "      <td>4.0</td>\n",
       "      <td>No</td>\n",
       "      <td>Female</td>\n",
       "      <td>2064-10-22</td>\n",
       "      <td>LA</td>\n",
       "      <td>469-345-5617</td>\n",
       "      <td>Silver</td>\n",
       "      <td>0</td>\n",
       "    </tr>\n",
       "    <tr>\n",
       "      <th>1084</th>\n",
       "      <td>63226031</td>\n",
       "      <td>61575264</td>\n",
       "      <td>Natural causes</td>\n",
       "      <td>2017-03-16</td>\n",
       "      <td>Auto</td>\n",
       "      <td>No</td>\n",
       "      <td>Material only</td>\n",
       "      <td>1490.0</td>\n",
       "      <td>1.0</td>\n",
       "      <td>No</td>\n",
       "      <td>Male</td>\n",
       "      <td>1995-07-12</td>\n",
       "      <td>WY</td>\n",
       "      <td>182-385-1392</td>\n",
       "      <td>Gold</td>\n",
       "      <td>0</td>\n",
       "    </tr>\n",
       "  </tbody>\n",
       "</table>\n",
       "<p>1078 rows × 16 columns</p>\n",
       "</div>"
      ],
      "text/plain": [
       "      claim_id   CUST_ID      incident_cause claim_date claim_area  \\\n",
       "0     54004764  21868593        Driver error 2017-11-27       Auto   \n",
       "1     33985796  75740424               Crime 2018-10-03       Home   \n",
       "3     63017412  30308357        Driver error 2018-04-04       Auto   \n",
       "5     91609100  47830476      Natural causes 2017-04-12       Auto   \n",
       "7     39219616  19269962        Other causes 2018-09-26       Auto   \n",
       "...        ...       ...                 ...        ...        ...   \n",
       "1080  62020796  79539873  Other driver error 2018-09-06       Auto   \n",
       "1081  63269067  42364152        Other causes 2017-05-09       Home   \n",
       "1082  22690595  19888166  Other driver error 2017-05-15       Auto   \n",
       "1083  12376894  11256802  Other driver error 2017-04-18       Auto   \n",
       "1084  63226031  61575264      Natural causes 2017-03-16       Auto   \n",
       "\n",
       "     police_report     claim_type  claim_amount  total_policy_claims  \\\n",
       "0               No  Material only        2980.0                  1.0   \n",
       "1          Unknown  Material only        2980.0                  3.0   \n",
       "3               No  Material only        1950.0                  6.0   \n",
       "5          Unknown  Material only        1440.0                  1.0   \n",
       "7               No  Material only        2240.0                  2.0   \n",
       "...            ...            ...           ...                  ...   \n",
       "1080           Yes  Material only        1770.0                  1.0   \n",
       "1081            No  Material only        2800.0                  1.0   \n",
       "1082           Yes    Injury only       33080.0                  2.0   \n",
       "1083            No  Material only        2840.0                  4.0   \n",
       "1084            No  Material only        1490.0                  1.0   \n",
       "\n",
       "     fraudulent  gender DateOfBirth State       Contact   Segment  alert_flag  \n",
       "0            No  Female  1979-01-12    VT  789-916-8172  Platinum           0  \n",
       "1            No  Female  2070-01-13    ME  265-543-1264    Silver           1  \n",
       "3            No  Female  1984-03-11    TN  798-631-4758    Silver           0  \n",
       "5            No  Female  1986-05-01    MA  413-187-7945    Silver           1  \n",
       "7            No    Male  1977-05-13    NV  956-871-8691      Gold           0  \n",
       "...         ...     ...         ...   ...           ...       ...         ...  \n",
       "1080         No  Female  1981-03-15    ND  459-425-4319  Platinum           0  \n",
       "1081         No  Female  1996-07-07    ID  529-462-1635    Silver           0  \n",
       "1082         No    Male  1990-04-11    WI  712-651-9613      Gold           0  \n",
       "1083         No  Female  2064-10-22    LA  469-345-5617    Silver           0  \n",
       "1084         No    Male  1995-07-12    WY  182-385-1392      Gold           0  \n",
       "\n",
       "[1078 rows x 16 columns]"
      ]
     },
     "execution_count": 13,
     "metadata": {},
     "output_type": "execute_result"
    }
   ],
   "source": [
    "cust_claim_data.drop_duplicates(subset = 'CUST_ID',keep = 'last')"
   ]
  },
  {
   "cell_type": "markdown",
   "id": "bd78d2a3",
   "metadata": {},
   "source": [
    "### 6. Check for missing values and impute the missing values with an appropriate value. (mean for continuous and mode for categorical)"
   ]
  },
  {
   "cell_type": "code",
   "execution_count": 14,
   "id": "04c4d1a1",
   "metadata": {
    "ExecuteTime": {
     "end_time": "2022-06-25T07:56:02.547373Z",
     "start_time": "2022-06-25T07:56:02.534458Z"
    }
   },
   "outputs": [
    {
     "data": {
      "text/plain": [
       "claim_id                0\n",
       "CUST_ID                 0\n",
       "incident_cause          0\n",
       "claim_date              0\n",
       "claim_area              0\n",
       "police_report           0\n",
       "claim_type              0\n",
       "claim_amount           65\n",
       "total_policy_claims    10\n",
       "fraudulent              0\n",
       "gender                  0\n",
       "DateOfBirth             0\n",
       "State                   0\n",
       "Contact                 0\n",
       "Segment                 0\n",
       "alert_flag              0\n",
       "dtype: int64"
      ]
     },
     "execution_count": 14,
     "metadata": {},
     "output_type": "execute_result"
    }
   ],
   "source": [
    "cust_claim_data.isnull().sum()"
   ]
  },
  {
   "cell_type": "code",
   "execution_count": 15,
   "id": "06d48a12",
   "metadata": {
    "ExecuteTime": {
     "end_time": "2022-06-25T07:56:02.641567Z",
     "start_time": "2022-06-25T07:56:02.548906Z"
    }
   },
   "outputs": [
    {
     "name": "stdout",
     "output_type": "stream",
     "text": [
      "0    1.0\n",
      "Name: total_policy_claims, dtype: float64\n"
     ]
    }
   ],
   "source": [
    "mod=cust_claim_data['total_policy_claims'].mode()\n",
    "print(mod)"
   ]
  },
  {
   "cell_type": "code",
   "execution_count": 16,
   "id": "787d47cf",
   "metadata": {
    "ExecuteTime": {
     "end_time": "2022-06-25T07:56:02.787340Z",
     "start_time": "2022-06-25T07:56:02.643563Z"
    }
   },
   "outputs": [
    {
     "data": {
      "text/html": [
       "<div>\n",
       "<style scoped>\n",
       "    .dataframe tbody tr th:only-of-type {\n",
       "        vertical-align: middle;\n",
       "    }\n",
       "\n",
       "    .dataframe tbody tr th {\n",
       "        vertical-align: top;\n",
       "    }\n",
       "\n",
       "    .dataframe thead th {\n",
       "        text-align: right;\n",
       "    }\n",
       "</style>\n",
       "<table border=\"1\" class=\"dataframe\">\n",
       "  <thead>\n",
       "    <tr style=\"text-align: right;\">\n",
       "      <th></th>\n",
       "      <th>claim_id</th>\n",
       "      <th>CUST_ID</th>\n",
       "      <th>incident_cause</th>\n",
       "      <th>claim_date</th>\n",
       "      <th>claim_area</th>\n",
       "      <th>police_report</th>\n",
       "      <th>claim_type</th>\n",
       "      <th>claim_amount</th>\n",
       "      <th>total_policy_claims</th>\n",
       "      <th>fraudulent</th>\n",
       "      <th>gender</th>\n",
       "      <th>DateOfBirth</th>\n",
       "      <th>State</th>\n",
       "      <th>Contact</th>\n",
       "      <th>Segment</th>\n",
       "      <th>alert_flag</th>\n",
       "    </tr>\n",
       "  </thead>\n",
       "  <tbody>\n",
       "    <tr>\n",
       "      <th>0</th>\n",
       "      <td>54004764</td>\n",
       "      <td>21868593</td>\n",
       "      <td>Driver error</td>\n",
       "      <td>2017-11-27</td>\n",
       "      <td>Auto</td>\n",
       "      <td>No</td>\n",
       "      <td>Material only</td>\n",
       "      <td>2980.0</td>\n",
       "      <td>1.0</td>\n",
       "      <td>No</td>\n",
       "      <td>Female</td>\n",
       "      <td>1979-01-12</td>\n",
       "      <td>VT</td>\n",
       "      <td>789-916-8172</td>\n",
       "      <td>Platinum</td>\n",
       "      <td>0</td>\n",
       "    </tr>\n",
       "    <tr>\n",
       "      <th>1</th>\n",
       "      <td>33985796</td>\n",
       "      <td>75740424</td>\n",
       "      <td>Crime</td>\n",
       "      <td>2018-10-03</td>\n",
       "      <td>Home</td>\n",
       "      <td>Unknown</td>\n",
       "      <td>Material only</td>\n",
       "      <td>2980.0</td>\n",
       "      <td>3.0</td>\n",
       "      <td>No</td>\n",
       "      <td>Female</td>\n",
       "      <td>2070-01-13</td>\n",
       "      <td>ME</td>\n",
       "      <td>265-543-1264</td>\n",
       "      <td>Silver</td>\n",
       "      <td>1</td>\n",
       "    </tr>\n",
       "    <tr>\n",
       "      <th>2</th>\n",
       "      <td>53522022</td>\n",
       "      <td>30308357</td>\n",
       "      <td>Other driver error</td>\n",
       "      <td>2018-02-02</td>\n",
       "      <td>Auto</td>\n",
       "      <td>No</td>\n",
       "      <td>Material only</td>\n",
       "      <td>3369.5</td>\n",
       "      <td>1.0</td>\n",
       "      <td>Yes</td>\n",
       "      <td>Female</td>\n",
       "      <td>1984-03-11</td>\n",
       "      <td>TN</td>\n",
       "      <td>798-631-4758</td>\n",
       "      <td>Silver</td>\n",
       "      <td>0</td>\n",
       "    </tr>\n",
       "    <tr>\n",
       "      <th>3</th>\n",
       "      <td>63017412</td>\n",
       "      <td>30308357</td>\n",
       "      <td>Driver error</td>\n",
       "      <td>2018-04-04</td>\n",
       "      <td>Auto</td>\n",
       "      <td>No</td>\n",
       "      <td>Material only</td>\n",
       "      <td>1950.0</td>\n",
       "      <td>6.0</td>\n",
       "      <td>No</td>\n",
       "      <td>Female</td>\n",
       "      <td>1984-03-11</td>\n",
       "      <td>TN</td>\n",
       "      <td>798-631-4758</td>\n",
       "      <td>Silver</td>\n",
       "      <td>0</td>\n",
       "    </tr>\n",
       "    <tr>\n",
       "      <th>4</th>\n",
       "      <td>13015401</td>\n",
       "      <td>47830476</td>\n",
       "      <td>Natural causes</td>\n",
       "      <td>2018-06-17</td>\n",
       "      <td>Auto</td>\n",
       "      <td>No</td>\n",
       "      <td>Material only</td>\n",
       "      <td>1680.0</td>\n",
       "      <td>1.0</td>\n",
       "      <td>No</td>\n",
       "      <td>Female</td>\n",
       "      <td>1986-05-01</td>\n",
       "      <td>MA</td>\n",
       "      <td>413-187-7945</td>\n",
       "      <td>Silver</td>\n",
       "      <td>0</td>\n",
       "    </tr>\n",
       "    <tr>\n",
       "      <th>...</th>\n",
       "      <td>...</td>\n",
       "      <td>...</td>\n",
       "      <td>...</td>\n",
       "      <td>...</td>\n",
       "      <td>...</td>\n",
       "      <td>...</td>\n",
       "      <td>...</td>\n",
       "      <td>...</td>\n",
       "      <td>...</td>\n",
       "      <td>...</td>\n",
       "      <td>...</td>\n",
       "      <td>...</td>\n",
       "      <td>...</td>\n",
       "      <td>...</td>\n",
       "      <td>...</td>\n",
       "      <td>...</td>\n",
       "    </tr>\n",
       "    <tr>\n",
       "      <th>1080</th>\n",
       "      <td>62020796</td>\n",
       "      <td>79539873</td>\n",
       "      <td>Other driver error</td>\n",
       "      <td>2018-09-06</td>\n",
       "      <td>Auto</td>\n",
       "      <td>Yes</td>\n",
       "      <td>Material only</td>\n",
       "      <td>1770.0</td>\n",
       "      <td>1.0</td>\n",
       "      <td>No</td>\n",
       "      <td>Female</td>\n",
       "      <td>1981-03-15</td>\n",
       "      <td>ND</td>\n",
       "      <td>459-425-4319</td>\n",
       "      <td>Platinum</td>\n",
       "      <td>0</td>\n",
       "    </tr>\n",
       "    <tr>\n",
       "      <th>1081</th>\n",
       "      <td>63269067</td>\n",
       "      <td>42364152</td>\n",
       "      <td>Other causes</td>\n",
       "      <td>2017-05-09</td>\n",
       "      <td>Home</td>\n",
       "      <td>No</td>\n",
       "      <td>Material only</td>\n",
       "      <td>2800.0</td>\n",
       "      <td>1.0</td>\n",
       "      <td>No</td>\n",
       "      <td>Female</td>\n",
       "      <td>1996-07-07</td>\n",
       "      <td>ID</td>\n",
       "      <td>529-462-1635</td>\n",
       "      <td>Silver</td>\n",
       "      <td>0</td>\n",
       "    </tr>\n",
       "    <tr>\n",
       "      <th>1082</th>\n",
       "      <td>22690595</td>\n",
       "      <td>19888166</td>\n",
       "      <td>Other driver error</td>\n",
       "      <td>2017-05-15</td>\n",
       "      <td>Auto</td>\n",
       "      <td>Yes</td>\n",
       "      <td>Injury only</td>\n",
       "      <td>33080.0</td>\n",
       "      <td>2.0</td>\n",
       "      <td>No</td>\n",
       "      <td>Male</td>\n",
       "      <td>1990-04-11</td>\n",
       "      <td>WI</td>\n",
       "      <td>712-651-9613</td>\n",
       "      <td>Gold</td>\n",
       "      <td>0</td>\n",
       "    </tr>\n",
       "    <tr>\n",
       "      <th>1083</th>\n",
       "      <td>12376894</td>\n",
       "      <td>11256802</td>\n",
       "      <td>Other driver error</td>\n",
       "      <td>2017-04-18</td>\n",
       "      <td>Auto</td>\n",
       "      <td>No</td>\n",
       "      <td>Material only</td>\n",
       "      <td>2840.0</td>\n",
       "      <td>4.0</td>\n",
       "      <td>No</td>\n",
       "      <td>Female</td>\n",
       "      <td>2064-10-22</td>\n",
       "      <td>LA</td>\n",
       "      <td>469-345-5617</td>\n",
       "      <td>Silver</td>\n",
       "      <td>0</td>\n",
       "    </tr>\n",
       "    <tr>\n",
       "      <th>1084</th>\n",
       "      <td>63226031</td>\n",
       "      <td>61575264</td>\n",
       "      <td>Natural causes</td>\n",
       "      <td>2017-03-16</td>\n",
       "      <td>Auto</td>\n",
       "      <td>No</td>\n",
       "      <td>Material only</td>\n",
       "      <td>1490.0</td>\n",
       "      <td>1.0</td>\n",
       "      <td>No</td>\n",
       "      <td>Male</td>\n",
       "      <td>1995-07-12</td>\n",
       "      <td>WY</td>\n",
       "      <td>182-385-1392</td>\n",
       "      <td>Gold</td>\n",
       "      <td>0</td>\n",
       "    </tr>\n",
       "  </tbody>\n",
       "</table>\n",
       "<p>1085 rows × 16 columns</p>\n",
       "</div>"
      ],
      "text/plain": [
       "      claim_id   CUST_ID      incident_cause claim_date claim_area  \\\n",
       "0     54004764  21868593        Driver error 2017-11-27       Auto   \n",
       "1     33985796  75740424               Crime 2018-10-03       Home   \n",
       "2     53522022  30308357  Other driver error 2018-02-02       Auto   \n",
       "3     63017412  30308357        Driver error 2018-04-04       Auto   \n",
       "4     13015401  47830476      Natural causes 2018-06-17       Auto   \n",
       "...        ...       ...                 ...        ...        ...   \n",
       "1080  62020796  79539873  Other driver error 2018-09-06       Auto   \n",
       "1081  63269067  42364152        Other causes 2017-05-09       Home   \n",
       "1082  22690595  19888166  Other driver error 2017-05-15       Auto   \n",
       "1083  12376894  11256802  Other driver error 2017-04-18       Auto   \n",
       "1084  63226031  61575264      Natural causes 2017-03-16       Auto   \n",
       "\n",
       "     police_report     claim_type  claim_amount total_policy_claims  \\\n",
       "0               No  Material only        2980.0                 1.0   \n",
       "1          Unknown  Material only        2980.0                 3.0   \n",
       "2               No  Material only        3369.5                 1.0   \n",
       "3               No  Material only        1950.0                 6.0   \n",
       "4               No  Material only        1680.0                 1.0   \n",
       "...            ...            ...           ...                 ...   \n",
       "1080           Yes  Material only        1770.0                 1.0   \n",
       "1081            No  Material only        2800.0                 1.0   \n",
       "1082           Yes    Injury only       33080.0                 2.0   \n",
       "1083            No  Material only        2840.0                 4.0   \n",
       "1084            No  Material only        1490.0                 1.0   \n",
       "\n",
       "     fraudulent  gender DateOfBirth State       Contact   Segment  alert_flag  \n",
       "0            No  Female  1979-01-12    VT  789-916-8172  Platinum           0  \n",
       "1            No  Female  2070-01-13    ME  265-543-1264    Silver           1  \n",
       "2           Yes  Female  1984-03-11    TN  798-631-4758    Silver           0  \n",
       "3            No  Female  1984-03-11    TN  798-631-4758    Silver           0  \n",
       "4            No  Female  1986-05-01    MA  413-187-7945    Silver           0  \n",
       "...         ...     ...         ...   ...           ...       ...         ...  \n",
       "1080         No  Female  1981-03-15    ND  459-425-4319  Platinum           0  \n",
       "1081         No  Female  1996-07-07    ID  529-462-1635    Silver           0  \n",
       "1082         No    Male  1990-04-11    WI  712-651-9613      Gold           0  \n",
       "1083         No  Female  2064-10-22    LA  469-345-5617    Silver           0  \n",
       "1084         No    Male  1995-07-12    WY  182-385-1392      Gold           0  \n",
       "\n",
       "[1085 rows x 16 columns]"
      ]
     },
     "execution_count": 16,
     "metadata": {},
     "output_type": "execute_result"
    }
   ],
   "source": [
    "#Categorical values\n",
    "cust_claim_data['total_policy_claims'].fillna('1.0', inplace=True)\n",
    "\n",
    "#Continous values\n",
    "cust_claim_data['claim_amount'].fillna(cust_claim_data['claim_amount'].mean(), inplace=True)\n",
    "\n",
    "cust_claim_data"
   ]
  },
  {
   "cell_type": "code",
   "execution_count": 17,
   "id": "f764b0a3",
   "metadata": {
    "ExecuteTime": {
     "end_time": "2022-06-25T07:56:02.847434Z",
     "start_time": "2022-06-25T07:56:02.790883Z"
    }
   },
   "outputs": [
    {
     "data": {
      "text/plain": [
       "claim_id               0\n",
       "CUST_ID                0\n",
       "incident_cause         0\n",
       "claim_date             0\n",
       "claim_area             0\n",
       "police_report          0\n",
       "claim_type             0\n",
       "claim_amount           0\n",
       "total_policy_claims    0\n",
       "fraudulent             0\n",
       "gender                 0\n",
       "DateOfBirth            0\n",
       "State                  0\n",
       "Contact                0\n",
       "Segment                0\n",
       "alert_flag             0\n",
       "dtype: int64"
      ]
     },
     "execution_count": 17,
     "metadata": {},
     "output_type": "execute_result"
    }
   ],
   "source": [
    "cust_claim_data.isnull().sum()"
   ]
  },
  {
   "cell_type": "markdown",
   "id": "0e935a70",
   "metadata": {},
   "source": [
    "### 7. Calculate the age of customers in years. Based on the age, categorize the customers according to the below criteria\n",
    "            Children < 18\n",
    "            Youth 18-30\n",
    "            Adult 30-60\n",
    "            Senior > 60"
   ]
  },
  {
   "cell_type": "code",
   "execution_count": 18,
   "id": "ed11b7fd",
   "metadata": {
    "ExecuteTime": {
     "end_time": "2022-06-25T07:56:03.120317Z",
     "start_time": "2022-06-25T07:56:02.848434Z"
    }
   },
   "outputs": [
    {
     "data": {
      "text/html": [
       "<div>\n",
       "<style scoped>\n",
       "    .dataframe tbody tr th:only-of-type {\n",
       "        vertical-align: middle;\n",
       "    }\n",
       "\n",
       "    .dataframe tbody tr th {\n",
       "        vertical-align: top;\n",
       "    }\n",
       "\n",
       "    .dataframe thead th {\n",
       "        text-align: right;\n",
       "    }\n",
       "</style>\n",
       "<table border=\"1\" class=\"dataframe\">\n",
       "  <thead>\n",
       "    <tr style=\"text-align: right;\">\n",
       "      <th></th>\n",
       "      <th>claim_id</th>\n",
       "      <th>CUST_ID</th>\n",
       "      <th>incident_cause</th>\n",
       "      <th>claim_date</th>\n",
       "      <th>claim_area</th>\n",
       "      <th>police_report</th>\n",
       "      <th>claim_type</th>\n",
       "      <th>claim_amount</th>\n",
       "      <th>total_policy_claims</th>\n",
       "      <th>fraudulent</th>\n",
       "      <th>gender</th>\n",
       "      <th>DateOfBirth</th>\n",
       "      <th>State</th>\n",
       "      <th>Contact</th>\n",
       "      <th>Segment</th>\n",
       "      <th>alert_flag</th>\n",
       "    </tr>\n",
       "  </thead>\n",
       "  <tbody>\n",
       "    <tr>\n",
       "      <th>0</th>\n",
       "      <td>54004764</td>\n",
       "      <td>21868593</td>\n",
       "      <td>Driver error</td>\n",
       "      <td>2017-11-27</td>\n",
       "      <td>Auto</td>\n",
       "      <td>No</td>\n",
       "      <td>Material only</td>\n",
       "      <td>2980.0</td>\n",
       "      <td>1.0</td>\n",
       "      <td>No</td>\n",
       "      <td>Female</td>\n",
       "      <td>1979-01-12</td>\n",
       "      <td>VT</td>\n",
       "      <td>789-916-8172</td>\n",
       "      <td>Platinum</td>\n",
       "      <td>0</td>\n",
       "    </tr>\n",
       "    <tr>\n",
       "      <th>1</th>\n",
       "      <td>33985796</td>\n",
       "      <td>75740424</td>\n",
       "      <td>Crime</td>\n",
       "      <td>2018-10-03</td>\n",
       "      <td>Home</td>\n",
       "      <td>Unknown</td>\n",
       "      <td>Material only</td>\n",
       "      <td>2980.0</td>\n",
       "      <td>3.0</td>\n",
       "      <td>No</td>\n",
       "      <td>Female</td>\n",
       "      <td>1970-01-13</td>\n",
       "      <td>ME</td>\n",
       "      <td>265-543-1264</td>\n",
       "      <td>Silver</td>\n",
       "      <td>1</td>\n",
       "    </tr>\n",
       "    <tr>\n",
       "      <th>2</th>\n",
       "      <td>53522022</td>\n",
       "      <td>30308357</td>\n",
       "      <td>Other driver error</td>\n",
       "      <td>2018-02-02</td>\n",
       "      <td>Auto</td>\n",
       "      <td>No</td>\n",
       "      <td>Material only</td>\n",
       "      <td>3369.5</td>\n",
       "      <td>1.0</td>\n",
       "      <td>Yes</td>\n",
       "      <td>Female</td>\n",
       "      <td>1984-03-11</td>\n",
       "      <td>TN</td>\n",
       "      <td>798-631-4758</td>\n",
       "      <td>Silver</td>\n",
       "      <td>0</td>\n",
       "    </tr>\n",
       "    <tr>\n",
       "      <th>3</th>\n",
       "      <td>63017412</td>\n",
       "      <td>30308357</td>\n",
       "      <td>Driver error</td>\n",
       "      <td>2018-04-04</td>\n",
       "      <td>Auto</td>\n",
       "      <td>No</td>\n",
       "      <td>Material only</td>\n",
       "      <td>1950.0</td>\n",
       "      <td>6.0</td>\n",
       "      <td>No</td>\n",
       "      <td>Female</td>\n",
       "      <td>1984-03-11</td>\n",
       "      <td>TN</td>\n",
       "      <td>798-631-4758</td>\n",
       "      <td>Silver</td>\n",
       "      <td>0</td>\n",
       "    </tr>\n",
       "    <tr>\n",
       "      <th>4</th>\n",
       "      <td>13015401</td>\n",
       "      <td>47830476</td>\n",
       "      <td>Natural causes</td>\n",
       "      <td>2018-06-17</td>\n",
       "      <td>Auto</td>\n",
       "      <td>No</td>\n",
       "      <td>Material only</td>\n",
       "      <td>1680.0</td>\n",
       "      <td>1.0</td>\n",
       "      <td>No</td>\n",
       "      <td>Female</td>\n",
       "      <td>1986-05-01</td>\n",
       "      <td>MA</td>\n",
       "      <td>413-187-7945</td>\n",
       "      <td>Silver</td>\n",
       "      <td>0</td>\n",
       "    </tr>\n",
       "    <tr>\n",
       "      <th>...</th>\n",
       "      <td>...</td>\n",
       "      <td>...</td>\n",
       "      <td>...</td>\n",
       "      <td>...</td>\n",
       "      <td>...</td>\n",
       "      <td>...</td>\n",
       "      <td>...</td>\n",
       "      <td>...</td>\n",
       "      <td>...</td>\n",
       "      <td>...</td>\n",
       "      <td>...</td>\n",
       "      <td>...</td>\n",
       "      <td>...</td>\n",
       "      <td>...</td>\n",
       "      <td>...</td>\n",
       "      <td>...</td>\n",
       "    </tr>\n",
       "    <tr>\n",
       "      <th>1080</th>\n",
       "      <td>62020796</td>\n",
       "      <td>79539873</td>\n",
       "      <td>Other driver error</td>\n",
       "      <td>2018-09-06</td>\n",
       "      <td>Auto</td>\n",
       "      <td>Yes</td>\n",
       "      <td>Material only</td>\n",
       "      <td>1770.0</td>\n",
       "      <td>1.0</td>\n",
       "      <td>No</td>\n",
       "      <td>Female</td>\n",
       "      <td>1981-03-15</td>\n",
       "      <td>ND</td>\n",
       "      <td>459-425-4319</td>\n",
       "      <td>Platinum</td>\n",
       "      <td>0</td>\n",
       "    </tr>\n",
       "    <tr>\n",
       "      <th>1081</th>\n",
       "      <td>63269067</td>\n",
       "      <td>42364152</td>\n",
       "      <td>Other causes</td>\n",
       "      <td>2017-05-09</td>\n",
       "      <td>Home</td>\n",
       "      <td>No</td>\n",
       "      <td>Material only</td>\n",
       "      <td>2800.0</td>\n",
       "      <td>1.0</td>\n",
       "      <td>No</td>\n",
       "      <td>Female</td>\n",
       "      <td>1996-07-07</td>\n",
       "      <td>ID</td>\n",
       "      <td>529-462-1635</td>\n",
       "      <td>Silver</td>\n",
       "      <td>0</td>\n",
       "    </tr>\n",
       "    <tr>\n",
       "      <th>1082</th>\n",
       "      <td>22690595</td>\n",
       "      <td>19888166</td>\n",
       "      <td>Other driver error</td>\n",
       "      <td>2017-05-15</td>\n",
       "      <td>Auto</td>\n",
       "      <td>Yes</td>\n",
       "      <td>Injury only</td>\n",
       "      <td>33080.0</td>\n",
       "      <td>2.0</td>\n",
       "      <td>No</td>\n",
       "      <td>Male</td>\n",
       "      <td>1990-04-11</td>\n",
       "      <td>WI</td>\n",
       "      <td>712-651-9613</td>\n",
       "      <td>Gold</td>\n",
       "      <td>0</td>\n",
       "    </tr>\n",
       "    <tr>\n",
       "      <th>1083</th>\n",
       "      <td>12376894</td>\n",
       "      <td>11256802</td>\n",
       "      <td>Other driver error</td>\n",
       "      <td>2017-04-18</td>\n",
       "      <td>Auto</td>\n",
       "      <td>No</td>\n",
       "      <td>Material only</td>\n",
       "      <td>2840.0</td>\n",
       "      <td>4.0</td>\n",
       "      <td>No</td>\n",
       "      <td>Female</td>\n",
       "      <td>1964-10-22</td>\n",
       "      <td>LA</td>\n",
       "      <td>469-345-5617</td>\n",
       "      <td>Silver</td>\n",
       "      <td>0</td>\n",
       "    </tr>\n",
       "    <tr>\n",
       "      <th>1084</th>\n",
       "      <td>63226031</td>\n",
       "      <td>61575264</td>\n",
       "      <td>Natural causes</td>\n",
       "      <td>2017-03-16</td>\n",
       "      <td>Auto</td>\n",
       "      <td>No</td>\n",
       "      <td>Material only</td>\n",
       "      <td>1490.0</td>\n",
       "      <td>1.0</td>\n",
       "      <td>No</td>\n",
       "      <td>Male</td>\n",
       "      <td>1995-07-12</td>\n",
       "      <td>WY</td>\n",
       "      <td>182-385-1392</td>\n",
       "      <td>Gold</td>\n",
       "      <td>0</td>\n",
       "    </tr>\n",
       "  </tbody>\n",
       "</table>\n",
       "<p>1085 rows × 16 columns</p>\n",
       "</div>"
      ],
      "text/plain": [
       "      claim_id   CUST_ID      incident_cause claim_date claim_area  \\\n",
       "0     54004764  21868593        Driver error 2017-11-27       Auto   \n",
       "1     33985796  75740424               Crime 2018-10-03       Home   \n",
       "2     53522022  30308357  Other driver error 2018-02-02       Auto   \n",
       "3     63017412  30308357        Driver error 2018-04-04       Auto   \n",
       "4     13015401  47830476      Natural causes 2018-06-17       Auto   \n",
       "...        ...       ...                 ...        ...        ...   \n",
       "1080  62020796  79539873  Other driver error 2018-09-06       Auto   \n",
       "1081  63269067  42364152        Other causes 2017-05-09       Home   \n",
       "1082  22690595  19888166  Other driver error 2017-05-15       Auto   \n",
       "1083  12376894  11256802  Other driver error 2017-04-18       Auto   \n",
       "1084  63226031  61575264      Natural causes 2017-03-16       Auto   \n",
       "\n",
       "     police_report     claim_type  claim_amount total_policy_claims  \\\n",
       "0               No  Material only        2980.0                 1.0   \n",
       "1          Unknown  Material only        2980.0                 3.0   \n",
       "2               No  Material only        3369.5                 1.0   \n",
       "3               No  Material only        1950.0                 6.0   \n",
       "4               No  Material only        1680.0                 1.0   \n",
       "...            ...            ...           ...                 ...   \n",
       "1080           Yes  Material only        1770.0                 1.0   \n",
       "1081            No  Material only        2800.0                 1.0   \n",
       "1082           Yes    Injury only       33080.0                 2.0   \n",
       "1083            No  Material only        2840.0                 4.0   \n",
       "1084            No  Material only        1490.0                 1.0   \n",
       "\n",
       "     fraudulent  gender DateOfBirth State       Contact   Segment  alert_flag  \n",
       "0            No  Female  1979-01-12    VT  789-916-8172  Platinum           0  \n",
       "1            No  Female  1970-01-13    ME  265-543-1264    Silver           1  \n",
       "2           Yes  Female  1984-03-11    TN  798-631-4758    Silver           0  \n",
       "3            No  Female  1984-03-11    TN  798-631-4758    Silver           0  \n",
       "4            No  Female  1986-05-01    MA  413-187-7945    Silver           0  \n",
       "...         ...     ...         ...   ...           ...       ...         ...  \n",
       "1080         No  Female  1981-03-15    ND  459-425-4319  Platinum           0  \n",
       "1081         No  Female  1996-07-07    ID  529-462-1635    Silver           0  \n",
       "1082         No    Male  1990-04-11    WI  712-651-9613      Gold           0  \n",
       "1083         No  Female  1964-10-22    LA  469-345-5617    Silver           0  \n",
       "1084         No    Male  1995-07-12    WY  182-385-1392      Gold           0  \n",
       "\n",
       "[1085 rows x 16 columns]"
      ]
     },
     "execution_count": 18,
     "metadata": {},
     "output_type": "execute_result"
    }
   ],
   "source": [
    "cust_claim_data['DateOfBirth'] = np.where(pd.DatetimeIndex(cust_claim_data['DateOfBirth']).year < 2000, cust_claim_data.DateOfBirth, cust_claim_data.DateOfBirth - pd.offsets.DateOffset(years=100))\n",
    "cust_claim_data"
   ]
  },
  {
   "cell_type": "code",
   "execution_count": 19,
   "id": "c711360e",
   "metadata": {
    "ExecuteTime": {
     "end_time": "2022-06-25T07:56:03.136157Z",
     "start_time": "2022-06-25T07:56:03.120317Z"
    }
   },
   "outputs": [],
   "source": [
    "def age(birthdate):\n",
    "    today = date.today()\n",
    "    age = today.year - birthdate.year - ((today.month, today.day) < (birthdate.month, birthdate.day))\n",
    "    return age"
   ]
  },
  {
   "cell_type": "code",
   "execution_count": 20,
   "id": "cc4df923",
   "metadata": {
    "ExecuteTime": {
     "end_time": "2022-06-25T07:56:03.257086Z",
     "start_time": "2022-06-25T07:56:03.139689Z"
    }
   },
   "outputs": [
    {
     "data": {
      "text/html": [
       "<div>\n",
       "<style scoped>\n",
       "    .dataframe tbody tr th:only-of-type {\n",
       "        vertical-align: middle;\n",
       "    }\n",
       "\n",
       "    .dataframe tbody tr th {\n",
       "        vertical-align: top;\n",
       "    }\n",
       "\n",
       "    .dataframe thead th {\n",
       "        text-align: right;\n",
       "    }\n",
       "</style>\n",
       "<table border=\"1\" class=\"dataframe\">\n",
       "  <thead>\n",
       "    <tr style=\"text-align: right;\">\n",
       "      <th></th>\n",
       "      <th>claim_id</th>\n",
       "      <th>CUST_ID</th>\n",
       "      <th>incident_cause</th>\n",
       "      <th>claim_date</th>\n",
       "      <th>claim_area</th>\n",
       "      <th>police_report</th>\n",
       "      <th>claim_type</th>\n",
       "      <th>claim_amount</th>\n",
       "      <th>total_policy_claims</th>\n",
       "      <th>fraudulent</th>\n",
       "      <th>gender</th>\n",
       "      <th>DateOfBirth</th>\n",
       "      <th>State</th>\n",
       "      <th>Contact</th>\n",
       "      <th>Segment</th>\n",
       "      <th>alert_flag</th>\n",
       "      <th>Age</th>\n",
       "    </tr>\n",
       "  </thead>\n",
       "  <tbody>\n",
       "    <tr>\n",
       "      <th>0</th>\n",
       "      <td>54004764</td>\n",
       "      <td>21868593</td>\n",
       "      <td>Driver error</td>\n",
       "      <td>2017-11-27</td>\n",
       "      <td>Auto</td>\n",
       "      <td>No</td>\n",
       "      <td>Material only</td>\n",
       "      <td>2980.0</td>\n",
       "      <td>1.0</td>\n",
       "      <td>No</td>\n",
       "      <td>Female</td>\n",
       "      <td>1979-01-12</td>\n",
       "      <td>VT</td>\n",
       "      <td>789-916-8172</td>\n",
       "      <td>Platinum</td>\n",
       "      <td>0</td>\n",
       "      <td>43</td>\n",
       "    </tr>\n",
       "    <tr>\n",
       "      <th>1</th>\n",
       "      <td>33985796</td>\n",
       "      <td>75740424</td>\n",
       "      <td>Crime</td>\n",
       "      <td>2018-10-03</td>\n",
       "      <td>Home</td>\n",
       "      <td>Unknown</td>\n",
       "      <td>Material only</td>\n",
       "      <td>2980.0</td>\n",
       "      <td>3.0</td>\n",
       "      <td>No</td>\n",
       "      <td>Female</td>\n",
       "      <td>1970-01-13</td>\n",
       "      <td>ME</td>\n",
       "      <td>265-543-1264</td>\n",
       "      <td>Silver</td>\n",
       "      <td>1</td>\n",
       "      <td>52</td>\n",
       "    </tr>\n",
       "  </tbody>\n",
       "</table>\n",
       "</div>"
      ],
      "text/plain": [
       "   claim_id   CUST_ID incident_cause claim_date claim_area police_report  \\\n",
       "0  54004764  21868593   Driver error 2017-11-27       Auto            No   \n",
       "1  33985796  75740424          Crime 2018-10-03       Home       Unknown   \n",
       "\n",
       "      claim_type  claim_amount total_policy_claims fraudulent  gender  \\\n",
       "0  Material only        2980.0                 1.0         No  Female   \n",
       "1  Material only        2980.0                 3.0         No  Female   \n",
       "\n",
       "  DateOfBirth State       Contact   Segment  alert_flag  Age  \n",
       "0  1979-01-12    VT  789-916-8172  Platinum           0   43  \n",
       "1  1970-01-13    ME  265-543-1264    Silver           1   52  "
      ]
     },
     "execution_count": 20,
     "metadata": {},
     "output_type": "execute_result"
    }
   ],
   "source": [
    "cust_claim_data['Age']=cust_claim_data['DateOfBirth'].apply(age)\n",
    "cust_claim_data.head(2) "
   ]
  },
  {
   "cell_type": "code",
   "execution_count": 21,
   "id": "95a16f31",
   "metadata": {
    "ExecuteTime": {
     "end_time": "2022-06-25T07:56:03.370699Z",
     "start_time": "2022-06-25T07:56:03.257086Z"
    }
   },
   "outputs": [
    {
     "data": {
      "text/html": [
       "<div>\n",
       "<style scoped>\n",
       "    .dataframe tbody tr th:only-of-type {\n",
       "        vertical-align: middle;\n",
       "    }\n",
       "\n",
       "    .dataframe tbody tr th {\n",
       "        vertical-align: top;\n",
       "    }\n",
       "\n",
       "    .dataframe thead th {\n",
       "        text-align: right;\n",
       "    }\n",
       "</style>\n",
       "<table border=\"1\" class=\"dataframe\">\n",
       "  <thead>\n",
       "    <tr style=\"text-align: right;\">\n",
       "      <th></th>\n",
       "      <th>claim_id</th>\n",
       "      <th>CUST_ID</th>\n",
       "      <th>incident_cause</th>\n",
       "      <th>claim_date</th>\n",
       "      <th>claim_area</th>\n",
       "      <th>police_report</th>\n",
       "      <th>claim_type</th>\n",
       "      <th>claim_amount</th>\n",
       "      <th>total_policy_claims</th>\n",
       "      <th>fraudulent</th>\n",
       "      <th>gender</th>\n",
       "      <th>DateOfBirth</th>\n",
       "      <th>State</th>\n",
       "      <th>Contact</th>\n",
       "      <th>Segment</th>\n",
       "      <th>alert_flag</th>\n",
       "      <th>Age</th>\n",
       "      <th>age_category</th>\n",
       "    </tr>\n",
       "  </thead>\n",
       "  <tbody>\n",
       "    <tr>\n",
       "      <th>0</th>\n",
       "      <td>54004764</td>\n",
       "      <td>21868593</td>\n",
       "      <td>Driver error</td>\n",
       "      <td>2017-11-27</td>\n",
       "      <td>Auto</td>\n",
       "      <td>No</td>\n",
       "      <td>Material only</td>\n",
       "      <td>2980.0</td>\n",
       "      <td>1.0</td>\n",
       "      <td>No</td>\n",
       "      <td>Female</td>\n",
       "      <td>1979-01-12</td>\n",
       "      <td>VT</td>\n",
       "      <td>789-916-8172</td>\n",
       "      <td>Platinum</td>\n",
       "      <td>0</td>\n",
       "      <td>43</td>\n",
       "      <td>Adult</td>\n",
       "    </tr>\n",
       "    <tr>\n",
       "      <th>1</th>\n",
       "      <td>33985796</td>\n",
       "      <td>75740424</td>\n",
       "      <td>Crime</td>\n",
       "      <td>2018-10-03</td>\n",
       "      <td>Home</td>\n",
       "      <td>Unknown</td>\n",
       "      <td>Material only</td>\n",
       "      <td>2980.0</td>\n",
       "      <td>3.0</td>\n",
       "      <td>No</td>\n",
       "      <td>Female</td>\n",
       "      <td>1970-01-13</td>\n",
       "      <td>ME</td>\n",
       "      <td>265-543-1264</td>\n",
       "      <td>Silver</td>\n",
       "      <td>1</td>\n",
       "      <td>52</td>\n",
       "      <td>Adult</td>\n",
       "    </tr>\n",
       "    <tr>\n",
       "      <th>2</th>\n",
       "      <td>53522022</td>\n",
       "      <td>30308357</td>\n",
       "      <td>Other driver error</td>\n",
       "      <td>2018-02-02</td>\n",
       "      <td>Auto</td>\n",
       "      <td>No</td>\n",
       "      <td>Material only</td>\n",
       "      <td>3369.5</td>\n",
       "      <td>1.0</td>\n",
       "      <td>Yes</td>\n",
       "      <td>Female</td>\n",
       "      <td>1984-03-11</td>\n",
       "      <td>TN</td>\n",
       "      <td>798-631-4758</td>\n",
       "      <td>Silver</td>\n",
       "      <td>0</td>\n",
       "      <td>38</td>\n",
       "      <td>Adult</td>\n",
       "    </tr>\n",
       "    <tr>\n",
       "      <th>3</th>\n",
       "      <td>63017412</td>\n",
       "      <td>30308357</td>\n",
       "      <td>Driver error</td>\n",
       "      <td>2018-04-04</td>\n",
       "      <td>Auto</td>\n",
       "      <td>No</td>\n",
       "      <td>Material only</td>\n",
       "      <td>1950.0</td>\n",
       "      <td>6.0</td>\n",
       "      <td>No</td>\n",
       "      <td>Female</td>\n",
       "      <td>1984-03-11</td>\n",
       "      <td>TN</td>\n",
       "      <td>798-631-4758</td>\n",
       "      <td>Silver</td>\n",
       "      <td>0</td>\n",
       "      <td>38</td>\n",
       "      <td>Adult</td>\n",
       "    </tr>\n",
       "    <tr>\n",
       "      <th>4</th>\n",
       "      <td>13015401</td>\n",
       "      <td>47830476</td>\n",
       "      <td>Natural causes</td>\n",
       "      <td>2018-06-17</td>\n",
       "      <td>Auto</td>\n",
       "      <td>No</td>\n",
       "      <td>Material only</td>\n",
       "      <td>1680.0</td>\n",
       "      <td>1.0</td>\n",
       "      <td>No</td>\n",
       "      <td>Female</td>\n",
       "      <td>1986-05-01</td>\n",
       "      <td>MA</td>\n",
       "      <td>413-187-7945</td>\n",
       "      <td>Silver</td>\n",
       "      <td>0</td>\n",
       "      <td>36</td>\n",
       "      <td>Adult</td>\n",
       "    </tr>\n",
       "    <tr>\n",
       "      <th>...</th>\n",
       "      <td>...</td>\n",
       "      <td>...</td>\n",
       "      <td>...</td>\n",
       "      <td>...</td>\n",
       "      <td>...</td>\n",
       "      <td>...</td>\n",
       "      <td>...</td>\n",
       "      <td>...</td>\n",
       "      <td>...</td>\n",
       "      <td>...</td>\n",
       "      <td>...</td>\n",
       "      <td>...</td>\n",
       "      <td>...</td>\n",
       "      <td>...</td>\n",
       "      <td>...</td>\n",
       "      <td>...</td>\n",
       "      <td>...</td>\n",
       "      <td>...</td>\n",
       "    </tr>\n",
       "    <tr>\n",
       "      <th>1080</th>\n",
       "      <td>62020796</td>\n",
       "      <td>79539873</td>\n",
       "      <td>Other driver error</td>\n",
       "      <td>2018-09-06</td>\n",
       "      <td>Auto</td>\n",
       "      <td>Yes</td>\n",
       "      <td>Material only</td>\n",
       "      <td>1770.0</td>\n",
       "      <td>1.0</td>\n",
       "      <td>No</td>\n",
       "      <td>Female</td>\n",
       "      <td>1981-03-15</td>\n",
       "      <td>ND</td>\n",
       "      <td>459-425-4319</td>\n",
       "      <td>Platinum</td>\n",
       "      <td>0</td>\n",
       "      <td>41</td>\n",
       "      <td>Adult</td>\n",
       "    </tr>\n",
       "    <tr>\n",
       "      <th>1081</th>\n",
       "      <td>63269067</td>\n",
       "      <td>42364152</td>\n",
       "      <td>Other causes</td>\n",
       "      <td>2017-05-09</td>\n",
       "      <td>Home</td>\n",
       "      <td>No</td>\n",
       "      <td>Material only</td>\n",
       "      <td>2800.0</td>\n",
       "      <td>1.0</td>\n",
       "      <td>No</td>\n",
       "      <td>Female</td>\n",
       "      <td>1996-07-07</td>\n",
       "      <td>ID</td>\n",
       "      <td>529-462-1635</td>\n",
       "      <td>Silver</td>\n",
       "      <td>0</td>\n",
       "      <td>25</td>\n",
       "      <td>Youth</td>\n",
       "    </tr>\n",
       "    <tr>\n",
       "      <th>1082</th>\n",
       "      <td>22690595</td>\n",
       "      <td>19888166</td>\n",
       "      <td>Other driver error</td>\n",
       "      <td>2017-05-15</td>\n",
       "      <td>Auto</td>\n",
       "      <td>Yes</td>\n",
       "      <td>Injury only</td>\n",
       "      <td>33080.0</td>\n",
       "      <td>2.0</td>\n",
       "      <td>No</td>\n",
       "      <td>Male</td>\n",
       "      <td>1990-04-11</td>\n",
       "      <td>WI</td>\n",
       "      <td>712-651-9613</td>\n",
       "      <td>Gold</td>\n",
       "      <td>0</td>\n",
       "      <td>32</td>\n",
       "      <td>Adult</td>\n",
       "    </tr>\n",
       "    <tr>\n",
       "      <th>1083</th>\n",
       "      <td>12376894</td>\n",
       "      <td>11256802</td>\n",
       "      <td>Other driver error</td>\n",
       "      <td>2017-04-18</td>\n",
       "      <td>Auto</td>\n",
       "      <td>No</td>\n",
       "      <td>Material only</td>\n",
       "      <td>2840.0</td>\n",
       "      <td>4.0</td>\n",
       "      <td>No</td>\n",
       "      <td>Female</td>\n",
       "      <td>1964-10-22</td>\n",
       "      <td>LA</td>\n",
       "      <td>469-345-5617</td>\n",
       "      <td>Silver</td>\n",
       "      <td>0</td>\n",
       "      <td>57</td>\n",
       "      <td>Adult</td>\n",
       "    </tr>\n",
       "    <tr>\n",
       "      <th>1084</th>\n",
       "      <td>63226031</td>\n",
       "      <td>61575264</td>\n",
       "      <td>Natural causes</td>\n",
       "      <td>2017-03-16</td>\n",
       "      <td>Auto</td>\n",
       "      <td>No</td>\n",
       "      <td>Material only</td>\n",
       "      <td>1490.0</td>\n",
       "      <td>1.0</td>\n",
       "      <td>No</td>\n",
       "      <td>Male</td>\n",
       "      <td>1995-07-12</td>\n",
       "      <td>WY</td>\n",
       "      <td>182-385-1392</td>\n",
       "      <td>Gold</td>\n",
       "      <td>0</td>\n",
       "      <td>26</td>\n",
       "      <td>Youth</td>\n",
       "    </tr>\n",
       "  </tbody>\n",
       "</table>\n",
       "<p>1085 rows × 18 columns</p>\n",
       "</div>"
      ],
      "text/plain": [
       "      claim_id   CUST_ID      incident_cause claim_date claim_area  \\\n",
       "0     54004764  21868593        Driver error 2017-11-27       Auto   \n",
       "1     33985796  75740424               Crime 2018-10-03       Home   \n",
       "2     53522022  30308357  Other driver error 2018-02-02       Auto   \n",
       "3     63017412  30308357        Driver error 2018-04-04       Auto   \n",
       "4     13015401  47830476      Natural causes 2018-06-17       Auto   \n",
       "...        ...       ...                 ...        ...        ...   \n",
       "1080  62020796  79539873  Other driver error 2018-09-06       Auto   \n",
       "1081  63269067  42364152        Other causes 2017-05-09       Home   \n",
       "1082  22690595  19888166  Other driver error 2017-05-15       Auto   \n",
       "1083  12376894  11256802  Other driver error 2017-04-18       Auto   \n",
       "1084  63226031  61575264      Natural causes 2017-03-16       Auto   \n",
       "\n",
       "     police_report     claim_type  claim_amount total_policy_claims  \\\n",
       "0               No  Material only        2980.0                 1.0   \n",
       "1          Unknown  Material only        2980.0                 3.0   \n",
       "2               No  Material only        3369.5                 1.0   \n",
       "3               No  Material only        1950.0                 6.0   \n",
       "4               No  Material only        1680.0                 1.0   \n",
       "...            ...            ...           ...                 ...   \n",
       "1080           Yes  Material only        1770.0                 1.0   \n",
       "1081            No  Material only        2800.0                 1.0   \n",
       "1082           Yes    Injury only       33080.0                 2.0   \n",
       "1083            No  Material only        2840.0                 4.0   \n",
       "1084            No  Material only        1490.0                 1.0   \n",
       "\n",
       "     fraudulent  gender DateOfBirth State       Contact   Segment  alert_flag  \\\n",
       "0            No  Female  1979-01-12    VT  789-916-8172  Platinum           0   \n",
       "1            No  Female  1970-01-13    ME  265-543-1264    Silver           1   \n",
       "2           Yes  Female  1984-03-11    TN  798-631-4758    Silver           0   \n",
       "3            No  Female  1984-03-11    TN  798-631-4758    Silver           0   \n",
       "4            No  Female  1986-05-01    MA  413-187-7945    Silver           0   \n",
       "...         ...     ...         ...   ...           ...       ...         ...   \n",
       "1080         No  Female  1981-03-15    ND  459-425-4319  Platinum           0   \n",
       "1081         No  Female  1996-07-07    ID  529-462-1635    Silver           0   \n",
       "1082         No    Male  1990-04-11    WI  712-651-9613      Gold           0   \n",
       "1083         No  Female  1964-10-22    LA  469-345-5617    Silver           0   \n",
       "1084         No    Male  1995-07-12    WY  182-385-1392      Gold           0   \n",
       "\n",
       "      Age age_category  \n",
       "0      43        Adult  \n",
       "1      52        Adult  \n",
       "2      38        Adult  \n",
       "3      38        Adult  \n",
       "4      36        Adult  \n",
       "...   ...          ...  \n",
       "1080   41        Adult  \n",
       "1081   25        Youth  \n",
       "1082   32        Adult  \n",
       "1083   57        Adult  \n",
       "1084   26        Youth  \n",
       "\n",
       "[1085 rows x 18 columns]"
      ]
     },
     "execution_count": 21,
     "metadata": {},
     "output_type": "execute_result"
    }
   ],
   "source": [
    "cust_claim_data.loc[(cust_claim_data.Age < 18), 'age_category'] = 'Children'\n",
    "cust_claim_data.loc[(cust_claim_data.Age >= 18) & (cust_claim_data.Age < 30), 'age_category'] = 'Youth'\n",
    "cust_claim_data.loc[(cust_claim_data.Age >= 30) & (cust_claim_data.Age < 60), 'age_category'] = 'Adult'\n",
    "cust_claim_data.loc[(cust_claim_data.Age >= 60), 'age_category'] = 'Senior'\n",
    "cust_claim_data"
   ]
  },
  {
   "cell_type": "markdown",
   "id": "ae57f2f6",
   "metadata": {},
   "source": [
    "### 8. What is the average amount claimed by the customers from various segments? "
   ]
  },
  {
   "cell_type": "code",
   "execution_count": 22,
   "id": "7d8eb5e1",
   "metadata": {
    "ExecuteTime": {
     "end_time": "2022-06-25T07:56:03.475385Z",
     "start_time": "2022-06-25T07:56:03.373375Z"
    }
   },
   "outputs": [
    {
     "data": {
      "text/html": [
       "<div>\n",
       "<style scoped>\n",
       "    .dataframe tbody tr th:only-of-type {\n",
       "        vertical-align: middle;\n",
       "    }\n",
       "\n",
       "    .dataframe tbody tr th {\n",
       "        vertical-align: top;\n",
       "    }\n",
       "\n",
       "    .dataframe thead th {\n",
       "        text-align: right;\n",
       "    }\n",
       "</style>\n",
       "<table border=\"1\" class=\"dataframe\">\n",
       "  <thead>\n",
       "    <tr style=\"text-align: right;\">\n",
       "      <th></th>\n",
       "      <th>avg_claim_amt</th>\n",
       "    </tr>\n",
       "    <tr>\n",
       "      <th>Segment</th>\n",
       "      <th></th>\n",
       "    </tr>\n",
       "  </thead>\n",
       "  <tbody>\n",
       "    <tr>\n",
       "      <th>Gold</th>\n",
       "      <td>12829.631974</td>\n",
       "    </tr>\n",
       "    <tr>\n",
       "      <th>Platinum</th>\n",
       "      <td>12341.952267</td>\n",
       "    </tr>\n",
       "    <tr>\n",
       "      <th>Silver</th>\n",
       "      <td>12208.435570</td>\n",
       "    </tr>\n",
       "  </tbody>\n",
       "</table>\n",
       "</div>"
      ],
      "text/plain": [
       "          avg_claim_amt\n",
       "Segment                \n",
       "Gold       12829.631974\n",
       "Platinum   12341.952267\n",
       "Silver     12208.435570"
      ]
     },
     "execution_count": 22,
     "metadata": {},
     "output_type": "execute_result"
    }
   ],
   "source": [
    "cust_claim_data.groupby('Segment').agg(avg_claim_amt=('claim_amount',np.mean))"
   ]
  },
  {
   "cell_type": "markdown",
   "id": "b2d70832",
   "metadata": {},
   "source": [
    "### 9. What is the total claim amount based on incident cause for all the claims that have been done at least 20 days prior to 1st of October, 2018."
   ]
  },
  {
   "cell_type": "code",
   "execution_count": 23,
   "id": "fd228eb1",
   "metadata": {
    "ExecuteTime": {
     "end_time": "2022-06-25T07:56:03.636829Z",
     "start_time": "2022-06-25T07:56:03.477285Z"
    },
    "scrolled": true
   },
   "outputs": [
    {
     "data": {
      "text/html": [
       "<div>\n",
       "<style scoped>\n",
       "    .dataframe tbody tr th:only-of-type {\n",
       "        vertical-align: middle;\n",
       "    }\n",
       "\n",
       "    .dataframe tbody tr th {\n",
       "        vertical-align: top;\n",
       "    }\n",
       "\n",
       "    .dataframe thead th {\n",
       "        text-align: right;\n",
       "    }\n",
       "</style>\n",
       "<table border=\"1\" class=\"dataframe\">\n",
       "  <thead>\n",
       "    <tr style=\"text-align: right;\">\n",
       "      <th></th>\n",
       "      <th>claim_id</th>\n",
       "      <th>CUST_ID</th>\n",
       "      <th>incident_cause</th>\n",
       "      <th>claim_date</th>\n",
       "      <th>claim_area</th>\n",
       "      <th>police_report</th>\n",
       "      <th>claim_type</th>\n",
       "      <th>claim_amount</th>\n",
       "      <th>total_policy_claims</th>\n",
       "      <th>fraudulent</th>\n",
       "      <th>gender</th>\n",
       "      <th>DateOfBirth</th>\n",
       "      <th>State</th>\n",
       "      <th>Contact</th>\n",
       "      <th>Segment</th>\n",
       "      <th>alert_flag</th>\n",
       "      <th>Age</th>\n",
       "      <th>age_category</th>\n",
       "    </tr>\n",
       "  </thead>\n",
       "  <tbody>\n",
       "    <tr>\n",
       "      <th>7</th>\n",
       "      <td>39219616</td>\n",
       "      <td>19269962</td>\n",
       "      <td>Other causes</td>\n",
       "      <td>2018-09-26</td>\n",
       "      <td>Auto</td>\n",
       "      <td>No</td>\n",
       "      <td>Material only</td>\n",
       "      <td>2240.000000</td>\n",
       "      <td>2.0</td>\n",
       "      <td>No</td>\n",
       "      <td>Male</td>\n",
       "      <td>1977-05-13</td>\n",
       "      <td>NV</td>\n",
       "      <td>956-871-8691</td>\n",
       "      <td>Gold</td>\n",
       "      <td>0</td>\n",
       "      <td>45</td>\n",
       "      <td>Adult</td>\n",
       "    </tr>\n",
       "    <tr>\n",
       "      <th>17</th>\n",
       "      <td>53780662</td>\n",
       "      <td>21240703</td>\n",
       "      <td>Other driver error</td>\n",
       "      <td>2018-09-19</td>\n",
       "      <td>Auto</td>\n",
       "      <td>Unknown</td>\n",
       "      <td>Material only</td>\n",
       "      <td>1050.000000</td>\n",
       "      <td>1.0</td>\n",
       "      <td>No</td>\n",
       "      <td>Male</td>\n",
       "      <td>1963-07-22</td>\n",
       "      <td>MD</td>\n",
       "      <td>473-561-2675</td>\n",
       "      <td>Silver</td>\n",
       "      <td>1</td>\n",
       "      <td>58</td>\n",
       "      <td>Adult</td>\n",
       "    </tr>\n",
       "    <tr>\n",
       "      <th>70</th>\n",
       "      <td>43973221</td>\n",
       "      <td>83290720</td>\n",
       "      <td>Driver error</td>\n",
       "      <td>2018-09-26</td>\n",
       "      <td>Auto</td>\n",
       "      <td>Yes</td>\n",
       "      <td>Material and injury</td>\n",
       "      <td>12467.681373</td>\n",
       "      <td>1.0</td>\n",
       "      <td>No</td>\n",
       "      <td>Male</td>\n",
       "      <td>1966-12-06</td>\n",
       "      <td>VA</td>\n",
       "      <td>185-825-6547</td>\n",
       "      <td>Gold</td>\n",
       "      <td>0</td>\n",
       "      <td>55</td>\n",
       "      <td>Adult</td>\n",
       "    </tr>\n",
       "    <tr>\n",
       "      <th>118</th>\n",
       "      <td>65335959</td>\n",
       "      <td>61810954</td>\n",
       "      <td>Other driver error</td>\n",
       "      <td>2018-09-19</td>\n",
       "      <td>Auto</td>\n",
       "      <td>Unknown</td>\n",
       "      <td>Material and injury</td>\n",
       "      <td>36620.000000</td>\n",
       "      <td>1.0</td>\n",
       "      <td>No</td>\n",
       "      <td>Male</td>\n",
       "      <td>1969-05-18</td>\n",
       "      <td>TX</td>\n",
       "      <td>724-493-6179</td>\n",
       "      <td>Silver</td>\n",
       "      <td>1</td>\n",
       "      <td>53</td>\n",
       "      <td>Adult</td>\n",
       "    </tr>\n",
       "    <tr>\n",
       "      <th>134</th>\n",
       "      <td>4112041</td>\n",
       "      <td>58402401</td>\n",
       "      <td>Other causes</td>\n",
       "      <td>2018-09-12</td>\n",
       "      <td>Auto</td>\n",
       "      <td>Unknown</td>\n",
       "      <td>Material and injury</td>\n",
       "      <td>32710.000000</td>\n",
       "      <td>1.0</td>\n",
       "      <td>No</td>\n",
       "      <td>Male</td>\n",
       "      <td>1979-06-13</td>\n",
       "      <td>KS</td>\n",
       "      <td>134-129-8167</td>\n",
       "      <td>Silver</td>\n",
       "      <td>1</td>\n",
       "      <td>43</td>\n",
       "      <td>Adult</td>\n",
       "    </tr>\n",
       "    <tr>\n",
       "      <th>148</th>\n",
       "      <td>74738945</td>\n",
       "      <td>88449349</td>\n",
       "      <td>Other causes</td>\n",
       "      <td>2018-09-12</td>\n",
       "      <td>Auto</td>\n",
       "      <td>No</td>\n",
       "      <td>Material only</td>\n",
       "      <td>1080.000000</td>\n",
       "      <td>1.0</td>\n",
       "      <td>No</td>\n",
       "      <td>Male</td>\n",
       "      <td>1979-12-17</td>\n",
       "      <td>WA</td>\n",
       "      <td>975-547-5196</td>\n",
       "      <td>Platinum</td>\n",
       "      <td>0</td>\n",
       "      <td>42</td>\n",
       "      <td>Adult</td>\n",
       "    </tr>\n",
       "    <tr>\n",
       "      <th>162</th>\n",
       "      <td>3589979</td>\n",
       "      <td>14490971</td>\n",
       "      <td>Crime</td>\n",
       "      <td>2018-09-19</td>\n",
       "      <td>Auto</td>\n",
       "      <td>No</td>\n",
       "      <td>Material only</td>\n",
       "      <td>1880.000000</td>\n",
       "      <td>4.0</td>\n",
       "      <td>No</td>\n",
       "      <td>Female</td>\n",
       "      <td>1976-12-10</td>\n",
       "      <td>MN</td>\n",
       "      <td>614-652-1274</td>\n",
       "      <td>Silver</td>\n",
       "      <td>0</td>\n",
       "      <td>45</td>\n",
       "      <td>Adult</td>\n",
       "    </tr>\n",
       "    <tr>\n",
       "      <th>193</th>\n",
       "      <td>17871003</td>\n",
       "      <td>98905793</td>\n",
       "      <td>Other driver error</td>\n",
       "      <td>2018-09-19</td>\n",
       "      <td>Auto</td>\n",
       "      <td>Unknown</td>\n",
       "      <td>Material only</td>\n",
       "      <td>3139.500000</td>\n",
       "      <td>3.0</td>\n",
       "      <td>Yes</td>\n",
       "      <td>Female</td>\n",
       "      <td>1993-11-11</td>\n",
       "      <td>ID</td>\n",
       "      <td>823-482-5839</td>\n",
       "      <td>Platinum</td>\n",
       "      <td>1</td>\n",
       "      <td>28</td>\n",
       "      <td>Youth</td>\n",
       "    </tr>\n",
       "    <tr>\n",
       "      <th>224</th>\n",
       "      <td>5694962</td>\n",
       "      <td>9677945</td>\n",
       "      <td>Other causes</td>\n",
       "      <td>2018-09-26</td>\n",
       "      <td>Auto</td>\n",
       "      <td>No</td>\n",
       "      <td>Material only</td>\n",
       "      <td>1520.000000</td>\n",
       "      <td>1.0</td>\n",
       "      <td>No</td>\n",
       "      <td>Female</td>\n",
       "      <td>1987-05-28</td>\n",
       "      <td>SC</td>\n",
       "      <td>849-461-6419</td>\n",
       "      <td>Platinum</td>\n",
       "      <td>0</td>\n",
       "      <td>35</td>\n",
       "      <td>Adult</td>\n",
       "    </tr>\n",
       "    <tr>\n",
       "      <th>305</th>\n",
       "      <td>2581621</td>\n",
       "      <td>18213216</td>\n",
       "      <td>Other causes</td>\n",
       "      <td>2018-09-12</td>\n",
       "      <td>Auto</td>\n",
       "      <td>Unknown</td>\n",
       "      <td>Material and injury</td>\n",
       "      <td>21942.000000</td>\n",
       "      <td>2.0</td>\n",
       "      <td>Yes</td>\n",
       "      <td>Male</td>\n",
       "      <td>1969-10-06</td>\n",
       "      <td>KY</td>\n",
       "      <td>416-461-9145</td>\n",
       "      <td>Silver</td>\n",
       "      <td>1</td>\n",
       "      <td>52</td>\n",
       "      <td>Adult</td>\n",
       "    </tr>\n",
       "    <tr>\n",
       "      <th>337</th>\n",
       "      <td>89056979</td>\n",
       "      <td>63915259</td>\n",
       "      <td>Other causes</td>\n",
       "      <td>2018-09-26</td>\n",
       "      <td>Home</td>\n",
       "      <td>Yes</td>\n",
       "      <td>Material and injury</td>\n",
       "      <td>18530.000000</td>\n",
       "      <td>1.0</td>\n",
       "      <td>No</td>\n",
       "      <td>Male</td>\n",
       "      <td>1986-05-22</td>\n",
       "      <td>GA</td>\n",
       "      <td>829-157-6239</td>\n",
       "      <td>Gold</td>\n",
       "      <td>0</td>\n",
       "      <td>36</td>\n",
       "      <td>Adult</td>\n",
       "    </tr>\n",
       "    <tr>\n",
       "      <th>369</th>\n",
       "      <td>31272774</td>\n",
       "      <td>88484857</td>\n",
       "      <td>Other causes</td>\n",
       "      <td>2018-09-19</td>\n",
       "      <td>Auto</td>\n",
       "      <td>No</td>\n",
       "      <td>Material only</td>\n",
       "      <td>1900.000000</td>\n",
       "      <td>1.0</td>\n",
       "      <td>No</td>\n",
       "      <td>Male</td>\n",
       "      <td>1960-05-21</td>\n",
       "      <td>UT</td>\n",
       "      <td>189-845-2459</td>\n",
       "      <td>Silver</td>\n",
       "      <td>0</td>\n",
       "      <td>62</td>\n",
       "      <td>Senior</td>\n",
       "    </tr>\n",
       "    <tr>\n",
       "      <th>373</th>\n",
       "      <td>3311108</td>\n",
       "      <td>49481916</td>\n",
       "      <td>Other causes</td>\n",
       "      <td>2018-09-19</td>\n",
       "      <td>Auto</td>\n",
       "      <td>No</td>\n",
       "      <td>Material only</td>\n",
       "      <td>12467.681373</td>\n",
       "      <td>2.0</td>\n",
       "      <td>Yes</td>\n",
       "      <td>Female</td>\n",
       "      <td>1996-03-28</td>\n",
       "      <td>SC</td>\n",
       "      <td>734-137-4865</td>\n",
       "      <td>Silver</td>\n",
       "      <td>0</td>\n",
       "      <td>26</td>\n",
       "      <td>Youth</td>\n",
       "    </tr>\n",
       "    <tr>\n",
       "      <th>376</th>\n",
       "      <td>92399694</td>\n",
       "      <td>92971195</td>\n",
       "      <td>Other driver error</td>\n",
       "      <td>2018-09-26</td>\n",
       "      <td>Home</td>\n",
       "      <td>No</td>\n",
       "      <td>Material only</td>\n",
       "      <td>1140.000000</td>\n",
       "      <td>1.0</td>\n",
       "      <td>No</td>\n",
       "      <td>Male</td>\n",
       "      <td>1975-02-02</td>\n",
       "      <td>DE</td>\n",
       "      <td>892-173-4657</td>\n",
       "      <td>Gold</td>\n",
       "      <td>0</td>\n",
       "      <td>47</td>\n",
       "      <td>Adult</td>\n",
       "    </tr>\n",
       "    <tr>\n",
       "      <th>416</th>\n",
       "      <td>87476916</td>\n",
       "      <td>92072156</td>\n",
       "      <td>Natural causes</td>\n",
       "      <td>2018-09-12</td>\n",
       "      <td>Auto</td>\n",
       "      <td>Yes</td>\n",
       "      <td>Material only</td>\n",
       "      <td>2970.000000</td>\n",
       "      <td>1.0</td>\n",
       "      <td>No</td>\n",
       "      <td>Female</td>\n",
       "      <td>1971-07-28</td>\n",
       "      <td>DE</td>\n",
       "      <td>186-419-2974</td>\n",
       "      <td>Silver</td>\n",
       "      <td>0</td>\n",
       "      <td>50</td>\n",
       "      <td>Adult</td>\n",
       "    </tr>\n",
       "    <tr>\n",
       "      <th>445</th>\n",
       "      <td>72555621</td>\n",
       "      <td>58934617</td>\n",
       "      <td>Other causes</td>\n",
       "      <td>2018-09-19</td>\n",
       "      <td>Auto</td>\n",
       "      <td>Yes</td>\n",
       "      <td>Injury only</td>\n",
       "      <td>27002.000000</td>\n",
       "      <td>3.0</td>\n",
       "      <td>Yes</td>\n",
       "      <td>Male</td>\n",
       "      <td>1990-04-01</td>\n",
       "      <td>CA</td>\n",
       "      <td>157-896-3619</td>\n",
       "      <td>Platinum</td>\n",
       "      <td>0</td>\n",
       "      <td>32</td>\n",
       "      <td>Adult</td>\n",
       "    </tr>\n",
       "    <tr>\n",
       "      <th>508</th>\n",
       "      <td>81102722</td>\n",
       "      <td>91135917</td>\n",
       "      <td>Other driver error</td>\n",
       "      <td>2018-09-12</td>\n",
       "      <td>Auto</td>\n",
       "      <td>No</td>\n",
       "      <td>Material only</td>\n",
       "      <td>2710.000000</td>\n",
       "      <td>1.0</td>\n",
       "      <td>No</td>\n",
       "      <td>Male</td>\n",
       "      <td>1986-08-15</td>\n",
       "      <td>NV</td>\n",
       "      <td>697-129-2549</td>\n",
       "      <td>Platinum</td>\n",
       "      <td>0</td>\n",
       "      <td>35</td>\n",
       "      <td>Adult</td>\n",
       "    </tr>\n",
       "    <tr>\n",
       "      <th>528</th>\n",
       "      <td>4257735</td>\n",
       "      <td>28437868</td>\n",
       "      <td>Other driver error</td>\n",
       "      <td>2018-09-26</td>\n",
       "      <td>Auto</td>\n",
       "      <td>No</td>\n",
       "      <td>Material only</td>\n",
       "      <td>1300.000000</td>\n",
       "      <td>1.0</td>\n",
       "      <td>No</td>\n",
       "      <td>Female</td>\n",
       "      <td>1968-01-31</td>\n",
       "      <td>NY</td>\n",
       "      <td>398-185-7936</td>\n",
       "      <td>Platinum</td>\n",
       "      <td>0</td>\n",
       "      <td>54</td>\n",
       "      <td>Adult</td>\n",
       "    </tr>\n",
       "    <tr>\n",
       "      <th>585</th>\n",
       "      <td>39518274</td>\n",
       "      <td>91180828</td>\n",
       "      <td>Other causes</td>\n",
       "      <td>2018-09-26</td>\n",
       "      <td>Auto</td>\n",
       "      <td>Unknown</td>\n",
       "      <td>Material and injury</td>\n",
       "      <td>28382.000000</td>\n",
       "      <td>1.0</td>\n",
       "      <td>Yes</td>\n",
       "      <td>Female</td>\n",
       "      <td>1987-03-17</td>\n",
       "      <td>MI</td>\n",
       "      <td>136-473-6752</td>\n",
       "      <td>Platinum</td>\n",
       "      <td>1</td>\n",
       "      <td>35</td>\n",
       "      <td>Adult</td>\n",
       "    </tr>\n",
       "    <tr>\n",
       "      <th>615</th>\n",
       "      <td>98163164</td>\n",
       "      <td>69355027</td>\n",
       "      <td>Crime</td>\n",
       "      <td>2018-09-26</td>\n",
       "      <td>Auto</td>\n",
       "      <td>Unknown</td>\n",
       "      <td>Material only</td>\n",
       "      <td>2950.000000</td>\n",
       "      <td>1.0</td>\n",
       "      <td>No</td>\n",
       "      <td>Female</td>\n",
       "      <td>1964-12-17</td>\n",
       "      <td>MO</td>\n",
       "      <td>354-352-3891</td>\n",
       "      <td>Silver</td>\n",
       "      <td>1</td>\n",
       "      <td>57</td>\n",
       "      <td>Adult</td>\n",
       "    </tr>\n",
       "    <tr>\n",
       "      <th>683</th>\n",
       "      <td>16347699</td>\n",
       "      <td>51485708</td>\n",
       "      <td>Crime</td>\n",
       "      <td>2018-09-19</td>\n",
       "      <td>Auto</td>\n",
       "      <td>No</td>\n",
       "      <td>Material only</td>\n",
       "      <td>2010.000000</td>\n",
       "      <td>1.0</td>\n",
       "      <td>No</td>\n",
       "      <td>Female</td>\n",
       "      <td>1997-04-23</td>\n",
       "      <td>WI</td>\n",
       "      <td>219-562-9756</td>\n",
       "      <td>Gold</td>\n",
       "      <td>0</td>\n",
       "      <td>25</td>\n",
       "      <td>Youth</td>\n",
       "    </tr>\n",
       "    <tr>\n",
       "      <th>764</th>\n",
       "      <td>67588341</td>\n",
       "      <td>11982382</td>\n",
       "      <td>Other driver error</td>\n",
       "      <td>2018-09-19</td>\n",
       "      <td>Auto</td>\n",
       "      <td>No</td>\n",
       "      <td>Material only</td>\n",
       "      <td>1640.000000</td>\n",
       "      <td>1.0</td>\n",
       "      <td>No</td>\n",
       "      <td>Male</td>\n",
       "      <td>1988-03-14</td>\n",
       "      <td>OH</td>\n",
       "      <td>439-628-2835</td>\n",
       "      <td>Gold</td>\n",
       "      <td>0</td>\n",
       "      <td>34</td>\n",
       "      <td>Adult</td>\n",
       "    </tr>\n",
       "    <tr>\n",
       "      <th>786</th>\n",
       "      <td>98596005</td>\n",
       "      <td>73876237</td>\n",
       "      <td>Driver error</td>\n",
       "      <td>2018-09-12</td>\n",
       "      <td>Auto</td>\n",
       "      <td>No</td>\n",
       "      <td>Material only</td>\n",
       "      <td>2130.000000</td>\n",
       "      <td>1.0</td>\n",
       "      <td>No</td>\n",
       "      <td>Female</td>\n",
       "      <td>1975-01-27</td>\n",
       "      <td>AL</td>\n",
       "      <td>879-185-4857</td>\n",
       "      <td>Silver</td>\n",
       "      <td>0</td>\n",
       "      <td>47</td>\n",
       "      <td>Adult</td>\n",
       "    </tr>\n",
       "    <tr>\n",
       "      <th>801</th>\n",
       "      <td>84632427</td>\n",
       "      <td>90646435</td>\n",
       "      <td>Other causes</td>\n",
       "      <td>2018-09-19</td>\n",
       "      <td>Auto</td>\n",
       "      <td>Unknown</td>\n",
       "      <td>Injury only</td>\n",
       "      <td>25350.000000</td>\n",
       "      <td>1.0</td>\n",
       "      <td>No</td>\n",
       "      <td>Female</td>\n",
       "      <td>1978-12-07</td>\n",
       "      <td>IL</td>\n",
       "      <td>356-975-8315</td>\n",
       "      <td>Gold</td>\n",
       "      <td>1</td>\n",
       "      <td>43</td>\n",
       "      <td>Adult</td>\n",
       "    </tr>\n",
       "    <tr>\n",
       "      <th>898</th>\n",
       "      <td>4812972</td>\n",
       "      <td>78341228</td>\n",
       "      <td>Natural causes</td>\n",
       "      <td>2018-09-12</td>\n",
       "      <td>Auto</td>\n",
       "      <td>Unknown</td>\n",
       "      <td>Material only</td>\n",
       "      <td>2090.000000</td>\n",
       "      <td>1.0</td>\n",
       "      <td>No</td>\n",
       "      <td>Male</td>\n",
       "      <td>1986-11-26</td>\n",
       "      <td>SD</td>\n",
       "      <td>475-573-2957</td>\n",
       "      <td>Gold</td>\n",
       "      <td>1</td>\n",
       "      <td>35</td>\n",
       "      <td>Adult</td>\n",
       "    </tr>\n",
       "    <tr>\n",
       "      <th>975</th>\n",
       "      <td>66301062</td>\n",
       "      <td>30015627</td>\n",
       "      <td>Natural causes</td>\n",
       "      <td>2018-09-12</td>\n",
       "      <td>Auto</td>\n",
       "      <td>Yes</td>\n",
       "      <td>Material only</td>\n",
       "      <td>2208.000000</td>\n",
       "      <td>4.0</td>\n",
       "      <td>Yes</td>\n",
       "      <td>Male</td>\n",
       "      <td>1969-09-11</td>\n",
       "      <td>SC</td>\n",
       "      <td>254-523-1634</td>\n",
       "      <td>Silver</td>\n",
       "      <td>0</td>\n",
       "      <td>52</td>\n",
       "      <td>Adult</td>\n",
       "    </tr>\n",
       "    <tr>\n",
       "      <th>990</th>\n",
       "      <td>16402994</td>\n",
       "      <td>86164274</td>\n",
       "      <td>Other causes</td>\n",
       "      <td>2018-09-26</td>\n",
       "      <td>Home</td>\n",
       "      <td>Unknown</td>\n",
       "      <td>Material and injury</td>\n",
       "      <td>15760.000000</td>\n",
       "      <td>1.0</td>\n",
       "      <td>No</td>\n",
       "      <td>Male</td>\n",
       "      <td>1962-12-28</td>\n",
       "      <td>SC</td>\n",
       "      <td>843-361-2796</td>\n",
       "      <td>Platinum</td>\n",
       "      <td>1</td>\n",
       "      <td>59</td>\n",
       "      <td>Adult</td>\n",
       "    </tr>\n",
       "    <tr>\n",
       "      <th>1009</th>\n",
       "      <td>78804570</td>\n",
       "      <td>69165409</td>\n",
       "      <td>Other causes</td>\n",
       "      <td>2018-09-12</td>\n",
       "      <td>Auto</td>\n",
       "      <td>No</td>\n",
       "      <td>Material and injury</td>\n",
       "      <td>19390.000000</td>\n",
       "      <td>1.0</td>\n",
       "      <td>No</td>\n",
       "      <td>Female</td>\n",
       "      <td>1994-10-11</td>\n",
       "      <td>NY</td>\n",
       "      <td>843-784-1843</td>\n",
       "      <td>Silver</td>\n",
       "      <td>0</td>\n",
       "      <td>27</td>\n",
       "      <td>Youth</td>\n",
       "    </tr>\n",
       "    <tr>\n",
       "      <th>1063</th>\n",
       "      <td>67763980</td>\n",
       "      <td>70708127</td>\n",
       "      <td>Natural causes</td>\n",
       "      <td>2018-09-19</td>\n",
       "      <td>Auto</td>\n",
       "      <td>No</td>\n",
       "      <td>Material only</td>\n",
       "      <td>1150.000000</td>\n",
       "      <td>1.0</td>\n",
       "      <td>Yes</td>\n",
       "      <td>Female</td>\n",
       "      <td>1975-01-18</td>\n",
       "      <td>TX</td>\n",
       "      <td>189-276-3957</td>\n",
       "      <td>Platinum</td>\n",
       "      <td>0</td>\n",
       "      <td>47</td>\n",
       "      <td>Adult</td>\n",
       "    </tr>\n",
       "    <tr>\n",
       "      <th>1072</th>\n",
       "      <td>50800999</td>\n",
       "      <td>51669975</td>\n",
       "      <td>Other causes</td>\n",
       "      <td>2018-09-19</td>\n",
       "      <td>Home</td>\n",
       "      <td>Yes</td>\n",
       "      <td>Injury only</td>\n",
       "      <td>38950.000000</td>\n",
       "      <td>1.0</td>\n",
       "      <td>No</td>\n",
       "      <td>Female</td>\n",
       "      <td>1988-02-05</td>\n",
       "      <td>ND</td>\n",
       "      <td>975-463-9541</td>\n",
       "      <td>Silver</td>\n",
       "      <td>0</td>\n",
       "      <td>34</td>\n",
       "      <td>Adult</td>\n",
       "    </tr>\n",
       "  </tbody>\n",
       "</table>\n",
       "</div>"
      ],
      "text/plain": [
       "      claim_id   CUST_ID      incident_cause claim_date claim_area  \\\n",
       "7     39219616  19269962        Other causes 2018-09-26       Auto   \n",
       "17    53780662  21240703  Other driver error 2018-09-19       Auto   \n",
       "70    43973221  83290720        Driver error 2018-09-26       Auto   \n",
       "118   65335959  61810954  Other driver error 2018-09-19       Auto   \n",
       "134    4112041  58402401        Other causes 2018-09-12       Auto   \n",
       "148   74738945  88449349        Other causes 2018-09-12       Auto   \n",
       "162    3589979  14490971               Crime 2018-09-19       Auto   \n",
       "193   17871003  98905793  Other driver error 2018-09-19       Auto   \n",
       "224    5694962   9677945        Other causes 2018-09-26       Auto   \n",
       "305    2581621  18213216        Other causes 2018-09-12       Auto   \n",
       "337   89056979  63915259        Other causes 2018-09-26       Home   \n",
       "369   31272774  88484857        Other causes 2018-09-19       Auto   \n",
       "373    3311108  49481916        Other causes 2018-09-19       Auto   \n",
       "376   92399694  92971195  Other driver error 2018-09-26       Home   \n",
       "416   87476916  92072156      Natural causes 2018-09-12       Auto   \n",
       "445   72555621  58934617        Other causes 2018-09-19       Auto   \n",
       "508   81102722  91135917  Other driver error 2018-09-12       Auto   \n",
       "528    4257735  28437868  Other driver error 2018-09-26       Auto   \n",
       "585   39518274  91180828        Other causes 2018-09-26       Auto   \n",
       "615   98163164  69355027               Crime 2018-09-26       Auto   \n",
       "683   16347699  51485708               Crime 2018-09-19       Auto   \n",
       "764   67588341  11982382  Other driver error 2018-09-19       Auto   \n",
       "786   98596005  73876237        Driver error 2018-09-12       Auto   \n",
       "801   84632427  90646435        Other causes 2018-09-19       Auto   \n",
       "898    4812972  78341228      Natural causes 2018-09-12       Auto   \n",
       "975   66301062  30015627      Natural causes 2018-09-12       Auto   \n",
       "990   16402994  86164274        Other causes 2018-09-26       Home   \n",
       "1009  78804570  69165409        Other causes 2018-09-12       Auto   \n",
       "1063  67763980  70708127      Natural causes 2018-09-19       Auto   \n",
       "1072  50800999  51669975        Other causes 2018-09-19       Home   \n",
       "\n",
       "     police_report           claim_type  claim_amount total_policy_claims  \\\n",
       "7               No        Material only   2240.000000                 2.0   \n",
       "17         Unknown        Material only   1050.000000                 1.0   \n",
       "70             Yes  Material and injury  12467.681373                 1.0   \n",
       "118        Unknown  Material and injury  36620.000000                 1.0   \n",
       "134        Unknown  Material and injury  32710.000000                 1.0   \n",
       "148             No        Material only   1080.000000                 1.0   \n",
       "162             No        Material only   1880.000000                 4.0   \n",
       "193        Unknown        Material only   3139.500000                 3.0   \n",
       "224             No        Material only   1520.000000                 1.0   \n",
       "305        Unknown  Material and injury  21942.000000                 2.0   \n",
       "337            Yes  Material and injury  18530.000000                 1.0   \n",
       "369             No        Material only   1900.000000                 1.0   \n",
       "373             No        Material only  12467.681373                 2.0   \n",
       "376             No        Material only   1140.000000                 1.0   \n",
       "416            Yes        Material only   2970.000000                 1.0   \n",
       "445            Yes          Injury only  27002.000000                 3.0   \n",
       "508             No        Material only   2710.000000                 1.0   \n",
       "528             No        Material only   1300.000000                 1.0   \n",
       "585        Unknown  Material and injury  28382.000000                 1.0   \n",
       "615        Unknown        Material only   2950.000000                 1.0   \n",
       "683             No        Material only   2010.000000                 1.0   \n",
       "764             No        Material only   1640.000000                 1.0   \n",
       "786             No        Material only   2130.000000                 1.0   \n",
       "801        Unknown          Injury only  25350.000000                 1.0   \n",
       "898        Unknown        Material only   2090.000000                 1.0   \n",
       "975            Yes        Material only   2208.000000                 4.0   \n",
       "990        Unknown  Material and injury  15760.000000                 1.0   \n",
       "1009            No  Material and injury  19390.000000                 1.0   \n",
       "1063            No        Material only   1150.000000                 1.0   \n",
       "1072           Yes          Injury only  38950.000000                 1.0   \n",
       "\n",
       "     fraudulent  gender DateOfBirth State       Contact   Segment  alert_flag  \\\n",
       "7            No    Male  1977-05-13    NV  956-871-8691      Gold           0   \n",
       "17           No    Male  1963-07-22    MD  473-561-2675    Silver           1   \n",
       "70           No    Male  1966-12-06    VA  185-825-6547      Gold           0   \n",
       "118          No    Male  1969-05-18    TX  724-493-6179    Silver           1   \n",
       "134          No    Male  1979-06-13    KS  134-129-8167    Silver           1   \n",
       "148          No    Male  1979-12-17    WA  975-547-5196  Platinum           0   \n",
       "162          No  Female  1976-12-10    MN  614-652-1274    Silver           0   \n",
       "193         Yes  Female  1993-11-11    ID  823-482-5839  Platinum           1   \n",
       "224          No  Female  1987-05-28    SC  849-461-6419  Platinum           0   \n",
       "305         Yes    Male  1969-10-06    KY  416-461-9145    Silver           1   \n",
       "337          No    Male  1986-05-22    GA  829-157-6239      Gold           0   \n",
       "369          No    Male  1960-05-21    UT  189-845-2459    Silver           0   \n",
       "373         Yes  Female  1996-03-28    SC  734-137-4865    Silver           0   \n",
       "376          No    Male  1975-02-02    DE  892-173-4657      Gold           0   \n",
       "416          No  Female  1971-07-28    DE  186-419-2974    Silver           0   \n",
       "445         Yes    Male  1990-04-01    CA  157-896-3619  Platinum           0   \n",
       "508          No    Male  1986-08-15    NV  697-129-2549  Platinum           0   \n",
       "528          No  Female  1968-01-31    NY  398-185-7936  Platinum           0   \n",
       "585         Yes  Female  1987-03-17    MI  136-473-6752  Platinum           1   \n",
       "615          No  Female  1964-12-17    MO  354-352-3891    Silver           1   \n",
       "683          No  Female  1997-04-23    WI  219-562-9756      Gold           0   \n",
       "764          No    Male  1988-03-14    OH  439-628-2835      Gold           0   \n",
       "786          No  Female  1975-01-27    AL  879-185-4857    Silver           0   \n",
       "801          No  Female  1978-12-07    IL  356-975-8315      Gold           1   \n",
       "898          No    Male  1986-11-26    SD  475-573-2957      Gold           1   \n",
       "975         Yes    Male  1969-09-11    SC  254-523-1634    Silver           0   \n",
       "990          No    Male  1962-12-28    SC  843-361-2796  Platinum           1   \n",
       "1009         No  Female  1994-10-11    NY  843-784-1843    Silver           0   \n",
       "1063        Yes  Female  1975-01-18    TX  189-276-3957  Platinum           0   \n",
       "1072         No  Female  1988-02-05    ND  975-463-9541    Silver           0   \n",
       "\n",
       "      Age age_category  \n",
       "7      45        Adult  \n",
       "17     58        Adult  \n",
       "70     55        Adult  \n",
       "118    53        Adult  \n",
       "134    43        Adult  \n",
       "148    42        Adult  \n",
       "162    45        Adult  \n",
       "193    28        Youth  \n",
       "224    35        Adult  \n",
       "305    52        Adult  \n",
       "337    36        Adult  \n",
       "369    62       Senior  \n",
       "373    26        Youth  \n",
       "376    47        Adult  \n",
       "416    50        Adult  \n",
       "445    32        Adult  \n",
       "508    35        Adult  \n",
       "528    54        Adult  \n",
       "585    35        Adult  \n",
       "615    57        Adult  \n",
       "683    25        Youth  \n",
       "764    34        Adult  \n",
       "786    47        Adult  \n",
       "801    43        Adult  \n",
       "898    35        Adult  \n",
       "975    52        Adult  \n",
       "990    59        Adult  \n",
       "1009   27        Youth  \n",
       "1063   47        Adult  \n",
       "1072   34        Adult  "
      ]
     },
     "execution_count": 23,
     "metadata": {},
     "output_type": "execute_result"
    }
   ],
   "source": [
    "df = pd.DataFrame(cust_claim_data)\n",
    "start_date = '2018-10-01'\n",
    "end_date = pd.to_datetime('2018-10-01') - timedelta(days=20)\n",
    "mask = (df['claim_date'] < start_date) & (df['claim_date'] >= end_date)\n",
    "  \n",
    "df = df.loc[mask]\n",
    "df"
   ]
  },
  {
   "cell_type": "code",
   "execution_count": 24,
   "id": "04bbdc0f",
   "metadata": {
    "ExecuteTime": {
     "end_time": "2022-06-25T07:56:03.653702Z",
     "start_time": "2022-06-25T07:56:03.637825Z"
    }
   },
   "outputs": [
    {
     "data": {
      "text/html": [
       "<div>\n",
       "<style scoped>\n",
       "    .dataframe tbody tr th:only-of-type {\n",
       "        vertical-align: middle;\n",
       "    }\n",
       "\n",
       "    .dataframe tbody tr th {\n",
       "        vertical-align: top;\n",
       "    }\n",
       "\n",
       "    .dataframe thead th {\n",
       "        text-align: right;\n",
       "    }\n",
       "</style>\n",
       "<table border=\"1\" class=\"dataframe\">\n",
       "  <thead>\n",
       "    <tr style=\"text-align: right;\">\n",
       "      <th></th>\n",
       "      <th>total_claim_amt</th>\n",
       "    </tr>\n",
       "    <tr>\n",
       "      <th>incident_cause</th>\n",
       "      <th></th>\n",
       "    </tr>\n",
       "  </thead>\n",
       "  <tbody>\n",
       "    <tr>\n",
       "      <th>Crime</th>\n",
       "      <td>6840.000000</td>\n",
       "    </tr>\n",
       "    <tr>\n",
       "      <th>Driver error</th>\n",
       "      <td>14597.681373</td>\n",
       "    </tr>\n",
       "    <tr>\n",
       "      <th>Natural causes</th>\n",
       "      <td>8418.000000</td>\n",
       "    </tr>\n",
       "    <tr>\n",
       "      <th>Other causes</th>\n",
       "      <td>247223.681373</td>\n",
       "    </tr>\n",
       "    <tr>\n",
       "      <th>Other driver error</th>\n",
       "      <td>47599.500000</td>\n",
       "    </tr>\n",
       "  </tbody>\n",
       "</table>\n",
       "</div>"
      ],
      "text/plain": [
       "                    total_claim_amt\n",
       "incident_cause                     \n",
       "Crime                   6840.000000\n",
       "Driver error           14597.681373\n",
       "Natural causes          8418.000000\n",
       "Other causes          247223.681373\n",
       "Other driver error     47599.500000"
      ]
     },
     "execution_count": 24,
     "metadata": {},
     "output_type": "execute_result"
    }
   ],
   "source": [
    "df.groupby('incident_cause').agg(total_claim_amt=('claim_amount', np.sum))"
   ]
  },
  {
   "cell_type": "markdown",
   "id": "b7a207b5",
   "metadata": {},
   "source": [
    "### 10. How many adults from TX, DE and AK claimed insurance for driver related issues and causes?"
   ]
  },
  {
   "cell_type": "code",
   "execution_count": 25,
   "id": "0b87719c",
   "metadata": {
    "ExecuteTime": {
     "end_time": "2022-06-25T07:56:03.822344Z",
     "start_time": "2022-06-25T07:56:03.654700Z"
    }
   },
   "outputs": [
    {
     "data": {
      "text/html": [
       "<div>\n",
       "<style scoped>\n",
       "    .dataframe tbody tr th:only-of-type {\n",
       "        vertical-align: middle;\n",
       "    }\n",
       "\n",
       "    .dataframe tbody tr th {\n",
       "        vertical-align: top;\n",
       "    }\n",
       "\n",
       "    .dataframe thead th {\n",
       "        text-align: right;\n",
       "    }\n",
       "</style>\n",
       "<table border=\"1\" class=\"dataframe\">\n",
       "  <thead>\n",
       "    <tr style=\"text-align: right;\">\n",
       "      <th></th>\n",
       "      <th>claim_id</th>\n",
       "      <th>CUST_ID</th>\n",
       "      <th>incident_cause</th>\n",
       "      <th>claim_date</th>\n",
       "      <th>claim_area</th>\n",
       "      <th>police_report</th>\n",
       "      <th>claim_type</th>\n",
       "      <th>claim_amount</th>\n",
       "      <th>total_policy_claims</th>\n",
       "      <th>fraudulent</th>\n",
       "      <th>gender</th>\n",
       "      <th>DateOfBirth</th>\n",
       "      <th>State</th>\n",
       "      <th>Contact</th>\n",
       "      <th>Segment</th>\n",
       "      <th>alert_flag</th>\n",
       "      <th>Age</th>\n",
       "      <th>age_category</th>\n",
       "    </tr>\n",
       "  </thead>\n",
       "  <tbody>\n",
       "    <tr>\n",
       "      <th>0</th>\n",
       "      <td>54004764</td>\n",
       "      <td>21868593</td>\n",
       "      <td>Driver error</td>\n",
       "      <td>2017-11-27</td>\n",
       "      <td>Auto</td>\n",
       "      <td>No</td>\n",
       "      <td>Material only</td>\n",
       "      <td>2980.0</td>\n",
       "      <td>1.0</td>\n",
       "      <td>No</td>\n",
       "      <td>Female</td>\n",
       "      <td>1979-01-12</td>\n",
       "      <td>VT</td>\n",
       "      <td>789-916-8172</td>\n",
       "      <td>Platinum</td>\n",
       "      <td>0</td>\n",
       "      <td>43</td>\n",
       "      <td>Adult</td>\n",
       "    </tr>\n",
       "    <tr>\n",
       "      <th>2</th>\n",
       "      <td>53522022</td>\n",
       "      <td>30308357</td>\n",
       "      <td>Other driver error</td>\n",
       "      <td>2018-02-02</td>\n",
       "      <td>Auto</td>\n",
       "      <td>No</td>\n",
       "      <td>Material only</td>\n",
       "      <td>3369.5</td>\n",
       "      <td>1.0</td>\n",
       "      <td>Yes</td>\n",
       "      <td>Female</td>\n",
       "      <td>1984-03-11</td>\n",
       "      <td>TN</td>\n",
       "      <td>798-631-4758</td>\n",
       "      <td>Silver</td>\n",
       "      <td>0</td>\n",
       "      <td>38</td>\n",
       "      <td>Adult</td>\n",
       "    </tr>\n",
       "    <tr>\n",
       "      <th>3</th>\n",
       "      <td>63017412</td>\n",
       "      <td>30308357</td>\n",
       "      <td>Driver error</td>\n",
       "      <td>2018-04-04</td>\n",
       "      <td>Auto</td>\n",
       "      <td>No</td>\n",
       "      <td>Material only</td>\n",
       "      <td>1950.0</td>\n",
       "      <td>6.0</td>\n",
       "      <td>No</td>\n",
       "      <td>Female</td>\n",
       "      <td>1984-03-11</td>\n",
       "      <td>TN</td>\n",
       "      <td>798-631-4758</td>\n",
       "      <td>Silver</td>\n",
       "      <td>0</td>\n",
       "      <td>38</td>\n",
       "      <td>Adult</td>\n",
       "    </tr>\n",
       "    <tr>\n",
       "      <th>8</th>\n",
       "      <td>24050443</td>\n",
       "      <td>21831191</td>\n",
       "      <td>Other driver error</td>\n",
       "      <td>2017-10-04</td>\n",
       "      <td>Auto</td>\n",
       "      <td>No</td>\n",
       "      <td>Injury only</td>\n",
       "      <td>38306.5</td>\n",
       "      <td>3.0</td>\n",
       "      <td>Yes</td>\n",
       "      <td>Male</td>\n",
       "      <td>1977-05-17</td>\n",
       "      <td>NH</td>\n",
       "      <td>419-712-8513</td>\n",
       "      <td>Gold</td>\n",
       "      <td>0</td>\n",
       "      <td>45</td>\n",
       "      <td>Adult</td>\n",
       "    </tr>\n",
       "    <tr>\n",
       "      <th>9</th>\n",
       "      <td>91475471</td>\n",
       "      <td>21831191</td>\n",
       "      <td>Driver error</td>\n",
       "      <td>2018-02-09</td>\n",
       "      <td>Auto</td>\n",
       "      <td>Unknown</td>\n",
       "      <td>Material and injury</td>\n",
       "      <td>36810.0</td>\n",
       "      <td>1.0</td>\n",
       "      <td>No</td>\n",
       "      <td>Male</td>\n",
       "      <td>1977-05-17</td>\n",
       "      <td>NH</td>\n",
       "      <td>419-712-8513</td>\n",
       "      <td>Gold</td>\n",
       "      <td>1</td>\n",
       "      <td>45</td>\n",
       "      <td>Adult</td>\n",
       "    </tr>\n",
       "    <tr>\n",
       "      <th>...</th>\n",
       "      <td>...</td>\n",
       "      <td>...</td>\n",
       "      <td>...</td>\n",
       "      <td>...</td>\n",
       "      <td>...</td>\n",
       "      <td>...</td>\n",
       "      <td>...</td>\n",
       "      <td>...</td>\n",
       "      <td>...</td>\n",
       "      <td>...</td>\n",
       "      <td>...</td>\n",
       "      <td>...</td>\n",
       "      <td>...</td>\n",
       "      <td>...</td>\n",
       "      <td>...</td>\n",
       "      <td>...</td>\n",
       "      <td>...</td>\n",
       "      <td>...</td>\n",
       "    </tr>\n",
       "    <tr>\n",
       "      <th>1075</th>\n",
       "      <td>28084004</td>\n",
       "      <td>82089910</td>\n",
       "      <td>Driver error</td>\n",
       "      <td>2018-06-03</td>\n",
       "      <td>Auto</td>\n",
       "      <td>No</td>\n",
       "      <td>Material only</td>\n",
       "      <td>2780.0</td>\n",
       "      <td>1.0</td>\n",
       "      <td>No</td>\n",
       "      <td>Male</td>\n",
       "      <td>1973-10-09</td>\n",
       "      <td>FL</td>\n",
       "      <td>257-248-4825</td>\n",
       "      <td>Silver</td>\n",
       "      <td>0</td>\n",
       "      <td>48</td>\n",
       "      <td>Adult</td>\n",
       "    </tr>\n",
       "    <tr>\n",
       "      <th>1078</th>\n",
       "      <td>47457836</td>\n",
       "      <td>6756905</td>\n",
       "      <td>Driver error</td>\n",
       "      <td>2017-01-21</td>\n",
       "      <td>Auto</td>\n",
       "      <td>No</td>\n",
       "      <td>Material only</td>\n",
       "      <td>2320.0</td>\n",
       "      <td>3.0</td>\n",
       "      <td>No</td>\n",
       "      <td>Male</td>\n",
       "      <td>1997-10-21</td>\n",
       "      <td>NE</td>\n",
       "      <td>924-427-8125</td>\n",
       "      <td>Silver</td>\n",
       "      <td>0</td>\n",
       "      <td>24</td>\n",
       "      <td>Youth</td>\n",
       "    </tr>\n",
       "    <tr>\n",
       "      <th>1080</th>\n",
       "      <td>62020796</td>\n",
       "      <td>79539873</td>\n",
       "      <td>Other driver error</td>\n",
       "      <td>2018-09-06</td>\n",
       "      <td>Auto</td>\n",
       "      <td>Yes</td>\n",
       "      <td>Material only</td>\n",
       "      <td>1770.0</td>\n",
       "      <td>1.0</td>\n",
       "      <td>No</td>\n",
       "      <td>Female</td>\n",
       "      <td>1981-03-15</td>\n",
       "      <td>ND</td>\n",
       "      <td>459-425-4319</td>\n",
       "      <td>Platinum</td>\n",
       "      <td>0</td>\n",
       "      <td>41</td>\n",
       "      <td>Adult</td>\n",
       "    </tr>\n",
       "    <tr>\n",
       "      <th>1082</th>\n",
       "      <td>22690595</td>\n",
       "      <td>19888166</td>\n",
       "      <td>Other driver error</td>\n",
       "      <td>2017-05-15</td>\n",
       "      <td>Auto</td>\n",
       "      <td>Yes</td>\n",
       "      <td>Injury only</td>\n",
       "      <td>33080.0</td>\n",
       "      <td>2.0</td>\n",
       "      <td>No</td>\n",
       "      <td>Male</td>\n",
       "      <td>1990-04-11</td>\n",
       "      <td>WI</td>\n",
       "      <td>712-651-9613</td>\n",
       "      <td>Gold</td>\n",
       "      <td>0</td>\n",
       "      <td>32</td>\n",
       "      <td>Adult</td>\n",
       "    </tr>\n",
       "    <tr>\n",
       "      <th>1083</th>\n",
       "      <td>12376894</td>\n",
       "      <td>11256802</td>\n",
       "      <td>Other driver error</td>\n",
       "      <td>2017-04-18</td>\n",
       "      <td>Auto</td>\n",
       "      <td>No</td>\n",
       "      <td>Material only</td>\n",
       "      <td>2840.0</td>\n",
       "      <td>4.0</td>\n",
       "      <td>No</td>\n",
       "      <td>Female</td>\n",
       "      <td>1964-10-22</td>\n",
       "      <td>LA</td>\n",
       "      <td>469-345-5617</td>\n",
       "      <td>Silver</td>\n",
       "      <td>0</td>\n",
       "      <td>57</td>\n",
       "      <td>Adult</td>\n",
       "    </tr>\n",
       "  </tbody>\n",
       "</table>\n",
       "<p>506 rows × 18 columns</p>\n",
       "</div>"
      ],
      "text/plain": [
       "      claim_id   CUST_ID      incident_cause claim_date claim_area  \\\n",
       "0     54004764  21868593        Driver error 2017-11-27       Auto   \n",
       "2     53522022  30308357  Other driver error 2018-02-02       Auto   \n",
       "3     63017412  30308357        Driver error 2018-04-04       Auto   \n",
       "8     24050443  21831191  Other driver error 2017-10-04       Auto   \n",
       "9     91475471  21831191        Driver error 2018-02-09       Auto   \n",
       "...        ...       ...                 ...        ...        ...   \n",
       "1075  28084004  82089910        Driver error 2018-06-03       Auto   \n",
       "1078  47457836   6756905        Driver error 2017-01-21       Auto   \n",
       "1080  62020796  79539873  Other driver error 2018-09-06       Auto   \n",
       "1082  22690595  19888166  Other driver error 2017-05-15       Auto   \n",
       "1083  12376894  11256802  Other driver error 2017-04-18       Auto   \n",
       "\n",
       "     police_report           claim_type  claim_amount total_policy_claims  \\\n",
       "0               No        Material only        2980.0                 1.0   \n",
       "2               No        Material only        3369.5                 1.0   \n",
       "3               No        Material only        1950.0                 6.0   \n",
       "8               No          Injury only       38306.5                 3.0   \n",
       "9          Unknown  Material and injury       36810.0                 1.0   \n",
       "...            ...                  ...           ...                 ...   \n",
       "1075            No        Material only        2780.0                 1.0   \n",
       "1078            No        Material only        2320.0                 3.0   \n",
       "1080           Yes        Material only        1770.0                 1.0   \n",
       "1082           Yes          Injury only       33080.0                 2.0   \n",
       "1083            No        Material only        2840.0                 4.0   \n",
       "\n",
       "     fraudulent  gender DateOfBirth State       Contact   Segment  alert_flag  \\\n",
       "0            No  Female  1979-01-12    VT  789-916-8172  Platinum           0   \n",
       "2           Yes  Female  1984-03-11    TN  798-631-4758    Silver           0   \n",
       "3            No  Female  1984-03-11    TN  798-631-4758    Silver           0   \n",
       "8           Yes    Male  1977-05-17    NH  419-712-8513      Gold           0   \n",
       "9            No    Male  1977-05-17    NH  419-712-8513      Gold           1   \n",
       "...         ...     ...         ...   ...           ...       ...         ...   \n",
       "1075         No    Male  1973-10-09    FL  257-248-4825    Silver           0   \n",
       "1078         No    Male  1997-10-21    NE  924-427-8125    Silver           0   \n",
       "1080         No  Female  1981-03-15    ND  459-425-4319  Platinum           0   \n",
       "1082         No    Male  1990-04-11    WI  712-651-9613      Gold           0   \n",
       "1083         No  Female  1964-10-22    LA  469-345-5617    Silver           0   \n",
       "\n",
       "      Age age_category  \n",
       "0      43        Adult  \n",
       "2      38        Adult  \n",
       "3      38        Adult  \n",
       "8      45        Adult  \n",
       "9      45        Adult  \n",
       "...   ...          ...  \n",
       "1075   48        Adult  \n",
       "1078   24        Youth  \n",
       "1080   41        Adult  \n",
       "1082   32        Adult  \n",
       "1083   57        Adult  \n",
       "\n",
       "[506 rows x 18 columns]"
      ]
     },
     "execution_count": 25,
     "metadata": {},
     "output_type": "execute_result"
    }
   ],
   "source": [
    "group_driv= cust_claim_data[(cust_claim_data['incident_cause'] == 'Driver error') | (cust_claim_data['incident_cause'] == 'Other driver error')]\n",
    "group_driv"
   ]
  },
  {
   "cell_type": "code",
   "execution_count": 26,
   "id": "eaa44b0d",
   "metadata": {
    "ExecuteTime": {
     "end_time": "2022-06-25T07:56:03.893229Z",
     "start_time": "2022-06-25T07:56:03.823391Z"
    }
   },
   "outputs": [
    {
     "data": {
      "text/html": [
       "<div>\n",
       "<style scoped>\n",
       "    .dataframe tbody tr th:only-of-type {\n",
       "        vertical-align: middle;\n",
       "    }\n",
       "\n",
       "    .dataframe tbody tr th {\n",
       "        vertical-align: top;\n",
       "    }\n",
       "\n",
       "    .dataframe thead th {\n",
       "        text-align: right;\n",
       "    }\n",
       "</style>\n",
       "<table border=\"1\" class=\"dataframe\">\n",
       "  <thead>\n",
       "    <tr style=\"text-align: right;\">\n",
       "      <th></th>\n",
       "      <th>State</th>\n",
       "      <th>Count of Adult</th>\n",
       "    </tr>\n",
       "  </thead>\n",
       "  <tbody>\n",
       "    <tr>\n",
       "      <th>0</th>\n",
       "      <td>AK</td>\n",
       "      <td>9</td>\n",
       "    </tr>\n",
       "    <tr>\n",
       "      <th>7</th>\n",
       "      <td>DE</td>\n",
       "      <td>10</td>\n",
       "    </tr>\n",
       "    <tr>\n",
       "      <th>42</th>\n",
       "      <td>TX</td>\n",
       "      <td>9</td>\n",
       "    </tr>\n",
       "  </tbody>\n",
       "</table>\n",
       "</div>"
      ],
      "text/plain": [
       "   State  Count of Adult\n",
       "0     AK               9\n",
       "7     DE              10\n",
       "42    TX               9"
      ]
     },
     "execution_count": 26,
     "metadata": {},
     "output_type": "execute_result"
    }
   ],
   "source": [
    "group_driv1=group_driv[group_driv['age_category']=='Adult'].groupby(['State']).size().reset_index().rename(columns={0:'Count of Adult'})\n",
    "group_driv1[(group_driv1['State']== 'TX') | (group_driv1['State']== 'DE') | (group_driv1['State']== 'AK')]"
   ]
  },
  {
   "cell_type": "markdown",
   "id": "782088c4",
   "metadata": {},
   "source": [
    "### 11. Draw a pie chart between the aggregated value of claim amount based on gender and segment. Represent the claim amount as a percentage on the pie chart."
   ]
  },
  {
   "cell_type": "code",
   "execution_count": 27,
   "id": "ee9cff78",
   "metadata": {
    "ExecuteTime": {
     "end_time": "2022-06-25T07:56:04.036238Z",
     "start_time": "2022-06-25T07:56:03.895225Z"
    }
   },
   "outputs": [
    {
     "data": {
      "text/html": [
       "<div>\n",
       "<style scoped>\n",
       "    .dataframe tbody tr th:only-of-type {\n",
       "        vertical-align: middle;\n",
       "    }\n",
       "\n",
       "    .dataframe tbody tr th {\n",
       "        vertical-align: top;\n",
       "    }\n",
       "\n",
       "    .dataframe thead th {\n",
       "        text-align: right;\n",
       "    }\n",
       "</style>\n",
       "<table border=\"1\" class=\"dataframe\">\n",
       "  <thead>\n",
       "    <tr style=\"text-align: right;\">\n",
       "      <th></th>\n",
       "      <th>Segment</th>\n",
       "      <th>gender</th>\n",
       "      <th>agg_claim_amt</th>\n",
       "    </tr>\n",
       "  </thead>\n",
       "  <tbody>\n",
       "    <tr>\n",
       "      <th>0</th>\n",
       "      <td>Gold</td>\n",
       "      <td>Female</td>\n",
       "      <td>12337.649897</td>\n",
       "    </tr>\n",
       "    <tr>\n",
       "      <th>1</th>\n",
       "      <td>Gold</td>\n",
       "      <td>Male</td>\n",
       "      <td>13242.028715</td>\n",
       "    </tr>\n",
       "    <tr>\n",
       "      <th>2</th>\n",
       "      <td>Platinum</td>\n",
       "      <td>Female</td>\n",
       "      <td>12277.117977</td>\n",
       "    </tr>\n",
       "    <tr>\n",
       "      <th>3</th>\n",
       "      <td>Platinum</td>\n",
       "      <td>Male</td>\n",
       "      <td>12415.993793</td>\n",
       "    </tr>\n",
       "    <tr>\n",
       "      <th>4</th>\n",
       "      <td>Silver</td>\n",
       "      <td>Female</td>\n",
       "      <td>11526.738532</td>\n",
       "    </tr>\n",
       "    <tr>\n",
       "      <th>5</th>\n",
       "      <td>Silver</td>\n",
       "      <td>Male</td>\n",
       "      <td>12823.080440</td>\n",
       "    </tr>\n",
       "  </tbody>\n",
       "</table>\n",
       "</div>"
      ],
      "text/plain": [
       "    Segment  gender  agg_claim_amt\n",
       "0      Gold  Female   12337.649897\n",
       "1      Gold    Male   13242.028715\n",
       "2  Platinum  Female   12277.117977\n",
       "3  Platinum    Male   12415.993793\n",
       "4    Silver  Female   11526.738532\n",
       "5    Silver    Male   12823.080440"
      ]
     },
     "execution_count": 27,
     "metadata": {},
     "output_type": "execute_result"
    }
   ],
   "source": [
    "agg_group=cust_claim_data.groupby(['Segment','gender']).agg(agg_claim_amt=('claim_amount', np.mean)).reset_index()\n",
    "agg_group"
   ]
  },
  {
   "cell_type": "code",
   "execution_count": 28,
   "id": "fa02970e",
   "metadata": {
    "ExecuteTime": {
     "end_time": "2022-06-25T07:56:04.096012Z",
     "start_time": "2022-06-25T07:56:04.039977Z"
    }
   },
   "outputs": [],
   "source": [
    "agg_group1= agg_group.loc[agg_group['Segment']=='Gold']\n",
    "agg_group2= agg_group.loc[agg_group['Segment']=='Platinum']\n",
    "agg_group3= agg_group.loc[agg_group['Segment']=='Silver']"
   ]
  },
  {
   "cell_type": "code",
   "execution_count": 29,
   "id": "2368cd57",
   "metadata": {
    "ExecuteTime": {
     "end_time": "2022-06-25T07:56:10.809085Z",
     "start_time": "2022-06-25T07:56:04.096012Z"
    }
   },
   "outputs": [
    {
     "data": {
      "application/vnd.plotly.v1+json": {
       "config": {
        "plotlyServerURL": "https://plot.ly"
       },
       "data": [
        {
         "domain": {
          "x": [
           0,
           0.2888888888888889
          ],
          "y": [
           0,
           1
          ]
         },
         "labels": [
          "Female",
          "Male"
         ],
         "name": "Gold",
         "title": {
          "text": "Gold"
         },
         "type": "pie",
         "values": [
          12337.649896800825,
          13242.02871491734
         ]
        },
        {
         "domain": {
          "x": [
           0.35555555555555557,
           0.6444444444444445
          ],
          "y": [
           0,
           1
          ]
         },
         "labels": [
          "Female",
          "Male"
         ],
         "name": "Platinum",
         "title": {
          "text": "Platinum"
         },
         "type": "pie",
         "values": [
          12277.117977242711,
          12415.993792783387
         ]
        },
        {
         "domain": {
          "x": [
           0.7111111111111111,
           1
          ],
          "y": [
           0,
           1
          ]
         },
         "labels": [
          "Female",
          "Male"
         ],
         "name": "Silver",
         "title": {
          "text": "Silver"
         },
         "type": "pie",
         "values": [
          11526.738532382651,
          12823.08044037287
         ]
        }
       ],
       "layout": {
        "template": {
         "data": {
          "bar": [
           {
            "error_x": {
             "color": "#2a3f5f"
            },
            "error_y": {
             "color": "#2a3f5f"
            },
            "marker": {
             "line": {
              "color": "#E5ECF6",
              "width": 0.5
             },
             "pattern": {
              "fillmode": "overlay",
              "size": 10,
              "solidity": 0.2
             }
            },
            "type": "bar"
           }
          ],
          "barpolar": [
           {
            "marker": {
             "line": {
              "color": "#E5ECF6",
              "width": 0.5
             },
             "pattern": {
              "fillmode": "overlay",
              "size": 10,
              "solidity": 0.2
             }
            },
            "type": "barpolar"
           }
          ],
          "carpet": [
           {
            "aaxis": {
             "endlinecolor": "#2a3f5f",
             "gridcolor": "white",
             "linecolor": "white",
             "minorgridcolor": "white",
             "startlinecolor": "#2a3f5f"
            },
            "baxis": {
             "endlinecolor": "#2a3f5f",
             "gridcolor": "white",
             "linecolor": "white",
             "minorgridcolor": "white",
             "startlinecolor": "#2a3f5f"
            },
            "type": "carpet"
           }
          ],
          "choropleth": [
           {
            "colorbar": {
             "outlinewidth": 0,
             "ticks": ""
            },
            "type": "choropleth"
           }
          ],
          "contour": [
           {
            "colorbar": {
             "outlinewidth": 0,
             "ticks": ""
            },
            "colorscale": [
             [
              0,
              "#0d0887"
             ],
             [
              0.1111111111111111,
              "#46039f"
             ],
             [
              0.2222222222222222,
              "#7201a8"
             ],
             [
              0.3333333333333333,
              "#9c179e"
             ],
             [
              0.4444444444444444,
              "#bd3786"
             ],
             [
              0.5555555555555556,
              "#d8576b"
             ],
             [
              0.6666666666666666,
              "#ed7953"
             ],
             [
              0.7777777777777778,
              "#fb9f3a"
             ],
             [
              0.8888888888888888,
              "#fdca26"
             ],
             [
              1,
              "#f0f921"
             ]
            ],
            "type": "contour"
           }
          ],
          "contourcarpet": [
           {
            "colorbar": {
             "outlinewidth": 0,
             "ticks": ""
            },
            "type": "contourcarpet"
           }
          ],
          "heatmap": [
           {
            "colorbar": {
             "outlinewidth": 0,
             "ticks": ""
            },
            "colorscale": [
             [
              0,
              "#0d0887"
             ],
             [
              0.1111111111111111,
              "#46039f"
             ],
             [
              0.2222222222222222,
              "#7201a8"
             ],
             [
              0.3333333333333333,
              "#9c179e"
             ],
             [
              0.4444444444444444,
              "#bd3786"
             ],
             [
              0.5555555555555556,
              "#d8576b"
             ],
             [
              0.6666666666666666,
              "#ed7953"
             ],
             [
              0.7777777777777778,
              "#fb9f3a"
             ],
             [
              0.8888888888888888,
              "#fdca26"
             ],
             [
              1,
              "#f0f921"
             ]
            ],
            "type": "heatmap"
           }
          ],
          "heatmapgl": [
           {
            "colorbar": {
             "outlinewidth": 0,
             "ticks": ""
            },
            "colorscale": [
             [
              0,
              "#0d0887"
             ],
             [
              0.1111111111111111,
              "#46039f"
             ],
             [
              0.2222222222222222,
              "#7201a8"
             ],
             [
              0.3333333333333333,
              "#9c179e"
             ],
             [
              0.4444444444444444,
              "#bd3786"
             ],
             [
              0.5555555555555556,
              "#d8576b"
             ],
             [
              0.6666666666666666,
              "#ed7953"
             ],
             [
              0.7777777777777778,
              "#fb9f3a"
             ],
             [
              0.8888888888888888,
              "#fdca26"
             ],
             [
              1,
              "#f0f921"
             ]
            ],
            "type": "heatmapgl"
           }
          ],
          "histogram": [
           {
            "marker": {
             "pattern": {
              "fillmode": "overlay",
              "size": 10,
              "solidity": 0.2
             }
            },
            "type": "histogram"
           }
          ],
          "histogram2d": [
           {
            "colorbar": {
             "outlinewidth": 0,
             "ticks": ""
            },
            "colorscale": [
             [
              0,
              "#0d0887"
             ],
             [
              0.1111111111111111,
              "#46039f"
             ],
             [
              0.2222222222222222,
              "#7201a8"
             ],
             [
              0.3333333333333333,
              "#9c179e"
             ],
             [
              0.4444444444444444,
              "#bd3786"
             ],
             [
              0.5555555555555556,
              "#d8576b"
             ],
             [
              0.6666666666666666,
              "#ed7953"
             ],
             [
              0.7777777777777778,
              "#fb9f3a"
             ],
             [
              0.8888888888888888,
              "#fdca26"
             ],
             [
              1,
              "#f0f921"
             ]
            ],
            "type": "histogram2d"
           }
          ],
          "histogram2dcontour": [
           {
            "colorbar": {
             "outlinewidth": 0,
             "ticks": ""
            },
            "colorscale": [
             [
              0,
              "#0d0887"
             ],
             [
              0.1111111111111111,
              "#46039f"
             ],
             [
              0.2222222222222222,
              "#7201a8"
             ],
             [
              0.3333333333333333,
              "#9c179e"
             ],
             [
              0.4444444444444444,
              "#bd3786"
             ],
             [
              0.5555555555555556,
              "#d8576b"
             ],
             [
              0.6666666666666666,
              "#ed7953"
             ],
             [
              0.7777777777777778,
              "#fb9f3a"
             ],
             [
              0.8888888888888888,
              "#fdca26"
             ],
             [
              1,
              "#f0f921"
             ]
            ],
            "type": "histogram2dcontour"
           }
          ],
          "mesh3d": [
           {
            "colorbar": {
             "outlinewidth": 0,
             "ticks": ""
            },
            "type": "mesh3d"
           }
          ],
          "parcoords": [
           {
            "line": {
             "colorbar": {
              "outlinewidth": 0,
              "ticks": ""
             }
            },
            "type": "parcoords"
           }
          ],
          "pie": [
           {
            "automargin": true,
            "type": "pie"
           }
          ],
          "scatter": [
           {
            "marker": {
             "colorbar": {
              "outlinewidth": 0,
              "ticks": ""
             }
            },
            "type": "scatter"
           }
          ],
          "scatter3d": [
           {
            "line": {
             "colorbar": {
              "outlinewidth": 0,
              "ticks": ""
             }
            },
            "marker": {
             "colorbar": {
              "outlinewidth": 0,
              "ticks": ""
             }
            },
            "type": "scatter3d"
           }
          ],
          "scattercarpet": [
           {
            "marker": {
             "colorbar": {
              "outlinewidth": 0,
              "ticks": ""
             }
            },
            "type": "scattercarpet"
           }
          ],
          "scattergeo": [
           {
            "marker": {
             "colorbar": {
              "outlinewidth": 0,
              "ticks": ""
             }
            },
            "type": "scattergeo"
           }
          ],
          "scattergl": [
           {
            "marker": {
             "colorbar": {
              "outlinewidth": 0,
              "ticks": ""
             }
            },
            "type": "scattergl"
           }
          ],
          "scattermapbox": [
           {
            "marker": {
             "colorbar": {
              "outlinewidth": 0,
              "ticks": ""
             }
            },
            "type": "scattermapbox"
           }
          ],
          "scatterpolar": [
           {
            "marker": {
             "colorbar": {
              "outlinewidth": 0,
              "ticks": ""
             }
            },
            "type": "scatterpolar"
           }
          ],
          "scatterpolargl": [
           {
            "marker": {
             "colorbar": {
              "outlinewidth": 0,
              "ticks": ""
             }
            },
            "type": "scatterpolargl"
           }
          ],
          "scatterternary": [
           {
            "marker": {
             "colorbar": {
              "outlinewidth": 0,
              "ticks": ""
             }
            },
            "type": "scatterternary"
           }
          ],
          "surface": [
           {
            "colorbar": {
             "outlinewidth": 0,
             "ticks": ""
            },
            "colorscale": [
             [
              0,
              "#0d0887"
             ],
             [
              0.1111111111111111,
              "#46039f"
             ],
             [
              0.2222222222222222,
              "#7201a8"
             ],
             [
              0.3333333333333333,
              "#9c179e"
             ],
             [
              0.4444444444444444,
              "#bd3786"
             ],
             [
              0.5555555555555556,
              "#d8576b"
             ],
             [
              0.6666666666666666,
              "#ed7953"
             ],
             [
              0.7777777777777778,
              "#fb9f3a"
             ],
             [
              0.8888888888888888,
              "#fdca26"
             ],
             [
              1,
              "#f0f921"
             ]
            ],
            "type": "surface"
           }
          ],
          "table": [
           {
            "cells": {
             "fill": {
              "color": "#EBF0F8"
             },
             "line": {
              "color": "white"
             }
            },
            "header": {
             "fill": {
              "color": "#C8D4E3"
             },
             "line": {
              "color": "white"
             }
            },
            "type": "table"
           }
          ]
         },
         "layout": {
          "annotationdefaults": {
           "arrowcolor": "#2a3f5f",
           "arrowhead": 0,
           "arrowwidth": 1
          },
          "autotypenumbers": "strict",
          "coloraxis": {
           "colorbar": {
            "outlinewidth": 0,
            "ticks": ""
           }
          },
          "colorscale": {
           "diverging": [
            [
             0,
             "#8e0152"
            ],
            [
             0.1,
             "#c51b7d"
            ],
            [
             0.2,
             "#de77ae"
            ],
            [
             0.3,
             "#f1b6da"
            ],
            [
             0.4,
             "#fde0ef"
            ],
            [
             0.5,
             "#f7f7f7"
            ],
            [
             0.6,
             "#e6f5d0"
            ],
            [
             0.7,
             "#b8e186"
            ],
            [
             0.8,
             "#7fbc41"
            ],
            [
             0.9,
             "#4d9221"
            ],
            [
             1,
             "#276419"
            ]
           ],
           "sequential": [
            [
             0,
             "#0d0887"
            ],
            [
             0.1111111111111111,
             "#46039f"
            ],
            [
             0.2222222222222222,
             "#7201a8"
            ],
            [
             0.3333333333333333,
             "#9c179e"
            ],
            [
             0.4444444444444444,
             "#bd3786"
            ],
            [
             0.5555555555555556,
             "#d8576b"
            ],
            [
             0.6666666666666666,
             "#ed7953"
            ],
            [
             0.7777777777777778,
             "#fb9f3a"
            ],
            [
             0.8888888888888888,
             "#fdca26"
            ],
            [
             1,
             "#f0f921"
            ]
           ],
           "sequentialminus": [
            [
             0,
             "#0d0887"
            ],
            [
             0.1111111111111111,
             "#46039f"
            ],
            [
             0.2222222222222222,
             "#7201a8"
            ],
            [
             0.3333333333333333,
             "#9c179e"
            ],
            [
             0.4444444444444444,
             "#bd3786"
            ],
            [
             0.5555555555555556,
             "#d8576b"
            ],
            [
             0.6666666666666666,
             "#ed7953"
            ],
            [
             0.7777777777777778,
             "#fb9f3a"
            ],
            [
             0.8888888888888888,
             "#fdca26"
            ],
            [
             1,
             "#f0f921"
            ]
           ]
          },
          "colorway": [
           "#636efa",
           "#EF553B",
           "#00cc96",
           "#ab63fa",
           "#FFA15A",
           "#19d3f3",
           "#FF6692",
           "#B6E880",
           "#FF97FF",
           "#FECB52"
          ],
          "font": {
           "color": "#2a3f5f"
          },
          "geo": {
           "bgcolor": "white",
           "lakecolor": "white",
           "landcolor": "#E5ECF6",
           "showlakes": true,
           "showland": true,
           "subunitcolor": "white"
          },
          "hoverlabel": {
           "align": "left"
          },
          "hovermode": "closest",
          "mapbox": {
           "style": "light"
          },
          "paper_bgcolor": "white",
          "plot_bgcolor": "#E5ECF6",
          "polar": {
           "angularaxis": {
            "gridcolor": "white",
            "linecolor": "white",
            "ticks": ""
           },
           "bgcolor": "#E5ECF6",
           "radialaxis": {
            "gridcolor": "white",
            "linecolor": "white",
            "ticks": ""
           }
          },
          "scene": {
           "xaxis": {
            "backgroundcolor": "#E5ECF6",
            "gridcolor": "white",
            "gridwidth": 2,
            "linecolor": "white",
            "showbackground": true,
            "ticks": "",
            "zerolinecolor": "white"
           },
           "yaxis": {
            "backgroundcolor": "#E5ECF6",
            "gridcolor": "white",
            "gridwidth": 2,
            "linecolor": "white",
            "showbackground": true,
            "ticks": "",
            "zerolinecolor": "white"
           },
           "zaxis": {
            "backgroundcolor": "#E5ECF6",
            "gridcolor": "white",
            "gridwidth": 2,
            "linecolor": "white",
            "showbackground": true,
            "ticks": "",
            "zerolinecolor": "white"
           }
          },
          "shapedefaults": {
           "line": {
            "color": "#2a3f5f"
           }
          },
          "ternary": {
           "aaxis": {
            "gridcolor": "white",
            "linecolor": "white",
            "ticks": ""
           },
           "baxis": {
            "gridcolor": "white",
            "linecolor": "white",
            "ticks": ""
           },
           "bgcolor": "#E5ECF6",
           "caxis": {
            "gridcolor": "white",
            "linecolor": "white",
            "ticks": ""
           }
          },
          "title": {
           "x": 0.05
          },
          "xaxis": {
           "automargin": true,
           "gridcolor": "white",
           "linecolor": "white",
           "ticks": "",
           "title": {
            "standoff": 15
           },
           "zerolinecolor": "white",
           "zerolinewidth": 2
          },
          "yaxis": {
           "automargin": true,
           "gridcolor": "white",
           "linecolor": "white",
           "ticks": "",
           "title": {
            "standoff": 15
           },
           "zerolinecolor": "white",
           "zerolinewidth": 2
          }
         }
        },
        "title": {
         "text": "Aggregated value of claim amount based on gender and segment"
        }
       }
      },
      "text/html": [
       "<div>                            <div id=\"ca391387-6ff7-443a-98a3-f8d1e9b76595\" class=\"plotly-graph-div\" style=\"height:525px; width:100%;\"></div>            <script type=\"text/javascript\">                require([\"plotly\"], function(Plotly) {                    window.PLOTLYENV=window.PLOTLYENV || {};                                    if (document.getElementById(\"ca391387-6ff7-443a-98a3-f8d1e9b76595\")) {                    Plotly.newPlot(                        \"ca391387-6ff7-443a-98a3-f8d1e9b76595\",                        [{\"domain\":{\"x\":[0.0,0.2888888888888889],\"y\":[0.0,1.0]},\"labels\":[\"Female\",\"Male\"],\"name\":\"Gold\",\"title\":{\"text\":\"Gold\"},\"values\":[12337.649896800825,13242.02871491734],\"type\":\"pie\"},{\"domain\":{\"x\":[0.35555555555555557,0.6444444444444445],\"y\":[0.0,1.0]},\"labels\":[\"Female\",\"Male\"],\"name\":\"Platinum\",\"title\":{\"text\":\"Platinum\"},\"values\":[12277.117977242711,12415.993792783387],\"type\":\"pie\"},{\"domain\":{\"x\":[0.7111111111111111,1.0],\"y\":[0.0,1.0]},\"labels\":[\"Female\",\"Male\"],\"name\":\"Silver\",\"title\":{\"text\":\"Silver\"},\"values\":[11526.738532382651,12823.08044037287],\"type\":\"pie\"}],                        {\"template\":{\"data\":{\"bar\":[{\"error_x\":{\"color\":\"#2a3f5f\"},\"error_y\":{\"color\":\"#2a3f5f\"},\"marker\":{\"line\":{\"color\":\"#E5ECF6\",\"width\":0.5},\"pattern\":{\"fillmode\":\"overlay\",\"size\":10,\"solidity\":0.2}},\"type\":\"bar\"}],\"barpolar\":[{\"marker\":{\"line\":{\"color\":\"#E5ECF6\",\"width\":0.5},\"pattern\":{\"fillmode\":\"overlay\",\"size\":10,\"solidity\":0.2}},\"type\":\"barpolar\"}],\"carpet\":[{\"aaxis\":{\"endlinecolor\":\"#2a3f5f\",\"gridcolor\":\"white\",\"linecolor\":\"white\",\"minorgridcolor\":\"white\",\"startlinecolor\":\"#2a3f5f\"},\"baxis\":{\"endlinecolor\":\"#2a3f5f\",\"gridcolor\":\"white\",\"linecolor\":\"white\",\"minorgridcolor\":\"white\",\"startlinecolor\":\"#2a3f5f\"},\"type\":\"carpet\"}],\"choropleth\":[{\"colorbar\":{\"outlinewidth\":0,\"ticks\":\"\"},\"type\":\"choropleth\"}],\"contour\":[{\"colorbar\":{\"outlinewidth\":0,\"ticks\":\"\"},\"colorscale\":[[0.0,\"#0d0887\"],[0.1111111111111111,\"#46039f\"],[0.2222222222222222,\"#7201a8\"],[0.3333333333333333,\"#9c179e\"],[0.4444444444444444,\"#bd3786\"],[0.5555555555555556,\"#d8576b\"],[0.6666666666666666,\"#ed7953\"],[0.7777777777777778,\"#fb9f3a\"],[0.8888888888888888,\"#fdca26\"],[1.0,\"#f0f921\"]],\"type\":\"contour\"}],\"contourcarpet\":[{\"colorbar\":{\"outlinewidth\":0,\"ticks\":\"\"},\"type\":\"contourcarpet\"}],\"heatmap\":[{\"colorbar\":{\"outlinewidth\":0,\"ticks\":\"\"},\"colorscale\":[[0.0,\"#0d0887\"],[0.1111111111111111,\"#46039f\"],[0.2222222222222222,\"#7201a8\"],[0.3333333333333333,\"#9c179e\"],[0.4444444444444444,\"#bd3786\"],[0.5555555555555556,\"#d8576b\"],[0.6666666666666666,\"#ed7953\"],[0.7777777777777778,\"#fb9f3a\"],[0.8888888888888888,\"#fdca26\"],[1.0,\"#f0f921\"]],\"type\":\"heatmap\"}],\"heatmapgl\":[{\"colorbar\":{\"outlinewidth\":0,\"ticks\":\"\"},\"colorscale\":[[0.0,\"#0d0887\"],[0.1111111111111111,\"#46039f\"],[0.2222222222222222,\"#7201a8\"],[0.3333333333333333,\"#9c179e\"],[0.4444444444444444,\"#bd3786\"],[0.5555555555555556,\"#d8576b\"],[0.6666666666666666,\"#ed7953\"],[0.7777777777777778,\"#fb9f3a\"],[0.8888888888888888,\"#fdca26\"],[1.0,\"#f0f921\"]],\"type\":\"heatmapgl\"}],\"histogram\":[{\"marker\":{\"pattern\":{\"fillmode\":\"overlay\",\"size\":10,\"solidity\":0.2}},\"type\":\"histogram\"}],\"histogram2d\":[{\"colorbar\":{\"outlinewidth\":0,\"ticks\":\"\"},\"colorscale\":[[0.0,\"#0d0887\"],[0.1111111111111111,\"#46039f\"],[0.2222222222222222,\"#7201a8\"],[0.3333333333333333,\"#9c179e\"],[0.4444444444444444,\"#bd3786\"],[0.5555555555555556,\"#d8576b\"],[0.6666666666666666,\"#ed7953\"],[0.7777777777777778,\"#fb9f3a\"],[0.8888888888888888,\"#fdca26\"],[1.0,\"#f0f921\"]],\"type\":\"histogram2d\"}],\"histogram2dcontour\":[{\"colorbar\":{\"outlinewidth\":0,\"ticks\":\"\"},\"colorscale\":[[0.0,\"#0d0887\"],[0.1111111111111111,\"#46039f\"],[0.2222222222222222,\"#7201a8\"],[0.3333333333333333,\"#9c179e\"],[0.4444444444444444,\"#bd3786\"],[0.5555555555555556,\"#d8576b\"],[0.6666666666666666,\"#ed7953\"],[0.7777777777777778,\"#fb9f3a\"],[0.8888888888888888,\"#fdca26\"],[1.0,\"#f0f921\"]],\"type\":\"histogram2dcontour\"}],\"mesh3d\":[{\"colorbar\":{\"outlinewidth\":0,\"ticks\":\"\"},\"type\":\"mesh3d\"}],\"parcoords\":[{\"line\":{\"colorbar\":{\"outlinewidth\":0,\"ticks\":\"\"}},\"type\":\"parcoords\"}],\"pie\":[{\"automargin\":true,\"type\":\"pie\"}],\"scatter\":[{\"marker\":{\"colorbar\":{\"outlinewidth\":0,\"ticks\":\"\"}},\"type\":\"scatter\"}],\"scatter3d\":[{\"line\":{\"colorbar\":{\"outlinewidth\":0,\"ticks\":\"\"}},\"marker\":{\"colorbar\":{\"outlinewidth\":0,\"ticks\":\"\"}},\"type\":\"scatter3d\"}],\"scattercarpet\":[{\"marker\":{\"colorbar\":{\"outlinewidth\":0,\"ticks\":\"\"}},\"type\":\"scattercarpet\"}],\"scattergeo\":[{\"marker\":{\"colorbar\":{\"outlinewidth\":0,\"ticks\":\"\"}},\"type\":\"scattergeo\"}],\"scattergl\":[{\"marker\":{\"colorbar\":{\"outlinewidth\":0,\"ticks\":\"\"}},\"type\":\"scattergl\"}],\"scattermapbox\":[{\"marker\":{\"colorbar\":{\"outlinewidth\":0,\"ticks\":\"\"}},\"type\":\"scattermapbox\"}],\"scatterpolar\":[{\"marker\":{\"colorbar\":{\"outlinewidth\":0,\"ticks\":\"\"}},\"type\":\"scatterpolar\"}],\"scatterpolargl\":[{\"marker\":{\"colorbar\":{\"outlinewidth\":0,\"ticks\":\"\"}},\"type\":\"scatterpolargl\"}],\"scatterternary\":[{\"marker\":{\"colorbar\":{\"outlinewidth\":0,\"ticks\":\"\"}},\"type\":\"scatterternary\"}],\"surface\":[{\"colorbar\":{\"outlinewidth\":0,\"ticks\":\"\"},\"colorscale\":[[0.0,\"#0d0887\"],[0.1111111111111111,\"#46039f\"],[0.2222222222222222,\"#7201a8\"],[0.3333333333333333,\"#9c179e\"],[0.4444444444444444,\"#bd3786\"],[0.5555555555555556,\"#d8576b\"],[0.6666666666666666,\"#ed7953\"],[0.7777777777777778,\"#fb9f3a\"],[0.8888888888888888,\"#fdca26\"],[1.0,\"#f0f921\"]],\"type\":\"surface\"}],\"table\":[{\"cells\":{\"fill\":{\"color\":\"#EBF0F8\"},\"line\":{\"color\":\"white\"}},\"header\":{\"fill\":{\"color\":\"#C8D4E3\"},\"line\":{\"color\":\"white\"}},\"type\":\"table\"}]},\"layout\":{\"annotationdefaults\":{\"arrowcolor\":\"#2a3f5f\",\"arrowhead\":0,\"arrowwidth\":1},\"autotypenumbers\":\"strict\",\"coloraxis\":{\"colorbar\":{\"outlinewidth\":0,\"ticks\":\"\"}},\"colorscale\":{\"diverging\":[[0,\"#8e0152\"],[0.1,\"#c51b7d\"],[0.2,\"#de77ae\"],[0.3,\"#f1b6da\"],[0.4,\"#fde0ef\"],[0.5,\"#f7f7f7\"],[0.6,\"#e6f5d0\"],[0.7,\"#b8e186\"],[0.8,\"#7fbc41\"],[0.9,\"#4d9221\"],[1,\"#276419\"]],\"sequential\":[[0.0,\"#0d0887\"],[0.1111111111111111,\"#46039f\"],[0.2222222222222222,\"#7201a8\"],[0.3333333333333333,\"#9c179e\"],[0.4444444444444444,\"#bd3786\"],[0.5555555555555556,\"#d8576b\"],[0.6666666666666666,\"#ed7953\"],[0.7777777777777778,\"#fb9f3a\"],[0.8888888888888888,\"#fdca26\"],[1.0,\"#f0f921\"]],\"sequentialminus\":[[0.0,\"#0d0887\"],[0.1111111111111111,\"#46039f\"],[0.2222222222222222,\"#7201a8\"],[0.3333333333333333,\"#9c179e\"],[0.4444444444444444,\"#bd3786\"],[0.5555555555555556,\"#d8576b\"],[0.6666666666666666,\"#ed7953\"],[0.7777777777777778,\"#fb9f3a\"],[0.8888888888888888,\"#fdca26\"],[1.0,\"#f0f921\"]]},\"colorway\":[\"#636efa\",\"#EF553B\",\"#00cc96\",\"#ab63fa\",\"#FFA15A\",\"#19d3f3\",\"#FF6692\",\"#B6E880\",\"#FF97FF\",\"#FECB52\"],\"font\":{\"color\":\"#2a3f5f\"},\"geo\":{\"bgcolor\":\"white\",\"lakecolor\":\"white\",\"landcolor\":\"#E5ECF6\",\"showlakes\":true,\"showland\":true,\"subunitcolor\":\"white\"},\"hoverlabel\":{\"align\":\"left\"},\"hovermode\":\"closest\",\"mapbox\":{\"style\":\"light\"},\"paper_bgcolor\":\"white\",\"plot_bgcolor\":\"#E5ECF6\",\"polar\":{\"angularaxis\":{\"gridcolor\":\"white\",\"linecolor\":\"white\",\"ticks\":\"\"},\"bgcolor\":\"#E5ECF6\",\"radialaxis\":{\"gridcolor\":\"white\",\"linecolor\":\"white\",\"ticks\":\"\"}},\"scene\":{\"xaxis\":{\"backgroundcolor\":\"#E5ECF6\",\"gridcolor\":\"white\",\"gridwidth\":2,\"linecolor\":\"white\",\"showbackground\":true,\"ticks\":\"\",\"zerolinecolor\":\"white\"},\"yaxis\":{\"backgroundcolor\":\"#E5ECF6\",\"gridcolor\":\"white\",\"gridwidth\":2,\"linecolor\":\"white\",\"showbackground\":true,\"ticks\":\"\",\"zerolinecolor\":\"white\"},\"zaxis\":{\"backgroundcolor\":\"#E5ECF6\",\"gridcolor\":\"white\",\"gridwidth\":2,\"linecolor\":\"white\",\"showbackground\":true,\"ticks\":\"\",\"zerolinecolor\":\"white\"}},\"shapedefaults\":{\"line\":{\"color\":\"#2a3f5f\"}},\"ternary\":{\"aaxis\":{\"gridcolor\":\"white\",\"linecolor\":\"white\",\"ticks\":\"\"},\"baxis\":{\"gridcolor\":\"white\",\"linecolor\":\"white\",\"ticks\":\"\"},\"bgcolor\":\"#E5ECF6\",\"caxis\":{\"gridcolor\":\"white\",\"linecolor\":\"white\",\"ticks\":\"\"}},\"title\":{\"x\":0.05},\"xaxis\":{\"automargin\":true,\"gridcolor\":\"white\",\"linecolor\":\"white\",\"ticks\":\"\",\"title\":{\"standoff\":15},\"zerolinecolor\":\"white\",\"zerolinewidth\":2},\"yaxis\":{\"automargin\":true,\"gridcolor\":\"white\",\"linecolor\":\"white\",\"ticks\":\"\",\"title\":{\"standoff\":15},\"zerolinecolor\":\"white\",\"zerolinewidth\":2}}},\"title\":{\"text\":\"Aggregated value of claim amount based on gender and segment\"}},                        {\"responsive\": true}                    ).then(function(){\n",
       "                            \n",
       "var gd = document.getElementById('ca391387-6ff7-443a-98a3-f8d1e9b76595');\n",
       "var x = new MutationObserver(function (mutations, observer) {{\n",
       "        var display = window.getComputedStyle(gd).display;\n",
       "        if (!display || display === 'none') {{\n",
       "            console.log([gd, 'removed!']);\n",
       "            Plotly.purge(gd);\n",
       "            observer.disconnect();\n",
       "        }}\n",
       "}});\n",
       "\n",
       "// Listen for the removal of the full notebook cells\n",
       "var notebookContainer = gd.closest('#notebook-container');\n",
       "if (notebookContainer) {{\n",
       "    x.observe(notebookContainer, {childList: true});\n",
       "}}\n",
       "\n",
       "// Listen for the clearing of the current output cell\n",
       "var outputEl = gd.closest('.output');\n",
       "if (outputEl) {{\n",
       "    x.observe(outputEl, {childList: true});\n",
       "}}\n",
       "\n",
       "                        })                };                });            </script>        </div>"
      ]
     },
     "metadata": {},
     "output_type": "display_data"
    }
   ],
   "source": [
    "labels = [\"Female\", \"Male\"]\n",
    "\n",
    "fig = make_subplots(rows=1, cols=3, specs=[[{\"type\": \"pie\"}, {\"type\": \"pie\"}, {\"type\": \"pie\"}]])\n",
    "\n",
    "\n",
    "fig.add_trace(go.Pie(\n",
    "     values=agg_group1.agg_claim_amt ,\n",
    "     labels=[\"Female\", \"Male\"\n",
    "             ],\n",
    "     title=\"Gold\",\n",
    "     domain=dict(x=[0, 0.5]),\n",
    "     name=\"Gold\"), \n",
    "     row=1, col=1)\n",
    "\n",
    "fig.add_trace(go.Pie(\n",
    "     values=agg_group2.agg_claim_amt ,\n",
    "     labels=[\"Female\", \"Male\"\n",
    "             ],\n",
    "     title=\"Platinum\",\n",
    "     domain=dict(x=[0.5, 1.0]),\n",
    "     name=\"Platinum\"),\n",
    "     row=1, col=2)\n",
    "\n",
    "fig.add_trace(go.Pie(\n",
    "     values=agg_group3.agg_claim_amt ,\n",
    "     labels=[\"Female\", \"Male\"\n",
    "             ],\n",
    "     title=\"Silver\",\n",
    "     domain=dict(x=[0.5, 1.0]),\n",
    "     name=\"Silver\"),\n",
    "     row=1, col=3)\n",
    "\n",
    "\n",
    "fig.update_layout(title_text=\"Aggregated value of claim amount based on gender and segment\")\n",
    "\n",
    "fig.show()"
   ]
  },
  {
   "cell_type": "markdown",
   "id": "7d9b58d5",
   "metadata": {},
   "source": [
    "### 12. Among males and females, which gender had claimed the most for any type of driver related issues? E.g. This metric can be compared using a bar chart"
   ]
  },
  {
   "cell_type": "code",
   "execution_count": 30,
   "id": "d5be62cc",
   "metadata": {
    "ExecuteTime": {
     "end_time": "2022-06-25T07:56:10.825863Z",
     "start_time": "2022-06-25T07:56:10.809085Z"
    }
   },
   "outputs": [
    {
     "data": {
      "text/html": [
       "<div>\n",
       "<style scoped>\n",
       "    .dataframe tbody tr th:only-of-type {\n",
       "        vertical-align: middle;\n",
       "    }\n",
       "\n",
       "    .dataframe tbody tr th {\n",
       "        vertical-align: top;\n",
       "    }\n",
       "\n",
       "    .dataframe thead th {\n",
       "        text-align: right;\n",
       "    }\n",
       "</style>\n",
       "<table border=\"1\" class=\"dataframe\">\n",
       "  <thead>\n",
       "    <tr style=\"text-align: right;\">\n",
       "      <th></th>\n",
       "      <th>claim_amount</th>\n",
       "      <th>gender</th>\n",
       "    </tr>\n",
       "  </thead>\n",
       "  <tbody>\n",
       "    <tr>\n",
       "      <th>0</th>\n",
       "      <td>2980.0</td>\n",
       "      <td>Female</td>\n",
       "    </tr>\n",
       "    <tr>\n",
       "      <th>2</th>\n",
       "      <td>3369.5</td>\n",
       "      <td>Female</td>\n",
       "    </tr>\n",
       "    <tr>\n",
       "      <th>3</th>\n",
       "      <td>1950.0</td>\n",
       "      <td>Female</td>\n",
       "    </tr>\n",
       "    <tr>\n",
       "      <th>8</th>\n",
       "      <td>38306.5</td>\n",
       "      <td>Male</td>\n",
       "    </tr>\n",
       "    <tr>\n",
       "      <th>9</th>\n",
       "      <td>36810.0</td>\n",
       "      <td>Male</td>\n",
       "    </tr>\n",
       "    <tr>\n",
       "      <th>...</th>\n",
       "      <td>...</td>\n",
       "      <td>...</td>\n",
       "    </tr>\n",
       "    <tr>\n",
       "      <th>1075</th>\n",
       "      <td>2780.0</td>\n",
       "      <td>Male</td>\n",
       "    </tr>\n",
       "    <tr>\n",
       "      <th>1078</th>\n",
       "      <td>2320.0</td>\n",
       "      <td>Male</td>\n",
       "    </tr>\n",
       "    <tr>\n",
       "      <th>1080</th>\n",
       "      <td>1770.0</td>\n",
       "      <td>Female</td>\n",
       "    </tr>\n",
       "    <tr>\n",
       "      <th>1082</th>\n",
       "      <td>33080.0</td>\n",
       "      <td>Male</td>\n",
       "    </tr>\n",
       "    <tr>\n",
       "      <th>1083</th>\n",
       "      <td>2840.0</td>\n",
       "      <td>Female</td>\n",
       "    </tr>\n",
       "  </tbody>\n",
       "</table>\n",
       "<p>506 rows × 2 columns</p>\n",
       "</div>"
      ],
      "text/plain": [
       "      claim_amount  gender\n",
       "0           2980.0  Female\n",
       "2           3369.5  Female\n",
       "3           1950.0  Female\n",
       "8          38306.5    Male\n",
       "9          36810.0    Male\n",
       "...            ...     ...\n",
       "1075        2780.0    Male\n",
       "1078        2320.0    Male\n",
       "1080        1770.0  Female\n",
       "1082       33080.0    Male\n",
       "1083        2840.0  Female\n",
       "\n",
       "[506 rows x 2 columns]"
      ]
     },
     "execution_count": 30,
     "metadata": {},
     "output_type": "execute_result"
    }
   ],
   "source": [
    "group_gender= group_driv.iloc[:,[7, 10]]\n",
    "group_gender"
   ]
  },
  {
   "cell_type": "code",
   "execution_count": 31,
   "id": "13555ac7",
   "metadata": {
    "ExecuteTime": {
     "end_time": "2022-06-25T07:56:20.460790Z",
     "start_time": "2022-06-25T07:56:10.827110Z"
    }
   },
   "outputs": [
    {
     "data": {
      "application/vnd.plotly.v1+json": {
       "config": {
        "plotlyServerURL": "https://plot.ly"
       },
       "data": [
        {
         "alignmentgroup": "True",
         "hovertemplate": "gender=%{x}<br>claim_amount=%{y}<extra></extra>",
         "legendgroup": "",
         "marker": {
          "color": "#636efa",
          "pattern": {
           "shape": ""
          }
         },
         "name": "",
         "offsetgroup": "",
         "orientation": "v",
         "showlegend": false,
         "textposition": "auto",
         "type": "bar",
         "x": [
          "Female",
          "Female",
          "Female",
          "Male",
          "Male",
          "Male",
          "Female",
          "Male",
          "Male",
          "Male",
          "Female",
          "Male",
          "Male",
          "Female",
          "Male",
          "Male",
          "Male",
          "Female",
          "Male",
          "Male",
          "Female",
          "Male",
          "Male",
          "Male",
          "Male",
          "Female",
          "Male",
          "Male",
          "Male",
          "Male",
          "Female",
          "Male",
          "Male",
          "Female",
          "Male",
          "Male",
          "Female",
          "Male",
          "Male",
          "Male",
          "Male",
          "Male",
          "Male",
          "Male",
          "Female",
          "Male",
          "Male",
          "Female",
          "Male",
          "Female",
          "Male",
          "Male",
          "Male",
          "Female",
          "Female",
          "Male",
          "Male",
          "Male",
          "Female",
          "Female",
          "Female",
          "Female",
          "Male",
          "Male",
          "Male",
          "Female",
          "Female",
          "Male",
          "Female",
          "Male",
          "Female",
          "Male",
          "Female",
          "Female",
          "Female",
          "Female",
          "Female",
          "Male",
          "Male",
          "Male",
          "Male",
          "Male",
          "Male",
          "Male",
          "Male",
          "Female",
          "Female",
          "Female",
          "Female",
          "Male",
          "Female",
          "Female",
          "Female",
          "Male",
          "Female",
          "Male",
          "Female",
          "Male",
          "Female",
          "Female",
          "Male",
          "Female",
          "Female",
          "Male",
          "Female",
          "Female",
          "Male",
          "Male",
          "Male",
          "Female",
          "Female",
          "Male",
          "Female",
          "Female",
          "Female",
          "Female",
          "Male",
          "Female",
          "Female",
          "Female",
          "Male",
          "Female",
          "Female",
          "Male",
          "Male",
          "Male",
          "Male",
          "Male",
          "Male",
          "Female",
          "Female",
          "Male",
          "Male",
          "Male",
          "Male",
          "Male",
          "Female",
          "Male",
          "Female",
          "Female",
          "Male",
          "Female",
          "Female",
          "Male",
          "Male",
          "Female",
          "Female",
          "Male",
          "Male",
          "Male",
          "Male",
          "Male",
          "Female",
          "Female",
          "Female",
          "Male",
          "Male",
          "Female",
          "Female",
          "Male",
          "Female",
          "Female",
          "Female",
          "Female",
          "Male",
          "Male",
          "Male",
          "Female",
          "Female",
          "Male",
          "Female",
          "Female",
          "Female",
          "Male",
          "Male",
          "Female",
          "Female",
          "Female",
          "Male",
          "Male",
          "Female",
          "Male",
          "Female",
          "Male",
          "Male",
          "Male",
          "Female",
          "Male",
          "Male",
          "Female",
          "Female",
          "Male",
          "Male",
          "Female",
          "Female",
          "Male",
          "Male",
          "Female",
          "Female",
          "Female",
          "Female",
          "Male",
          "Male",
          "Male",
          "Male",
          "Female",
          "Male",
          "Female",
          "Female",
          "Female",
          "Female",
          "Male",
          "Female",
          "Female",
          "Female",
          "Male",
          "Male",
          "Female",
          "Female",
          "Male",
          "Male",
          "Male",
          "Female",
          "Male",
          "Female",
          "Female",
          "Female",
          "Female",
          "Male",
          "Male",
          "Male",
          "Male",
          "Male",
          "Male",
          "Male",
          "Male",
          "Male",
          "Female",
          "Female",
          "Male",
          "Male",
          "Female",
          "Female",
          "Male",
          "Female",
          "Male",
          "Female",
          "Male",
          "Female",
          "Male",
          "Male",
          "Male",
          "Female",
          "Male",
          "Male",
          "Female",
          "Female",
          "Male",
          "Male",
          "Male",
          "Female",
          "Male",
          "Female",
          "Male",
          "Female",
          "Male",
          "Male",
          "Female",
          "Male",
          "Female",
          "Male",
          "Male",
          "Male",
          "Female",
          "Male",
          "Male",
          "Male",
          "Female",
          "Female",
          "Female",
          "Female",
          "Male",
          "Female",
          "Male",
          "Male",
          "Female",
          "Male",
          "Male",
          "Female",
          "Male",
          "Male",
          "Male",
          "Male",
          "Male",
          "Male",
          "Female",
          "Male",
          "Male",
          "Male",
          "Female",
          "Male",
          "Female",
          "Male",
          "Male",
          "Male",
          "Male",
          "Male",
          "Female",
          "Female",
          "Male",
          "Female",
          "Male",
          "Male",
          "Female",
          "Male",
          "Male",
          "Female",
          "Female",
          "Male",
          "Male",
          "Male",
          "Female",
          "Female",
          "Male",
          "Female",
          "Female",
          "Female",
          "Male",
          "Male",
          "Male",
          "Female",
          "Male",
          "Female",
          "Female",
          "Male",
          "Male",
          "Male",
          "Female",
          "Male",
          "Male",
          "Male",
          "Female",
          "Female",
          "Female",
          "Male",
          "Female",
          "Male",
          "Female",
          "Male",
          "Male",
          "Female",
          "Female",
          "Male",
          "Male",
          "Male",
          "Male",
          "Female",
          "Female",
          "Male",
          "Male",
          "Female",
          "Female",
          "Male",
          "Female",
          "Male",
          "Male",
          "Male",
          "Male",
          "Male",
          "Male",
          "Male",
          "Female",
          "Female",
          "Female",
          "Male",
          "Male",
          "Female",
          "Female",
          "Male",
          "Male",
          "Female",
          "Female",
          "Male",
          "Male",
          "Male",
          "Female",
          "Female",
          "Male",
          "Female",
          "Female",
          "Female",
          "Male",
          "Male",
          "Female",
          "Female",
          "Female",
          "Male",
          "Male",
          "Female",
          "Male",
          "Male",
          "Female",
          "Female",
          "Male",
          "Male",
          "Female",
          "Female",
          "Female",
          "Female",
          "Female",
          "Female",
          "Male",
          "Male",
          "Male",
          "Female",
          "Female",
          "Male",
          "Male",
          "Female",
          "Male",
          "Male",
          "Female",
          "Male",
          "Male",
          "Female",
          "Male",
          "Female",
          "Female",
          "Female",
          "Male",
          "Male",
          "Male",
          "Female",
          "Female",
          "Male",
          "Male",
          "Male",
          "Female",
          "Male",
          "Male",
          "Male",
          "Female",
          "Female",
          "Male",
          "Female",
          "Male",
          "Male",
          "Male",
          "Female",
          "Female",
          "Male",
          "Male",
          "Female",
          "Male",
          "Male",
          "Male",
          "Male",
          "Male",
          "Female",
          "Female",
          "Female",
          "Female",
          "Female",
          "Male",
          "Male",
          "Male",
          "Male",
          "Male",
          "Male",
          "Male",
          "Male",
          "Male",
          "Male",
          "Male",
          "Male",
          "Female",
          "Male",
          "Male",
          "Female",
          "Male",
          "Female",
          "Female",
          "Male",
          "Male",
          "Female",
          "Female",
          "Female",
          "Female",
          "Female",
          "Female",
          "Male",
          "Female",
          "Male",
          "Male",
          "Female",
          "Male",
          "Female",
          "Male",
          "Male",
          "Male",
          "Male",
          "Male",
          "Male",
          "Female",
          "Male",
          "Female"
         ],
         "xaxis": "x",
         "y": [
          2980,
          3369.5,
          1950,
          38306.5,
          36810,
          1730,
          1495,
          16690,
          1870,
          1050,
          32560,
          3208.5,
          1010,
          16830,
          1690,
          32640,
          2870,
          1210,
          2630,
          2320,
          2725.5,
          1110,
          16910,
          33040,
          2340,
          33000,
          19960,
          27230,
          16150,
          32630,
          1150,
          35765,
          2470,
          3358,
          1730,
          20360,
          2870,
          2910,
          33190,
          12467.68137254902,
          1989.5,
          30080,
          1680,
          21505,
          12467.68137254902,
          42722.5,
          1288,
          37800,
          12467.68137254902,
          1180,
          32480,
          1943.5,
          12467.68137254902,
          2170,
          1400,
          12467.68137254902,
          37524.5,
          16070,
          2599,
          23740,
          2740,
          23760,
          23270,
          29060,
          36620,
          44493.5,
          2560,
          1759.5,
          17360,
          1368.5,
          14260,
          15440,
          2510,
          44700.5,
          1550,
          2760,
          2740,
          26480,
          2170,
          17590,
          2970,
          12467.68137254902,
          17180,
          2720,
          2700,
          2560,
          2960,
          12467.68137254902,
          25030,
          36180,
          30930,
          47679,
          2440,
          28060,
          24750,
          2320,
          12467.68137254902,
          29600,
          30530,
          3139.5,
          2470,
          17290,
          1570,
          14330,
          2530,
          15240,
          15920,
          2710,
          1180,
          1630,
          20660,
          1400,
          30350,
          21830,
          31980,
          35830,
          2600,
          2980,
          26310,
          37400,
          2320,
          27610,
          22100,
          1590,
          2920,
          18308,
          1600,
          39307,
          1510,
          1030,
          39280,
          34300,
          1529.5,
          2460,
          2790,
          27266.5,
          16790,
          1529.5,
          12467.68137254902,
          2691,
          3128,
          3036,
          1200,
          29960,
          1970,
          2640,
          21330,
          1817,
          17670,
          1110,
          1460,
          1850,
          1520,
          28740,
          1040,
          1550,
          1740,
          2240,
          2440,
          2656.5,
          19390,
          2730,
          2886.5,
          12467.68137254902,
          1932,
          41280,
          26520,
          14480,
          20550,
          20310,
          32960,
          2750,
          1380,
          2450,
          2450,
          12467.68137254902,
          32150,
          28950,
          33200,
          45287,
          28050,
          2277,
          2840,
          2130,
          2810,
          1140,
          19640,
          14170,
          29900,
          2900,
          35800,
          2130,
          34590,
          2370,
          26130,
          23370,
          30420,
          2750,
          12467.68137254902,
          1110,
          36075.5,
          22440,
          21620,
          24610,
          2967,
          1780,
          29630,
          25010,
          12467.68137254902,
          1909,
          39280,
          21447.5,
          22000,
          1860,
          12467.68137254902,
          1170,
          1630,
          2060,
          1276.5,
          12467.68137254902,
          1630,
          40210,
          1630,
          16880,
          2323,
          19820,
          20630,
          1510,
          12467.68137254902,
          2940,
          41320,
          3231.5,
          35800,
          17250,
          2090,
          12467.68137254902,
          2820,
          2320,
          2320,
          31450,
          13710,
          2600,
          25730,
          2950,
          37170,
          2070,
          16040,
          27310,
          27910,
          25950,
          30340,
          2710,
          35250,
          38890,
          22570,
          2081.5,
          2550,
          2590,
          1644.5,
          1863,
          24667.5,
          2288.5,
          1810,
          30015,
          1300,
          40880,
          1550,
          20033,
          1670,
          19297,
          14720,
          16760,
          2440,
          40170,
          36350,
          29530,
          2470,
          34160,
          1430,
          1480,
          2960,
          1280,
          44666,
          19320,
          2430,
          24380,
          2370,
          14570,
          1700,
          19120,
          47748,
          27830,
          2340,
          22011,
          2540,
          1600,
          1460,
          1790,
          1040,
          29480,
          34950,
          2980,
          2380,
          14430,
          2130,
          2510,
          25040,
          2130,
          2720,
          38065,
          26440,
          1320,
          34470,
          1060,
          23940,
          35910,
          36170,
          1265,
          16380,
          23430,
          2270,
          21920,
          1472,
          2340,
          1500,
          1590,
          30500,
          32040,
          29428.5,
          2047,
          12467.68137254902,
          21940,
          1240,
          35480,
          12467.68137254902,
          2830,
          1630,
          1860,
          39928,
          2520,
          2400,
          1610,
          12467.68137254902,
          1368.5,
          33730,
          1890,
          39997,
          2120,
          12467.68137254902,
          22130,
          33640,
          19100,
          1840,
          12467.68137254902,
          1120,
          18650,
          3415.5,
          19400,
          2310,
          12467.68137254902,
          12467.68137254902,
          33522.5,
          33752.5,
          1070,
          13820,
          1640,
          2550,
          2580,
          20380,
          24050,
          17951.5,
          2130,
          37520,
          2480,
          1170,
          1880,
          48150.5,
          25093,
          1380,
          14480,
          2700,
          26610,
          2500,
          18135.5,
          18963.5,
          2940,
          36440,
          1184.5,
          1600,
          1748,
          2460,
          29530,
          1667.5,
          1587,
          2550,
          31020,
          2150,
          34200,
          1300,
          12467.68137254902,
          34530,
          26890,
          28040,
          1230,
          19750,
          2010,
          1630,
          20490,
          16479.5,
          12467.68137254902,
          2100,
          2110,
          1900,
          36500,
          36860,
          2360,
          30340,
          30400,
          29740,
          1680,
          1207.5,
          22540,
          31740,
          44470.5,
          27330,
          26250,
          14690,
          15270,
          37400,
          3323.5,
          2668,
          21160,
          32867,
          2930,
          1690,
          33620,
          2415,
          1970,
          1200,
          12467.68137254902,
          1830,
          18457.5,
          30670,
          40135,
          29200,
          42021,
          2200,
          2196.5,
          35310,
          3151,
          35280,
          2260,
          1610,
          2070,
          22440,
          1552.5,
          3093.5,
          20458.5,
          2360,
          1610,
          25210,
          40951.5,
          1470,
          2490,
          29220,
          2900,
          33360,
          1000,
          12467.68137254902,
          2990,
          2852,
          1370,
          1370,
          1720,
          28760,
          1180,
          3346.5,
          1750,
          48035.5,
          1240,
          2800,
          1780,
          12467.68137254902,
          1330,
          1780,
          1276.5,
          28520,
          17870,
          2380,
          2852,
          2270,
          19895,
          12467.68137254902,
          30890,
          2242.5,
          25140,
          37743,
          44033.5,
          2670,
          2730,
          33330,
          2780,
          2320,
          1770,
          33080,
          2840
         ],
         "yaxis": "y"
        }
       ],
       "layout": {
        "barmode": "group",
        "height": 400,
        "legend": {
         "tracegroupgap": 0
        },
        "margin": {
         "t": 60
        },
        "template": {
         "data": {
          "bar": [
           {
            "error_x": {
             "color": "#2a3f5f"
            },
            "error_y": {
             "color": "#2a3f5f"
            },
            "marker": {
             "line": {
              "color": "#E5ECF6",
              "width": 0.5
             },
             "pattern": {
              "fillmode": "overlay",
              "size": 10,
              "solidity": 0.2
             }
            },
            "type": "bar"
           }
          ],
          "barpolar": [
           {
            "marker": {
             "line": {
              "color": "#E5ECF6",
              "width": 0.5
             },
             "pattern": {
              "fillmode": "overlay",
              "size": 10,
              "solidity": 0.2
             }
            },
            "type": "barpolar"
           }
          ],
          "carpet": [
           {
            "aaxis": {
             "endlinecolor": "#2a3f5f",
             "gridcolor": "white",
             "linecolor": "white",
             "minorgridcolor": "white",
             "startlinecolor": "#2a3f5f"
            },
            "baxis": {
             "endlinecolor": "#2a3f5f",
             "gridcolor": "white",
             "linecolor": "white",
             "minorgridcolor": "white",
             "startlinecolor": "#2a3f5f"
            },
            "type": "carpet"
           }
          ],
          "choropleth": [
           {
            "colorbar": {
             "outlinewidth": 0,
             "ticks": ""
            },
            "type": "choropleth"
           }
          ],
          "contour": [
           {
            "colorbar": {
             "outlinewidth": 0,
             "ticks": ""
            },
            "colorscale": [
             [
              0,
              "#0d0887"
             ],
             [
              0.1111111111111111,
              "#46039f"
             ],
             [
              0.2222222222222222,
              "#7201a8"
             ],
             [
              0.3333333333333333,
              "#9c179e"
             ],
             [
              0.4444444444444444,
              "#bd3786"
             ],
             [
              0.5555555555555556,
              "#d8576b"
             ],
             [
              0.6666666666666666,
              "#ed7953"
             ],
             [
              0.7777777777777778,
              "#fb9f3a"
             ],
             [
              0.8888888888888888,
              "#fdca26"
             ],
             [
              1,
              "#f0f921"
             ]
            ],
            "type": "contour"
           }
          ],
          "contourcarpet": [
           {
            "colorbar": {
             "outlinewidth": 0,
             "ticks": ""
            },
            "type": "contourcarpet"
           }
          ],
          "heatmap": [
           {
            "colorbar": {
             "outlinewidth": 0,
             "ticks": ""
            },
            "colorscale": [
             [
              0,
              "#0d0887"
             ],
             [
              0.1111111111111111,
              "#46039f"
             ],
             [
              0.2222222222222222,
              "#7201a8"
             ],
             [
              0.3333333333333333,
              "#9c179e"
             ],
             [
              0.4444444444444444,
              "#bd3786"
             ],
             [
              0.5555555555555556,
              "#d8576b"
             ],
             [
              0.6666666666666666,
              "#ed7953"
             ],
             [
              0.7777777777777778,
              "#fb9f3a"
             ],
             [
              0.8888888888888888,
              "#fdca26"
             ],
             [
              1,
              "#f0f921"
             ]
            ],
            "type": "heatmap"
           }
          ],
          "heatmapgl": [
           {
            "colorbar": {
             "outlinewidth": 0,
             "ticks": ""
            },
            "colorscale": [
             [
              0,
              "#0d0887"
             ],
             [
              0.1111111111111111,
              "#46039f"
             ],
             [
              0.2222222222222222,
              "#7201a8"
             ],
             [
              0.3333333333333333,
              "#9c179e"
             ],
             [
              0.4444444444444444,
              "#bd3786"
             ],
             [
              0.5555555555555556,
              "#d8576b"
             ],
             [
              0.6666666666666666,
              "#ed7953"
             ],
             [
              0.7777777777777778,
              "#fb9f3a"
             ],
             [
              0.8888888888888888,
              "#fdca26"
             ],
             [
              1,
              "#f0f921"
             ]
            ],
            "type": "heatmapgl"
           }
          ],
          "histogram": [
           {
            "marker": {
             "pattern": {
              "fillmode": "overlay",
              "size": 10,
              "solidity": 0.2
             }
            },
            "type": "histogram"
           }
          ],
          "histogram2d": [
           {
            "colorbar": {
             "outlinewidth": 0,
             "ticks": ""
            },
            "colorscale": [
             [
              0,
              "#0d0887"
             ],
             [
              0.1111111111111111,
              "#46039f"
             ],
             [
              0.2222222222222222,
              "#7201a8"
             ],
             [
              0.3333333333333333,
              "#9c179e"
             ],
             [
              0.4444444444444444,
              "#bd3786"
             ],
             [
              0.5555555555555556,
              "#d8576b"
             ],
             [
              0.6666666666666666,
              "#ed7953"
             ],
             [
              0.7777777777777778,
              "#fb9f3a"
             ],
             [
              0.8888888888888888,
              "#fdca26"
             ],
             [
              1,
              "#f0f921"
             ]
            ],
            "type": "histogram2d"
           }
          ],
          "histogram2dcontour": [
           {
            "colorbar": {
             "outlinewidth": 0,
             "ticks": ""
            },
            "colorscale": [
             [
              0,
              "#0d0887"
             ],
             [
              0.1111111111111111,
              "#46039f"
             ],
             [
              0.2222222222222222,
              "#7201a8"
             ],
             [
              0.3333333333333333,
              "#9c179e"
             ],
             [
              0.4444444444444444,
              "#bd3786"
             ],
             [
              0.5555555555555556,
              "#d8576b"
             ],
             [
              0.6666666666666666,
              "#ed7953"
             ],
             [
              0.7777777777777778,
              "#fb9f3a"
             ],
             [
              0.8888888888888888,
              "#fdca26"
             ],
             [
              1,
              "#f0f921"
             ]
            ],
            "type": "histogram2dcontour"
           }
          ],
          "mesh3d": [
           {
            "colorbar": {
             "outlinewidth": 0,
             "ticks": ""
            },
            "type": "mesh3d"
           }
          ],
          "parcoords": [
           {
            "line": {
             "colorbar": {
              "outlinewidth": 0,
              "ticks": ""
             }
            },
            "type": "parcoords"
           }
          ],
          "pie": [
           {
            "automargin": true,
            "type": "pie"
           }
          ],
          "scatter": [
           {
            "marker": {
             "colorbar": {
              "outlinewidth": 0,
              "ticks": ""
             }
            },
            "type": "scatter"
           }
          ],
          "scatter3d": [
           {
            "line": {
             "colorbar": {
              "outlinewidth": 0,
              "ticks": ""
             }
            },
            "marker": {
             "colorbar": {
              "outlinewidth": 0,
              "ticks": ""
             }
            },
            "type": "scatter3d"
           }
          ],
          "scattercarpet": [
           {
            "marker": {
             "colorbar": {
              "outlinewidth": 0,
              "ticks": ""
             }
            },
            "type": "scattercarpet"
           }
          ],
          "scattergeo": [
           {
            "marker": {
             "colorbar": {
              "outlinewidth": 0,
              "ticks": ""
             }
            },
            "type": "scattergeo"
           }
          ],
          "scattergl": [
           {
            "marker": {
             "colorbar": {
              "outlinewidth": 0,
              "ticks": ""
             }
            },
            "type": "scattergl"
           }
          ],
          "scattermapbox": [
           {
            "marker": {
             "colorbar": {
              "outlinewidth": 0,
              "ticks": ""
             }
            },
            "type": "scattermapbox"
           }
          ],
          "scatterpolar": [
           {
            "marker": {
             "colorbar": {
              "outlinewidth": 0,
              "ticks": ""
             }
            },
            "type": "scatterpolar"
           }
          ],
          "scatterpolargl": [
           {
            "marker": {
             "colorbar": {
              "outlinewidth": 0,
              "ticks": ""
             }
            },
            "type": "scatterpolargl"
           }
          ],
          "scatterternary": [
           {
            "marker": {
             "colorbar": {
              "outlinewidth": 0,
              "ticks": ""
             }
            },
            "type": "scatterternary"
           }
          ],
          "surface": [
           {
            "colorbar": {
             "outlinewidth": 0,
             "ticks": ""
            },
            "colorscale": [
             [
              0,
              "#0d0887"
             ],
             [
              0.1111111111111111,
              "#46039f"
             ],
             [
              0.2222222222222222,
              "#7201a8"
             ],
             [
              0.3333333333333333,
              "#9c179e"
             ],
             [
              0.4444444444444444,
              "#bd3786"
             ],
             [
              0.5555555555555556,
              "#d8576b"
             ],
             [
              0.6666666666666666,
              "#ed7953"
             ],
             [
              0.7777777777777778,
              "#fb9f3a"
             ],
             [
              0.8888888888888888,
              "#fdca26"
             ],
             [
              1,
              "#f0f921"
             ]
            ],
            "type": "surface"
           }
          ],
          "table": [
           {
            "cells": {
             "fill": {
              "color": "#EBF0F8"
             },
             "line": {
              "color": "white"
             }
            },
            "header": {
             "fill": {
              "color": "#C8D4E3"
             },
             "line": {
              "color": "white"
             }
            },
            "type": "table"
           }
          ]
         },
         "layout": {
          "annotationdefaults": {
           "arrowcolor": "#2a3f5f",
           "arrowhead": 0,
           "arrowwidth": 1
          },
          "autotypenumbers": "strict",
          "coloraxis": {
           "colorbar": {
            "outlinewidth": 0,
            "ticks": ""
           }
          },
          "colorscale": {
           "diverging": [
            [
             0,
             "#8e0152"
            ],
            [
             0.1,
             "#c51b7d"
            ],
            [
             0.2,
             "#de77ae"
            ],
            [
             0.3,
             "#f1b6da"
            ],
            [
             0.4,
             "#fde0ef"
            ],
            [
             0.5,
             "#f7f7f7"
            ],
            [
             0.6,
             "#e6f5d0"
            ],
            [
             0.7,
             "#b8e186"
            ],
            [
             0.8,
             "#7fbc41"
            ],
            [
             0.9,
             "#4d9221"
            ],
            [
             1,
             "#276419"
            ]
           ],
           "sequential": [
            [
             0,
             "#0d0887"
            ],
            [
             0.1111111111111111,
             "#46039f"
            ],
            [
             0.2222222222222222,
             "#7201a8"
            ],
            [
             0.3333333333333333,
             "#9c179e"
            ],
            [
             0.4444444444444444,
             "#bd3786"
            ],
            [
             0.5555555555555556,
             "#d8576b"
            ],
            [
             0.6666666666666666,
             "#ed7953"
            ],
            [
             0.7777777777777778,
             "#fb9f3a"
            ],
            [
             0.8888888888888888,
             "#fdca26"
            ],
            [
             1,
             "#f0f921"
            ]
           ],
           "sequentialminus": [
            [
             0,
             "#0d0887"
            ],
            [
             0.1111111111111111,
             "#46039f"
            ],
            [
             0.2222222222222222,
             "#7201a8"
            ],
            [
             0.3333333333333333,
             "#9c179e"
            ],
            [
             0.4444444444444444,
             "#bd3786"
            ],
            [
             0.5555555555555556,
             "#d8576b"
            ],
            [
             0.6666666666666666,
             "#ed7953"
            ],
            [
             0.7777777777777778,
             "#fb9f3a"
            ],
            [
             0.8888888888888888,
             "#fdca26"
            ],
            [
             1,
             "#f0f921"
            ]
           ]
          },
          "colorway": [
           "#636efa",
           "#EF553B",
           "#00cc96",
           "#ab63fa",
           "#FFA15A",
           "#19d3f3",
           "#FF6692",
           "#B6E880",
           "#FF97FF",
           "#FECB52"
          ],
          "font": {
           "color": "#2a3f5f"
          },
          "geo": {
           "bgcolor": "white",
           "lakecolor": "white",
           "landcolor": "#E5ECF6",
           "showlakes": true,
           "showland": true,
           "subunitcolor": "white"
          },
          "hoverlabel": {
           "align": "left"
          },
          "hovermode": "closest",
          "mapbox": {
           "style": "light"
          },
          "paper_bgcolor": "white",
          "plot_bgcolor": "#E5ECF6",
          "polar": {
           "angularaxis": {
            "gridcolor": "white",
            "linecolor": "white",
            "ticks": ""
           },
           "bgcolor": "#E5ECF6",
           "radialaxis": {
            "gridcolor": "white",
            "linecolor": "white",
            "ticks": ""
           }
          },
          "scene": {
           "xaxis": {
            "backgroundcolor": "#E5ECF6",
            "gridcolor": "white",
            "gridwidth": 2,
            "linecolor": "white",
            "showbackground": true,
            "ticks": "",
            "zerolinecolor": "white"
           },
           "yaxis": {
            "backgroundcolor": "#E5ECF6",
            "gridcolor": "white",
            "gridwidth": 2,
            "linecolor": "white",
            "showbackground": true,
            "ticks": "",
            "zerolinecolor": "white"
           },
           "zaxis": {
            "backgroundcolor": "#E5ECF6",
            "gridcolor": "white",
            "gridwidth": 2,
            "linecolor": "white",
            "showbackground": true,
            "ticks": "",
            "zerolinecolor": "white"
           }
          },
          "shapedefaults": {
           "line": {
            "color": "#2a3f5f"
           }
          },
          "ternary": {
           "aaxis": {
            "gridcolor": "white",
            "linecolor": "white",
            "ticks": ""
           },
           "baxis": {
            "gridcolor": "white",
            "linecolor": "white",
            "ticks": ""
           },
           "bgcolor": "#E5ECF6",
           "caxis": {
            "gridcolor": "white",
            "linecolor": "white",
            "ticks": ""
           }
          },
          "title": {
           "x": 0.05
          },
          "xaxis": {
           "automargin": true,
           "gridcolor": "white",
           "linecolor": "white",
           "ticks": "",
           "title": {
            "standoff": 15
           },
           "zerolinecolor": "white",
           "zerolinewidth": 2
          },
          "yaxis": {
           "automargin": true,
           "gridcolor": "white",
           "linecolor": "white",
           "ticks": "",
           "title": {
            "standoff": 15
           },
           "zerolinecolor": "white",
           "zerolinewidth": 2
          }
         }
        },
        "xaxis": {
         "anchor": "y",
         "domain": [
          0,
          1
         ],
         "title": {
          "text": "gender"
         }
        },
        "yaxis": {
         "anchor": "x",
         "domain": [
          0,
          1
         ],
         "title": {
          "text": "claim_amount"
         }
        }
       }
      },
      "text/html": [
       "<div>                            <div id=\"d40e534f-58bb-44c4-b3fa-65de436b62a1\" class=\"plotly-graph-div\" style=\"height:400px; width:100%;\"></div>            <script type=\"text/javascript\">                require([\"plotly\"], function(Plotly) {                    window.PLOTLYENV=window.PLOTLYENV || {};                                    if (document.getElementById(\"d40e534f-58bb-44c4-b3fa-65de436b62a1\")) {                    Plotly.newPlot(                        \"d40e534f-58bb-44c4-b3fa-65de436b62a1\",                        [{\"alignmentgroup\":\"True\",\"hovertemplate\":\"gender=%{x}<br>claim_amount=%{y}<extra></extra>\",\"legendgroup\":\"\",\"marker\":{\"color\":\"#636efa\",\"pattern\":{\"shape\":\"\"}},\"name\":\"\",\"offsetgroup\":\"\",\"orientation\":\"v\",\"showlegend\":false,\"textposition\":\"auto\",\"x\":[\"Female\",\"Female\",\"Female\",\"Male\",\"Male\",\"Male\",\"Female\",\"Male\",\"Male\",\"Male\",\"Female\",\"Male\",\"Male\",\"Female\",\"Male\",\"Male\",\"Male\",\"Female\",\"Male\",\"Male\",\"Female\",\"Male\",\"Male\",\"Male\",\"Male\",\"Female\",\"Male\",\"Male\",\"Male\",\"Male\",\"Female\",\"Male\",\"Male\",\"Female\",\"Male\",\"Male\",\"Female\",\"Male\",\"Male\",\"Male\",\"Male\",\"Male\",\"Male\",\"Male\",\"Female\",\"Male\",\"Male\",\"Female\",\"Male\",\"Female\",\"Male\",\"Male\",\"Male\",\"Female\",\"Female\",\"Male\",\"Male\",\"Male\",\"Female\",\"Female\",\"Female\",\"Female\",\"Male\",\"Male\",\"Male\",\"Female\",\"Female\",\"Male\",\"Female\",\"Male\",\"Female\",\"Male\",\"Female\",\"Female\",\"Female\",\"Female\",\"Female\",\"Male\",\"Male\",\"Male\",\"Male\",\"Male\",\"Male\",\"Male\",\"Male\",\"Female\",\"Female\",\"Female\",\"Female\",\"Male\",\"Female\",\"Female\",\"Female\",\"Male\",\"Female\",\"Male\",\"Female\",\"Male\",\"Female\",\"Female\",\"Male\",\"Female\",\"Female\",\"Male\",\"Female\",\"Female\",\"Male\",\"Male\",\"Male\",\"Female\",\"Female\",\"Male\",\"Female\",\"Female\",\"Female\",\"Female\",\"Male\",\"Female\",\"Female\",\"Female\",\"Male\",\"Female\",\"Female\",\"Male\",\"Male\",\"Male\",\"Male\",\"Male\",\"Male\",\"Female\",\"Female\",\"Male\",\"Male\",\"Male\",\"Male\",\"Male\",\"Female\",\"Male\",\"Female\",\"Female\",\"Male\",\"Female\",\"Female\",\"Male\",\"Male\",\"Female\",\"Female\",\"Male\",\"Male\",\"Male\",\"Male\",\"Male\",\"Female\",\"Female\",\"Female\",\"Male\",\"Male\",\"Female\",\"Female\",\"Male\",\"Female\",\"Female\",\"Female\",\"Female\",\"Male\",\"Male\",\"Male\",\"Female\",\"Female\",\"Male\",\"Female\",\"Female\",\"Female\",\"Male\",\"Male\",\"Female\",\"Female\",\"Female\",\"Male\",\"Male\",\"Female\",\"Male\",\"Female\",\"Male\",\"Male\",\"Male\",\"Female\",\"Male\",\"Male\",\"Female\",\"Female\",\"Male\",\"Male\",\"Female\",\"Female\",\"Male\",\"Male\",\"Female\",\"Female\",\"Female\",\"Female\",\"Male\",\"Male\",\"Male\",\"Male\",\"Female\",\"Male\",\"Female\",\"Female\",\"Female\",\"Female\",\"Male\",\"Female\",\"Female\",\"Female\",\"Male\",\"Male\",\"Female\",\"Female\",\"Male\",\"Male\",\"Male\",\"Female\",\"Male\",\"Female\",\"Female\",\"Female\",\"Female\",\"Male\",\"Male\",\"Male\",\"Male\",\"Male\",\"Male\",\"Male\",\"Male\",\"Male\",\"Female\",\"Female\",\"Male\",\"Male\",\"Female\",\"Female\",\"Male\",\"Female\",\"Male\",\"Female\",\"Male\",\"Female\",\"Male\",\"Male\",\"Male\",\"Female\",\"Male\",\"Male\",\"Female\",\"Female\",\"Male\",\"Male\",\"Male\",\"Female\",\"Male\",\"Female\",\"Male\",\"Female\",\"Male\",\"Male\",\"Female\",\"Male\",\"Female\",\"Male\",\"Male\",\"Male\",\"Female\",\"Male\",\"Male\",\"Male\",\"Female\",\"Female\",\"Female\",\"Female\",\"Male\",\"Female\",\"Male\",\"Male\",\"Female\",\"Male\",\"Male\",\"Female\",\"Male\",\"Male\",\"Male\",\"Male\",\"Male\",\"Male\",\"Female\",\"Male\",\"Male\",\"Male\",\"Female\",\"Male\",\"Female\",\"Male\",\"Male\",\"Male\",\"Male\",\"Male\",\"Female\",\"Female\",\"Male\",\"Female\",\"Male\",\"Male\",\"Female\",\"Male\",\"Male\",\"Female\",\"Female\",\"Male\",\"Male\",\"Male\",\"Female\",\"Female\",\"Male\",\"Female\",\"Female\",\"Female\",\"Male\",\"Male\",\"Male\",\"Female\",\"Male\",\"Female\",\"Female\",\"Male\",\"Male\",\"Male\",\"Female\",\"Male\",\"Male\",\"Male\",\"Female\",\"Female\",\"Female\",\"Male\",\"Female\",\"Male\",\"Female\",\"Male\",\"Male\",\"Female\",\"Female\",\"Male\",\"Male\",\"Male\",\"Male\",\"Female\",\"Female\",\"Male\",\"Male\",\"Female\",\"Female\",\"Male\",\"Female\",\"Male\",\"Male\",\"Male\",\"Male\",\"Male\",\"Male\",\"Male\",\"Female\",\"Female\",\"Female\",\"Male\",\"Male\",\"Female\",\"Female\",\"Male\",\"Male\",\"Female\",\"Female\",\"Male\",\"Male\",\"Male\",\"Female\",\"Female\",\"Male\",\"Female\",\"Female\",\"Female\",\"Male\",\"Male\",\"Female\",\"Female\",\"Female\",\"Male\",\"Male\",\"Female\",\"Male\",\"Male\",\"Female\",\"Female\",\"Male\",\"Male\",\"Female\",\"Female\",\"Female\",\"Female\",\"Female\",\"Female\",\"Male\",\"Male\",\"Male\",\"Female\",\"Female\",\"Male\",\"Male\",\"Female\",\"Male\",\"Male\",\"Female\",\"Male\",\"Male\",\"Female\",\"Male\",\"Female\",\"Female\",\"Female\",\"Male\",\"Male\",\"Male\",\"Female\",\"Female\",\"Male\",\"Male\",\"Male\",\"Female\",\"Male\",\"Male\",\"Male\",\"Female\",\"Female\",\"Male\",\"Female\",\"Male\",\"Male\",\"Male\",\"Female\",\"Female\",\"Male\",\"Male\",\"Female\",\"Male\",\"Male\",\"Male\",\"Male\",\"Male\",\"Female\",\"Female\",\"Female\",\"Female\",\"Female\",\"Male\",\"Male\",\"Male\",\"Male\",\"Male\",\"Male\",\"Male\",\"Male\",\"Male\",\"Male\",\"Male\",\"Male\",\"Female\",\"Male\",\"Male\",\"Female\",\"Male\",\"Female\",\"Female\",\"Male\",\"Male\",\"Female\",\"Female\",\"Female\",\"Female\",\"Female\",\"Female\",\"Male\",\"Female\",\"Male\",\"Male\",\"Female\",\"Male\",\"Female\",\"Male\",\"Male\",\"Male\",\"Male\",\"Male\",\"Male\",\"Female\",\"Male\",\"Female\"],\"xaxis\":\"x\",\"y\":[2980.0,3369.5,1950.0,38306.5,36810.0,1730.0,1495.0,16690.0,1870.0,1050.0,32560.0,3208.5,1010.0,16830.0,1690.0,32640.0,2870.0,1210.0,2630.0,2320.0,2725.5,1110.0,16910.0,33040.0,2340.0,33000.0,19960.0,27230.0,16150.0,32630.0,1150.0,35765.0,2470.0,3358.0,1730.0,20360.0,2870.0,2910.0,33190.0,12467.68137254902,1989.5,30080.0,1680.0,21505.0,12467.68137254902,42722.5,1288.0,37800.0,12467.68137254902,1180.0,32480.0,1943.5,12467.68137254902,2170.0,1400.0,12467.68137254902,37524.5,16070.0,2599.0,23740.0,2740.0,23760.0,23270.0,29060.0,36620.0,44493.5,2560.0,1759.5,17360.0,1368.5,14260.0,15440.0,2510.0,44700.5,1550.0,2760.0,2740.0,26480.0,2170.0,17590.0,2970.0,12467.68137254902,17180.0,2720.0,2700.0,2560.0,2960.0,12467.68137254902,25030.0,36180.0,30930.0,47679.0,2440.0,28060.0,24750.0,2320.0,12467.68137254902,29600.0,30530.0,3139.5,2470.0,17290.0,1570.0,14330.0,2530.0,15240.0,15920.0,2710.0,1180.0,1630.0,20660.0,1400.0,30350.0,21830.0,31980.0,35830.0,2600.0,2980.0,26310.0,37400.0,2320.0,27610.0,22100.0,1590.0,2920.0,18308.0,1600.0,39307.0,1510.0,1030.0,39280.0,34300.0,1529.5,2460.0,2790.0,27266.5,16790.0,1529.5,12467.68137254902,2691.0,3128.0,3036.0,1200.0,29960.0,1970.0,2640.0,21330.0,1817.0,17670.0,1110.0,1460.0,1850.0,1520.0,28740.0,1040.0,1550.0,1740.0,2240.0,2440.0,2656.5,19390.0,2730.0,2886.5,12467.68137254902,1932.0,41280.0,26520.0,14480.0,20550.0,20310.0,32960.0,2750.0,1380.0,2450.0,2450.0,12467.68137254902,32150.0,28950.0,33200.0,45287.0,28050.0,2277.0,2840.0,2130.0,2810.0,1140.0,19640.0,14170.0,29900.0,2900.0,35800.0,2130.0,34590.0,2370.0,26130.0,23370.0,30420.0,2750.0,12467.68137254902,1110.0,36075.5,22440.0,21620.0,24610.0,2967.0,1780.0,29630.0,25010.0,12467.68137254902,1909.0,39280.0,21447.5,22000.0,1860.0,12467.68137254902,1170.0,1630.0,2060.0,1276.5,12467.68137254902,1630.0,40210.0,1630.0,16880.0,2323.0,19820.0,20630.0,1510.0,12467.68137254902,2940.0,41320.0,3231.5,35800.0,17250.0,2090.0,12467.68137254902,2820.0,2320.0,2320.0,31450.0,13710.0,2600.0,25730.0,2950.0,37170.0,2070.0,16040.0,27310.0,27910.0,25950.0,30340.0,2710.0,35250.0,38890.0,22570.0,2081.5,2550.0,2590.0,1644.5,1863.0,24667.5,2288.5,1810.0,30015.0,1300.0,40880.0,1550.0,20033.0,1670.0,19297.0,14720.0,16760.0,2440.0,40170.0,36350.0,29530.0,2470.0,34160.0,1430.0,1480.0,2960.0,1280.0,44666.0,19320.0,2430.0,24380.0,2370.0,14570.0,1700.0,19120.0,47748.0,27830.0,2340.0,22011.0,2540.0,1600.0,1460.0,1790.0,1040.0,29480.0,34950.0,2980.0,2380.0,14430.0,2130.0,2510.0,25040.0,2130.0,2720.0,38065.0,26440.0,1320.0,34470.0,1060.0,23940.0,35910.0,36170.0,1265.0,16380.0,23430.0,2270.0,21920.0,1472.0,2340.0,1500.0,1590.0,30500.0,32040.0,29428.5,2047.0,12467.68137254902,21940.0,1240.0,35480.0,12467.68137254902,2830.0,1630.0,1860.0,39928.0,2520.0,2400.0,1610.0,12467.68137254902,1368.5,33730.0,1890.0,39997.0,2120.0,12467.68137254902,22130.0,33640.0,19100.0,1840.0,12467.68137254902,1120.0,18650.0,3415.5,19400.0,2310.0,12467.68137254902,12467.68137254902,33522.5,33752.5,1070.0,13820.0,1640.0,2550.0,2580.0,20380.0,24050.0,17951.5,2130.0,37520.0,2480.0,1170.0,1880.0,48150.5,25093.0,1380.0,14480.0,2700.0,26610.0,2500.0,18135.5,18963.5,2940.0,36440.0,1184.5,1600.0,1748.0,2460.0,29530.0,1667.5,1587.0,2550.0,31020.0,2150.0,34200.0,1300.0,12467.68137254902,34530.0,26890.0,28040.0,1230.0,19750.0,2010.0,1630.0,20490.0,16479.5,12467.68137254902,2100.0,2110.0,1900.0,36500.0,36860.0,2360.0,30340.0,30400.0,29740.0,1680.0,1207.5,22540.0,31740.0,44470.5,27330.0,26250.0,14690.0,15270.0,37400.0,3323.5,2668.0,21160.0,32867.0,2930.0,1690.0,33620.0,2415.0,1970.0,1200.0,12467.68137254902,1830.0,18457.5,30670.0,40135.0,29200.0,42021.0,2200.0,2196.5,35310.0,3151.0,35280.0,2260.0,1610.0,2070.0,22440.0,1552.5,3093.5,20458.5,2360.0,1610.0,25210.0,40951.5,1470.0,2490.0,29220.0,2900.0,33360.0,1000.0,12467.68137254902,2990.0,2852.0,1370.0,1370.0,1720.0,28760.0,1180.0,3346.5,1750.0,48035.5,1240.0,2800.0,1780.0,12467.68137254902,1330.0,1780.0,1276.5,28520.0,17870.0,2380.0,2852.0,2270.0,19895.0,12467.68137254902,30890.0,2242.5,25140.0,37743.0,44033.5,2670.0,2730.0,33330.0,2780.0,2320.0,1770.0,33080.0,2840.0],\"yaxis\":\"y\",\"type\":\"bar\"}],                        {\"template\":{\"data\":{\"bar\":[{\"error_x\":{\"color\":\"#2a3f5f\"},\"error_y\":{\"color\":\"#2a3f5f\"},\"marker\":{\"line\":{\"color\":\"#E5ECF6\",\"width\":0.5},\"pattern\":{\"fillmode\":\"overlay\",\"size\":10,\"solidity\":0.2}},\"type\":\"bar\"}],\"barpolar\":[{\"marker\":{\"line\":{\"color\":\"#E5ECF6\",\"width\":0.5},\"pattern\":{\"fillmode\":\"overlay\",\"size\":10,\"solidity\":0.2}},\"type\":\"barpolar\"}],\"carpet\":[{\"aaxis\":{\"endlinecolor\":\"#2a3f5f\",\"gridcolor\":\"white\",\"linecolor\":\"white\",\"minorgridcolor\":\"white\",\"startlinecolor\":\"#2a3f5f\"},\"baxis\":{\"endlinecolor\":\"#2a3f5f\",\"gridcolor\":\"white\",\"linecolor\":\"white\",\"minorgridcolor\":\"white\",\"startlinecolor\":\"#2a3f5f\"},\"type\":\"carpet\"}],\"choropleth\":[{\"colorbar\":{\"outlinewidth\":0,\"ticks\":\"\"},\"type\":\"choropleth\"}],\"contour\":[{\"colorbar\":{\"outlinewidth\":0,\"ticks\":\"\"},\"colorscale\":[[0.0,\"#0d0887\"],[0.1111111111111111,\"#46039f\"],[0.2222222222222222,\"#7201a8\"],[0.3333333333333333,\"#9c179e\"],[0.4444444444444444,\"#bd3786\"],[0.5555555555555556,\"#d8576b\"],[0.6666666666666666,\"#ed7953\"],[0.7777777777777778,\"#fb9f3a\"],[0.8888888888888888,\"#fdca26\"],[1.0,\"#f0f921\"]],\"type\":\"contour\"}],\"contourcarpet\":[{\"colorbar\":{\"outlinewidth\":0,\"ticks\":\"\"},\"type\":\"contourcarpet\"}],\"heatmap\":[{\"colorbar\":{\"outlinewidth\":0,\"ticks\":\"\"},\"colorscale\":[[0.0,\"#0d0887\"],[0.1111111111111111,\"#46039f\"],[0.2222222222222222,\"#7201a8\"],[0.3333333333333333,\"#9c179e\"],[0.4444444444444444,\"#bd3786\"],[0.5555555555555556,\"#d8576b\"],[0.6666666666666666,\"#ed7953\"],[0.7777777777777778,\"#fb9f3a\"],[0.8888888888888888,\"#fdca26\"],[1.0,\"#f0f921\"]],\"type\":\"heatmap\"}],\"heatmapgl\":[{\"colorbar\":{\"outlinewidth\":0,\"ticks\":\"\"},\"colorscale\":[[0.0,\"#0d0887\"],[0.1111111111111111,\"#46039f\"],[0.2222222222222222,\"#7201a8\"],[0.3333333333333333,\"#9c179e\"],[0.4444444444444444,\"#bd3786\"],[0.5555555555555556,\"#d8576b\"],[0.6666666666666666,\"#ed7953\"],[0.7777777777777778,\"#fb9f3a\"],[0.8888888888888888,\"#fdca26\"],[1.0,\"#f0f921\"]],\"type\":\"heatmapgl\"}],\"histogram\":[{\"marker\":{\"pattern\":{\"fillmode\":\"overlay\",\"size\":10,\"solidity\":0.2}},\"type\":\"histogram\"}],\"histogram2d\":[{\"colorbar\":{\"outlinewidth\":0,\"ticks\":\"\"},\"colorscale\":[[0.0,\"#0d0887\"],[0.1111111111111111,\"#46039f\"],[0.2222222222222222,\"#7201a8\"],[0.3333333333333333,\"#9c179e\"],[0.4444444444444444,\"#bd3786\"],[0.5555555555555556,\"#d8576b\"],[0.6666666666666666,\"#ed7953\"],[0.7777777777777778,\"#fb9f3a\"],[0.8888888888888888,\"#fdca26\"],[1.0,\"#f0f921\"]],\"type\":\"histogram2d\"}],\"histogram2dcontour\":[{\"colorbar\":{\"outlinewidth\":0,\"ticks\":\"\"},\"colorscale\":[[0.0,\"#0d0887\"],[0.1111111111111111,\"#46039f\"],[0.2222222222222222,\"#7201a8\"],[0.3333333333333333,\"#9c179e\"],[0.4444444444444444,\"#bd3786\"],[0.5555555555555556,\"#d8576b\"],[0.6666666666666666,\"#ed7953\"],[0.7777777777777778,\"#fb9f3a\"],[0.8888888888888888,\"#fdca26\"],[1.0,\"#f0f921\"]],\"type\":\"histogram2dcontour\"}],\"mesh3d\":[{\"colorbar\":{\"outlinewidth\":0,\"ticks\":\"\"},\"type\":\"mesh3d\"}],\"parcoords\":[{\"line\":{\"colorbar\":{\"outlinewidth\":0,\"ticks\":\"\"}},\"type\":\"parcoords\"}],\"pie\":[{\"automargin\":true,\"type\":\"pie\"}],\"scatter\":[{\"marker\":{\"colorbar\":{\"outlinewidth\":0,\"ticks\":\"\"}},\"type\":\"scatter\"}],\"scatter3d\":[{\"line\":{\"colorbar\":{\"outlinewidth\":0,\"ticks\":\"\"}},\"marker\":{\"colorbar\":{\"outlinewidth\":0,\"ticks\":\"\"}},\"type\":\"scatter3d\"}],\"scattercarpet\":[{\"marker\":{\"colorbar\":{\"outlinewidth\":0,\"ticks\":\"\"}},\"type\":\"scattercarpet\"}],\"scattergeo\":[{\"marker\":{\"colorbar\":{\"outlinewidth\":0,\"ticks\":\"\"}},\"type\":\"scattergeo\"}],\"scattergl\":[{\"marker\":{\"colorbar\":{\"outlinewidth\":0,\"ticks\":\"\"}},\"type\":\"scattergl\"}],\"scattermapbox\":[{\"marker\":{\"colorbar\":{\"outlinewidth\":0,\"ticks\":\"\"}},\"type\":\"scattermapbox\"}],\"scatterpolar\":[{\"marker\":{\"colorbar\":{\"outlinewidth\":0,\"ticks\":\"\"}},\"type\":\"scatterpolar\"}],\"scatterpolargl\":[{\"marker\":{\"colorbar\":{\"outlinewidth\":0,\"ticks\":\"\"}},\"type\":\"scatterpolargl\"}],\"scatterternary\":[{\"marker\":{\"colorbar\":{\"outlinewidth\":0,\"ticks\":\"\"}},\"type\":\"scatterternary\"}],\"surface\":[{\"colorbar\":{\"outlinewidth\":0,\"ticks\":\"\"},\"colorscale\":[[0.0,\"#0d0887\"],[0.1111111111111111,\"#46039f\"],[0.2222222222222222,\"#7201a8\"],[0.3333333333333333,\"#9c179e\"],[0.4444444444444444,\"#bd3786\"],[0.5555555555555556,\"#d8576b\"],[0.6666666666666666,\"#ed7953\"],[0.7777777777777778,\"#fb9f3a\"],[0.8888888888888888,\"#fdca26\"],[1.0,\"#f0f921\"]],\"type\":\"surface\"}],\"table\":[{\"cells\":{\"fill\":{\"color\":\"#EBF0F8\"},\"line\":{\"color\":\"white\"}},\"header\":{\"fill\":{\"color\":\"#C8D4E3\"},\"line\":{\"color\":\"white\"}},\"type\":\"table\"}]},\"layout\":{\"annotationdefaults\":{\"arrowcolor\":\"#2a3f5f\",\"arrowhead\":0,\"arrowwidth\":1},\"autotypenumbers\":\"strict\",\"coloraxis\":{\"colorbar\":{\"outlinewidth\":0,\"ticks\":\"\"}},\"colorscale\":{\"diverging\":[[0,\"#8e0152\"],[0.1,\"#c51b7d\"],[0.2,\"#de77ae\"],[0.3,\"#f1b6da\"],[0.4,\"#fde0ef\"],[0.5,\"#f7f7f7\"],[0.6,\"#e6f5d0\"],[0.7,\"#b8e186\"],[0.8,\"#7fbc41\"],[0.9,\"#4d9221\"],[1,\"#276419\"]],\"sequential\":[[0.0,\"#0d0887\"],[0.1111111111111111,\"#46039f\"],[0.2222222222222222,\"#7201a8\"],[0.3333333333333333,\"#9c179e\"],[0.4444444444444444,\"#bd3786\"],[0.5555555555555556,\"#d8576b\"],[0.6666666666666666,\"#ed7953\"],[0.7777777777777778,\"#fb9f3a\"],[0.8888888888888888,\"#fdca26\"],[1.0,\"#f0f921\"]],\"sequentialminus\":[[0.0,\"#0d0887\"],[0.1111111111111111,\"#46039f\"],[0.2222222222222222,\"#7201a8\"],[0.3333333333333333,\"#9c179e\"],[0.4444444444444444,\"#bd3786\"],[0.5555555555555556,\"#d8576b\"],[0.6666666666666666,\"#ed7953\"],[0.7777777777777778,\"#fb9f3a\"],[0.8888888888888888,\"#fdca26\"],[1.0,\"#f0f921\"]]},\"colorway\":[\"#636efa\",\"#EF553B\",\"#00cc96\",\"#ab63fa\",\"#FFA15A\",\"#19d3f3\",\"#FF6692\",\"#B6E880\",\"#FF97FF\",\"#FECB52\"],\"font\":{\"color\":\"#2a3f5f\"},\"geo\":{\"bgcolor\":\"white\",\"lakecolor\":\"white\",\"landcolor\":\"#E5ECF6\",\"showlakes\":true,\"showland\":true,\"subunitcolor\":\"white\"},\"hoverlabel\":{\"align\":\"left\"},\"hovermode\":\"closest\",\"mapbox\":{\"style\":\"light\"},\"paper_bgcolor\":\"white\",\"plot_bgcolor\":\"#E5ECF6\",\"polar\":{\"angularaxis\":{\"gridcolor\":\"white\",\"linecolor\":\"white\",\"ticks\":\"\"},\"bgcolor\":\"#E5ECF6\",\"radialaxis\":{\"gridcolor\":\"white\",\"linecolor\":\"white\",\"ticks\":\"\"}},\"scene\":{\"xaxis\":{\"backgroundcolor\":\"#E5ECF6\",\"gridcolor\":\"white\",\"gridwidth\":2,\"linecolor\":\"white\",\"showbackground\":true,\"ticks\":\"\",\"zerolinecolor\":\"white\"},\"yaxis\":{\"backgroundcolor\":\"#E5ECF6\",\"gridcolor\":\"white\",\"gridwidth\":2,\"linecolor\":\"white\",\"showbackground\":true,\"ticks\":\"\",\"zerolinecolor\":\"white\"},\"zaxis\":{\"backgroundcolor\":\"#E5ECF6\",\"gridcolor\":\"white\",\"gridwidth\":2,\"linecolor\":\"white\",\"showbackground\":true,\"ticks\":\"\",\"zerolinecolor\":\"white\"}},\"shapedefaults\":{\"line\":{\"color\":\"#2a3f5f\"}},\"ternary\":{\"aaxis\":{\"gridcolor\":\"white\",\"linecolor\":\"white\",\"ticks\":\"\"},\"baxis\":{\"gridcolor\":\"white\",\"linecolor\":\"white\",\"ticks\":\"\"},\"bgcolor\":\"#E5ECF6\",\"caxis\":{\"gridcolor\":\"white\",\"linecolor\":\"white\",\"ticks\":\"\"}},\"title\":{\"x\":0.05},\"xaxis\":{\"automargin\":true,\"gridcolor\":\"white\",\"linecolor\":\"white\",\"ticks\":\"\",\"title\":{\"standoff\":15},\"zerolinecolor\":\"white\",\"zerolinewidth\":2},\"yaxis\":{\"automargin\":true,\"gridcolor\":\"white\",\"linecolor\":\"white\",\"ticks\":\"\",\"title\":{\"standoff\":15},\"zerolinecolor\":\"white\",\"zerolinewidth\":2}}},\"xaxis\":{\"anchor\":\"y\",\"domain\":[0.0,1.0],\"title\":{\"text\":\"gender\"}},\"yaxis\":{\"anchor\":\"x\",\"domain\":[0.0,1.0],\"title\":{\"text\":\"claim_amount\"}},\"legend\":{\"tracegroupgap\":0},\"margin\":{\"t\":60},\"barmode\":\"group\",\"height\":400},                        {\"responsive\": true}                    ).then(function(){\n",
       "                            \n",
       "var gd = document.getElementById('d40e534f-58bb-44c4-b3fa-65de436b62a1');\n",
       "var x = new MutationObserver(function (mutations, observer) {{\n",
       "        var display = window.getComputedStyle(gd).display;\n",
       "        if (!display || display === 'none') {{\n",
       "            console.log([gd, 'removed!']);\n",
       "            Plotly.purge(gd);\n",
       "            observer.disconnect();\n",
       "        }}\n",
       "}});\n",
       "\n",
       "// Listen for the removal of the full notebook cells\n",
       "var notebookContainer = gd.closest('#notebook-container');\n",
       "if (notebookContainer) {{\n",
       "    x.observe(notebookContainer, {childList: true});\n",
       "}}\n",
       "\n",
       "// Listen for the clearing of the current output cell\n",
       "var outputEl = gd.closest('.output');\n",
       "if (outputEl) {{\n",
       "    x.observe(outputEl, {childList: true});\n",
       "}}\n",
       "\n",
       "                        })                };                });            </script>        </div>"
      ]
     },
     "metadata": {},
     "output_type": "display_data"
    }
   ],
   "source": [
    "fig= px.bar(group_gender, x='gender', y='claim_amount', barmode='group', height=400)\n",
    "fig.show()"
   ]
  },
  {
   "cell_type": "markdown",
   "id": "c14e8cb5",
   "metadata": {},
   "source": [
    "### 13. Which age group had the maximum fraudulent policy claims? Visualize it on a bar chart."
   ]
  },
  {
   "cell_type": "code",
   "execution_count": 32,
   "id": "116f8de7",
   "metadata": {
    "ExecuteTime": {
     "end_time": "2022-06-25T07:56:20.480213Z",
     "start_time": "2022-06-25T07:56:20.464287Z"
    }
   },
   "outputs": [
    {
     "data": {
      "text/html": [
       "<div>\n",
       "<style scoped>\n",
       "    .dataframe tbody tr th:only-of-type {\n",
       "        vertical-align: middle;\n",
       "    }\n",
       "\n",
       "    .dataframe tbody tr th {\n",
       "        vertical-align: top;\n",
       "    }\n",
       "\n",
       "    .dataframe thead th {\n",
       "        text-align: right;\n",
       "    }\n",
       "</style>\n",
       "<table border=\"1\" class=\"dataframe\">\n",
       "  <thead>\n",
       "    <tr style=\"text-align: right;\">\n",
       "      <th></th>\n",
       "      <th>age_category</th>\n",
       "      <th>fraudulent</th>\n",
       "      <th>Count of fraudlent</th>\n",
       "    </tr>\n",
       "  </thead>\n",
       "  <tbody>\n",
       "    <tr>\n",
       "      <th>0</th>\n",
       "      <td>Adult</td>\n",
       "      <td>No</td>\n",
       "      <td>614</td>\n",
       "    </tr>\n",
       "    <tr>\n",
       "      <th>1</th>\n",
       "      <td>Adult</td>\n",
       "      <td>Yes</td>\n",
       "      <td>191</td>\n",
       "    </tr>\n",
       "    <tr>\n",
       "      <th>2</th>\n",
       "      <td>Senior</td>\n",
       "      <td>No</td>\n",
       "      <td>49</td>\n",
       "    </tr>\n",
       "    <tr>\n",
       "      <th>3</th>\n",
       "      <td>Senior</td>\n",
       "      <td>Yes</td>\n",
       "      <td>14</td>\n",
       "    </tr>\n",
       "    <tr>\n",
       "      <th>4</th>\n",
       "      <td>Youth</td>\n",
       "      <td>No</td>\n",
       "      <td>175</td>\n",
       "    </tr>\n",
       "    <tr>\n",
       "      <th>5</th>\n",
       "      <td>Youth</td>\n",
       "      <td>Yes</td>\n",
       "      <td>42</td>\n",
       "    </tr>\n",
       "  </tbody>\n",
       "</table>\n",
       "</div>"
      ],
      "text/plain": [
       "  age_category fraudulent  Count of fraudlent\n",
       "0        Adult         No                 614\n",
       "1        Adult        Yes                 191\n",
       "2       Senior         No                  49\n",
       "3       Senior        Yes                  14\n",
       "4        Youth         No                 175\n",
       "5        Youth        Yes                  42"
      ]
     },
     "execution_count": 32,
     "metadata": {},
     "output_type": "execute_result"
    }
   ],
   "source": [
    "fraud_age_group=cust_claim_data.groupby(['age_category','fraudulent']).size().reset_index().rename(columns={0:'Count of fraudlent'})\n",
    "fraud_age_group"
   ]
  },
  {
   "cell_type": "code",
   "execution_count": 33,
   "id": "77cef570",
   "metadata": {
    "ExecuteTime": {
     "end_time": "2022-06-25T07:56:20.641211Z",
     "start_time": "2022-06-25T07:56:20.481211Z"
    }
   },
   "outputs": [
    {
     "data": {
      "application/vnd.plotly.v1+json": {
       "config": {
        "plotlyServerURL": "https://plot.ly"
       },
       "data": [
        {
         "alignmentgroup": "True",
         "hovertemplate": "fraudulent=No<br>age_category=%{x}<br>Count of fraudlent=%{y}<extra></extra>",
         "legendgroup": "No",
         "marker": {
          "color": "#636efa",
          "pattern": {
           "shape": ""
          }
         },
         "name": "No",
         "offsetgroup": "No",
         "orientation": "v",
         "showlegend": true,
         "textposition": "auto",
         "type": "bar",
         "x": [
          "Adult",
          "Senior",
          "Youth"
         ],
         "xaxis": "x",
         "y": [
          614,
          49,
          175
         ],
         "yaxis": "y"
        },
        {
         "alignmentgroup": "True",
         "hovertemplate": "fraudulent=Yes<br>age_category=%{x}<br>Count of fraudlent=%{y}<extra></extra>",
         "legendgroup": "Yes",
         "marker": {
          "color": "#EF553B",
          "pattern": {
           "shape": ""
          }
         },
         "name": "Yes",
         "offsetgroup": "Yes",
         "orientation": "v",
         "showlegend": true,
         "textposition": "auto",
         "type": "bar",
         "x": [
          "Adult",
          "Senior",
          "Youth"
         ],
         "xaxis": "x",
         "y": [
          191,
          14,
          42
         ],
         "yaxis": "y"
        }
       ],
       "layout": {
        "barmode": "group",
        "height": 400,
        "legend": {
         "title": {
          "text": "fraudulent"
         },
         "tracegroupgap": 0
        },
        "template": {
         "data": {
          "bar": [
           {
            "error_x": {
             "color": "#2a3f5f"
            },
            "error_y": {
             "color": "#2a3f5f"
            },
            "marker": {
             "line": {
              "color": "#E5ECF6",
              "width": 0.5
             },
             "pattern": {
              "fillmode": "overlay",
              "size": 10,
              "solidity": 0.2
             }
            },
            "type": "bar"
           }
          ],
          "barpolar": [
           {
            "marker": {
             "line": {
              "color": "#E5ECF6",
              "width": 0.5
             },
             "pattern": {
              "fillmode": "overlay",
              "size": 10,
              "solidity": 0.2
             }
            },
            "type": "barpolar"
           }
          ],
          "carpet": [
           {
            "aaxis": {
             "endlinecolor": "#2a3f5f",
             "gridcolor": "white",
             "linecolor": "white",
             "minorgridcolor": "white",
             "startlinecolor": "#2a3f5f"
            },
            "baxis": {
             "endlinecolor": "#2a3f5f",
             "gridcolor": "white",
             "linecolor": "white",
             "minorgridcolor": "white",
             "startlinecolor": "#2a3f5f"
            },
            "type": "carpet"
           }
          ],
          "choropleth": [
           {
            "colorbar": {
             "outlinewidth": 0,
             "ticks": ""
            },
            "type": "choropleth"
           }
          ],
          "contour": [
           {
            "colorbar": {
             "outlinewidth": 0,
             "ticks": ""
            },
            "colorscale": [
             [
              0,
              "#0d0887"
             ],
             [
              0.1111111111111111,
              "#46039f"
             ],
             [
              0.2222222222222222,
              "#7201a8"
             ],
             [
              0.3333333333333333,
              "#9c179e"
             ],
             [
              0.4444444444444444,
              "#bd3786"
             ],
             [
              0.5555555555555556,
              "#d8576b"
             ],
             [
              0.6666666666666666,
              "#ed7953"
             ],
             [
              0.7777777777777778,
              "#fb9f3a"
             ],
             [
              0.8888888888888888,
              "#fdca26"
             ],
             [
              1,
              "#f0f921"
             ]
            ],
            "type": "contour"
           }
          ],
          "contourcarpet": [
           {
            "colorbar": {
             "outlinewidth": 0,
             "ticks": ""
            },
            "type": "contourcarpet"
           }
          ],
          "heatmap": [
           {
            "colorbar": {
             "outlinewidth": 0,
             "ticks": ""
            },
            "colorscale": [
             [
              0,
              "#0d0887"
             ],
             [
              0.1111111111111111,
              "#46039f"
             ],
             [
              0.2222222222222222,
              "#7201a8"
             ],
             [
              0.3333333333333333,
              "#9c179e"
             ],
             [
              0.4444444444444444,
              "#bd3786"
             ],
             [
              0.5555555555555556,
              "#d8576b"
             ],
             [
              0.6666666666666666,
              "#ed7953"
             ],
             [
              0.7777777777777778,
              "#fb9f3a"
             ],
             [
              0.8888888888888888,
              "#fdca26"
             ],
             [
              1,
              "#f0f921"
             ]
            ],
            "type": "heatmap"
           }
          ],
          "heatmapgl": [
           {
            "colorbar": {
             "outlinewidth": 0,
             "ticks": ""
            },
            "colorscale": [
             [
              0,
              "#0d0887"
             ],
             [
              0.1111111111111111,
              "#46039f"
             ],
             [
              0.2222222222222222,
              "#7201a8"
             ],
             [
              0.3333333333333333,
              "#9c179e"
             ],
             [
              0.4444444444444444,
              "#bd3786"
             ],
             [
              0.5555555555555556,
              "#d8576b"
             ],
             [
              0.6666666666666666,
              "#ed7953"
             ],
             [
              0.7777777777777778,
              "#fb9f3a"
             ],
             [
              0.8888888888888888,
              "#fdca26"
             ],
             [
              1,
              "#f0f921"
             ]
            ],
            "type": "heatmapgl"
           }
          ],
          "histogram": [
           {
            "marker": {
             "pattern": {
              "fillmode": "overlay",
              "size": 10,
              "solidity": 0.2
             }
            },
            "type": "histogram"
           }
          ],
          "histogram2d": [
           {
            "colorbar": {
             "outlinewidth": 0,
             "ticks": ""
            },
            "colorscale": [
             [
              0,
              "#0d0887"
             ],
             [
              0.1111111111111111,
              "#46039f"
             ],
             [
              0.2222222222222222,
              "#7201a8"
             ],
             [
              0.3333333333333333,
              "#9c179e"
             ],
             [
              0.4444444444444444,
              "#bd3786"
             ],
             [
              0.5555555555555556,
              "#d8576b"
             ],
             [
              0.6666666666666666,
              "#ed7953"
             ],
             [
              0.7777777777777778,
              "#fb9f3a"
             ],
             [
              0.8888888888888888,
              "#fdca26"
             ],
             [
              1,
              "#f0f921"
             ]
            ],
            "type": "histogram2d"
           }
          ],
          "histogram2dcontour": [
           {
            "colorbar": {
             "outlinewidth": 0,
             "ticks": ""
            },
            "colorscale": [
             [
              0,
              "#0d0887"
             ],
             [
              0.1111111111111111,
              "#46039f"
             ],
             [
              0.2222222222222222,
              "#7201a8"
             ],
             [
              0.3333333333333333,
              "#9c179e"
             ],
             [
              0.4444444444444444,
              "#bd3786"
             ],
             [
              0.5555555555555556,
              "#d8576b"
             ],
             [
              0.6666666666666666,
              "#ed7953"
             ],
             [
              0.7777777777777778,
              "#fb9f3a"
             ],
             [
              0.8888888888888888,
              "#fdca26"
             ],
             [
              1,
              "#f0f921"
             ]
            ],
            "type": "histogram2dcontour"
           }
          ],
          "mesh3d": [
           {
            "colorbar": {
             "outlinewidth": 0,
             "ticks": ""
            },
            "type": "mesh3d"
           }
          ],
          "parcoords": [
           {
            "line": {
             "colorbar": {
              "outlinewidth": 0,
              "ticks": ""
             }
            },
            "type": "parcoords"
           }
          ],
          "pie": [
           {
            "automargin": true,
            "type": "pie"
           }
          ],
          "scatter": [
           {
            "marker": {
             "colorbar": {
              "outlinewidth": 0,
              "ticks": ""
             }
            },
            "type": "scatter"
           }
          ],
          "scatter3d": [
           {
            "line": {
             "colorbar": {
              "outlinewidth": 0,
              "ticks": ""
             }
            },
            "marker": {
             "colorbar": {
              "outlinewidth": 0,
              "ticks": ""
             }
            },
            "type": "scatter3d"
           }
          ],
          "scattercarpet": [
           {
            "marker": {
             "colorbar": {
              "outlinewidth": 0,
              "ticks": ""
             }
            },
            "type": "scattercarpet"
           }
          ],
          "scattergeo": [
           {
            "marker": {
             "colorbar": {
              "outlinewidth": 0,
              "ticks": ""
             }
            },
            "type": "scattergeo"
           }
          ],
          "scattergl": [
           {
            "marker": {
             "colorbar": {
              "outlinewidth": 0,
              "ticks": ""
             }
            },
            "type": "scattergl"
           }
          ],
          "scattermapbox": [
           {
            "marker": {
             "colorbar": {
              "outlinewidth": 0,
              "ticks": ""
             }
            },
            "type": "scattermapbox"
           }
          ],
          "scatterpolar": [
           {
            "marker": {
             "colorbar": {
              "outlinewidth": 0,
              "ticks": ""
             }
            },
            "type": "scatterpolar"
           }
          ],
          "scatterpolargl": [
           {
            "marker": {
             "colorbar": {
              "outlinewidth": 0,
              "ticks": ""
             }
            },
            "type": "scatterpolargl"
           }
          ],
          "scatterternary": [
           {
            "marker": {
             "colorbar": {
              "outlinewidth": 0,
              "ticks": ""
             }
            },
            "type": "scatterternary"
           }
          ],
          "surface": [
           {
            "colorbar": {
             "outlinewidth": 0,
             "ticks": ""
            },
            "colorscale": [
             [
              0,
              "#0d0887"
             ],
             [
              0.1111111111111111,
              "#46039f"
             ],
             [
              0.2222222222222222,
              "#7201a8"
             ],
             [
              0.3333333333333333,
              "#9c179e"
             ],
             [
              0.4444444444444444,
              "#bd3786"
             ],
             [
              0.5555555555555556,
              "#d8576b"
             ],
             [
              0.6666666666666666,
              "#ed7953"
             ],
             [
              0.7777777777777778,
              "#fb9f3a"
             ],
             [
              0.8888888888888888,
              "#fdca26"
             ],
             [
              1,
              "#f0f921"
             ]
            ],
            "type": "surface"
           }
          ],
          "table": [
           {
            "cells": {
             "fill": {
              "color": "#EBF0F8"
             },
             "line": {
              "color": "white"
             }
            },
            "header": {
             "fill": {
              "color": "#C8D4E3"
             },
             "line": {
              "color": "white"
             }
            },
            "type": "table"
           }
          ]
         },
         "layout": {
          "annotationdefaults": {
           "arrowcolor": "#2a3f5f",
           "arrowhead": 0,
           "arrowwidth": 1
          },
          "autotypenumbers": "strict",
          "coloraxis": {
           "colorbar": {
            "outlinewidth": 0,
            "ticks": ""
           }
          },
          "colorscale": {
           "diverging": [
            [
             0,
             "#8e0152"
            ],
            [
             0.1,
             "#c51b7d"
            ],
            [
             0.2,
             "#de77ae"
            ],
            [
             0.3,
             "#f1b6da"
            ],
            [
             0.4,
             "#fde0ef"
            ],
            [
             0.5,
             "#f7f7f7"
            ],
            [
             0.6,
             "#e6f5d0"
            ],
            [
             0.7,
             "#b8e186"
            ],
            [
             0.8,
             "#7fbc41"
            ],
            [
             0.9,
             "#4d9221"
            ],
            [
             1,
             "#276419"
            ]
           ],
           "sequential": [
            [
             0,
             "#0d0887"
            ],
            [
             0.1111111111111111,
             "#46039f"
            ],
            [
             0.2222222222222222,
             "#7201a8"
            ],
            [
             0.3333333333333333,
             "#9c179e"
            ],
            [
             0.4444444444444444,
             "#bd3786"
            ],
            [
             0.5555555555555556,
             "#d8576b"
            ],
            [
             0.6666666666666666,
             "#ed7953"
            ],
            [
             0.7777777777777778,
             "#fb9f3a"
            ],
            [
             0.8888888888888888,
             "#fdca26"
            ],
            [
             1,
             "#f0f921"
            ]
           ],
           "sequentialminus": [
            [
             0,
             "#0d0887"
            ],
            [
             0.1111111111111111,
             "#46039f"
            ],
            [
             0.2222222222222222,
             "#7201a8"
            ],
            [
             0.3333333333333333,
             "#9c179e"
            ],
            [
             0.4444444444444444,
             "#bd3786"
            ],
            [
             0.5555555555555556,
             "#d8576b"
            ],
            [
             0.6666666666666666,
             "#ed7953"
            ],
            [
             0.7777777777777778,
             "#fb9f3a"
            ],
            [
             0.8888888888888888,
             "#fdca26"
            ],
            [
             1,
             "#f0f921"
            ]
           ]
          },
          "colorway": [
           "#636efa",
           "#EF553B",
           "#00cc96",
           "#ab63fa",
           "#FFA15A",
           "#19d3f3",
           "#FF6692",
           "#B6E880",
           "#FF97FF",
           "#FECB52"
          ],
          "font": {
           "color": "#2a3f5f"
          },
          "geo": {
           "bgcolor": "white",
           "lakecolor": "white",
           "landcolor": "#E5ECF6",
           "showlakes": true,
           "showland": true,
           "subunitcolor": "white"
          },
          "hoverlabel": {
           "align": "left"
          },
          "hovermode": "closest",
          "mapbox": {
           "style": "light"
          },
          "paper_bgcolor": "white",
          "plot_bgcolor": "#E5ECF6",
          "polar": {
           "angularaxis": {
            "gridcolor": "white",
            "linecolor": "white",
            "ticks": ""
           },
           "bgcolor": "#E5ECF6",
           "radialaxis": {
            "gridcolor": "white",
            "linecolor": "white",
            "ticks": ""
           }
          },
          "scene": {
           "xaxis": {
            "backgroundcolor": "#E5ECF6",
            "gridcolor": "white",
            "gridwidth": 2,
            "linecolor": "white",
            "showbackground": true,
            "ticks": "",
            "zerolinecolor": "white"
           },
           "yaxis": {
            "backgroundcolor": "#E5ECF6",
            "gridcolor": "white",
            "gridwidth": 2,
            "linecolor": "white",
            "showbackground": true,
            "ticks": "",
            "zerolinecolor": "white"
           },
           "zaxis": {
            "backgroundcolor": "#E5ECF6",
            "gridcolor": "white",
            "gridwidth": 2,
            "linecolor": "white",
            "showbackground": true,
            "ticks": "",
            "zerolinecolor": "white"
           }
          },
          "shapedefaults": {
           "line": {
            "color": "#2a3f5f"
           }
          },
          "ternary": {
           "aaxis": {
            "gridcolor": "white",
            "linecolor": "white",
            "ticks": ""
           },
           "baxis": {
            "gridcolor": "white",
            "linecolor": "white",
            "ticks": ""
           },
           "bgcolor": "#E5ECF6",
           "caxis": {
            "gridcolor": "white",
            "linecolor": "white",
            "ticks": ""
           }
          },
          "title": {
           "x": 0.05
          },
          "xaxis": {
           "automargin": true,
           "gridcolor": "white",
           "linecolor": "white",
           "ticks": "",
           "title": {
            "standoff": 15
           },
           "zerolinecolor": "white",
           "zerolinewidth": 2
          },
          "yaxis": {
           "automargin": true,
           "gridcolor": "white",
           "linecolor": "white",
           "ticks": "",
           "title": {
            "standoff": 15
           },
           "zerolinecolor": "white",
           "zerolinewidth": 2
          }
         }
        },
        "title": {
         "text": "Count of Fraudlent"
        },
        "xaxis": {
         "anchor": "y",
         "domain": [
          0,
          1
         ],
         "title": {
          "text": "age_category"
         }
        },
        "yaxis": {
         "anchor": "x",
         "domain": [
          0,
          1
         ],
         "title": {
          "text": "Count of fraudlent"
         }
        }
       }
      },
      "text/html": [
       "<div>                            <div id=\"fe3c044e-2cdf-4a41-af23-ad674a6ec654\" class=\"plotly-graph-div\" style=\"height:400px; width:100%;\"></div>            <script type=\"text/javascript\">                require([\"plotly\"], function(Plotly) {                    window.PLOTLYENV=window.PLOTLYENV || {};                                    if (document.getElementById(\"fe3c044e-2cdf-4a41-af23-ad674a6ec654\")) {                    Plotly.newPlot(                        \"fe3c044e-2cdf-4a41-af23-ad674a6ec654\",                        [{\"alignmentgroup\":\"True\",\"hovertemplate\":\"fraudulent=No<br>age_category=%{x}<br>Count of fraudlent=%{y}<extra></extra>\",\"legendgroup\":\"No\",\"marker\":{\"color\":\"#636efa\",\"pattern\":{\"shape\":\"\"}},\"name\":\"No\",\"offsetgroup\":\"No\",\"orientation\":\"v\",\"showlegend\":true,\"textposition\":\"auto\",\"x\":[\"Adult\",\"Senior\",\"Youth\"],\"xaxis\":\"x\",\"y\":[614,49,175],\"yaxis\":\"y\",\"type\":\"bar\"},{\"alignmentgroup\":\"True\",\"hovertemplate\":\"fraudulent=Yes<br>age_category=%{x}<br>Count of fraudlent=%{y}<extra></extra>\",\"legendgroup\":\"Yes\",\"marker\":{\"color\":\"#EF553B\",\"pattern\":{\"shape\":\"\"}},\"name\":\"Yes\",\"offsetgroup\":\"Yes\",\"orientation\":\"v\",\"showlegend\":true,\"textposition\":\"auto\",\"x\":[\"Adult\",\"Senior\",\"Youth\"],\"xaxis\":\"x\",\"y\":[191,14,42],\"yaxis\":\"y\",\"type\":\"bar\"}],                        {\"template\":{\"data\":{\"bar\":[{\"error_x\":{\"color\":\"#2a3f5f\"},\"error_y\":{\"color\":\"#2a3f5f\"},\"marker\":{\"line\":{\"color\":\"#E5ECF6\",\"width\":0.5},\"pattern\":{\"fillmode\":\"overlay\",\"size\":10,\"solidity\":0.2}},\"type\":\"bar\"}],\"barpolar\":[{\"marker\":{\"line\":{\"color\":\"#E5ECF6\",\"width\":0.5},\"pattern\":{\"fillmode\":\"overlay\",\"size\":10,\"solidity\":0.2}},\"type\":\"barpolar\"}],\"carpet\":[{\"aaxis\":{\"endlinecolor\":\"#2a3f5f\",\"gridcolor\":\"white\",\"linecolor\":\"white\",\"minorgridcolor\":\"white\",\"startlinecolor\":\"#2a3f5f\"},\"baxis\":{\"endlinecolor\":\"#2a3f5f\",\"gridcolor\":\"white\",\"linecolor\":\"white\",\"minorgridcolor\":\"white\",\"startlinecolor\":\"#2a3f5f\"},\"type\":\"carpet\"}],\"choropleth\":[{\"colorbar\":{\"outlinewidth\":0,\"ticks\":\"\"},\"type\":\"choropleth\"}],\"contour\":[{\"colorbar\":{\"outlinewidth\":0,\"ticks\":\"\"},\"colorscale\":[[0.0,\"#0d0887\"],[0.1111111111111111,\"#46039f\"],[0.2222222222222222,\"#7201a8\"],[0.3333333333333333,\"#9c179e\"],[0.4444444444444444,\"#bd3786\"],[0.5555555555555556,\"#d8576b\"],[0.6666666666666666,\"#ed7953\"],[0.7777777777777778,\"#fb9f3a\"],[0.8888888888888888,\"#fdca26\"],[1.0,\"#f0f921\"]],\"type\":\"contour\"}],\"contourcarpet\":[{\"colorbar\":{\"outlinewidth\":0,\"ticks\":\"\"},\"type\":\"contourcarpet\"}],\"heatmap\":[{\"colorbar\":{\"outlinewidth\":0,\"ticks\":\"\"},\"colorscale\":[[0.0,\"#0d0887\"],[0.1111111111111111,\"#46039f\"],[0.2222222222222222,\"#7201a8\"],[0.3333333333333333,\"#9c179e\"],[0.4444444444444444,\"#bd3786\"],[0.5555555555555556,\"#d8576b\"],[0.6666666666666666,\"#ed7953\"],[0.7777777777777778,\"#fb9f3a\"],[0.8888888888888888,\"#fdca26\"],[1.0,\"#f0f921\"]],\"type\":\"heatmap\"}],\"heatmapgl\":[{\"colorbar\":{\"outlinewidth\":0,\"ticks\":\"\"},\"colorscale\":[[0.0,\"#0d0887\"],[0.1111111111111111,\"#46039f\"],[0.2222222222222222,\"#7201a8\"],[0.3333333333333333,\"#9c179e\"],[0.4444444444444444,\"#bd3786\"],[0.5555555555555556,\"#d8576b\"],[0.6666666666666666,\"#ed7953\"],[0.7777777777777778,\"#fb9f3a\"],[0.8888888888888888,\"#fdca26\"],[1.0,\"#f0f921\"]],\"type\":\"heatmapgl\"}],\"histogram\":[{\"marker\":{\"pattern\":{\"fillmode\":\"overlay\",\"size\":10,\"solidity\":0.2}},\"type\":\"histogram\"}],\"histogram2d\":[{\"colorbar\":{\"outlinewidth\":0,\"ticks\":\"\"},\"colorscale\":[[0.0,\"#0d0887\"],[0.1111111111111111,\"#46039f\"],[0.2222222222222222,\"#7201a8\"],[0.3333333333333333,\"#9c179e\"],[0.4444444444444444,\"#bd3786\"],[0.5555555555555556,\"#d8576b\"],[0.6666666666666666,\"#ed7953\"],[0.7777777777777778,\"#fb9f3a\"],[0.8888888888888888,\"#fdca26\"],[1.0,\"#f0f921\"]],\"type\":\"histogram2d\"}],\"histogram2dcontour\":[{\"colorbar\":{\"outlinewidth\":0,\"ticks\":\"\"},\"colorscale\":[[0.0,\"#0d0887\"],[0.1111111111111111,\"#46039f\"],[0.2222222222222222,\"#7201a8\"],[0.3333333333333333,\"#9c179e\"],[0.4444444444444444,\"#bd3786\"],[0.5555555555555556,\"#d8576b\"],[0.6666666666666666,\"#ed7953\"],[0.7777777777777778,\"#fb9f3a\"],[0.8888888888888888,\"#fdca26\"],[1.0,\"#f0f921\"]],\"type\":\"histogram2dcontour\"}],\"mesh3d\":[{\"colorbar\":{\"outlinewidth\":0,\"ticks\":\"\"},\"type\":\"mesh3d\"}],\"parcoords\":[{\"line\":{\"colorbar\":{\"outlinewidth\":0,\"ticks\":\"\"}},\"type\":\"parcoords\"}],\"pie\":[{\"automargin\":true,\"type\":\"pie\"}],\"scatter\":[{\"marker\":{\"colorbar\":{\"outlinewidth\":0,\"ticks\":\"\"}},\"type\":\"scatter\"}],\"scatter3d\":[{\"line\":{\"colorbar\":{\"outlinewidth\":0,\"ticks\":\"\"}},\"marker\":{\"colorbar\":{\"outlinewidth\":0,\"ticks\":\"\"}},\"type\":\"scatter3d\"}],\"scattercarpet\":[{\"marker\":{\"colorbar\":{\"outlinewidth\":0,\"ticks\":\"\"}},\"type\":\"scattercarpet\"}],\"scattergeo\":[{\"marker\":{\"colorbar\":{\"outlinewidth\":0,\"ticks\":\"\"}},\"type\":\"scattergeo\"}],\"scattergl\":[{\"marker\":{\"colorbar\":{\"outlinewidth\":0,\"ticks\":\"\"}},\"type\":\"scattergl\"}],\"scattermapbox\":[{\"marker\":{\"colorbar\":{\"outlinewidth\":0,\"ticks\":\"\"}},\"type\":\"scattermapbox\"}],\"scatterpolar\":[{\"marker\":{\"colorbar\":{\"outlinewidth\":0,\"ticks\":\"\"}},\"type\":\"scatterpolar\"}],\"scatterpolargl\":[{\"marker\":{\"colorbar\":{\"outlinewidth\":0,\"ticks\":\"\"}},\"type\":\"scatterpolargl\"}],\"scatterternary\":[{\"marker\":{\"colorbar\":{\"outlinewidth\":0,\"ticks\":\"\"}},\"type\":\"scatterternary\"}],\"surface\":[{\"colorbar\":{\"outlinewidth\":0,\"ticks\":\"\"},\"colorscale\":[[0.0,\"#0d0887\"],[0.1111111111111111,\"#46039f\"],[0.2222222222222222,\"#7201a8\"],[0.3333333333333333,\"#9c179e\"],[0.4444444444444444,\"#bd3786\"],[0.5555555555555556,\"#d8576b\"],[0.6666666666666666,\"#ed7953\"],[0.7777777777777778,\"#fb9f3a\"],[0.8888888888888888,\"#fdca26\"],[1.0,\"#f0f921\"]],\"type\":\"surface\"}],\"table\":[{\"cells\":{\"fill\":{\"color\":\"#EBF0F8\"},\"line\":{\"color\":\"white\"}},\"header\":{\"fill\":{\"color\":\"#C8D4E3\"},\"line\":{\"color\":\"white\"}},\"type\":\"table\"}]},\"layout\":{\"annotationdefaults\":{\"arrowcolor\":\"#2a3f5f\",\"arrowhead\":0,\"arrowwidth\":1},\"autotypenumbers\":\"strict\",\"coloraxis\":{\"colorbar\":{\"outlinewidth\":0,\"ticks\":\"\"}},\"colorscale\":{\"diverging\":[[0,\"#8e0152\"],[0.1,\"#c51b7d\"],[0.2,\"#de77ae\"],[0.3,\"#f1b6da\"],[0.4,\"#fde0ef\"],[0.5,\"#f7f7f7\"],[0.6,\"#e6f5d0\"],[0.7,\"#b8e186\"],[0.8,\"#7fbc41\"],[0.9,\"#4d9221\"],[1,\"#276419\"]],\"sequential\":[[0.0,\"#0d0887\"],[0.1111111111111111,\"#46039f\"],[0.2222222222222222,\"#7201a8\"],[0.3333333333333333,\"#9c179e\"],[0.4444444444444444,\"#bd3786\"],[0.5555555555555556,\"#d8576b\"],[0.6666666666666666,\"#ed7953\"],[0.7777777777777778,\"#fb9f3a\"],[0.8888888888888888,\"#fdca26\"],[1.0,\"#f0f921\"]],\"sequentialminus\":[[0.0,\"#0d0887\"],[0.1111111111111111,\"#46039f\"],[0.2222222222222222,\"#7201a8\"],[0.3333333333333333,\"#9c179e\"],[0.4444444444444444,\"#bd3786\"],[0.5555555555555556,\"#d8576b\"],[0.6666666666666666,\"#ed7953\"],[0.7777777777777778,\"#fb9f3a\"],[0.8888888888888888,\"#fdca26\"],[1.0,\"#f0f921\"]]},\"colorway\":[\"#636efa\",\"#EF553B\",\"#00cc96\",\"#ab63fa\",\"#FFA15A\",\"#19d3f3\",\"#FF6692\",\"#B6E880\",\"#FF97FF\",\"#FECB52\"],\"font\":{\"color\":\"#2a3f5f\"},\"geo\":{\"bgcolor\":\"white\",\"lakecolor\":\"white\",\"landcolor\":\"#E5ECF6\",\"showlakes\":true,\"showland\":true,\"subunitcolor\":\"white\"},\"hoverlabel\":{\"align\":\"left\"},\"hovermode\":\"closest\",\"mapbox\":{\"style\":\"light\"},\"paper_bgcolor\":\"white\",\"plot_bgcolor\":\"#E5ECF6\",\"polar\":{\"angularaxis\":{\"gridcolor\":\"white\",\"linecolor\":\"white\",\"ticks\":\"\"},\"bgcolor\":\"#E5ECF6\",\"radialaxis\":{\"gridcolor\":\"white\",\"linecolor\":\"white\",\"ticks\":\"\"}},\"scene\":{\"xaxis\":{\"backgroundcolor\":\"#E5ECF6\",\"gridcolor\":\"white\",\"gridwidth\":2,\"linecolor\":\"white\",\"showbackground\":true,\"ticks\":\"\",\"zerolinecolor\":\"white\"},\"yaxis\":{\"backgroundcolor\":\"#E5ECF6\",\"gridcolor\":\"white\",\"gridwidth\":2,\"linecolor\":\"white\",\"showbackground\":true,\"ticks\":\"\",\"zerolinecolor\":\"white\"},\"zaxis\":{\"backgroundcolor\":\"#E5ECF6\",\"gridcolor\":\"white\",\"gridwidth\":2,\"linecolor\":\"white\",\"showbackground\":true,\"ticks\":\"\",\"zerolinecolor\":\"white\"}},\"shapedefaults\":{\"line\":{\"color\":\"#2a3f5f\"}},\"ternary\":{\"aaxis\":{\"gridcolor\":\"white\",\"linecolor\":\"white\",\"ticks\":\"\"},\"baxis\":{\"gridcolor\":\"white\",\"linecolor\":\"white\",\"ticks\":\"\"},\"bgcolor\":\"#E5ECF6\",\"caxis\":{\"gridcolor\":\"white\",\"linecolor\":\"white\",\"ticks\":\"\"}},\"title\":{\"x\":0.05},\"xaxis\":{\"automargin\":true,\"gridcolor\":\"white\",\"linecolor\":\"white\",\"ticks\":\"\",\"title\":{\"standoff\":15},\"zerolinecolor\":\"white\",\"zerolinewidth\":2},\"yaxis\":{\"automargin\":true,\"gridcolor\":\"white\",\"linecolor\":\"white\",\"ticks\":\"\",\"title\":{\"standoff\":15},\"zerolinecolor\":\"white\",\"zerolinewidth\":2}}},\"xaxis\":{\"anchor\":\"y\",\"domain\":[0.0,1.0],\"title\":{\"text\":\"age_category\"}},\"yaxis\":{\"anchor\":\"x\",\"domain\":[0.0,1.0],\"title\":{\"text\":\"Count of fraudlent\"}},\"legend\":{\"title\":{\"text\":\"fraudulent\"},\"tracegroupgap\":0},\"title\":{\"text\":\"Count of Fraudlent\"},\"barmode\":\"group\",\"height\":400},                        {\"responsive\": true}                    ).then(function(){\n",
       "                            \n",
       "var gd = document.getElementById('fe3c044e-2cdf-4a41-af23-ad674a6ec654');\n",
       "var x = new MutationObserver(function (mutations, observer) {{\n",
       "        var display = window.getComputedStyle(gd).display;\n",
       "        if (!display || display === 'none') {{\n",
       "            console.log([gd, 'removed!']);\n",
       "            Plotly.purge(gd);\n",
       "            observer.disconnect();\n",
       "        }}\n",
       "}});\n",
       "\n",
       "// Listen for the removal of the full notebook cells\n",
       "var notebookContainer = gd.closest('#notebook-container');\n",
       "if (notebookContainer) {{\n",
       "    x.observe(notebookContainer, {childList: true});\n",
       "}}\n",
       "\n",
       "// Listen for the clearing of the current output cell\n",
       "var outputEl = gd.closest('.output');\n",
       "if (outputEl) {{\n",
       "    x.observe(outputEl, {childList: true});\n",
       "}}\n",
       "\n",
       "                        })                };                });            </script>        </div>"
      ]
     },
     "metadata": {},
     "output_type": "display_data"
    }
   ],
   "source": [
    "fig= px.bar(fraud_age_group, x='age_category', y='Count of fraudlent', color='fraudulent', barmode='group', height=400, title='Count of Fraudlent')\n",
    "fig.show()"
   ]
  },
  {
   "cell_type": "markdown",
   "id": "86261c56",
   "metadata": {},
   "source": [
    "### 14. Visualize the monthly trend of the total amount that has been claimed by the customers. Ensure that on the “month” axis, the month is in a chronological order not alphabetical order."
   ]
  },
  {
   "cell_type": "code",
   "execution_count": 34,
   "id": "aafb10da",
   "metadata": {
    "ExecuteTime": {
     "end_time": "2022-06-25T07:56:20.685895Z",
     "start_time": "2022-06-25T07:56:20.643542Z"
    }
   },
   "outputs": [],
   "source": [
    "cust_claim_data['month_year']= cust_claim_data['claim_date'].dt.to_period('M')"
   ]
  },
  {
   "cell_type": "code",
   "execution_count": 35,
   "id": "360b95d6",
   "metadata": {
    "ExecuteTime": {
     "end_time": "2022-06-25T07:56:20.782462Z",
     "start_time": "2022-06-25T07:56:20.687441Z"
    }
   },
   "outputs": [],
   "source": [
    "cust_claim_data['month_no']= cust_claim_data['claim_date'].dt.month\n",
    "cust_claim_data['year']= cust_claim_data['claim_date'].dt.year"
   ]
  },
  {
   "cell_type": "code",
   "execution_count": 38,
   "id": "0aa98f87",
   "metadata": {
    "ExecuteTime": {
     "end_time": "2022-06-25T08:03:00.047154Z",
     "start_time": "2022-06-25T08:03:00.031851Z"
    }
   },
   "outputs": [],
   "source": [
    "cust_claim_data_time_line1= cust_claim_data[['year', 'month_no', 'claim_amount']]\n",
    "cust_claim_data_time_line1=cust_claim_data_time_line1.sort_values(['year','month_no'], ascending=[True, True])"
   ]
  },
  {
   "cell_type": "code",
   "execution_count": 39,
   "id": "6668208b",
   "metadata": {
    "ExecuteTime": {
     "end_time": "2022-06-25T08:03:00.125089Z",
     "start_time": "2022-06-25T08:03:00.048942Z"
    }
   },
   "outputs": [
    {
     "data": {
      "text/html": [
       "<div>\n",
       "<style scoped>\n",
       "    .dataframe tbody tr th:only-of-type {\n",
       "        vertical-align: middle;\n",
       "    }\n",
       "\n",
       "    .dataframe tbody tr th {\n",
       "        vertical-align: top;\n",
       "    }\n",
       "\n",
       "    .dataframe thead th {\n",
       "        text-align: right;\n",
       "    }\n",
       "</style>\n",
       "<table border=\"1\" class=\"dataframe\">\n",
       "  <thead>\n",
       "    <tr style=\"text-align: right;\">\n",
       "      <th></th>\n",
       "      <th>year</th>\n",
       "      <th>month_no</th>\n",
       "      <th>claim_amount</th>\n",
       "    </tr>\n",
       "  </thead>\n",
       "  <tbody>\n",
       "    <tr>\n",
       "      <th>67</th>\n",
       "      <td>2017</td>\n",
       "      <td>1</td>\n",
       "      <td>2910.000000</td>\n",
       "    </tr>\n",
       "    <tr>\n",
       "      <th>78</th>\n",
       "      <td>2017</td>\n",
       "      <td>1</td>\n",
       "      <td>12467.681373</td>\n",
       "    </tr>\n",
       "    <tr>\n",
       "      <th>90</th>\n",
       "      <td>2017</td>\n",
       "      <td>1</td>\n",
       "      <td>1180.000000</td>\n",
       "    </tr>\n",
       "    <tr>\n",
       "      <th>105</th>\n",
       "      <td>2017</td>\n",
       "      <td>1</td>\n",
       "      <td>37524.500000</td>\n",
       "    </tr>\n",
       "    <tr>\n",
       "      <th>120</th>\n",
       "      <td>2017</td>\n",
       "      <td>1</td>\n",
       "      <td>2967.000000</td>\n",
       "    </tr>\n",
       "    <tr>\n",
       "      <th>...</th>\n",
       "      <td>...</td>\n",
       "      <td>...</td>\n",
       "      <td>...</td>\n",
       "    </tr>\n",
       "    <tr>\n",
       "      <th>1049</th>\n",
       "      <td>2018</td>\n",
       "      <td>10</td>\n",
       "      <td>2270.000000</td>\n",
       "    </tr>\n",
       "    <tr>\n",
       "      <th>1054</th>\n",
       "      <td>2018</td>\n",
       "      <td>10</td>\n",
       "      <td>30890.000000</td>\n",
       "    </tr>\n",
       "    <tr>\n",
       "      <th>1055</th>\n",
       "      <td>2018</td>\n",
       "      <td>10</td>\n",
       "      <td>2420.000000</td>\n",
       "    </tr>\n",
       "    <tr>\n",
       "      <th>1074</th>\n",
       "      <td>2018</td>\n",
       "      <td>10</td>\n",
       "      <td>33330.000000</td>\n",
       "    </tr>\n",
       "    <tr>\n",
       "      <th>1077</th>\n",
       "      <td>2018</td>\n",
       "      <td>10</td>\n",
       "      <td>2290.000000</td>\n",
       "    </tr>\n",
       "  </tbody>\n",
       "</table>\n",
       "<p>1085 rows × 3 columns</p>\n",
       "</div>"
      ],
      "text/plain": [
       "      year  month_no  claim_amount\n",
       "67    2017         1   2910.000000\n",
       "78    2017         1  12467.681373\n",
       "90    2017         1   1180.000000\n",
       "105   2017         1  37524.500000\n",
       "120   2017         1   2967.000000\n",
       "...    ...       ...           ...\n",
       "1049  2018        10   2270.000000\n",
       "1054  2018        10  30890.000000\n",
       "1055  2018        10   2420.000000\n",
       "1074  2018        10  33330.000000\n",
       "1077  2018        10   2290.000000\n",
       "\n",
       "[1085 rows x 3 columns]"
      ]
     },
     "execution_count": 39,
     "metadata": {},
     "output_type": "execute_result"
    }
   ],
   "source": [
    "cust_claim_data_time_line1"
   ]
  },
  {
   "cell_type": "code",
   "execution_count": 40,
   "id": "31b976c0",
   "metadata": {
    "ExecuteTime": {
     "end_time": "2022-06-25T08:03:01.048267Z",
     "start_time": "2022-06-25T08:03:00.126311Z"
    }
   },
   "outputs": [
    {
     "data": {
      "application/vnd.plotly.v1+json": {
       "config": {
        "plotlyServerURL": "https://plot.ly"
       },
       "data": [
        {
         "alignmentgroup": "True",
         "hovertemplate": "month_no=%{x}<br>claim_amount=%{y}<br>year=%{marker.color}<extra></extra>",
         "legendgroup": "",
         "marker": {
          "color": [
           2017,
           2017,
           2017,
           2017,
           2017,
           2017,
           2017,
           2017,
           2017,
           2017,
           2017,
           2017,
           2017,
           2017,
           2017,
           2017,
           2017,
           2017,
           2017,
           2017,
           2017,
           2017,
           2017,
           2017,
           2017,
           2017,
           2017,
           2017,
           2017,
           2017,
           2017,
           2017,
           2017,
           2017,
           2017,
           2017,
           2017,
           2017,
           2017,
           2017,
           2017,
           2017,
           2017,
           2017,
           2017,
           2017,
           2017,
           2017,
           2017,
           2017,
           2017,
           2017,
           2017,
           2017,
           2017,
           2017,
           2017,
           2017,
           2017,
           2017,
           2017,
           2017,
           2017,
           2017,
           2017,
           2017,
           2017,
           2017,
           2017,
           2017,
           2017,
           2017,
           2017,
           2017,
           2017,
           2017,
           2017,
           2017,
           2017,
           2017,
           2017,
           2017,
           2017,
           2017,
           2017,
           2017,
           2017,
           2017,
           2017,
           2017,
           2017,
           2017,
           2017,
           2017,
           2017,
           2017,
           2017,
           2017,
           2017,
           2017,
           2017,
           2017,
           2017,
           2017,
           2017,
           2017,
           2017,
           2017,
           2017,
           2017,
           2017,
           2017,
           2017,
           2017,
           2017,
           2017,
           2017,
           2017,
           2017,
           2017,
           2017,
           2017,
           2017,
           2017,
           2017,
           2017,
           2017,
           2017,
           2017,
           2017,
           2017,
           2017,
           2017,
           2017,
           2017,
           2017,
           2017,
           2017,
           2017,
           2017,
           2017,
           2017,
           2017,
           2017,
           2017,
           2017,
           2017,
           2017,
           2017,
           2017,
           2017,
           2017,
           2017,
           2017,
           2017,
           2017,
           2017,
           2017,
           2017,
           2017,
           2017,
           2017,
           2017,
           2017,
           2017,
           2017,
           2017,
           2017,
           2017,
           2017,
           2017,
           2017,
           2017,
           2017,
           2017,
           2017,
           2017,
           2017,
           2017,
           2017,
           2017,
           2017,
           2017,
           2017,
           2017,
           2017,
           2017,
           2017,
           2017,
           2017,
           2017,
           2017,
           2017,
           2017,
           2017,
           2017,
           2017,
           2017,
           2017,
           2017,
           2017,
           2017,
           2017,
           2017,
           2017,
           2017,
           2017,
           2017,
           2017,
           2017,
           2017,
           2017,
           2017,
           2017,
           2017,
           2017,
           2017,
           2017,
           2017,
           2017,
           2017,
           2017,
           2017,
           2017,
           2017,
           2017,
           2017,
           2017,
           2017,
           2017,
           2017,
           2017,
           2017,
           2017,
           2017,
           2017,
           2017,
           2017,
           2017,
           2017,
           2017,
           2017,
           2017,
           2017,
           2017,
           2017,
           2017,
           2017,
           2017,
           2017,
           2017,
           2017,
           2017,
           2017,
           2017,
           2017,
           2017,
           2017,
           2017,
           2017,
           2017,
           2017,
           2017,
           2017,
           2017,
           2017,
           2017,
           2017,
           2017,
           2017,
           2017,
           2017,
           2017,
           2017,
           2017,
           2017,
           2017,
           2017,
           2017,
           2017,
           2017,
           2017,
           2017,
           2017,
           2017,
           2017,
           2017,
           2017,
           2017,
           2017,
           2017,
           2017,
           2017,
           2017,
           2017,
           2017,
           2017,
           2017,
           2017,
           2017,
           2017,
           2017,
           2017,
           2017,
           2017,
           2017,
           2017,
           2017,
           2017,
           2017,
           2017,
           2017,
           2017,
           2017,
           2017,
           2017,
           2017,
           2017,
           2017,
           2017,
           2017,
           2017,
           2017,
           2017,
           2017,
           2017,
           2017,
           2017,
           2017,
           2017,
           2017,
           2017,
           2017,
           2017,
           2017,
           2017,
           2017,
           2017,
           2017,
           2017,
           2017,
           2017,
           2017,
           2017,
           2017,
           2017,
           2017,
           2017,
           2017,
           2017,
           2017,
           2017,
           2017,
           2017,
           2017,
           2017,
           2017,
           2017,
           2017,
           2017,
           2017,
           2017,
           2017,
           2017,
           2017,
           2017,
           2017,
           2017,
           2017,
           2017,
           2017,
           2017,
           2017,
           2017,
           2017,
           2017,
           2017,
           2017,
           2017,
           2017,
           2017,
           2017,
           2017,
           2017,
           2017,
           2017,
           2017,
           2017,
           2017,
           2017,
           2017,
           2017,
           2017,
           2017,
           2017,
           2017,
           2017,
           2017,
           2017,
           2017,
           2017,
           2017,
           2017,
           2017,
           2017,
           2017,
           2017,
           2017,
           2017,
           2017,
           2017,
           2017,
           2017,
           2017,
           2017,
           2017,
           2017,
           2017,
           2017,
           2017,
           2017,
           2017,
           2017,
           2017,
           2017,
           2017,
           2017,
           2017,
           2017,
           2017,
           2017,
           2017,
           2017,
           2017,
           2017,
           2017,
           2017,
           2017,
           2017,
           2017,
           2017,
           2017,
           2017,
           2017,
           2017,
           2017,
           2017,
           2017,
           2017,
           2017,
           2017,
           2017,
           2017,
           2017,
           2017,
           2017,
           2017,
           2017,
           2017,
           2017,
           2017,
           2017,
           2017,
           2017,
           2017,
           2017,
           2017,
           2017,
           2017,
           2017,
           2017,
           2017,
           2017,
           2017,
           2017,
           2017,
           2017,
           2017,
           2017,
           2017,
           2017,
           2017,
           2017,
           2017,
           2017,
           2017,
           2017,
           2017,
           2017,
           2017,
           2017,
           2017,
           2017,
           2017,
           2017,
           2017,
           2017,
           2017,
           2017,
           2017,
           2017,
           2017,
           2017,
           2017,
           2017,
           2017,
           2017,
           2017,
           2017,
           2017,
           2017,
           2017,
           2017,
           2017,
           2017,
           2017,
           2017,
           2017,
           2017,
           2017,
           2017,
           2017,
           2017,
           2017,
           2017,
           2017,
           2017,
           2017,
           2017,
           2017,
           2017,
           2017,
           2017,
           2017,
           2017,
           2017,
           2017,
           2017,
           2017,
           2017,
           2017,
           2017,
           2017,
           2017,
           2017,
           2017,
           2017,
           2017,
           2017,
           2017,
           2017,
           2017,
           2017,
           2017,
           2017,
           2017,
           2017,
           2017,
           2017,
           2017,
           2017,
           2017,
           2017,
           2017,
           2017,
           2017,
           2017,
           2017,
           2017,
           2017,
           2017,
           2017,
           2017,
           2017,
           2017,
           2017,
           2017,
           2017,
           2017,
           2017,
           2017,
           2017,
           2017,
           2017,
           2017,
           2017,
           2017,
           2017,
           2017,
           2017,
           2017,
           2017,
           2017,
           2017,
           2017,
           2017,
           2017,
           2017,
           2018,
           2018,
           2018,
           2018,
           2018,
           2018,
           2018,
           2018,
           2018,
           2018,
           2018,
           2018,
           2018,
           2018,
           2018,
           2018,
           2018,
           2018,
           2018,
           2018,
           2018,
           2018,
           2018,
           2018,
           2018,
           2018,
           2018,
           2018,
           2018,
           2018,
           2018,
           2018,
           2018,
           2018,
           2018,
           2018,
           2018,
           2018,
           2018,
           2018,
           2018,
           2018,
           2018,
           2018,
           2018,
           2018,
           2018,
           2018,
           2018,
           2018,
           2018,
           2018,
           2018,
           2018,
           2018,
           2018,
           2018,
           2018,
           2018,
           2018,
           2018,
           2018,
           2018,
           2018,
           2018,
           2018,
           2018,
           2018,
           2018,
           2018,
           2018,
           2018,
           2018,
           2018,
           2018,
           2018,
           2018,
           2018,
           2018,
           2018,
           2018,
           2018,
           2018,
           2018,
           2018,
           2018,
           2018,
           2018,
           2018,
           2018,
           2018,
           2018,
           2018,
           2018,
           2018,
           2018,
           2018,
           2018,
           2018,
           2018,
           2018,
           2018,
           2018,
           2018,
           2018,
           2018,
           2018,
           2018,
           2018,
           2018,
           2018,
           2018,
           2018,
           2018,
           2018,
           2018,
           2018,
           2018,
           2018,
           2018,
           2018,
           2018,
           2018,
           2018,
           2018,
           2018,
           2018,
           2018,
           2018,
           2018,
           2018,
           2018,
           2018,
           2018,
           2018,
           2018,
           2018,
           2018,
           2018,
           2018,
           2018,
           2018,
           2018,
           2018,
           2018,
           2018,
           2018,
           2018,
           2018,
           2018,
           2018,
           2018,
           2018,
           2018,
           2018,
           2018,
           2018,
           2018,
           2018,
           2018,
           2018,
           2018,
           2018,
           2018,
           2018,
           2018,
           2018,
           2018,
           2018,
           2018,
           2018,
           2018,
           2018,
           2018,
           2018,
           2018,
           2018,
           2018,
           2018,
           2018,
           2018,
           2018,
           2018,
           2018,
           2018,
           2018,
           2018,
           2018,
           2018,
           2018,
           2018,
           2018,
           2018,
           2018,
           2018,
           2018,
           2018,
           2018,
           2018,
           2018,
           2018,
           2018,
           2018,
           2018,
           2018,
           2018,
           2018,
           2018,
           2018,
           2018,
           2018,
           2018,
           2018,
           2018,
           2018,
           2018,
           2018,
           2018,
           2018,
           2018,
           2018,
           2018,
           2018,
           2018,
           2018,
           2018,
           2018,
           2018,
           2018,
           2018,
           2018,
           2018,
           2018,
           2018,
           2018,
           2018,
           2018,
           2018,
           2018,
           2018,
           2018,
           2018,
           2018,
           2018,
           2018,
           2018,
           2018,
           2018,
           2018,
           2018,
           2018,
           2018,
           2018,
           2018,
           2018,
           2018,
           2018,
           2018,
           2018,
           2018,
           2018,
           2018,
           2018,
           2018,
           2018,
           2018,
           2018,
           2018,
           2018,
           2018,
           2018,
           2018,
           2018,
           2018,
           2018,
           2018,
           2018,
           2018,
           2018,
           2018,
           2018,
           2018,
           2018,
           2018,
           2018,
           2018,
           2018,
           2018,
           2018,
           2018,
           2018,
           2018,
           2018,
           2018,
           2018,
           2018,
           2018,
           2018,
           2018,
           2018,
           2018,
           2018,
           2018,
           2018,
           2018,
           2018,
           2018,
           2018,
           2018,
           2018,
           2018,
           2018,
           2018,
           2018,
           2018,
           2018,
           2018,
           2018,
           2018,
           2018,
           2018,
           2018,
           2018,
           2018,
           2018,
           2018,
           2018,
           2018,
           2018,
           2018,
           2018,
           2018,
           2018,
           2018,
           2018,
           2018,
           2018,
           2018,
           2018,
           2018,
           2018,
           2018,
           2018,
           2018,
           2018,
           2018,
           2018,
           2018,
           2018,
           2018,
           2018,
           2018,
           2018,
           2018,
           2018,
           2018,
           2018,
           2018,
           2018,
           2018,
           2018,
           2018,
           2018,
           2018,
           2018,
           2018,
           2018,
           2018,
           2018,
           2018,
           2018,
           2018,
           2018,
           2018,
           2018,
           2018,
           2018,
           2018,
           2018,
           2018,
           2018,
           2018,
           2018,
           2018,
           2018,
           2018,
           2018,
           2018,
           2018,
           2018,
           2018,
           2018,
           2018,
           2018,
           2018,
           2018,
           2018,
           2018,
           2018,
           2018,
           2018,
           2018,
           2018,
           2018,
           2018,
           2018,
           2018,
           2018,
           2018,
           2018,
           2018,
           2018,
           2018,
           2018,
           2018,
           2018,
           2018,
           2018,
           2018,
           2018,
           2018,
           2018,
           2018,
           2018,
           2018,
           2018,
           2018,
           2018,
           2018,
           2018,
           2018,
           2018,
           2018,
           2018,
           2018,
           2018,
           2018,
           2018,
           2018,
           2018,
           2018,
           2018,
           2018,
           2018,
           2018,
           2018,
           2018,
           2018,
           2018,
           2018,
           2018,
           2018,
           2018,
           2018,
           2018,
           2018,
           2018,
           2018,
           2018,
           2018,
           2018,
           2018,
           2018,
           2018,
           2018,
           2018,
           2018,
           2018,
           2018,
           2018,
           2018,
           2018,
           2018,
           2018,
           2018,
           2018,
           2018,
           2018,
           2018,
           2018,
           2018,
           2018,
           2018,
           2018,
           2018,
           2018,
           2018
          ],
          "coloraxis": "coloraxis",
          "pattern": {
           "shape": ""
          }
         },
         "name": "",
         "offsetgroup": "",
         "orientation": "v",
         "showlegend": false,
         "textposition": "auto",
         "type": "bar",
         "x": [
          1,
          1,
          1,
          1,
          1,
          1,
          1,
          1,
          1,
          1,
          1,
          1,
          1,
          1,
          1,
          1,
          1,
          1,
          1,
          1,
          1,
          1,
          1,
          1,
          1,
          1,
          1,
          1,
          1,
          1,
          1,
          1,
          1,
          1,
          1,
          1,
          1,
          1,
          1,
          1,
          1,
          1,
          1,
          1,
          1,
          1,
          1,
          1,
          1,
          1,
          1,
          1,
          1,
          1,
          1,
          1,
          1,
          1,
          2,
          2,
          2,
          2,
          2,
          2,
          2,
          2,
          2,
          2,
          2,
          2,
          2,
          2,
          2,
          2,
          2,
          2,
          2,
          2,
          2,
          2,
          2,
          2,
          2,
          2,
          2,
          2,
          2,
          2,
          2,
          2,
          2,
          2,
          2,
          2,
          2,
          2,
          2,
          2,
          2,
          2,
          2,
          2,
          2,
          2,
          2,
          2,
          2,
          2,
          2,
          3,
          3,
          3,
          3,
          3,
          3,
          3,
          3,
          3,
          3,
          3,
          3,
          3,
          3,
          3,
          3,
          3,
          3,
          3,
          3,
          3,
          3,
          3,
          3,
          3,
          3,
          3,
          3,
          3,
          3,
          3,
          3,
          3,
          3,
          3,
          3,
          3,
          3,
          3,
          3,
          3,
          3,
          3,
          3,
          3,
          3,
          3,
          3,
          3,
          3,
          3,
          3,
          3,
          3,
          3,
          3,
          4,
          4,
          4,
          4,
          4,
          4,
          4,
          4,
          4,
          4,
          4,
          4,
          4,
          4,
          4,
          4,
          4,
          4,
          4,
          4,
          4,
          4,
          4,
          4,
          4,
          4,
          4,
          4,
          4,
          4,
          4,
          4,
          4,
          4,
          4,
          4,
          4,
          4,
          4,
          4,
          4,
          4,
          4,
          4,
          4,
          4,
          4,
          4,
          4,
          4,
          4,
          4,
          5,
          5,
          5,
          5,
          5,
          5,
          5,
          5,
          5,
          5,
          5,
          5,
          5,
          5,
          5,
          5,
          5,
          5,
          5,
          5,
          5,
          5,
          5,
          5,
          5,
          5,
          5,
          5,
          5,
          5,
          5,
          5,
          5,
          5,
          5,
          5,
          5,
          5,
          5,
          5,
          5,
          5,
          5,
          5,
          5,
          6,
          6,
          6,
          6,
          6,
          6,
          6,
          6,
          6,
          6,
          6,
          6,
          6,
          6,
          6,
          6,
          6,
          6,
          6,
          6,
          6,
          6,
          6,
          6,
          6,
          6,
          6,
          6,
          6,
          6,
          6,
          6,
          6,
          6,
          6,
          6,
          6,
          6,
          6,
          6,
          7,
          7,
          7,
          7,
          7,
          7,
          7,
          7,
          7,
          7,
          7,
          7,
          7,
          7,
          7,
          7,
          7,
          7,
          7,
          7,
          7,
          7,
          7,
          7,
          7,
          7,
          7,
          7,
          7,
          7,
          7,
          7,
          7,
          7,
          7,
          7,
          7,
          7,
          7,
          7,
          7,
          7,
          7,
          7,
          7,
          7,
          7,
          7,
          7,
          7,
          7,
          7,
          7,
          7,
          7,
          7,
          7,
          7,
          7,
          8,
          8,
          8,
          8,
          8,
          8,
          8,
          8,
          8,
          8,
          8,
          8,
          8,
          8,
          8,
          8,
          8,
          8,
          8,
          8,
          8,
          8,
          8,
          8,
          8,
          8,
          8,
          8,
          8,
          8,
          8,
          8,
          8,
          8,
          8,
          8,
          8,
          8,
          8,
          8,
          8,
          8,
          8,
          8,
          8,
          8,
          8,
          8,
          8,
          9,
          9,
          9,
          9,
          9,
          9,
          9,
          9,
          9,
          9,
          9,
          9,
          9,
          9,
          9,
          9,
          9,
          9,
          9,
          9,
          9,
          9,
          9,
          9,
          9,
          9,
          9,
          9,
          9,
          9,
          9,
          9,
          9,
          9,
          9,
          10,
          10,
          10,
          10,
          10,
          10,
          10,
          10,
          10,
          10,
          10,
          10,
          10,
          10,
          10,
          10,
          10,
          10,
          10,
          10,
          10,
          10,
          10,
          10,
          10,
          10,
          10,
          10,
          10,
          10,
          10,
          10,
          10,
          10,
          10,
          10,
          10,
          10,
          10,
          10,
          10,
          10,
          10,
          10,
          10,
          10,
          10,
          10,
          10,
          10,
          10,
          10,
          10,
          10,
          10,
          10,
          10,
          10,
          10,
          10,
          10,
          11,
          11,
          11,
          11,
          11,
          11,
          11,
          11,
          11,
          11,
          11,
          11,
          11,
          11,
          11,
          11,
          11,
          11,
          11,
          11,
          11,
          11,
          11,
          11,
          11,
          11,
          11,
          11,
          11,
          11,
          11,
          11,
          11,
          11,
          11,
          11,
          11,
          11,
          11,
          11,
          11,
          11,
          11,
          11,
          12,
          12,
          12,
          12,
          12,
          12,
          12,
          12,
          12,
          12,
          12,
          12,
          12,
          12,
          12,
          12,
          12,
          12,
          12,
          12,
          12,
          12,
          12,
          12,
          12,
          12,
          12,
          12,
          12,
          12,
          12,
          12,
          12,
          12,
          12,
          12,
          12,
          12,
          12,
          12,
          12,
          12,
          12,
          12,
          12,
          12,
          12,
          12,
          1,
          1,
          1,
          1,
          1,
          1,
          1,
          1,
          1,
          1,
          1,
          1,
          1,
          1,
          1,
          1,
          1,
          1,
          1,
          1,
          1,
          1,
          1,
          1,
          1,
          1,
          1,
          1,
          1,
          1,
          1,
          1,
          1,
          1,
          1,
          1,
          1,
          1,
          1,
          1,
          1,
          1,
          1,
          1,
          1,
          1,
          1,
          2,
          2,
          2,
          2,
          2,
          2,
          2,
          2,
          2,
          2,
          2,
          2,
          2,
          2,
          2,
          2,
          2,
          2,
          2,
          2,
          2,
          2,
          2,
          2,
          2,
          2,
          2,
          2,
          2,
          2,
          2,
          2,
          2,
          2,
          2,
          2,
          2,
          2,
          2,
          2,
          3,
          3,
          3,
          3,
          3,
          3,
          3,
          3,
          3,
          3,
          3,
          3,
          3,
          3,
          3,
          3,
          3,
          3,
          3,
          3,
          3,
          3,
          3,
          3,
          3,
          3,
          3,
          3,
          3,
          3,
          3,
          3,
          3,
          3,
          3,
          3,
          3,
          3,
          3,
          3,
          3,
          3,
          3,
          3,
          3,
          3,
          3,
          3,
          3,
          3,
          3,
          3,
          3,
          3,
          3,
          4,
          4,
          4,
          4,
          4,
          4,
          4,
          4,
          4,
          4,
          4,
          4,
          4,
          4,
          4,
          4,
          4,
          4,
          4,
          4,
          4,
          4,
          4,
          4,
          4,
          4,
          4,
          4,
          4,
          4,
          4,
          4,
          4,
          4,
          4,
          4,
          4,
          4,
          4,
          4,
          4,
          4,
          4,
          4,
          4,
          4,
          4,
          4,
          4,
          4,
          4,
          4,
          4,
          5,
          5,
          5,
          5,
          5,
          5,
          5,
          5,
          5,
          5,
          5,
          5,
          5,
          5,
          5,
          5,
          5,
          5,
          5,
          5,
          5,
          5,
          5,
          5,
          5,
          5,
          5,
          5,
          5,
          5,
          5,
          5,
          5,
          5,
          5,
          5,
          5,
          5,
          5,
          5,
          5,
          5,
          5,
          5,
          5,
          5,
          5,
          5,
          6,
          6,
          6,
          6,
          6,
          6,
          6,
          6,
          6,
          6,
          6,
          6,
          6,
          6,
          6,
          6,
          6,
          6,
          6,
          6,
          6,
          6,
          6,
          6,
          6,
          6,
          6,
          6,
          6,
          6,
          6,
          6,
          6,
          6,
          6,
          6,
          6,
          6,
          6,
          6,
          6,
          6,
          6,
          6,
          6,
          6,
          6,
          6,
          6,
          6,
          6,
          6,
          6,
          7,
          7,
          7,
          7,
          7,
          7,
          7,
          7,
          7,
          7,
          7,
          7,
          7,
          7,
          7,
          7,
          7,
          7,
          7,
          7,
          7,
          7,
          7,
          7,
          7,
          7,
          7,
          7,
          7,
          7,
          7,
          7,
          7,
          7,
          7,
          7,
          7,
          7,
          7,
          7,
          7,
          7,
          7,
          7,
          7,
          7,
          7,
          8,
          8,
          8,
          8,
          8,
          8,
          8,
          8,
          8,
          8,
          8,
          8,
          8,
          8,
          8,
          8,
          8,
          8,
          8,
          8,
          8,
          8,
          8,
          8,
          8,
          8,
          8,
          8,
          8,
          8,
          8,
          8,
          8,
          8,
          8,
          8,
          8,
          8,
          8,
          8,
          9,
          9,
          9,
          9,
          9,
          9,
          9,
          9,
          9,
          9,
          9,
          9,
          9,
          9,
          9,
          9,
          9,
          9,
          9,
          9,
          9,
          9,
          9,
          9,
          9,
          9,
          9,
          9,
          9,
          9,
          9,
          9,
          9,
          9,
          9,
          9,
          9,
          9,
          9,
          9,
          9,
          9,
          9,
          10,
          10,
          10,
          10,
          10,
          10,
          10,
          10,
          10,
          10,
          10,
          10,
          10,
          10,
          10,
          10,
          10,
          10,
          10,
          10,
          10,
          10,
          10,
          10,
          10,
          10,
          10,
          10,
          10,
          10,
          10,
          10,
          10,
          10,
          10,
          10,
          10,
          10,
          10,
          10,
          10,
          10,
          10,
          10,
          10,
          10,
          10,
          10,
          10,
          10,
          10,
          10,
          10,
          10,
          10,
          10,
          10,
          10,
          10,
          10,
          10
         ],
         "xaxis": "x",
         "y": [
          2910,
          12467.68137254902,
          1180,
          37524.5,
          2967,
          2970,
          1140,
          2080,
          30930,
          17290,
          3335,
          27560,
          1400,
          20200,
          1210,
          1770,
          37290,
          20310,
          14170,
          2900,
          1860,
          12467.68137254902,
          1700,
          1500,
          2850,
          19120,
          20720,
          1040,
          1759.5,
          2380,
          1350,
          3001.5,
          1242,
          1860,
          2160,
          46483,
          1130,
          1840,
          2357.5,
          2550,
          2955.5,
          21590,
          2010,
          1910,
          36860,
          27670,
          2196.5,
          36670,
          35280,
          2260,
          1552.5,
          1530,
          28760,
          1276.5,
          12467.68137254902,
          20630,
          1380,
          2320,
          12467.68137254902,
          1890,
          32630,
          25830,
          2610,
          2720,
          40180,
          2310,
          2290,
          1180,
          1860,
          1679,
          2460,
          2790,
          1529.5,
          1550,
          2590,
          16700,
          39928,
          1870,
          1540,
          21447.5,
          2060,
          2550,
          1100,
          34950,
          2130,
          12467.68137254902,
          1060,
          23940,
          1564,
          1490,
          2890,
          35480,
          19400,
          37740,
          20380,
          24050,
          32090,
          26610,
          1495,
          29740,
          26250,
          2770,
          2380.5,
          29220,
          3346.5,
          2800,
          28520,
          2323,
          2670,
          2090,
          18400,
          3070.5,
          2510,
          14240,
          1260,
          2714,
          21330,
          33900,
          2440,
          16460,
          2886.5,
          1800,
          2450,
          19640,
          2370,
          1260,
          1000,
          25010,
          2392,
          1276.5,
          19820,
          2580,
          2185,
          38890,
          1200,
          1265,
          36350,
          24380,
          33210,
          2980,
          38065,
          12467.68137254902,
          32040,
          17070,
          2900,
          2150.5,
          2553,
          19530,
          14220,
          3369.5,
          33140,
          30080,
          2700,
          2300,
          1759.5,
          1630,
          1207.5,
          12467.68137254902,
          2510,
          14250,
          20458.5,
          1350,
          2720,
          1720,
          1490,
          1440,
          2830,
          33000,
          19960,
          16150,
          30540,
          12467.68137254902,
          17360,
          17590,
          19440,
          2960,
          17050,
          40660,
          1680,
          22100,
          1590,
          1030,
          1403,
          33590,
          1110,
          19390,
          2219.5,
          35800,
          30420,
          24610,
          3427,
          2050,
          30015,
          20230,
          2590,
          36170,
          34490,
          1020,
          2800,
          39928,
          3105,
          20610,
          2800,
          1600,
          29530,
          15750,
          22540,
          2310,
          1570,
          1750,
          1970,
          1200,
          3093.5,
          23483,
          2110,
          34010,
          2840,
          16830,
          12467.68137254902,
          20080,
          1288,
          1700,
          44493.5,
          12467.68137254902,
          1020,
          27520,
          41779.5,
          1850,
          1040,
          2700,
          14480,
          20970,
          2130,
          1620,
          2940,
          13710,
          2932.5,
          1430,
          2430,
          1300,
          2540,
          2330,
          13100,
          1120,
          33522.5,
          1120,
          30170,
          1520,
          18963.5,
          1184.5,
          2702.5,
          2010,
          45540,
          34200,
          36500,
          1680,
          12467.68137254902,
          17370,
          2070,
          1470,
          2800,
          33080,
          31380,
          2210,
          37800,
          1640,
          22420,
          15240,
          1740,
          34770,
          1391.5,
          2415,
          3128,
          1520,
          2104.5,
          2810,
          38970,
          2230,
          2430,
          27310,
          27910,
          40880,
          1550,
          1265,
          1700,
          30230,
          27830,
          2520,
          1630,
          33465,
          1980,
          2740,
          1210,
          2550,
          2150,
          30340,
          2670,
          12467.68137254902,
          2500,
          27350,
          35920,
          37743,
          2748.5,
          17800,
          1110,
          35765,
          33550,
          32480,
          17230,
          1368.5,
          12467.68137254902,
          1320,
          1840,
          2700,
          12467.68137254902,
          1253.5,
          47679,
          2530,
          1700,
          27610,
          2650,
          19900,
          32407,
          1460,
          23980,
          32960,
          2277,
          2220,
          34590,
          30840,
          2806,
          12467.68137254902,
          37500,
          14720,
          28230,
          18570,
          2270,
          2340,
          32180,
          3358,
          1978,
          2360,
          19100,
          34200,
          24220,
          2564.5,
          1300,
          2680,
          1380,
          25750,
          2460,
          23420,
          2200,
          32750,
          1740,
          12467.68137254902,
          2490,
          1330,
          1357,
          2590,
          1050,
          1010,
          25576,
          12467.68137254902,
          2470,
          1570,
          2710,
          3059,
          1529.5,
          2640,
          3128,
          2330,
          1207.5,
          24713.5,
          1110,
          21620,
          20769,
          2990,
          14460,
          33030,
          12467.68137254902,
          23450,
          2950,
          37170,
          30340,
          1810,
          1000,
          2370,
          2790,
          1600,
          2840,
          1472,
          1590,
          30500,
          2520,
          2400,
          3128,
          2540,
          1430,
          1880,
          25093,
          1748,
          31020,
          2100,
          1090,
          2730,
          18457.5,
          1960,
          1240,
          1472,
          1690,
          12467.68137254902,
          2740,
          1630,
          2600,
          37400,
          23960,
          27266.5,
          1932,
          1679,
          12467.68137254902,
          29630,
          40210,
          2670,
          1060,
          1644.5,
          2410,
          14570,
          2334.5,
          1040,
          1368.5,
          33730,
          22130,
          12467.68137254902,
          48150.5,
          12467.68137254902,
          20490,
          2290,
          2990,
          12467.68137254902,
          12467.68137254902,
          40951.5,
          12467.68137254902,
          1720,
          1670,
          38306.5,
          1210,
          2725.5,
          1030,
          41850,
          12467.68137254902,
          2620,
          16070,
          21190,
          36180,
          15920,
          31980,
          2410,
          2170,
          1620,
          2840,
          2691,
          1173,
          1184.5,
          1860,
          1380,
          2967,
          12467.68137254902,
          33490,
          3013,
          1630,
          2323,
          39370,
          47748,
          26440,
          2150,
          1700,
          3381,
          21920,
          1621.5,
          2093,
          2270,
          18140,
          33400,
          2240,
          3231.5,
          19470,
          1370,
          17951.5,
          16680,
          3277.5,
          2500,
          22270,
          1380,
          1190,
          1260,
          3323.5,
          2560,
          12467.68137254902,
          29200,
          1340,
          1800,
          2490,
          2360,
          1587,
          2242.5,
          2980,
          2340,
          2470,
          33190,
          1943.5,
          31498.5,
          1020,
          22960,
          24564,
          23270,
          1759.5,
          41365.5,
          2320,
          1080,
          2440,
          1817,
          2730,
          29900,
          1020,
          22000,
          3231.5,
          2170,
          25950,
          12467.68137254902,
          2550,
          2590,
          30060,
          37380,
          16380,
          1870,
          2250,
          31240,
          18650,
          2370,
          27580,
          12467.68137254902,
          26300,
          1980,
          2415,
          40135,
          42021,
          2990,
          1230,
          2173.5,
          16690,
          36190,
          32640,
          33040,
          1730,
          23740,
          29060,
          21300,
          1550,
          26480,
          2170,
          2560,
          14330,
          2645,
          26520,
          1920,
          2840,
          2810,
          26130,
          1150,
          22440,
          44367,
          1630,
          2370,
          35800,
          2090,
          2320,
          29480,
          37630,
          22570,
          2081.5,
          2288.5,
          29060,
          2480,
          2250,
          34460,
          2110,
          2220,
          15040,
          2633.5,
          18135.5,
          2940,
          2790,
          12467.68137254902,
          30670,
          1670,
          25140,
          2070,
          2680,
          1730,
          1495,
          21505,
          2460,
          25030,
          1850,
          31270,
          3312,
          39280,
          2240,
          2020,
          2070,
          12467.68137254902,
          1570,
          17250,
          16100,
          16760,
          44666,
          44838.5,
          2120,
          2150,
          35910,
          1210,
          29428.5,
          1630,
          1500,
          12467.68137254902,
          39997,
          2740,
          2120,
          2090,
          12467.68137254902,
          2880,
          12467.68137254902,
          20690,
          26890,
          28040,
          32730,
          21600,
          2000,
          37400,
          2140,
          2420,
          33620,
          14360,
          48035.5,
          3369.5,
          36810,
          2620,
          18580,
          40820,
          3358,
          20360,
          12467.68137254902,
          42722.5,
          44700.5,
          24750,
          29600,
          1880,
          39307,
          16790,
          1200,
          1970,
          35178.5,
          1350,
          1210,
          1510,
          2550,
          1110,
          1530,
          2000,
          2340,
          1170,
          1667.5,
          1587,
          34210,
          34530,
          16479.5,
          12467.68137254902,
          2360,
          31740,
          1530,
          2930,
          1000,
          1780,
          2852,
          2320,
          12467.68137254902,
          2060,
          1510,
          2070,
          1771,
          19240,
          1350,
          2060,
          20660,
          21830,
          1280,
          29960,
          2656.5,
          41280,
          29690,
          28950,
          12467.68137254902,
          33200,
          45287,
          2130,
          2750,
          32680,
          1909,
          31901,
          2950,
          25580,
          2600,
          2369,
          1863,
          1860,
          2470,
          17721.5,
          23851,
          29480,
          1780,
          1265,
          1500,
          21940,
          12467.68137254902,
          1610,
          33752.5,
          16680,
          1310,
          2390,
          2800,
          14480,
          37040,
          1300,
          2810,
          32867,
          1610,
          1370,
          1480,
          19895,
          1950,
          1160,
          1870,
          32560,
          41430,
          1242,
          1680,
          14260,
          1860,
          17180,
          1660,
          12467.68137254902,
          2980,
          28750,
          1510,
          26620,
          2450,
          1750,
          28050,
          23370,
          20630,
          2219.5,
          31450,
          1300,
          1050,
          24667.5,
          2714,
          1480,
          19320,
          2910,
          1460,
          2440,
          14430,
          34470,
          2495.5,
          1240,
          1610,
          1560,
          16870,
          2750,
          2480,
          39192,
          2587.5,
          2219.5,
          34780,
          2277,
          14690,
          2420,
          2090,
          1770,
          2900,
          2852,
          2380,
          2070,
          16910,
          2870,
          19520,
          2040,
          2220,
          1400,
          2740,
          2560,
          12467.68137254902,
          38590,
          12467.68137254902,
          1160,
          28740,
          2210,
          39280,
          1170,
          1630,
          2960,
          1820,
          16040,
          1140,
          2440,
          29530,
          19960,
          1725,
          28400,
          2265.5,
          12467.68137254902,
          1518,
          12467.68137254902,
          12467.68137254902,
          2580,
          3231.5,
          1960,
          1690,
          30400,
          27330,
          2780,
          3151,
          42872,
          28658,
          33360,
          1180,
          1750,
          17870,
          2280,
          31210,
          1680,
          3208.5,
          2630,
          1150,
          20999,
          1989.5,
          2170,
          25783,
          2150,
          1790,
          18308,
          16940,
          1600,
          1322.5,
          1740,
          36350,
          12467.68137254902,
          2470,
          2530,
          2070,
          24080,
          1780,
          31110,
          12467.68137254902,
          37869.5,
          38120,
          20033,
          1670,
          19297,
          1170,
          1280,
          26630,
          2510,
          2130,
          33520,
          23430,
          36010,
          12467.68137254902,
          34390,
          21530,
          12467.68137254902,
          37520,
          12467.68137254902,
          36440,
          19750,
          2668,
          1690,
          22440,
          1290,
          25210,
          1370,
          1780,
          2780,
          12467.68137254902,
          27230,
          30080,
          34971.5,
          2760,
          2260,
          12467.68137254902,
          30350,
          2920,
          17670,
          2280,
          1260,
          2750,
          2060,
          1173,
          20080,
          16880,
          35250,
          40170,
          27404.5,
          34160,
          2960,
          1140,
          1060,
          26850,
          2047,
          12467.68137254902,
          21480,
          1890,
          33640,
          3415.5,
          1070,
          13820,
          1250,
          1880,
          2110,
          21160,
          3093.5,
          1610,
          1510,
          2710,
          1180,
          12467.68137254902,
          12467.68137254902,
          1690,
          2630,
          44033.5,
          2870,
          2540,
          2120,
          2710,
          1380,
          32300,
          2440,
          2320,
          37200,
          34300,
          19676.5,
          3036,
          2410,
          2360,
          1100,
          2507,
          1320,
          1710,
          12467.68137254902,
          2820,
          40540,
          2070,
          27240,
          1580,
          40930,
          2460,
          19040,
          2553,
          34994.5,
          16480,
          1400,
          1330,
          2500,
          44470.5,
          3139.5,
          35800,
          2320,
          26320,
          2162,
          2730,
          2240,
          1050,
          12467.68137254902,
          36620,
          32710,
          1080,
          1880,
          3139.5,
          1520,
          21942,
          18530,
          1900,
          12467.68137254902,
          1140,
          2771.5,
          2970,
          27002,
          41320,
          1150,
          2710,
          1300,
          29830,
          1910,
          28382,
          22011,
          2720,
          2950,
          2010,
          21700,
          1640,
          2130,
          25350,
          12467.68137254902,
          2090,
          35310,
          24900,
          2208,
          15760,
          19390,
          1150,
          1090,
          38950,
          1770,
          2980,
          2870,
          25320,
          2599,
          23760,
          15440,
          1850,
          47610,
          28060,
          30530,
          1580,
          17020,
          35830,
          26310,
          2090,
          42124.5,
          12467.68137254902,
          20550,
          1450,
          1940,
          32150,
          2090,
          36075.5,
          12467.68137254902,
          2320,
          25730,
          34970,
          2340,
          1790,
          25040,
          1320,
          2830,
          1860,
          1920.5,
          25160,
          19340,
          2310,
          24621.5,
          12467.68137254902,
          12467.68137254902,
          1320,
          2940,
          1730,
          12467.68137254902,
          2610.5,
          1230,
          1900,
          3116.5,
          15270,
          13090,
          1830,
          22850,
          2430,
          2553,
          19820,
          2470,
          2270,
          30890,
          2420,
          33330,
          2290
         ],
         "yaxis": "y"
        }
       ],
       "layout": {
        "barmode": "group",
        "coloraxis": {
         "colorbar": {
          "title": {
           "text": "year"
          }
         },
         "colorscale": [
          [
           0,
           "#0d0887"
          ],
          [
           0.1111111111111111,
           "#46039f"
          ],
          [
           0.2222222222222222,
           "#7201a8"
          ],
          [
           0.3333333333333333,
           "#9c179e"
          ],
          [
           0.4444444444444444,
           "#bd3786"
          ],
          [
           0.5555555555555556,
           "#d8576b"
          ],
          [
           0.6666666666666666,
           "#ed7953"
          ],
          [
           0.7777777777777778,
           "#fb9f3a"
          ],
          [
           0.8888888888888888,
           "#fdca26"
          ],
          [
           1,
           "#f0f921"
          ]
         ]
        },
        "height": 400,
        "legend": {
         "tracegroupgap": 0
        },
        "template": {
         "data": {
          "bar": [
           {
            "error_x": {
             "color": "#2a3f5f"
            },
            "error_y": {
             "color": "#2a3f5f"
            },
            "marker": {
             "line": {
              "color": "#E5ECF6",
              "width": 0.5
             },
             "pattern": {
              "fillmode": "overlay",
              "size": 10,
              "solidity": 0.2
             }
            },
            "type": "bar"
           }
          ],
          "barpolar": [
           {
            "marker": {
             "line": {
              "color": "#E5ECF6",
              "width": 0.5
             },
             "pattern": {
              "fillmode": "overlay",
              "size": 10,
              "solidity": 0.2
             }
            },
            "type": "barpolar"
           }
          ],
          "carpet": [
           {
            "aaxis": {
             "endlinecolor": "#2a3f5f",
             "gridcolor": "white",
             "linecolor": "white",
             "minorgridcolor": "white",
             "startlinecolor": "#2a3f5f"
            },
            "baxis": {
             "endlinecolor": "#2a3f5f",
             "gridcolor": "white",
             "linecolor": "white",
             "minorgridcolor": "white",
             "startlinecolor": "#2a3f5f"
            },
            "type": "carpet"
           }
          ],
          "choropleth": [
           {
            "colorbar": {
             "outlinewidth": 0,
             "ticks": ""
            },
            "type": "choropleth"
           }
          ],
          "contour": [
           {
            "colorbar": {
             "outlinewidth": 0,
             "ticks": ""
            },
            "colorscale": [
             [
              0,
              "#0d0887"
             ],
             [
              0.1111111111111111,
              "#46039f"
             ],
             [
              0.2222222222222222,
              "#7201a8"
             ],
             [
              0.3333333333333333,
              "#9c179e"
             ],
             [
              0.4444444444444444,
              "#bd3786"
             ],
             [
              0.5555555555555556,
              "#d8576b"
             ],
             [
              0.6666666666666666,
              "#ed7953"
             ],
             [
              0.7777777777777778,
              "#fb9f3a"
             ],
             [
              0.8888888888888888,
              "#fdca26"
             ],
             [
              1,
              "#f0f921"
             ]
            ],
            "type": "contour"
           }
          ],
          "contourcarpet": [
           {
            "colorbar": {
             "outlinewidth": 0,
             "ticks": ""
            },
            "type": "contourcarpet"
           }
          ],
          "heatmap": [
           {
            "colorbar": {
             "outlinewidth": 0,
             "ticks": ""
            },
            "colorscale": [
             [
              0,
              "#0d0887"
             ],
             [
              0.1111111111111111,
              "#46039f"
             ],
             [
              0.2222222222222222,
              "#7201a8"
             ],
             [
              0.3333333333333333,
              "#9c179e"
             ],
             [
              0.4444444444444444,
              "#bd3786"
             ],
             [
              0.5555555555555556,
              "#d8576b"
             ],
             [
              0.6666666666666666,
              "#ed7953"
             ],
             [
              0.7777777777777778,
              "#fb9f3a"
             ],
             [
              0.8888888888888888,
              "#fdca26"
             ],
             [
              1,
              "#f0f921"
             ]
            ],
            "type": "heatmap"
           }
          ],
          "heatmapgl": [
           {
            "colorbar": {
             "outlinewidth": 0,
             "ticks": ""
            },
            "colorscale": [
             [
              0,
              "#0d0887"
             ],
             [
              0.1111111111111111,
              "#46039f"
             ],
             [
              0.2222222222222222,
              "#7201a8"
             ],
             [
              0.3333333333333333,
              "#9c179e"
             ],
             [
              0.4444444444444444,
              "#bd3786"
             ],
             [
              0.5555555555555556,
              "#d8576b"
             ],
             [
              0.6666666666666666,
              "#ed7953"
             ],
             [
              0.7777777777777778,
              "#fb9f3a"
             ],
             [
              0.8888888888888888,
              "#fdca26"
             ],
             [
              1,
              "#f0f921"
             ]
            ],
            "type": "heatmapgl"
           }
          ],
          "histogram": [
           {
            "marker": {
             "pattern": {
              "fillmode": "overlay",
              "size": 10,
              "solidity": 0.2
             }
            },
            "type": "histogram"
           }
          ],
          "histogram2d": [
           {
            "colorbar": {
             "outlinewidth": 0,
             "ticks": ""
            },
            "colorscale": [
             [
              0,
              "#0d0887"
             ],
             [
              0.1111111111111111,
              "#46039f"
             ],
             [
              0.2222222222222222,
              "#7201a8"
             ],
             [
              0.3333333333333333,
              "#9c179e"
             ],
             [
              0.4444444444444444,
              "#bd3786"
             ],
             [
              0.5555555555555556,
              "#d8576b"
             ],
             [
              0.6666666666666666,
              "#ed7953"
             ],
             [
              0.7777777777777778,
              "#fb9f3a"
             ],
             [
              0.8888888888888888,
              "#fdca26"
             ],
             [
              1,
              "#f0f921"
             ]
            ],
            "type": "histogram2d"
           }
          ],
          "histogram2dcontour": [
           {
            "colorbar": {
             "outlinewidth": 0,
             "ticks": ""
            },
            "colorscale": [
             [
              0,
              "#0d0887"
             ],
             [
              0.1111111111111111,
              "#46039f"
             ],
             [
              0.2222222222222222,
              "#7201a8"
             ],
             [
              0.3333333333333333,
              "#9c179e"
             ],
             [
              0.4444444444444444,
              "#bd3786"
             ],
             [
              0.5555555555555556,
              "#d8576b"
             ],
             [
              0.6666666666666666,
              "#ed7953"
             ],
             [
              0.7777777777777778,
              "#fb9f3a"
             ],
             [
              0.8888888888888888,
              "#fdca26"
             ],
             [
              1,
              "#f0f921"
             ]
            ],
            "type": "histogram2dcontour"
           }
          ],
          "mesh3d": [
           {
            "colorbar": {
             "outlinewidth": 0,
             "ticks": ""
            },
            "type": "mesh3d"
           }
          ],
          "parcoords": [
           {
            "line": {
             "colorbar": {
              "outlinewidth": 0,
              "ticks": ""
             }
            },
            "type": "parcoords"
           }
          ],
          "pie": [
           {
            "automargin": true,
            "type": "pie"
           }
          ],
          "scatter": [
           {
            "marker": {
             "colorbar": {
              "outlinewidth": 0,
              "ticks": ""
             }
            },
            "type": "scatter"
           }
          ],
          "scatter3d": [
           {
            "line": {
             "colorbar": {
              "outlinewidth": 0,
              "ticks": ""
             }
            },
            "marker": {
             "colorbar": {
              "outlinewidth": 0,
              "ticks": ""
             }
            },
            "type": "scatter3d"
           }
          ],
          "scattercarpet": [
           {
            "marker": {
             "colorbar": {
              "outlinewidth": 0,
              "ticks": ""
             }
            },
            "type": "scattercarpet"
           }
          ],
          "scattergeo": [
           {
            "marker": {
             "colorbar": {
              "outlinewidth": 0,
              "ticks": ""
             }
            },
            "type": "scattergeo"
           }
          ],
          "scattergl": [
           {
            "marker": {
             "colorbar": {
              "outlinewidth": 0,
              "ticks": ""
             }
            },
            "type": "scattergl"
           }
          ],
          "scattermapbox": [
           {
            "marker": {
             "colorbar": {
              "outlinewidth": 0,
              "ticks": ""
             }
            },
            "type": "scattermapbox"
           }
          ],
          "scatterpolar": [
           {
            "marker": {
             "colorbar": {
              "outlinewidth": 0,
              "ticks": ""
             }
            },
            "type": "scatterpolar"
           }
          ],
          "scatterpolargl": [
           {
            "marker": {
             "colorbar": {
              "outlinewidth": 0,
              "ticks": ""
             }
            },
            "type": "scatterpolargl"
           }
          ],
          "scatterternary": [
           {
            "marker": {
             "colorbar": {
              "outlinewidth": 0,
              "ticks": ""
             }
            },
            "type": "scatterternary"
           }
          ],
          "surface": [
           {
            "colorbar": {
             "outlinewidth": 0,
             "ticks": ""
            },
            "colorscale": [
             [
              0,
              "#0d0887"
             ],
             [
              0.1111111111111111,
              "#46039f"
             ],
             [
              0.2222222222222222,
              "#7201a8"
             ],
             [
              0.3333333333333333,
              "#9c179e"
             ],
             [
              0.4444444444444444,
              "#bd3786"
             ],
             [
              0.5555555555555556,
              "#d8576b"
             ],
             [
              0.6666666666666666,
              "#ed7953"
             ],
             [
              0.7777777777777778,
              "#fb9f3a"
             ],
             [
              0.8888888888888888,
              "#fdca26"
             ],
             [
              1,
              "#f0f921"
             ]
            ],
            "type": "surface"
           }
          ],
          "table": [
           {
            "cells": {
             "fill": {
              "color": "#EBF0F8"
             },
             "line": {
              "color": "white"
             }
            },
            "header": {
             "fill": {
              "color": "#C8D4E3"
             },
             "line": {
              "color": "white"
             }
            },
            "type": "table"
           }
          ]
         },
         "layout": {
          "annotationdefaults": {
           "arrowcolor": "#2a3f5f",
           "arrowhead": 0,
           "arrowwidth": 1
          },
          "autotypenumbers": "strict",
          "coloraxis": {
           "colorbar": {
            "outlinewidth": 0,
            "ticks": ""
           }
          },
          "colorscale": {
           "diverging": [
            [
             0,
             "#8e0152"
            ],
            [
             0.1,
             "#c51b7d"
            ],
            [
             0.2,
             "#de77ae"
            ],
            [
             0.3,
             "#f1b6da"
            ],
            [
             0.4,
             "#fde0ef"
            ],
            [
             0.5,
             "#f7f7f7"
            ],
            [
             0.6,
             "#e6f5d0"
            ],
            [
             0.7,
             "#b8e186"
            ],
            [
             0.8,
             "#7fbc41"
            ],
            [
             0.9,
             "#4d9221"
            ],
            [
             1,
             "#276419"
            ]
           ],
           "sequential": [
            [
             0,
             "#0d0887"
            ],
            [
             0.1111111111111111,
             "#46039f"
            ],
            [
             0.2222222222222222,
             "#7201a8"
            ],
            [
             0.3333333333333333,
             "#9c179e"
            ],
            [
             0.4444444444444444,
             "#bd3786"
            ],
            [
             0.5555555555555556,
             "#d8576b"
            ],
            [
             0.6666666666666666,
             "#ed7953"
            ],
            [
             0.7777777777777778,
             "#fb9f3a"
            ],
            [
             0.8888888888888888,
             "#fdca26"
            ],
            [
             1,
             "#f0f921"
            ]
           ],
           "sequentialminus": [
            [
             0,
             "#0d0887"
            ],
            [
             0.1111111111111111,
             "#46039f"
            ],
            [
             0.2222222222222222,
             "#7201a8"
            ],
            [
             0.3333333333333333,
             "#9c179e"
            ],
            [
             0.4444444444444444,
             "#bd3786"
            ],
            [
             0.5555555555555556,
             "#d8576b"
            ],
            [
             0.6666666666666666,
             "#ed7953"
            ],
            [
             0.7777777777777778,
             "#fb9f3a"
            ],
            [
             0.8888888888888888,
             "#fdca26"
            ],
            [
             1,
             "#f0f921"
            ]
           ]
          },
          "colorway": [
           "#636efa",
           "#EF553B",
           "#00cc96",
           "#ab63fa",
           "#FFA15A",
           "#19d3f3",
           "#FF6692",
           "#B6E880",
           "#FF97FF",
           "#FECB52"
          ],
          "font": {
           "color": "#2a3f5f"
          },
          "geo": {
           "bgcolor": "white",
           "lakecolor": "white",
           "landcolor": "#E5ECF6",
           "showlakes": true,
           "showland": true,
           "subunitcolor": "white"
          },
          "hoverlabel": {
           "align": "left"
          },
          "hovermode": "closest",
          "mapbox": {
           "style": "light"
          },
          "paper_bgcolor": "white",
          "plot_bgcolor": "#E5ECF6",
          "polar": {
           "angularaxis": {
            "gridcolor": "white",
            "linecolor": "white",
            "ticks": ""
           },
           "bgcolor": "#E5ECF6",
           "radialaxis": {
            "gridcolor": "white",
            "linecolor": "white",
            "ticks": ""
           }
          },
          "scene": {
           "xaxis": {
            "backgroundcolor": "#E5ECF6",
            "gridcolor": "white",
            "gridwidth": 2,
            "linecolor": "white",
            "showbackground": true,
            "ticks": "",
            "zerolinecolor": "white"
           },
           "yaxis": {
            "backgroundcolor": "#E5ECF6",
            "gridcolor": "white",
            "gridwidth": 2,
            "linecolor": "white",
            "showbackground": true,
            "ticks": "",
            "zerolinecolor": "white"
           },
           "zaxis": {
            "backgroundcolor": "#E5ECF6",
            "gridcolor": "white",
            "gridwidth": 2,
            "linecolor": "white",
            "showbackground": true,
            "ticks": "",
            "zerolinecolor": "white"
           }
          },
          "shapedefaults": {
           "line": {
            "color": "#2a3f5f"
           }
          },
          "ternary": {
           "aaxis": {
            "gridcolor": "white",
            "linecolor": "white",
            "ticks": ""
           },
           "baxis": {
            "gridcolor": "white",
            "linecolor": "white",
            "ticks": ""
           },
           "bgcolor": "#E5ECF6",
           "caxis": {
            "gridcolor": "white",
            "linecolor": "white",
            "ticks": ""
           }
          },
          "title": {
           "x": 0.05
          },
          "xaxis": {
           "automargin": true,
           "gridcolor": "white",
           "linecolor": "white",
           "ticks": "",
           "title": {
            "standoff": 15
           },
           "zerolinecolor": "white",
           "zerolinewidth": 2
          },
          "yaxis": {
           "automargin": true,
           "gridcolor": "white",
           "linecolor": "white",
           "ticks": "",
           "title": {
            "standoff": 15
           },
           "zerolinecolor": "white",
           "zerolinewidth": 2
          }
         }
        },
        "title": {
         "text": "monthly trend of the total amount that has been claimed by the customers"
        },
        "xaxis": {
         "anchor": "y",
         "domain": [
          0,
          1
         ],
         "title": {
          "text": "month_no"
         }
        },
        "yaxis": {
         "anchor": "x",
         "domain": [
          0,
          1
         ],
         "title": {
          "text": "claim_amount"
         }
        }
       }
      },
      "text/html": [
       "<div>                            <div id=\"6f79a9fe-8f43-41aa-997b-70632370c084\" class=\"plotly-graph-div\" style=\"height:400px; width:100%;\"></div>            <script type=\"text/javascript\">                require([\"plotly\"], function(Plotly) {                    window.PLOTLYENV=window.PLOTLYENV || {};                                    if (document.getElementById(\"6f79a9fe-8f43-41aa-997b-70632370c084\")) {                    Plotly.newPlot(                        \"6f79a9fe-8f43-41aa-997b-70632370c084\",                        [{\"alignmentgroup\":\"True\",\"hovertemplate\":\"month_no=%{x}<br>claim_amount=%{y}<br>year=%{marker.color}<extra></extra>\",\"legendgroup\":\"\",\"marker\":{\"color\":[2017,2017,2017,2017,2017,2017,2017,2017,2017,2017,2017,2017,2017,2017,2017,2017,2017,2017,2017,2017,2017,2017,2017,2017,2017,2017,2017,2017,2017,2017,2017,2017,2017,2017,2017,2017,2017,2017,2017,2017,2017,2017,2017,2017,2017,2017,2017,2017,2017,2017,2017,2017,2017,2017,2017,2017,2017,2017,2017,2017,2017,2017,2017,2017,2017,2017,2017,2017,2017,2017,2017,2017,2017,2017,2017,2017,2017,2017,2017,2017,2017,2017,2017,2017,2017,2017,2017,2017,2017,2017,2017,2017,2017,2017,2017,2017,2017,2017,2017,2017,2017,2017,2017,2017,2017,2017,2017,2017,2017,2017,2017,2017,2017,2017,2017,2017,2017,2017,2017,2017,2017,2017,2017,2017,2017,2017,2017,2017,2017,2017,2017,2017,2017,2017,2017,2017,2017,2017,2017,2017,2017,2017,2017,2017,2017,2017,2017,2017,2017,2017,2017,2017,2017,2017,2017,2017,2017,2017,2017,2017,2017,2017,2017,2017,2017,2017,2017,2017,2017,2017,2017,2017,2017,2017,2017,2017,2017,2017,2017,2017,2017,2017,2017,2017,2017,2017,2017,2017,2017,2017,2017,2017,2017,2017,2017,2017,2017,2017,2017,2017,2017,2017,2017,2017,2017,2017,2017,2017,2017,2017,2017,2017,2017,2017,2017,2017,2017,2017,2017,2017,2017,2017,2017,2017,2017,2017,2017,2017,2017,2017,2017,2017,2017,2017,2017,2017,2017,2017,2017,2017,2017,2017,2017,2017,2017,2017,2017,2017,2017,2017,2017,2017,2017,2017,2017,2017,2017,2017,2017,2017,2017,2017,2017,2017,2017,2017,2017,2017,2017,2017,2017,2017,2017,2017,2017,2017,2017,2017,2017,2017,2017,2017,2017,2017,2017,2017,2017,2017,2017,2017,2017,2017,2017,2017,2017,2017,2017,2017,2017,2017,2017,2017,2017,2017,2017,2017,2017,2017,2017,2017,2017,2017,2017,2017,2017,2017,2017,2017,2017,2017,2017,2017,2017,2017,2017,2017,2017,2017,2017,2017,2017,2017,2017,2017,2017,2017,2017,2017,2017,2017,2017,2017,2017,2017,2017,2017,2017,2017,2017,2017,2017,2017,2017,2017,2017,2017,2017,2017,2017,2017,2017,2017,2017,2017,2017,2017,2017,2017,2017,2017,2017,2017,2017,2017,2017,2017,2017,2017,2017,2017,2017,2017,2017,2017,2017,2017,2017,2017,2017,2017,2017,2017,2017,2017,2017,2017,2017,2017,2017,2017,2017,2017,2017,2017,2017,2017,2017,2017,2017,2017,2017,2017,2017,2017,2017,2017,2017,2017,2017,2017,2017,2017,2017,2017,2017,2017,2017,2017,2017,2017,2017,2017,2017,2017,2017,2017,2017,2017,2017,2017,2017,2017,2017,2017,2017,2017,2017,2017,2017,2017,2017,2017,2017,2017,2017,2017,2017,2017,2017,2017,2017,2017,2017,2017,2017,2017,2017,2017,2017,2017,2017,2017,2017,2017,2017,2017,2017,2017,2017,2017,2017,2017,2017,2017,2017,2017,2017,2017,2017,2017,2017,2017,2017,2017,2017,2017,2017,2017,2017,2017,2017,2017,2017,2017,2017,2017,2017,2017,2017,2017,2017,2017,2017,2017,2017,2017,2017,2017,2017,2017,2017,2017,2017,2017,2017,2017,2017,2017,2017,2017,2017,2017,2017,2017,2017,2017,2017,2017,2017,2017,2017,2017,2017,2017,2017,2017,2017,2017,2017,2017,2017,2017,2017,2017,2017,2017,2017,2017,2017,2017,2017,2017,2017,2017,2017,2017,2017,2017,2017,2017,2017,2017,2017,2017,2017,2017,2017,2017,2017,2017,2017,2017,2017,2017,2017,2017,2017,2017,2017,2017,2017,2017,2017,2017,2017,2017,2017,2017,2018,2018,2018,2018,2018,2018,2018,2018,2018,2018,2018,2018,2018,2018,2018,2018,2018,2018,2018,2018,2018,2018,2018,2018,2018,2018,2018,2018,2018,2018,2018,2018,2018,2018,2018,2018,2018,2018,2018,2018,2018,2018,2018,2018,2018,2018,2018,2018,2018,2018,2018,2018,2018,2018,2018,2018,2018,2018,2018,2018,2018,2018,2018,2018,2018,2018,2018,2018,2018,2018,2018,2018,2018,2018,2018,2018,2018,2018,2018,2018,2018,2018,2018,2018,2018,2018,2018,2018,2018,2018,2018,2018,2018,2018,2018,2018,2018,2018,2018,2018,2018,2018,2018,2018,2018,2018,2018,2018,2018,2018,2018,2018,2018,2018,2018,2018,2018,2018,2018,2018,2018,2018,2018,2018,2018,2018,2018,2018,2018,2018,2018,2018,2018,2018,2018,2018,2018,2018,2018,2018,2018,2018,2018,2018,2018,2018,2018,2018,2018,2018,2018,2018,2018,2018,2018,2018,2018,2018,2018,2018,2018,2018,2018,2018,2018,2018,2018,2018,2018,2018,2018,2018,2018,2018,2018,2018,2018,2018,2018,2018,2018,2018,2018,2018,2018,2018,2018,2018,2018,2018,2018,2018,2018,2018,2018,2018,2018,2018,2018,2018,2018,2018,2018,2018,2018,2018,2018,2018,2018,2018,2018,2018,2018,2018,2018,2018,2018,2018,2018,2018,2018,2018,2018,2018,2018,2018,2018,2018,2018,2018,2018,2018,2018,2018,2018,2018,2018,2018,2018,2018,2018,2018,2018,2018,2018,2018,2018,2018,2018,2018,2018,2018,2018,2018,2018,2018,2018,2018,2018,2018,2018,2018,2018,2018,2018,2018,2018,2018,2018,2018,2018,2018,2018,2018,2018,2018,2018,2018,2018,2018,2018,2018,2018,2018,2018,2018,2018,2018,2018,2018,2018,2018,2018,2018,2018,2018,2018,2018,2018,2018,2018,2018,2018,2018,2018,2018,2018,2018,2018,2018,2018,2018,2018,2018,2018,2018,2018,2018,2018,2018,2018,2018,2018,2018,2018,2018,2018,2018,2018,2018,2018,2018,2018,2018,2018,2018,2018,2018,2018,2018,2018,2018,2018,2018,2018,2018,2018,2018,2018,2018,2018,2018,2018,2018,2018,2018,2018,2018,2018,2018,2018,2018,2018,2018,2018,2018,2018,2018,2018,2018,2018,2018,2018,2018,2018,2018,2018,2018,2018,2018,2018,2018,2018,2018,2018,2018,2018,2018,2018,2018,2018,2018,2018,2018,2018,2018,2018,2018,2018,2018,2018,2018,2018,2018,2018,2018,2018,2018,2018,2018,2018,2018,2018,2018,2018,2018,2018,2018,2018,2018,2018,2018,2018,2018,2018,2018,2018,2018,2018,2018,2018,2018,2018,2018,2018,2018,2018,2018,2018,2018,2018,2018,2018,2018,2018,2018,2018,2018,2018,2018,2018,2018,2018,2018,2018,2018,2018,2018,2018,2018,2018,2018,2018,2018,2018,2018,2018,2018,2018,2018,2018,2018,2018,2018,2018,2018,2018,2018,2018,2018,2018,2018,2018,2018,2018,2018,2018],\"coloraxis\":\"coloraxis\",\"pattern\":{\"shape\":\"\"}},\"name\":\"\",\"offsetgroup\":\"\",\"orientation\":\"v\",\"showlegend\":false,\"textposition\":\"auto\",\"x\":[1,1,1,1,1,1,1,1,1,1,1,1,1,1,1,1,1,1,1,1,1,1,1,1,1,1,1,1,1,1,1,1,1,1,1,1,1,1,1,1,1,1,1,1,1,1,1,1,1,1,1,1,1,1,1,1,1,1,2,2,2,2,2,2,2,2,2,2,2,2,2,2,2,2,2,2,2,2,2,2,2,2,2,2,2,2,2,2,2,2,2,2,2,2,2,2,2,2,2,2,2,2,2,2,2,2,2,2,2,3,3,3,3,3,3,3,3,3,3,3,3,3,3,3,3,3,3,3,3,3,3,3,3,3,3,3,3,3,3,3,3,3,3,3,3,3,3,3,3,3,3,3,3,3,3,3,3,3,3,3,3,3,3,3,3,4,4,4,4,4,4,4,4,4,4,4,4,4,4,4,4,4,4,4,4,4,4,4,4,4,4,4,4,4,4,4,4,4,4,4,4,4,4,4,4,4,4,4,4,4,4,4,4,4,4,4,4,5,5,5,5,5,5,5,5,5,5,5,5,5,5,5,5,5,5,5,5,5,5,5,5,5,5,5,5,5,5,5,5,5,5,5,5,5,5,5,5,5,5,5,5,5,6,6,6,6,6,6,6,6,6,6,6,6,6,6,6,6,6,6,6,6,6,6,6,6,6,6,6,6,6,6,6,6,6,6,6,6,6,6,6,6,7,7,7,7,7,7,7,7,7,7,7,7,7,7,7,7,7,7,7,7,7,7,7,7,7,7,7,7,7,7,7,7,7,7,7,7,7,7,7,7,7,7,7,7,7,7,7,7,7,7,7,7,7,7,7,7,7,7,7,8,8,8,8,8,8,8,8,8,8,8,8,8,8,8,8,8,8,8,8,8,8,8,8,8,8,8,8,8,8,8,8,8,8,8,8,8,8,8,8,8,8,8,8,8,8,8,8,8,9,9,9,9,9,9,9,9,9,9,9,9,9,9,9,9,9,9,9,9,9,9,9,9,9,9,9,9,9,9,9,9,9,9,9,10,10,10,10,10,10,10,10,10,10,10,10,10,10,10,10,10,10,10,10,10,10,10,10,10,10,10,10,10,10,10,10,10,10,10,10,10,10,10,10,10,10,10,10,10,10,10,10,10,10,10,10,10,10,10,10,10,10,10,10,10,11,11,11,11,11,11,11,11,11,11,11,11,11,11,11,11,11,11,11,11,11,11,11,11,11,11,11,11,11,11,11,11,11,11,11,11,11,11,11,11,11,11,11,11,12,12,12,12,12,12,12,12,12,12,12,12,12,12,12,12,12,12,12,12,12,12,12,12,12,12,12,12,12,12,12,12,12,12,12,12,12,12,12,12,12,12,12,12,12,12,12,12,1,1,1,1,1,1,1,1,1,1,1,1,1,1,1,1,1,1,1,1,1,1,1,1,1,1,1,1,1,1,1,1,1,1,1,1,1,1,1,1,1,1,1,1,1,1,1,2,2,2,2,2,2,2,2,2,2,2,2,2,2,2,2,2,2,2,2,2,2,2,2,2,2,2,2,2,2,2,2,2,2,2,2,2,2,2,2,3,3,3,3,3,3,3,3,3,3,3,3,3,3,3,3,3,3,3,3,3,3,3,3,3,3,3,3,3,3,3,3,3,3,3,3,3,3,3,3,3,3,3,3,3,3,3,3,3,3,3,3,3,3,3,4,4,4,4,4,4,4,4,4,4,4,4,4,4,4,4,4,4,4,4,4,4,4,4,4,4,4,4,4,4,4,4,4,4,4,4,4,4,4,4,4,4,4,4,4,4,4,4,4,4,4,4,4,5,5,5,5,5,5,5,5,5,5,5,5,5,5,5,5,5,5,5,5,5,5,5,5,5,5,5,5,5,5,5,5,5,5,5,5,5,5,5,5,5,5,5,5,5,5,5,5,6,6,6,6,6,6,6,6,6,6,6,6,6,6,6,6,6,6,6,6,6,6,6,6,6,6,6,6,6,6,6,6,6,6,6,6,6,6,6,6,6,6,6,6,6,6,6,6,6,6,6,6,6,7,7,7,7,7,7,7,7,7,7,7,7,7,7,7,7,7,7,7,7,7,7,7,7,7,7,7,7,7,7,7,7,7,7,7,7,7,7,7,7,7,7,7,7,7,7,7,8,8,8,8,8,8,8,8,8,8,8,8,8,8,8,8,8,8,8,8,8,8,8,8,8,8,8,8,8,8,8,8,8,8,8,8,8,8,8,8,9,9,9,9,9,9,9,9,9,9,9,9,9,9,9,9,9,9,9,9,9,9,9,9,9,9,9,9,9,9,9,9,9,9,9,9,9,9,9,9,9,9,9,10,10,10,10,10,10,10,10,10,10,10,10,10,10,10,10,10,10,10,10,10,10,10,10,10,10,10,10,10,10,10,10,10,10,10,10,10,10,10,10,10,10,10,10,10,10,10,10,10,10,10,10,10,10,10,10,10,10,10,10,10],\"xaxis\":\"x\",\"y\":[2910.0,12467.68137254902,1180.0,37524.5,2967.0,2970.0,1140.0,2080.0,30930.0,17290.0,3335.0,27560.0,1400.0,20200.0,1210.0,1770.0,37290.0,20310.0,14170.0,2900.0,1860.0,12467.68137254902,1700.0,1500.0,2850.0,19120.0,20720.0,1040.0,1759.5,2380.0,1350.0,3001.5,1242.0,1860.0,2160.0,46483.0,1130.0,1840.0,2357.5,2550.0,2955.5,21590.0,2010.0,1910.0,36860.0,27670.0,2196.5,36670.0,35280.0,2260.0,1552.5,1530.0,28760.0,1276.5,12467.68137254902,20630.0,1380.0,2320.0,12467.68137254902,1890.0,32630.0,25830.0,2610.0,2720.0,40180.0,2310.0,2290.0,1180.0,1860.0,1679.0,2460.0,2790.0,1529.5,1550.0,2590.0,16700.0,39928.0,1870.0,1540.0,21447.5,2060.0,2550.0,1100.0,34950.0,2130.0,12467.68137254902,1060.0,23940.0,1564.0,1490.0,2890.0,35480.0,19400.0,37740.0,20380.0,24050.0,32090.0,26610.0,1495.0,29740.0,26250.0,2770.0,2380.5,29220.0,3346.5,2800.0,28520.0,2323.0,2670.0,2090.0,18400.0,3070.5,2510.0,14240.0,1260.0,2714.0,21330.0,33900.0,2440.0,16460.0,2886.5,1800.0,2450.0,19640.0,2370.0,1260.0,1000.0,25010.0,2392.0,1276.5,19820.0,2580.0,2185.0,38890.0,1200.0,1265.0,36350.0,24380.0,33210.0,2980.0,38065.0,12467.68137254902,32040.0,17070.0,2900.0,2150.5,2553.0,19530.0,14220.0,3369.5,33140.0,30080.0,2700.0,2300.0,1759.5,1630.0,1207.5,12467.68137254902,2510.0,14250.0,20458.5,1350.0,2720.0,1720.0,1490.0,1440.0,2830.0,33000.0,19960.0,16150.0,30540.0,12467.68137254902,17360.0,17590.0,19440.0,2960.0,17050.0,40660.0,1680.0,22100.0,1590.0,1030.0,1403.0,33590.0,1110.0,19390.0,2219.5,35800.0,30420.0,24610.0,3427.0,2050.0,30015.0,20230.0,2590.0,36170.0,34490.0,1020.0,2800.0,39928.0,3105.0,20610.0,2800.0,1600.0,29530.0,15750.0,22540.0,2310.0,1570.0,1750.0,1970.0,1200.0,3093.5,23483.0,2110.0,34010.0,2840.0,16830.0,12467.68137254902,20080.0,1288.0,1700.0,44493.5,12467.68137254902,1020.0,27520.0,41779.5,1850.0,1040.0,2700.0,14480.0,20970.0,2130.0,1620.0,2940.0,13710.0,2932.5,1430.0,2430.0,1300.0,2540.0,2330.0,13100.0,1120.0,33522.5,1120.0,30170.0,1520.0,18963.5,1184.5,2702.5,2010.0,45540.0,34200.0,36500.0,1680.0,12467.68137254902,17370.0,2070.0,1470.0,2800.0,33080.0,31380.0,2210.0,37800.0,1640.0,22420.0,15240.0,1740.0,34770.0,1391.5,2415.0,3128.0,1520.0,2104.5,2810.0,38970.0,2230.0,2430.0,27310.0,27910.0,40880.0,1550.0,1265.0,1700.0,30230.0,27830.0,2520.0,1630.0,33465.0,1980.0,2740.0,1210.0,2550.0,2150.0,30340.0,2670.0,12467.68137254902,2500.0,27350.0,35920.0,37743.0,2748.5,17800.0,1110.0,35765.0,33550.0,32480.0,17230.0,1368.5,12467.68137254902,1320.0,1840.0,2700.0,12467.68137254902,1253.5,47679.0,2530.0,1700.0,27610.0,2650.0,19900.0,32407.0,1460.0,23980.0,32960.0,2277.0,2220.0,34590.0,30840.0,2806.0,12467.68137254902,37500.0,14720.0,28230.0,18570.0,2270.0,2340.0,32180.0,3358.0,1978.0,2360.0,19100.0,34200.0,24220.0,2564.5,1300.0,2680.0,1380.0,25750.0,2460.0,23420.0,2200.0,32750.0,1740.0,12467.68137254902,2490.0,1330.0,1357.0,2590.0,1050.0,1010.0,25576.0,12467.68137254902,2470.0,1570.0,2710.0,3059.0,1529.5,2640.0,3128.0,2330.0,1207.5,24713.5,1110.0,21620.0,20769.0,2990.0,14460.0,33030.0,12467.68137254902,23450.0,2950.0,37170.0,30340.0,1810.0,1000.0,2370.0,2790.0,1600.0,2840.0,1472.0,1590.0,30500.0,2520.0,2400.0,3128.0,2540.0,1430.0,1880.0,25093.0,1748.0,31020.0,2100.0,1090.0,2730.0,18457.5,1960.0,1240.0,1472.0,1690.0,12467.68137254902,2740.0,1630.0,2600.0,37400.0,23960.0,27266.5,1932.0,1679.0,12467.68137254902,29630.0,40210.0,2670.0,1060.0,1644.5,2410.0,14570.0,2334.5,1040.0,1368.5,33730.0,22130.0,12467.68137254902,48150.5,12467.68137254902,20490.0,2290.0,2990.0,12467.68137254902,12467.68137254902,40951.5,12467.68137254902,1720.0,1670.0,38306.5,1210.0,2725.5,1030.0,41850.0,12467.68137254902,2620.0,16070.0,21190.0,36180.0,15920.0,31980.0,2410.0,2170.0,1620.0,2840.0,2691.0,1173.0,1184.5,1860.0,1380.0,2967.0,12467.68137254902,33490.0,3013.0,1630.0,2323.0,39370.0,47748.0,26440.0,2150.0,1700.0,3381.0,21920.0,1621.5,2093.0,2270.0,18140.0,33400.0,2240.0,3231.5,19470.0,1370.0,17951.5,16680.0,3277.5,2500.0,22270.0,1380.0,1190.0,1260.0,3323.5,2560.0,12467.68137254902,29200.0,1340.0,1800.0,2490.0,2360.0,1587.0,2242.5,2980.0,2340.0,2470.0,33190.0,1943.5,31498.5,1020.0,22960.0,24564.0,23270.0,1759.5,41365.5,2320.0,1080.0,2440.0,1817.0,2730.0,29900.0,1020.0,22000.0,3231.5,2170.0,25950.0,12467.68137254902,2550.0,2590.0,30060.0,37380.0,16380.0,1870.0,2250.0,31240.0,18650.0,2370.0,27580.0,12467.68137254902,26300.0,1980.0,2415.0,40135.0,42021.0,2990.0,1230.0,2173.5,16690.0,36190.0,32640.0,33040.0,1730.0,23740.0,29060.0,21300.0,1550.0,26480.0,2170.0,2560.0,14330.0,2645.0,26520.0,1920.0,2840.0,2810.0,26130.0,1150.0,22440.0,44367.0,1630.0,2370.0,35800.0,2090.0,2320.0,29480.0,37630.0,22570.0,2081.5,2288.5,29060.0,2480.0,2250.0,34460.0,2110.0,2220.0,15040.0,2633.5,18135.5,2940.0,2790.0,12467.68137254902,30670.0,1670.0,25140.0,2070.0,2680.0,1730.0,1495.0,21505.0,2460.0,25030.0,1850.0,31270.0,3312.0,39280.0,2240.0,2020.0,2070.0,12467.68137254902,1570.0,17250.0,16100.0,16760.0,44666.0,44838.5,2120.0,2150.0,35910.0,1210.0,29428.5,1630.0,1500.0,12467.68137254902,39997.0,2740.0,2120.0,2090.0,12467.68137254902,2880.0,12467.68137254902,20690.0,26890.0,28040.0,32730.0,21600.0,2000.0,37400.0,2140.0,2420.0,33620.0,14360.0,48035.5,3369.5,36810.0,2620.0,18580.0,40820.0,3358.0,20360.0,12467.68137254902,42722.5,44700.5,24750.0,29600.0,1880.0,39307.0,16790.0,1200.0,1970.0,35178.5,1350.0,1210.0,1510.0,2550.0,1110.0,1530.0,2000.0,2340.0,1170.0,1667.5,1587.0,34210.0,34530.0,16479.5,12467.68137254902,2360.0,31740.0,1530.0,2930.0,1000.0,1780.0,2852.0,2320.0,12467.68137254902,2060.0,1510.0,2070.0,1771.0,19240.0,1350.0,2060.0,20660.0,21830.0,1280.0,29960.0,2656.5,41280.0,29690.0,28950.0,12467.68137254902,33200.0,45287.0,2130.0,2750.0,32680.0,1909.0,31901.0,2950.0,25580.0,2600.0,2369.0,1863.0,1860.0,2470.0,17721.5,23851.0,29480.0,1780.0,1265.0,1500.0,21940.0,12467.68137254902,1610.0,33752.5,16680.0,1310.0,2390.0,2800.0,14480.0,37040.0,1300.0,2810.0,32867.0,1610.0,1370.0,1480.0,19895.0,1950.0,1160.0,1870.0,32560.0,41430.0,1242.0,1680.0,14260.0,1860.0,17180.0,1660.0,12467.68137254902,2980.0,28750.0,1510.0,26620.0,2450.0,1750.0,28050.0,23370.0,20630.0,2219.5,31450.0,1300.0,1050.0,24667.5,2714.0,1480.0,19320.0,2910.0,1460.0,2440.0,14430.0,34470.0,2495.5,1240.0,1610.0,1560.0,16870.0,2750.0,2480.0,39192.0,2587.5,2219.5,34780.0,2277.0,14690.0,2420.0,2090.0,1770.0,2900.0,2852.0,2380.0,2070.0,16910.0,2870.0,19520.0,2040.0,2220.0,1400.0,2740.0,2560.0,12467.68137254902,38590.0,12467.68137254902,1160.0,28740.0,2210.0,39280.0,1170.0,1630.0,2960.0,1820.0,16040.0,1140.0,2440.0,29530.0,19960.0,1725.0,28400.0,2265.5,12467.68137254902,1518.0,12467.68137254902,12467.68137254902,2580.0,3231.5,1960.0,1690.0,30400.0,27330.0,2780.0,3151.0,42872.0,28658.0,33360.0,1180.0,1750.0,17870.0,2280.0,31210.0,1680.0,3208.5,2630.0,1150.0,20999.0,1989.5,2170.0,25783.0,2150.0,1790.0,18308.0,16940.0,1600.0,1322.5,1740.0,36350.0,12467.68137254902,2470.0,2530.0,2070.0,24080.0,1780.0,31110.0,12467.68137254902,37869.5,38120.0,20033.0,1670.0,19297.0,1170.0,1280.0,26630.0,2510.0,2130.0,33520.0,23430.0,36010.0,12467.68137254902,34390.0,21530.0,12467.68137254902,37520.0,12467.68137254902,36440.0,19750.0,2668.0,1690.0,22440.0,1290.0,25210.0,1370.0,1780.0,2780.0,12467.68137254902,27230.0,30080.0,34971.5,2760.0,2260.0,12467.68137254902,30350.0,2920.0,17670.0,2280.0,1260.0,2750.0,2060.0,1173.0,20080.0,16880.0,35250.0,40170.0,27404.5,34160.0,2960.0,1140.0,1060.0,26850.0,2047.0,12467.68137254902,21480.0,1890.0,33640.0,3415.5,1070.0,13820.0,1250.0,1880.0,2110.0,21160.0,3093.5,1610.0,1510.0,2710.0,1180.0,12467.68137254902,12467.68137254902,1690.0,2630.0,44033.5,2870.0,2540.0,2120.0,2710.0,1380.0,32300.0,2440.0,2320.0,37200.0,34300.0,19676.5,3036.0,2410.0,2360.0,1100.0,2507.0,1320.0,1710.0,12467.68137254902,2820.0,40540.0,2070.0,27240.0,1580.0,40930.0,2460.0,19040.0,2553.0,34994.5,16480.0,1400.0,1330.0,2500.0,44470.5,3139.5,35800.0,2320.0,26320.0,2162.0,2730.0,2240.0,1050.0,12467.68137254902,36620.0,32710.0,1080.0,1880.0,3139.5,1520.0,21942.0,18530.0,1900.0,12467.68137254902,1140.0,2771.5,2970.0,27002.0,41320.0,1150.0,2710.0,1300.0,29830.0,1910.0,28382.0,22011.0,2720.0,2950.0,2010.0,21700.0,1640.0,2130.0,25350.0,12467.68137254902,2090.0,35310.0,24900.0,2208.0,15760.0,19390.0,1150.0,1090.0,38950.0,1770.0,2980.0,2870.0,25320.0,2599.0,23760.0,15440.0,1850.0,47610.0,28060.0,30530.0,1580.0,17020.0,35830.0,26310.0,2090.0,42124.5,12467.68137254902,20550.0,1450.0,1940.0,32150.0,2090.0,36075.5,12467.68137254902,2320.0,25730.0,34970.0,2340.0,1790.0,25040.0,1320.0,2830.0,1860.0,1920.5,25160.0,19340.0,2310.0,24621.5,12467.68137254902,12467.68137254902,1320.0,2940.0,1730.0,12467.68137254902,2610.5,1230.0,1900.0,3116.5,15270.0,13090.0,1830.0,22850.0,2430.0,2553.0,19820.0,2470.0,2270.0,30890.0,2420.0,33330.0,2290.0],\"yaxis\":\"y\",\"type\":\"bar\"}],                        {\"template\":{\"data\":{\"bar\":[{\"error_x\":{\"color\":\"#2a3f5f\"},\"error_y\":{\"color\":\"#2a3f5f\"},\"marker\":{\"line\":{\"color\":\"#E5ECF6\",\"width\":0.5},\"pattern\":{\"fillmode\":\"overlay\",\"size\":10,\"solidity\":0.2}},\"type\":\"bar\"}],\"barpolar\":[{\"marker\":{\"line\":{\"color\":\"#E5ECF6\",\"width\":0.5},\"pattern\":{\"fillmode\":\"overlay\",\"size\":10,\"solidity\":0.2}},\"type\":\"barpolar\"}],\"carpet\":[{\"aaxis\":{\"endlinecolor\":\"#2a3f5f\",\"gridcolor\":\"white\",\"linecolor\":\"white\",\"minorgridcolor\":\"white\",\"startlinecolor\":\"#2a3f5f\"},\"baxis\":{\"endlinecolor\":\"#2a3f5f\",\"gridcolor\":\"white\",\"linecolor\":\"white\",\"minorgridcolor\":\"white\",\"startlinecolor\":\"#2a3f5f\"},\"type\":\"carpet\"}],\"choropleth\":[{\"colorbar\":{\"outlinewidth\":0,\"ticks\":\"\"},\"type\":\"choropleth\"}],\"contour\":[{\"colorbar\":{\"outlinewidth\":0,\"ticks\":\"\"},\"colorscale\":[[0.0,\"#0d0887\"],[0.1111111111111111,\"#46039f\"],[0.2222222222222222,\"#7201a8\"],[0.3333333333333333,\"#9c179e\"],[0.4444444444444444,\"#bd3786\"],[0.5555555555555556,\"#d8576b\"],[0.6666666666666666,\"#ed7953\"],[0.7777777777777778,\"#fb9f3a\"],[0.8888888888888888,\"#fdca26\"],[1.0,\"#f0f921\"]],\"type\":\"contour\"}],\"contourcarpet\":[{\"colorbar\":{\"outlinewidth\":0,\"ticks\":\"\"},\"type\":\"contourcarpet\"}],\"heatmap\":[{\"colorbar\":{\"outlinewidth\":0,\"ticks\":\"\"},\"colorscale\":[[0.0,\"#0d0887\"],[0.1111111111111111,\"#46039f\"],[0.2222222222222222,\"#7201a8\"],[0.3333333333333333,\"#9c179e\"],[0.4444444444444444,\"#bd3786\"],[0.5555555555555556,\"#d8576b\"],[0.6666666666666666,\"#ed7953\"],[0.7777777777777778,\"#fb9f3a\"],[0.8888888888888888,\"#fdca26\"],[1.0,\"#f0f921\"]],\"type\":\"heatmap\"}],\"heatmapgl\":[{\"colorbar\":{\"outlinewidth\":0,\"ticks\":\"\"},\"colorscale\":[[0.0,\"#0d0887\"],[0.1111111111111111,\"#46039f\"],[0.2222222222222222,\"#7201a8\"],[0.3333333333333333,\"#9c179e\"],[0.4444444444444444,\"#bd3786\"],[0.5555555555555556,\"#d8576b\"],[0.6666666666666666,\"#ed7953\"],[0.7777777777777778,\"#fb9f3a\"],[0.8888888888888888,\"#fdca26\"],[1.0,\"#f0f921\"]],\"type\":\"heatmapgl\"}],\"histogram\":[{\"marker\":{\"pattern\":{\"fillmode\":\"overlay\",\"size\":10,\"solidity\":0.2}},\"type\":\"histogram\"}],\"histogram2d\":[{\"colorbar\":{\"outlinewidth\":0,\"ticks\":\"\"},\"colorscale\":[[0.0,\"#0d0887\"],[0.1111111111111111,\"#46039f\"],[0.2222222222222222,\"#7201a8\"],[0.3333333333333333,\"#9c179e\"],[0.4444444444444444,\"#bd3786\"],[0.5555555555555556,\"#d8576b\"],[0.6666666666666666,\"#ed7953\"],[0.7777777777777778,\"#fb9f3a\"],[0.8888888888888888,\"#fdca26\"],[1.0,\"#f0f921\"]],\"type\":\"histogram2d\"}],\"histogram2dcontour\":[{\"colorbar\":{\"outlinewidth\":0,\"ticks\":\"\"},\"colorscale\":[[0.0,\"#0d0887\"],[0.1111111111111111,\"#46039f\"],[0.2222222222222222,\"#7201a8\"],[0.3333333333333333,\"#9c179e\"],[0.4444444444444444,\"#bd3786\"],[0.5555555555555556,\"#d8576b\"],[0.6666666666666666,\"#ed7953\"],[0.7777777777777778,\"#fb9f3a\"],[0.8888888888888888,\"#fdca26\"],[1.0,\"#f0f921\"]],\"type\":\"histogram2dcontour\"}],\"mesh3d\":[{\"colorbar\":{\"outlinewidth\":0,\"ticks\":\"\"},\"type\":\"mesh3d\"}],\"parcoords\":[{\"line\":{\"colorbar\":{\"outlinewidth\":0,\"ticks\":\"\"}},\"type\":\"parcoords\"}],\"pie\":[{\"automargin\":true,\"type\":\"pie\"}],\"scatter\":[{\"marker\":{\"colorbar\":{\"outlinewidth\":0,\"ticks\":\"\"}},\"type\":\"scatter\"}],\"scatter3d\":[{\"line\":{\"colorbar\":{\"outlinewidth\":0,\"ticks\":\"\"}},\"marker\":{\"colorbar\":{\"outlinewidth\":0,\"ticks\":\"\"}},\"type\":\"scatter3d\"}],\"scattercarpet\":[{\"marker\":{\"colorbar\":{\"outlinewidth\":0,\"ticks\":\"\"}},\"type\":\"scattercarpet\"}],\"scattergeo\":[{\"marker\":{\"colorbar\":{\"outlinewidth\":0,\"ticks\":\"\"}},\"type\":\"scattergeo\"}],\"scattergl\":[{\"marker\":{\"colorbar\":{\"outlinewidth\":0,\"ticks\":\"\"}},\"type\":\"scattergl\"}],\"scattermapbox\":[{\"marker\":{\"colorbar\":{\"outlinewidth\":0,\"ticks\":\"\"}},\"type\":\"scattermapbox\"}],\"scatterpolar\":[{\"marker\":{\"colorbar\":{\"outlinewidth\":0,\"ticks\":\"\"}},\"type\":\"scatterpolar\"}],\"scatterpolargl\":[{\"marker\":{\"colorbar\":{\"outlinewidth\":0,\"ticks\":\"\"}},\"type\":\"scatterpolargl\"}],\"scatterternary\":[{\"marker\":{\"colorbar\":{\"outlinewidth\":0,\"ticks\":\"\"}},\"type\":\"scatterternary\"}],\"surface\":[{\"colorbar\":{\"outlinewidth\":0,\"ticks\":\"\"},\"colorscale\":[[0.0,\"#0d0887\"],[0.1111111111111111,\"#46039f\"],[0.2222222222222222,\"#7201a8\"],[0.3333333333333333,\"#9c179e\"],[0.4444444444444444,\"#bd3786\"],[0.5555555555555556,\"#d8576b\"],[0.6666666666666666,\"#ed7953\"],[0.7777777777777778,\"#fb9f3a\"],[0.8888888888888888,\"#fdca26\"],[1.0,\"#f0f921\"]],\"type\":\"surface\"}],\"table\":[{\"cells\":{\"fill\":{\"color\":\"#EBF0F8\"},\"line\":{\"color\":\"white\"}},\"header\":{\"fill\":{\"color\":\"#C8D4E3\"},\"line\":{\"color\":\"white\"}},\"type\":\"table\"}]},\"layout\":{\"annotationdefaults\":{\"arrowcolor\":\"#2a3f5f\",\"arrowhead\":0,\"arrowwidth\":1},\"autotypenumbers\":\"strict\",\"coloraxis\":{\"colorbar\":{\"outlinewidth\":0,\"ticks\":\"\"}},\"colorscale\":{\"diverging\":[[0,\"#8e0152\"],[0.1,\"#c51b7d\"],[0.2,\"#de77ae\"],[0.3,\"#f1b6da\"],[0.4,\"#fde0ef\"],[0.5,\"#f7f7f7\"],[0.6,\"#e6f5d0\"],[0.7,\"#b8e186\"],[0.8,\"#7fbc41\"],[0.9,\"#4d9221\"],[1,\"#276419\"]],\"sequential\":[[0.0,\"#0d0887\"],[0.1111111111111111,\"#46039f\"],[0.2222222222222222,\"#7201a8\"],[0.3333333333333333,\"#9c179e\"],[0.4444444444444444,\"#bd3786\"],[0.5555555555555556,\"#d8576b\"],[0.6666666666666666,\"#ed7953\"],[0.7777777777777778,\"#fb9f3a\"],[0.8888888888888888,\"#fdca26\"],[1.0,\"#f0f921\"]],\"sequentialminus\":[[0.0,\"#0d0887\"],[0.1111111111111111,\"#46039f\"],[0.2222222222222222,\"#7201a8\"],[0.3333333333333333,\"#9c179e\"],[0.4444444444444444,\"#bd3786\"],[0.5555555555555556,\"#d8576b\"],[0.6666666666666666,\"#ed7953\"],[0.7777777777777778,\"#fb9f3a\"],[0.8888888888888888,\"#fdca26\"],[1.0,\"#f0f921\"]]},\"colorway\":[\"#636efa\",\"#EF553B\",\"#00cc96\",\"#ab63fa\",\"#FFA15A\",\"#19d3f3\",\"#FF6692\",\"#B6E880\",\"#FF97FF\",\"#FECB52\"],\"font\":{\"color\":\"#2a3f5f\"},\"geo\":{\"bgcolor\":\"white\",\"lakecolor\":\"white\",\"landcolor\":\"#E5ECF6\",\"showlakes\":true,\"showland\":true,\"subunitcolor\":\"white\"},\"hoverlabel\":{\"align\":\"left\"},\"hovermode\":\"closest\",\"mapbox\":{\"style\":\"light\"},\"paper_bgcolor\":\"white\",\"plot_bgcolor\":\"#E5ECF6\",\"polar\":{\"angularaxis\":{\"gridcolor\":\"white\",\"linecolor\":\"white\",\"ticks\":\"\"},\"bgcolor\":\"#E5ECF6\",\"radialaxis\":{\"gridcolor\":\"white\",\"linecolor\":\"white\",\"ticks\":\"\"}},\"scene\":{\"xaxis\":{\"backgroundcolor\":\"#E5ECF6\",\"gridcolor\":\"white\",\"gridwidth\":2,\"linecolor\":\"white\",\"showbackground\":true,\"ticks\":\"\",\"zerolinecolor\":\"white\"},\"yaxis\":{\"backgroundcolor\":\"#E5ECF6\",\"gridcolor\":\"white\",\"gridwidth\":2,\"linecolor\":\"white\",\"showbackground\":true,\"ticks\":\"\",\"zerolinecolor\":\"white\"},\"zaxis\":{\"backgroundcolor\":\"#E5ECF6\",\"gridcolor\":\"white\",\"gridwidth\":2,\"linecolor\":\"white\",\"showbackground\":true,\"ticks\":\"\",\"zerolinecolor\":\"white\"}},\"shapedefaults\":{\"line\":{\"color\":\"#2a3f5f\"}},\"ternary\":{\"aaxis\":{\"gridcolor\":\"white\",\"linecolor\":\"white\",\"ticks\":\"\"},\"baxis\":{\"gridcolor\":\"white\",\"linecolor\":\"white\",\"ticks\":\"\"},\"bgcolor\":\"#E5ECF6\",\"caxis\":{\"gridcolor\":\"white\",\"linecolor\":\"white\",\"ticks\":\"\"}},\"title\":{\"x\":0.05},\"xaxis\":{\"automargin\":true,\"gridcolor\":\"white\",\"linecolor\":\"white\",\"ticks\":\"\",\"title\":{\"standoff\":15},\"zerolinecolor\":\"white\",\"zerolinewidth\":2},\"yaxis\":{\"automargin\":true,\"gridcolor\":\"white\",\"linecolor\":\"white\",\"ticks\":\"\",\"title\":{\"standoff\":15},\"zerolinecolor\":\"white\",\"zerolinewidth\":2}}},\"xaxis\":{\"anchor\":\"y\",\"domain\":[0.0,1.0],\"title\":{\"text\":\"month_no\"}},\"yaxis\":{\"anchor\":\"x\",\"domain\":[0.0,1.0],\"title\":{\"text\":\"claim_amount\"}},\"coloraxis\":{\"colorbar\":{\"title\":{\"text\":\"year\"}},\"colorscale\":[[0.0,\"#0d0887\"],[0.1111111111111111,\"#46039f\"],[0.2222222222222222,\"#7201a8\"],[0.3333333333333333,\"#9c179e\"],[0.4444444444444444,\"#bd3786\"],[0.5555555555555556,\"#d8576b\"],[0.6666666666666666,\"#ed7953\"],[0.7777777777777778,\"#fb9f3a\"],[0.8888888888888888,\"#fdca26\"],[1.0,\"#f0f921\"]]},\"legend\":{\"tracegroupgap\":0},\"title\":{\"text\":\"monthly trend of the total amount that has been claimed by the customers\"},\"barmode\":\"group\",\"height\":400},                        {\"responsive\": true}                    ).then(function(){\n",
       "                            \n",
       "var gd = document.getElementById('6f79a9fe-8f43-41aa-997b-70632370c084');\n",
       "var x = new MutationObserver(function (mutations, observer) {{\n",
       "        var display = window.getComputedStyle(gd).display;\n",
       "        if (!display || display === 'none') {{\n",
       "            console.log([gd, 'removed!']);\n",
       "            Plotly.purge(gd);\n",
       "            observer.disconnect();\n",
       "        }}\n",
       "}});\n",
       "\n",
       "// Listen for the removal of the full notebook cells\n",
       "var notebookContainer = gd.closest('#notebook-container');\n",
       "if (notebookContainer) {{\n",
       "    x.observe(notebookContainer, {childList: true});\n",
       "}}\n",
       "\n",
       "// Listen for the clearing of the current output cell\n",
       "var outputEl = gd.closest('.output');\n",
       "if (outputEl) {{\n",
       "    x.observe(outputEl, {childList: true});\n",
       "}}\n",
       "\n",
       "                        })                };                });            </script>        </div>"
      ]
     },
     "metadata": {},
     "output_type": "display_data"
    }
   ],
   "source": [
    "fig= px.bar(cust_claim_data_time_line1, x='month_no', y='claim_amount', color='year', barmode='group', height=400, title='monthly trend of the total amount that has been claimed by the customers')\n",
    "fig.show()"
   ]
  },
  {
   "cell_type": "markdown",
   "id": "f459b28e",
   "metadata": {},
   "source": [
    "### 15. What is the average claim amount for gender and age categories and suitably represent the above using a facetted bar chart, one facet that represents fraudulent claims and the other for non-fraudulent claims."
   ]
  },
  {
   "cell_type": "code",
   "execution_count": 41,
   "id": "da9325a4",
   "metadata": {
    "ExecuteTime": {
     "end_time": "2022-06-25T08:03:01.080258Z",
     "start_time": "2022-06-25T08:03:01.051260Z"
    }
   },
   "outputs": [
    {
     "data": {
      "text/html": [
       "<div>\n",
       "<style scoped>\n",
       "    .dataframe tbody tr th:only-of-type {\n",
       "        vertical-align: middle;\n",
       "    }\n",
       "\n",
       "    .dataframe tbody tr th {\n",
       "        vertical-align: top;\n",
       "    }\n",
       "\n",
       "    .dataframe thead th {\n",
       "        text-align: right;\n",
       "    }\n",
       "</style>\n",
       "<table border=\"1\" class=\"dataframe\">\n",
       "  <thead>\n",
       "    <tr style=\"text-align: right;\">\n",
       "      <th></th>\n",
       "      <th>fraudulent</th>\n",
       "      <th>gender</th>\n",
       "      <th>age_category</th>\n",
       "      <th>month_no</th>\n",
       "      <th>agg_fraud</th>\n",
       "    </tr>\n",
       "  </thead>\n",
       "  <tbody>\n",
       "    <tr>\n",
       "      <th>0</th>\n",
       "      <td>No</td>\n",
       "      <td>Female</td>\n",
       "      <td>Adult</td>\n",
       "      <td>1</td>\n",
       "      <td>12452.136347</td>\n",
       "    </tr>\n",
       "    <tr>\n",
       "      <th>1</th>\n",
       "      <td>No</td>\n",
       "      <td>Female</td>\n",
       "      <td>Adult</td>\n",
       "      <td>2</td>\n",
       "      <td>8900.841970</td>\n",
       "    </tr>\n",
       "    <tr>\n",
       "      <th>2</th>\n",
       "      <td>No</td>\n",
       "      <td>Female</td>\n",
       "      <td>Adult</td>\n",
       "      <td>3</td>\n",
       "      <td>9881.922712</td>\n",
       "    </tr>\n",
       "    <tr>\n",
       "      <th>3</th>\n",
       "      <td>No</td>\n",
       "      <td>Female</td>\n",
       "      <td>Adult</td>\n",
       "      <td>4</td>\n",
       "      <td>12617.058824</td>\n",
       "    </tr>\n",
       "    <tr>\n",
       "      <th>4</th>\n",
       "      <td>No</td>\n",
       "      <td>Female</td>\n",
       "      <td>Adult</td>\n",
       "      <td>5</td>\n",
       "      <td>10824.834384</td>\n",
       "    </tr>\n",
       "    <tr>\n",
       "      <th>...</th>\n",
       "      <td>...</td>\n",
       "      <td>...</td>\n",
       "      <td>...</td>\n",
       "      <td>...</td>\n",
       "      <td>...</td>\n",
       "    </tr>\n",
       "    <tr>\n",
       "      <th>116</th>\n",
       "      <td>Yes</td>\n",
       "      <td>Male</td>\n",
       "      <td>Youth</td>\n",
       "      <td>8</td>\n",
       "      <td>22237.166667</td>\n",
       "    </tr>\n",
       "    <tr>\n",
       "      <th>117</th>\n",
       "      <td>Yes</td>\n",
       "      <td>Male</td>\n",
       "      <td>Youth</td>\n",
       "      <td>9</td>\n",
       "      <td>1932.000000</td>\n",
       "    </tr>\n",
       "    <tr>\n",
       "      <th>118</th>\n",
       "      <td>Yes</td>\n",
       "      <td>Male</td>\n",
       "      <td>Youth</td>\n",
       "      <td>10</td>\n",
       "      <td>6826.090686</td>\n",
       "    </tr>\n",
       "    <tr>\n",
       "      <th>119</th>\n",
       "      <td>Yes</td>\n",
       "      <td>Male</td>\n",
       "      <td>Youth</td>\n",
       "      <td>11</td>\n",
       "      <td>2468.666667</td>\n",
       "    </tr>\n",
       "    <tr>\n",
       "      <th>120</th>\n",
       "      <td>Yes</td>\n",
       "      <td>Male</td>\n",
       "      <td>Youth</td>\n",
       "      <td>12</td>\n",
       "      <td>2288.500000</td>\n",
       "    </tr>\n",
       "  </tbody>\n",
       "</table>\n",
       "<p>121 rows × 5 columns</p>\n",
       "</div>"
      ],
      "text/plain": [
       "    fraudulent  gender age_category  month_no     agg_fraud\n",
       "0           No  Female        Adult         1  12452.136347\n",
       "1           No  Female        Adult         2   8900.841970\n",
       "2           No  Female        Adult         3   9881.922712\n",
       "3           No  Female        Adult         4  12617.058824\n",
       "4           No  Female        Adult         5  10824.834384\n",
       "..         ...     ...          ...       ...           ...\n",
       "116        Yes    Male        Youth         8  22237.166667\n",
       "117        Yes    Male        Youth         9   1932.000000\n",
       "118        Yes    Male        Youth        10   6826.090686\n",
       "119        Yes    Male        Youth        11   2468.666667\n",
       "120        Yes    Male        Youth        12   2288.500000\n",
       "\n",
       "[121 rows x 5 columns]"
      ]
     },
     "execution_count": 41,
     "metadata": {},
     "output_type": "execute_result"
    }
   ],
   "source": [
    "facet_fraud= cust_claim_data[['fraudulent', 'gender','age_category','month_no', 'claim_amount']]\n",
    "facet_fraud=facet_fraud.groupby(['fraudulent','gender','age_category','month_no']).agg(agg_fraud=('claim_amount', np.mean)).reset_index()\n",
    "facet_fraud"
   ]
  },
  {
   "cell_type": "code",
   "execution_count": 42,
   "id": "eb3b9025",
   "metadata": {
    "ExecuteTime": {
     "end_time": "2022-06-25T08:03:02.119718Z",
     "start_time": "2022-06-25T08:03:01.081178Z"
    }
   },
   "outputs": [
    {
     "data": {
      "application/vnd.plotly.v1+json": {
       "config": {
        "plotlyServerURL": "https://plot.ly"
       },
       "data": [
        {
         "alignmentgroup": "True",
         "hovertemplate": "gender=Female<br>fraudulent=No<br>age_category=%{x}<br>agg_fraud=%{y}<extra></extra>",
         "legendgroup": "Female",
         "marker": {
          "color": "#636efa",
          "pattern": {
           "shape": ""
          }
         },
         "name": "Female",
         "offsetgroup": "Female",
         "orientation": "v",
         "showlegend": true,
         "textposition": "auto",
         "type": "bar",
         "x": [
          "Adult",
          "Adult",
          "Adult",
          "Adult",
          "Adult",
          "Adult",
          "Adult",
          "Adult",
          "Adult",
          "Adult",
          "Adult",
          "Adult",
          "Senior",
          "Senior",
          "Senior",
          "Senior",
          "Senior",
          "Senior",
          "Senior",
          "Senior",
          "Senior",
          "Senior",
          "Youth",
          "Youth",
          "Youth",
          "Youth",
          "Youth",
          "Youth",
          "Youth",
          "Youth",
          "Youth",
          "Youth",
          "Youth",
          "Youth"
         ],
         "xaxis": "x2",
         "y": [
          12452.136347131445,
          8900.841970121382,
          9881.922712418302,
          12617.058823529413,
          10824.834383753503,
          16164.789215686276,
          16282.758620689656,
          9735.555555555555,
          8517.619047619048,
          12542.248240321771,
          10096.153846153846,
          12544.615384615385,
          13585,
          27054.420343137255,
          25580,
          2205,
          16895.893790849674,
          14848.84068627451,
          1703.3333333333333,
          23041.34068627451,
          12467.68137254902,
          2250,
          18701.536274509803,
          5540,
          10170,
          14489.09090909091,
          7965.555555555556,
          13404.186819172113,
          9648.880124777184,
          17122.85714285714,
          10272.946895424837,
          24415.383053221285,
          2370,
          18912.5
         ],
         "yaxis": "y2"
        },
        {
         "alignmentgroup": "True",
         "hovertemplate": "gender=Female<br>fraudulent=Yes<br>age_category=%{x}<br>agg_fraud=%{y}<extra></extra>",
         "legendgroup": "Female",
         "marker": {
          "color": "#636efa",
          "pattern": {
           "shape": ""
          }
         },
         "name": "Female",
         "offsetgroup": "Female",
         "orientation": "v",
         "showlegend": false,
         "textposition": "auto",
         "type": "bar",
         "x": [
          "Adult",
          "Adult",
          "Adult",
          "Adult",
          "Adult",
          "Adult",
          "Adult",
          "Adult",
          "Adult",
          "Adult",
          "Adult",
          "Adult",
          "Senior",
          "Senior",
          "Senior",
          "Senior",
          "Senior",
          "Senior",
          "Youth",
          "Youth",
          "Youth",
          "Youth",
          "Youth",
          "Youth",
          "Youth",
          "Youth",
          "Youth"
         ],
         "xaxis": "x",
         "y": [
          15561.8,
          13864.971033868094,
          11215.95,
          6431.585171568628,
          15546.643790849674,
          24365.214285714286,
          11887.35348583878,
          8165,
          20280.25,
          7659,
          12467.68137254902,
          1955,
          2622,
          2277,
          2457.1666666666665,
          2530,
          2806,
          10482.25,
          23057.5,
          7015.84068627451,
          5217.727124183007,
          19562.06045751634,
          1293.75,
          3254.5,
          9959,
          5585.727124183007,
          2225.25
         ],
         "yaxis": "y"
        },
        {
         "alignmentgroup": "True",
         "hovertemplate": "gender=Male<br>fraudulent=No<br>age_category=%{x}<br>agg_fraud=%{y}<extra></extra>",
         "legendgroup": "Male",
         "marker": {
          "color": "#EF553B",
          "pattern": {
           "shape": ""
          }
         },
         "name": "Male",
         "offsetgroup": "Male",
         "orientation": "v",
         "showlegend": true,
         "textposition": "auto",
         "type": "bar",
         "x": [
          "Adult",
          "Adult",
          "Adult",
          "Adult",
          "Adult",
          "Adult",
          "Adult",
          "Adult",
          "Adult",
          "Adult",
          "Adult",
          "Adult",
          "Senior",
          "Senior",
          "Senior",
          "Senior",
          "Senior",
          "Senior",
          "Senior",
          "Senior",
          "Senior",
          "Senior",
          "Senior",
          "Youth",
          "Youth",
          "Youth",
          "Youth",
          "Youth",
          "Youth",
          "Youth",
          "Youth",
          "Youth",
          "Youth",
          "Youth",
          "Youth"
         ],
         "xaxis": "x2",
         "y": [
          11124.031639928698,
          12529.6875,
          14270.79462474645,
          11475.320057189543,
          12225.73672385621,
          13609.920047329277,
          11707.691902687002,
          9314.747633536173,
          14833.400263951735,
          9058.35348583878,
          10813.333333333334,
          17280.982298474948,
          16075.893790849674,
          28336.666666666668,
          1260,
          5700,
          1876.6666666666667,
          12524,
          2690,
          7183.84068627451,
          33330,
          28075,
          14330,
          8623.333333333334,
          10185,
          15411.111111111111,
          14940,
          12639.710171568628,
          14631.42857142857,
          11161.920343137255,
          10176.151416122004,
          2600,
          10149.789215686274,
          16915,
          14257.5
         ],
         "yaxis": "y2"
        },
        {
         "alignmentgroup": "True",
         "hovertemplate": "gender=Male<br>fraudulent=Yes<br>age_category=%{x}<br>agg_fraud=%{y}<extra></extra>",
         "legendgroup": "Male",
         "marker": {
          "color": "#EF553B",
          "pattern": {
           "shape": ""
          }
         },
         "name": "Male",
         "offsetgroup": "Male",
         "orientation": "v",
         "showlegend": false,
         "textposition": "auto",
         "type": "bar",
         "x": [
          "Adult",
          "Adult",
          "Adult",
          "Adult",
          "Adult",
          "Adult",
          "Adult",
          "Adult",
          "Adult",
          "Adult",
          "Adult",
          "Adult",
          "Senior",
          "Senior",
          "Senior",
          "Youth",
          "Youth",
          "Youth",
          "Youth",
          "Youth",
          "Youth",
          "Youth",
          "Youth",
          "Youth",
          "Youth"
         ],
         "xaxis": "x",
         "y": [
          15237.668137254903,
          18930.4375,
          9299.666666666666,
          14787.85,
          20770.64767156863,
          8618.022671568628,
          14022.094919786095,
          18262,
          13397.5,
          16475.96153846154,
          23935.333333333332,
          10390.25,
          38065,
          2265.5,
          44367,
          2196.5,
          2380.5,
          17017.7,
          2259.75,
          32407,
          22237.166666666668,
          1932,
          6826.09068627451,
          2468.6666666666665,
          2288.5
         ],
         "yaxis": "y"
        }
       ],
       "layout": {
        "annotations": [
         {
          "font": {},
          "showarrow": false,
          "text": "fraudulent=Yes",
          "textangle": 90,
          "x": 0.98,
          "xanchor": "left",
          "xref": "paper",
          "y": 0.2425,
          "yanchor": "middle",
          "yref": "paper"
         },
         {
          "font": {},
          "showarrow": false,
          "text": "fraudulent=No",
          "textangle": 90,
          "x": 0.98,
          "xanchor": "left",
          "xref": "paper",
          "y": 0.7575000000000001,
          "yanchor": "middle",
          "yref": "paper"
         }
        ],
        "barmode": "group",
        "legend": {
         "title": {
          "text": "gender"
         },
         "tracegroupgap": 0
        },
        "margin": {
         "t": 60
        },
        "template": {
         "data": {
          "bar": [
           {
            "error_x": {
             "color": "#2a3f5f"
            },
            "error_y": {
             "color": "#2a3f5f"
            },
            "marker": {
             "line": {
              "color": "#E5ECF6",
              "width": 0.5
             },
             "pattern": {
              "fillmode": "overlay",
              "size": 10,
              "solidity": 0.2
             }
            },
            "type": "bar"
           }
          ],
          "barpolar": [
           {
            "marker": {
             "line": {
              "color": "#E5ECF6",
              "width": 0.5
             },
             "pattern": {
              "fillmode": "overlay",
              "size": 10,
              "solidity": 0.2
             }
            },
            "type": "barpolar"
           }
          ],
          "carpet": [
           {
            "aaxis": {
             "endlinecolor": "#2a3f5f",
             "gridcolor": "white",
             "linecolor": "white",
             "minorgridcolor": "white",
             "startlinecolor": "#2a3f5f"
            },
            "baxis": {
             "endlinecolor": "#2a3f5f",
             "gridcolor": "white",
             "linecolor": "white",
             "minorgridcolor": "white",
             "startlinecolor": "#2a3f5f"
            },
            "type": "carpet"
           }
          ],
          "choropleth": [
           {
            "colorbar": {
             "outlinewidth": 0,
             "ticks": ""
            },
            "type": "choropleth"
           }
          ],
          "contour": [
           {
            "colorbar": {
             "outlinewidth": 0,
             "ticks": ""
            },
            "colorscale": [
             [
              0,
              "#0d0887"
             ],
             [
              0.1111111111111111,
              "#46039f"
             ],
             [
              0.2222222222222222,
              "#7201a8"
             ],
             [
              0.3333333333333333,
              "#9c179e"
             ],
             [
              0.4444444444444444,
              "#bd3786"
             ],
             [
              0.5555555555555556,
              "#d8576b"
             ],
             [
              0.6666666666666666,
              "#ed7953"
             ],
             [
              0.7777777777777778,
              "#fb9f3a"
             ],
             [
              0.8888888888888888,
              "#fdca26"
             ],
             [
              1,
              "#f0f921"
             ]
            ],
            "type": "contour"
           }
          ],
          "contourcarpet": [
           {
            "colorbar": {
             "outlinewidth": 0,
             "ticks": ""
            },
            "type": "contourcarpet"
           }
          ],
          "heatmap": [
           {
            "colorbar": {
             "outlinewidth": 0,
             "ticks": ""
            },
            "colorscale": [
             [
              0,
              "#0d0887"
             ],
             [
              0.1111111111111111,
              "#46039f"
             ],
             [
              0.2222222222222222,
              "#7201a8"
             ],
             [
              0.3333333333333333,
              "#9c179e"
             ],
             [
              0.4444444444444444,
              "#bd3786"
             ],
             [
              0.5555555555555556,
              "#d8576b"
             ],
             [
              0.6666666666666666,
              "#ed7953"
             ],
             [
              0.7777777777777778,
              "#fb9f3a"
             ],
             [
              0.8888888888888888,
              "#fdca26"
             ],
             [
              1,
              "#f0f921"
             ]
            ],
            "type": "heatmap"
           }
          ],
          "heatmapgl": [
           {
            "colorbar": {
             "outlinewidth": 0,
             "ticks": ""
            },
            "colorscale": [
             [
              0,
              "#0d0887"
             ],
             [
              0.1111111111111111,
              "#46039f"
             ],
             [
              0.2222222222222222,
              "#7201a8"
             ],
             [
              0.3333333333333333,
              "#9c179e"
             ],
             [
              0.4444444444444444,
              "#bd3786"
             ],
             [
              0.5555555555555556,
              "#d8576b"
             ],
             [
              0.6666666666666666,
              "#ed7953"
             ],
             [
              0.7777777777777778,
              "#fb9f3a"
             ],
             [
              0.8888888888888888,
              "#fdca26"
             ],
             [
              1,
              "#f0f921"
             ]
            ],
            "type": "heatmapgl"
           }
          ],
          "histogram": [
           {
            "marker": {
             "pattern": {
              "fillmode": "overlay",
              "size": 10,
              "solidity": 0.2
             }
            },
            "type": "histogram"
           }
          ],
          "histogram2d": [
           {
            "colorbar": {
             "outlinewidth": 0,
             "ticks": ""
            },
            "colorscale": [
             [
              0,
              "#0d0887"
             ],
             [
              0.1111111111111111,
              "#46039f"
             ],
             [
              0.2222222222222222,
              "#7201a8"
             ],
             [
              0.3333333333333333,
              "#9c179e"
             ],
             [
              0.4444444444444444,
              "#bd3786"
             ],
             [
              0.5555555555555556,
              "#d8576b"
             ],
             [
              0.6666666666666666,
              "#ed7953"
             ],
             [
              0.7777777777777778,
              "#fb9f3a"
             ],
             [
              0.8888888888888888,
              "#fdca26"
             ],
             [
              1,
              "#f0f921"
             ]
            ],
            "type": "histogram2d"
           }
          ],
          "histogram2dcontour": [
           {
            "colorbar": {
             "outlinewidth": 0,
             "ticks": ""
            },
            "colorscale": [
             [
              0,
              "#0d0887"
             ],
             [
              0.1111111111111111,
              "#46039f"
             ],
             [
              0.2222222222222222,
              "#7201a8"
             ],
             [
              0.3333333333333333,
              "#9c179e"
             ],
             [
              0.4444444444444444,
              "#bd3786"
             ],
             [
              0.5555555555555556,
              "#d8576b"
             ],
             [
              0.6666666666666666,
              "#ed7953"
             ],
             [
              0.7777777777777778,
              "#fb9f3a"
             ],
             [
              0.8888888888888888,
              "#fdca26"
             ],
             [
              1,
              "#f0f921"
             ]
            ],
            "type": "histogram2dcontour"
           }
          ],
          "mesh3d": [
           {
            "colorbar": {
             "outlinewidth": 0,
             "ticks": ""
            },
            "type": "mesh3d"
           }
          ],
          "parcoords": [
           {
            "line": {
             "colorbar": {
              "outlinewidth": 0,
              "ticks": ""
             }
            },
            "type": "parcoords"
           }
          ],
          "pie": [
           {
            "automargin": true,
            "type": "pie"
           }
          ],
          "scatter": [
           {
            "marker": {
             "colorbar": {
              "outlinewidth": 0,
              "ticks": ""
             }
            },
            "type": "scatter"
           }
          ],
          "scatter3d": [
           {
            "line": {
             "colorbar": {
              "outlinewidth": 0,
              "ticks": ""
             }
            },
            "marker": {
             "colorbar": {
              "outlinewidth": 0,
              "ticks": ""
             }
            },
            "type": "scatter3d"
           }
          ],
          "scattercarpet": [
           {
            "marker": {
             "colorbar": {
              "outlinewidth": 0,
              "ticks": ""
             }
            },
            "type": "scattercarpet"
           }
          ],
          "scattergeo": [
           {
            "marker": {
             "colorbar": {
              "outlinewidth": 0,
              "ticks": ""
             }
            },
            "type": "scattergeo"
           }
          ],
          "scattergl": [
           {
            "marker": {
             "colorbar": {
              "outlinewidth": 0,
              "ticks": ""
             }
            },
            "type": "scattergl"
           }
          ],
          "scattermapbox": [
           {
            "marker": {
             "colorbar": {
              "outlinewidth": 0,
              "ticks": ""
             }
            },
            "type": "scattermapbox"
           }
          ],
          "scatterpolar": [
           {
            "marker": {
             "colorbar": {
              "outlinewidth": 0,
              "ticks": ""
             }
            },
            "type": "scatterpolar"
           }
          ],
          "scatterpolargl": [
           {
            "marker": {
             "colorbar": {
              "outlinewidth": 0,
              "ticks": ""
             }
            },
            "type": "scatterpolargl"
           }
          ],
          "scatterternary": [
           {
            "marker": {
             "colorbar": {
              "outlinewidth": 0,
              "ticks": ""
             }
            },
            "type": "scatterternary"
           }
          ],
          "surface": [
           {
            "colorbar": {
             "outlinewidth": 0,
             "ticks": ""
            },
            "colorscale": [
             [
              0,
              "#0d0887"
             ],
             [
              0.1111111111111111,
              "#46039f"
             ],
             [
              0.2222222222222222,
              "#7201a8"
             ],
             [
              0.3333333333333333,
              "#9c179e"
             ],
             [
              0.4444444444444444,
              "#bd3786"
             ],
             [
              0.5555555555555556,
              "#d8576b"
             ],
             [
              0.6666666666666666,
              "#ed7953"
             ],
             [
              0.7777777777777778,
              "#fb9f3a"
             ],
             [
              0.8888888888888888,
              "#fdca26"
             ],
             [
              1,
              "#f0f921"
             ]
            ],
            "type": "surface"
           }
          ],
          "table": [
           {
            "cells": {
             "fill": {
              "color": "#EBF0F8"
             },
             "line": {
              "color": "white"
             }
            },
            "header": {
             "fill": {
              "color": "#C8D4E3"
             },
             "line": {
              "color": "white"
             }
            },
            "type": "table"
           }
          ]
         },
         "layout": {
          "annotationdefaults": {
           "arrowcolor": "#2a3f5f",
           "arrowhead": 0,
           "arrowwidth": 1
          },
          "autotypenumbers": "strict",
          "coloraxis": {
           "colorbar": {
            "outlinewidth": 0,
            "ticks": ""
           }
          },
          "colorscale": {
           "diverging": [
            [
             0,
             "#8e0152"
            ],
            [
             0.1,
             "#c51b7d"
            ],
            [
             0.2,
             "#de77ae"
            ],
            [
             0.3,
             "#f1b6da"
            ],
            [
             0.4,
             "#fde0ef"
            ],
            [
             0.5,
             "#f7f7f7"
            ],
            [
             0.6,
             "#e6f5d0"
            ],
            [
             0.7,
             "#b8e186"
            ],
            [
             0.8,
             "#7fbc41"
            ],
            [
             0.9,
             "#4d9221"
            ],
            [
             1,
             "#276419"
            ]
           ],
           "sequential": [
            [
             0,
             "#0d0887"
            ],
            [
             0.1111111111111111,
             "#46039f"
            ],
            [
             0.2222222222222222,
             "#7201a8"
            ],
            [
             0.3333333333333333,
             "#9c179e"
            ],
            [
             0.4444444444444444,
             "#bd3786"
            ],
            [
             0.5555555555555556,
             "#d8576b"
            ],
            [
             0.6666666666666666,
             "#ed7953"
            ],
            [
             0.7777777777777778,
             "#fb9f3a"
            ],
            [
             0.8888888888888888,
             "#fdca26"
            ],
            [
             1,
             "#f0f921"
            ]
           ],
           "sequentialminus": [
            [
             0,
             "#0d0887"
            ],
            [
             0.1111111111111111,
             "#46039f"
            ],
            [
             0.2222222222222222,
             "#7201a8"
            ],
            [
             0.3333333333333333,
             "#9c179e"
            ],
            [
             0.4444444444444444,
             "#bd3786"
            ],
            [
             0.5555555555555556,
             "#d8576b"
            ],
            [
             0.6666666666666666,
             "#ed7953"
            ],
            [
             0.7777777777777778,
             "#fb9f3a"
            ],
            [
             0.8888888888888888,
             "#fdca26"
            ],
            [
             1,
             "#f0f921"
            ]
           ]
          },
          "colorway": [
           "#636efa",
           "#EF553B",
           "#00cc96",
           "#ab63fa",
           "#FFA15A",
           "#19d3f3",
           "#FF6692",
           "#B6E880",
           "#FF97FF",
           "#FECB52"
          ],
          "font": {
           "color": "#2a3f5f"
          },
          "geo": {
           "bgcolor": "white",
           "lakecolor": "white",
           "landcolor": "#E5ECF6",
           "showlakes": true,
           "showland": true,
           "subunitcolor": "white"
          },
          "hoverlabel": {
           "align": "left"
          },
          "hovermode": "closest",
          "mapbox": {
           "style": "light"
          },
          "paper_bgcolor": "white",
          "plot_bgcolor": "#E5ECF6",
          "polar": {
           "angularaxis": {
            "gridcolor": "white",
            "linecolor": "white",
            "ticks": ""
           },
           "bgcolor": "#E5ECF6",
           "radialaxis": {
            "gridcolor": "white",
            "linecolor": "white",
            "ticks": ""
           }
          },
          "scene": {
           "xaxis": {
            "backgroundcolor": "#E5ECF6",
            "gridcolor": "white",
            "gridwidth": 2,
            "linecolor": "white",
            "showbackground": true,
            "ticks": "",
            "zerolinecolor": "white"
           },
           "yaxis": {
            "backgroundcolor": "#E5ECF6",
            "gridcolor": "white",
            "gridwidth": 2,
            "linecolor": "white",
            "showbackground": true,
            "ticks": "",
            "zerolinecolor": "white"
           },
           "zaxis": {
            "backgroundcolor": "#E5ECF6",
            "gridcolor": "white",
            "gridwidth": 2,
            "linecolor": "white",
            "showbackground": true,
            "ticks": "",
            "zerolinecolor": "white"
           }
          },
          "shapedefaults": {
           "line": {
            "color": "#2a3f5f"
           }
          },
          "ternary": {
           "aaxis": {
            "gridcolor": "white",
            "linecolor": "white",
            "ticks": ""
           },
           "baxis": {
            "gridcolor": "white",
            "linecolor": "white",
            "ticks": ""
           },
           "bgcolor": "#E5ECF6",
           "caxis": {
            "gridcolor": "white",
            "linecolor": "white",
            "ticks": ""
           }
          },
          "title": {
           "x": 0.05
          },
          "xaxis": {
           "automargin": true,
           "gridcolor": "white",
           "linecolor": "white",
           "ticks": "",
           "title": {
            "standoff": 15
           },
           "zerolinecolor": "white",
           "zerolinewidth": 2
          },
          "yaxis": {
           "automargin": true,
           "gridcolor": "white",
           "linecolor": "white",
           "ticks": "",
           "title": {
            "standoff": 15
           },
           "zerolinecolor": "white",
           "zerolinewidth": 2
          }
         }
        },
        "xaxis": {
         "anchor": "y",
         "domain": [
          0,
          0.98
         ],
         "title": {
          "text": "age_category"
         }
        },
        "xaxis2": {
         "anchor": "y2",
         "domain": [
          0,
          0.98
         ],
         "matches": "x",
         "showticklabels": false
        },
        "yaxis": {
         "anchor": "x",
         "domain": [
          0,
          0.485
         ],
         "title": {
          "text": "agg_fraud"
         }
        },
        "yaxis2": {
         "anchor": "x2",
         "domain": [
          0.515,
          1
         ],
         "matches": "y",
         "title": {
          "text": "agg_fraud"
         }
        }
       }
      },
      "text/html": [
       "<div>                            <div id=\"cd2bf063-de09-4a81-838e-c1b9cc10a3e2\" class=\"plotly-graph-div\" style=\"height:525px; width:100%;\"></div>            <script type=\"text/javascript\">                require([\"plotly\"], function(Plotly) {                    window.PLOTLYENV=window.PLOTLYENV || {};                                    if (document.getElementById(\"cd2bf063-de09-4a81-838e-c1b9cc10a3e2\")) {                    Plotly.newPlot(                        \"cd2bf063-de09-4a81-838e-c1b9cc10a3e2\",                        [{\"alignmentgroup\":\"True\",\"hovertemplate\":\"gender=Female<br>fraudulent=No<br>age_category=%{x}<br>agg_fraud=%{y}<extra></extra>\",\"legendgroup\":\"Female\",\"marker\":{\"color\":\"#636efa\",\"pattern\":{\"shape\":\"\"}},\"name\":\"Female\",\"offsetgroup\":\"Female\",\"orientation\":\"v\",\"showlegend\":true,\"textposition\":\"auto\",\"x\":[\"Adult\",\"Adult\",\"Adult\",\"Adult\",\"Adult\",\"Adult\",\"Adult\",\"Adult\",\"Adult\",\"Adult\",\"Adult\",\"Adult\",\"Senior\",\"Senior\",\"Senior\",\"Senior\",\"Senior\",\"Senior\",\"Senior\",\"Senior\",\"Senior\",\"Senior\",\"Youth\",\"Youth\",\"Youth\",\"Youth\",\"Youth\",\"Youth\",\"Youth\",\"Youth\",\"Youth\",\"Youth\",\"Youth\",\"Youth\"],\"xaxis\":\"x2\",\"y\":[12452.136347131445,8900.841970121382,9881.922712418302,12617.058823529413,10824.834383753503,16164.789215686276,16282.758620689656,9735.555555555555,8517.619047619048,12542.248240321771,10096.153846153846,12544.615384615385,13585.0,27054.420343137255,25580.0,2205.0,16895.893790849674,14848.84068627451,1703.3333333333333,23041.34068627451,12467.68137254902,2250.0,18701.536274509803,5540.0,10170.0,14489.09090909091,7965.555555555556,13404.186819172113,9648.880124777184,17122.85714285714,10272.946895424837,24415.383053221285,2370.0,18912.5],\"yaxis\":\"y2\",\"type\":\"bar\"},{\"alignmentgroup\":\"True\",\"hovertemplate\":\"gender=Female<br>fraudulent=Yes<br>age_category=%{x}<br>agg_fraud=%{y}<extra></extra>\",\"legendgroup\":\"Female\",\"marker\":{\"color\":\"#636efa\",\"pattern\":{\"shape\":\"\"}},\"name\":\"Female\",\"offsetgroup\":\"Female\",\"orientation\":\"v\",\"showlegend\":false,\"textposition\":\"auto\",\"x\":[\"Adult\",\"Adult\",\"Adult\",\"Adult\",\"Adult\",\"Adult\",\"Adult\",\"Adult\",\"Adult\",\"Adult\",\"Adult\",\"Adult\",\"Senior\",\"Senior\",\"Senior\",\"Senior\",\"Senior\",\"Senior\",\"Youth\",\"Youth\",\"Youth\",\"Youth\",\"Youth\",\"Youth\",\"Youth\",\"Youth\",\"Youth\"],\"xaxis\":\"x\",\"y\":[15561.8,13864.971033868094,11215.95,6431.585171568628,15546.643790849674,24365.214285714286,11887.35348583878,8165.0,20280.25,7659.0,12467.68137254902,1955.0,2622.0,2277.0,2457.1666666666665,2530.0,2806.0,10482.25,23057.5,7015.84068627451,5217.727124183007,19562.06045751634,1293.75,3254.5,9959.0,5585.727124183007,2225.25],\"yaxis\":\"y\",\"type\":\"bar\"},{\"alignmentgroup\":\"True\",\"hovertemplate\":\"gender=Male<br>fraudulent=No<br>age_category=%{x}<br>agg_fraud=%{y}<extra></extra>\",\"legendgroup\":\"Male\",\"marker\":{\"color\":\"#EF553B\",\"pattern\":{\"shape\":\"\"}},\"name\":\"Male\",\"offsetgroup\":\"Male\",\"orientation\":\"v\",\"showlegend\":true,\"textposition\":\"auto\",\"x\":[\"Adult\",\"Adult\",\"Adult\",\"Adult\",\"Adult\",\"Adult\",\"Adult\",\"Adult\",\"Adult\",\"Adult\",\"Adult\",\"Adult\",\"Senior\",\"Senior\",\"Senior\",\"Senior\",\"Senior\",\"Senior\",\"Senior\",\"Senior\",\"Senior\",\"Senior\",\"Senior\",\"Youth\",\"Youth\",\"Youth\",\"Youth\",\"Youth\",\"Youth\",\"Youth\",\"Youth\",\"Youth\",\"Youth\",\"Youth\",\"Youth\"],\"xaxis\":\"x2\",\"y\":[11124.031639928698,12529.6875,14270.79462474645,11475.320057189543,12225.73672385621,13609.920047329277,11707.691902687002,9314.747633536173,14833.400263951735,9058.35348583878,10813.333333333334,17280.982298474948,16075.893790849674,28336.666666666668,1260.0,5700.0,1876.6666666666667,12524.0,2690.0,7183.84068627451,33330.0,28075.0,14330.0,8623.333333333334,10185.0,15411.111111111111,14940.0,12639.710171568628,14631.42857142857,11161.920343137255,10176.151416122004,2600.0,10149.789215686274,16915.0,14257.5],\"yaxis\":\"y2\",\"type\":\"bar\"},{\"alignmentgroup\":\"True\",\"hovertemplate\":\"gender=Male<br>fraudulent=Yes<br>age_category=%{x}<br>agg_fraud=%{y}<extra></extra>\",\"legendgroup\":\"Male\",\"marker\":{\"color\":\"#EF553B\",\"pattern\":{\"shape\":\"\"}},\"name\":\"Male\",\"offsetgroup\":\"Male\",\"orientation\":\"v\",\"showlegend\":false,\"textposition\":\"auto\",\"x\":[\"Adult\",\"Adult\",\"Adult\",\"Adult\",\"Adult\",\"Adult\",\"Adult\",\"Adult\",\"Adult\",\"Adult\",\"Adult\",\"Adult\",\"Senior\",\"Senior\",\"Senior\",\"Youth\",\"Youth\",\"Youth\",\"Youth\",\"Youth\",\"Youth\",\"Youth\",\"Youth\",\"Youth\",\"Youth\"],\"xaxis\":\"x\",\"y\":[15237.668137254903,18930.4375,9299.666666666666,14787.85,20770.64767156863,8618.022671568628,14022.094919786095,18262.0,13397.5,16475.96153846154,23935.333333333332,10390.25,38065.0,2265.5,44367.0,2196.5,2380.5,17017.7,2259.75,32407.0,22237.166666666668,1932.0,6826.09068627451,2468.6666666666665,2288.5],\"yaxis\":\"y\",\"type\":\"bar\"}],                        {\"template\":{\"data\":{\"bar\":[{\"error_x\":{\"color\":\"#2a3f5f\"},\"error_y\":{\"color\":\"#2a3f5f\"},\"marker\":{\"line\":{\"color\":\"#E5ECF6\",\"width\":0.5},\"pattern\":{\"fillmode\":\"overlay\",\"size\":10,\"solidity\":0.2}},\"type\":\"bar\"}],\"barpolar\":[{\"marker\":{\"line\":{\"color\":\"#E5ECF6\",\"width\":0.5},\"pattern\":{\"fillmode\":\"overlay\",\"size\":10,\"solidity\":0.2}},\"type\":\"barpolar\"}],\"carpet\":[{\"aaxis\":{\"endlinecolor\":\"#2a3f5f\",\"gridcolor\":\"white\",\"linecolor\":\"white\",\"minorgridcolor\":\"white\",\"startlinecolor\":\"#2a3f5f\"},\"baxis\":{\"endlinecolor\":\"#2a3f5f\",\"gridcolor\":\"white\",\"linecolor\":\"white\",\"minorgridcolor\":\"white\",\"startlinecolor\":\"#2a3f5f\"},\"type\":\"carpet\"}],\"choropleth\":[{\"colorbar\":{\"outlinewidth\":0,\"ticks\":\"\"},\"type\":\"choropleth\"}],\"contour\":[{\"colorbar\":{\"outlinewidth\":0,\"ticks\":\"\"},\"colorscale\":[[0.0,\"#0d0887\"],[0.1111111111111111,\"#46039f\"],[0.2222222222222222,\"#7201a8\"],[0.3333333333333333,\"#9c179e\"],[0.4444444444444444,\"#bd3786\"],[0.5555555555555556,\"#d8576b\"],[0.6666666666666666,\"#ed7953\"],[0.7777777777777778,\"#fb9f3a\"],[0.8888888888888888,\"#fdca26\"],[1.0,\"#f0f921\"]],\"type\":\"contour\"}],\"contourcarpet\":[{\"colorbar\":{\"outlinewidth\":0,\"ticks\":\"\"},\"type\":\"contourcarpet\"}],\"heatmap\":[{\"colorbar\":{\"outlinewidth\":0,\"ticks\":\"\"},\"colorscale\":[[0.0,\"#0d0887\"],[0.1111111111111111,\"#46039f\"],[0.2222222222222222,\"#7201a8\"],[0.3333333333333333,\"#9c179e\"],[0.4444444444444444,\"#bd3786\"],[0.5555555555555556,\"#d8576b\"],[0.6666666666666666,\"#ed7953\"],[0.7777777777777778,\"#fb9f3a\"],[0.8888888888888888,\"#fdca26\"],[1.0,\"#f0f921\"]],\"type\":\"heatmap\"}],\"heatmapgl\":[{\"colorbar\":{\"outlinewidth\":0,\"ticks\":\"\"},\"colorscale\":[[0.0,\"#0d0887\"],[0.1111111111111111,\"#46039f\"],[0.2222222222222222,\"#7201a8\"],[0.3333333333333333,\"#9c179e\"],[0.4444444444444444,\"#bd3786\"],[0.5555555555555556,\"#d8576b\"],[0.6666666666666666,\"#ed7953\"],[0.7777777777777778,\"#fb9f3a\"],[0.8888888888888888,\"#fdca26\"],[1.0,\"#f0f921\"]],\"type\":\"heatmapgl\"}],\"histogram\":[{\"marker\":{\"pattern\":{\"fillmode\":\"overlay\",\"size\":10,\"solidity\":0.2}},\"type\":\"histogram\"}],\"histogram2d\":[{\"colorbar\":{\"outlinewidth\":0,\"ticks\":\"\"},\"colorscale\":[[0.0,\"#0d0887\"],[0.1111111111111111,\"#46039f\"],[0.2222222222222222,\"#7201a8\"],[0.3333333333333333,\"#9c179e\"],[0.4444444444444444,\"#bd3786\"],[0.5555555555555556,\"#d8576b\"],[0.6666666666666666,\"#ed7953\"],[0.7777777777777778,\"#fb9f3a\"],[0.8888888888888888,\"#fdca26\"],[1.0,\"#f0f921\"]],\"type\":\"histogram2d\"}],\"histogram2dcontour\":[{\"colorbar\":{\"outlinewidth\":0,\"ticks\":\"\"},\"colorscale\":[[0.0,\"#0d0887\"],[0.1111111111111111,\"#46039f\"],[0.2222222222222222,\"#7201a8\"],[0.3333333333333333,\"#9c179e\"],[0.4444444444444444,\"#bd3786\"],[0.5555555555555556,\"#d8576b\"],[0.6666666666666666,\"#ed7953\"],[0.7777777777777778,\"#fb9f3a\"],[0.8888888888888888,\"#fdca26\"],[1.0,\"#f0f921\"]],\"type\":\"histogram2dcontour\"}],\"mesh3d\":[{\"colorbar\":{\"outlinewidth\":0,\"ticks\":\"\"},\"type\":\"mesh3d\"}],\"parcoords\":[{\"line\":{\"colorbar\":{\"outlinewidth\":0,\"ticks\":\"\"}},\"type\":\"parcoords\"}],\"pie\":[{\"automargin\":true,\"type\":\"pie\"}],\"scatter\":[{\"marker\":{\"colorbar\":{\"outlinewidth\":0,\"ticks\":\"\"}},\"type\":\"scatter\"}],\"scatter3d\":[{\"line\":{\"colorbar\":{\"outlinewidth\":0,\"ticks\":\"\"}},\"marker\":{\"colorbar\":{\"outlinewidth\":0,\"ticks\":\"\"}},\"type\":\"scatter3d\"}],\"scattercarpet\":[{\"marker\":{\"colorbar\":{\"outlinewidth\":0,\"ticks\":\"\"}},\"type\":\"scattercarpet\"}],\"scattergeo\":[{\"marker\":{\"colorbar\":{\"outlinewidth\":0,\"ticks\":\"\"}},\"type\":\"scattergeo\"}],\"scattergl\":[{\"marker\":{\"colorbar\":{\"outlinewidth\":0,\"ticks\":\"\"}},\"type\":\"scattergl\"}],\"scattermapbox\":[{\"marker\":{\"colorbar\":{\"outlinewidth\":0,\"ticks\":\"\"}},\"type\":\"scattermapbox\"}],\"scatterpolar\":[{\"marker\":{\"colorbar\":{\"outlinewidth\":0,\"ticks\":\"\"}},\"type\":\"scatterpolar\"}],\"scatterpolargl\":[{\"marker\":{\"colorbar\":{\"outlinewidth\":0,\"ticks\":\"\"}},\"type\":\"scatterpolargl\"}],\"scatterternary\":[{\"marker\":{\"colorbar\":{\"outlinewidth\":0,\"ticks\":\"\"}},\"type\":\"scatterternary\"}],\"surface\":[{\"colorbar\":{\"outlinewidth\":0,\"ticks\":\"\"},\"colorscale\":[[0.0,\"#0d0887\"],[0.1111111111111111,\"#46039f\"],[0.2222222222222222,\"#7201a8\"],[0.3333333333333333,\"#9c179e\"],[0.4444444444444444,\"#bd3786\"],[0.5555555555555556,\"#d8576b\"],[0.6666666666666666,\"#ed7953\"],[0.7777777777777778,\"#fb9f3a\"],[0.8888888888888888,\"#fdca26\"],[1.0,\"#f0f921\"]],\"type\":\"surface\"}],\"table\":[{\"cells\":{\"fill\":{\"color\":\"#EBF0F8\"},\"line\":{\"color\":\"white\"}},\"header\":{\"fill\":{\"color\":\"#C8D4E3\"},\"line\":{\"color\":\"white\"}},\"type\":\"table\"}]},\"layout\":{\"annotationdefaults\":{\"arrowcolor\":\"#2a3f5f\",\"arrowhead\":0,\"arrowwidth\":1},\"autotypenumbers\":\"strict\",\"coloraxis\":{\"colorbar\":{\"outlinewidth\":0,\"ticks\":\"\"}},\"colorscale\":{\"diverging\":[[0,\"#8e0152\"],[0.1,\"#c51b7d\"],[0.2,\"#de77ae\"],[0.3,\"#f1b6da\"],[0.4,\"#fde0ef\"],[0.5,\"#f7f7f7\"],[0.6,\"#e6f5d0\"],[0.7,\"#b8e186\"],[0.8,\"#7fbc41\"],[0.9,\"#4d9221\"],[1,\"#276419\"]],\"sequential\":[[0.0,\"#0d0887\"],[0.1111111111111111,\"#46039f\"],[0.2222222222222222,\"#7201a8\"],[0.3333333333333333,\"#9c179e\"],[0.4444444444444444,\"#bd3786\"],[0.5555555555555556,\"#d8576b\"],[0.6666666666666666,\"#ed7953\"],[0.7777777777777778,\"#fb9f3a\"],[0.8888888888888888,\"#fdca26\"],[1.0,\"#f0f921\"]],\"sequentialminus\":[[0.0,\"#0d0887\"],[0.1111111111111111,\"#46039f\"],[0.2222222222222222,\"#7201a8\"],[0.3333333333333333,\"#9c179e\"],[0.4444444444444444,\"#bd3786\"],[0.5555555555555556,\"#d8576b\"],[0.6666666666666666,\"#ed7953\"],[0.7777777777777778,\"#fb9f3a\"],[0.8888888888888888,\"#fdca26\"],[1.0,\"#f0f921\"]]},\"colorway\":[\"#636efa\",\"#EF553B\",\"#00cc96\",\"#ab63fa\",\"#FFA15A\",\"#19d3f3\",\"#FF6692\",\"#B6E880\",\"#FF97FF\",\"#FECB52\"],\"font\":{\"color\":\"#2a3f5f\"},\"geo\":{\"bgcolor\":\"white\",\"lakecolor\":\"white\",\"landcolor\":\"#E5ECF6\",\"showlakes\":true,\"showland\":true,\"subunitcolor\":\"white\"},\"hoverlabel\":{\"align\":\"left\"},\"hovermode\":\"closest\",\"mapbox\":{\"style\":\"light\"},\"paper_bgcolor\":\"white\",\"plot_bgcolor\":\"#E5ECF6\",\"polar\":{\"angularaxis\":{\"gridcolor\":\"white\",\"linecolor\":\"white\",\"ticks\":\"\"},\"bgcolor\":\"#E5ECF6\",\"radialaxis\":{\"gridcolor\":\"white\",\"linecolor\":\"white\",\"ticks\":\"\"}},\"scene\":{\"xaxis\":{\"backgroundcolor\":\"#E5ECF6\",\"gridcolor\":\"white\",\"gridwidth\":2,\"linecolor\":\"white\",\"showbackground\":true,\"ticks\":\"\",\"zerolinecolor\":\"white\"},\"yaxis\":{\"backgroundcolor\":\"#E5ECF6\",\"gridcolor\":\"white\",\"gridwidth\":2,\"linecolor\":\"white\",\"showbackground\":true,\"ticks\":\"\",\"zerolinecolor\":\"white\"},\"zaxis\":{\"backgroundcolor\":\"#E5ECF6\",\"gridcolor\":\"white\",\"gridwidth\":2,\"linecolor\":\"white\",\"showbackground\":true,\"ticks\":\"\",\"zerolinecolor\":\"white\"}},\"shapedefaults\":{\"line\":{\"color\":\"#2a3f5f\"}},\"ternary\":{\"aaxis\":{\"gridcolor\":\"white\",\"linecolor\":\"white\",\"ticks\":\"\"},\"baxis\":{\"gridcolor\":\"white\",\"linecolor\":\"white\",\"ticks\":\"\"},\"bgcolor\":\"#E5ECF6\",\"caxis\":{\"gridcolor\":\"white\",\"linecolor\":\"white\",\"ticks\":\"\"}},\"title\":{\"x\":0.05},\"xaxis\":{\"automargin\":true,\"gridcolor\":\"white\",\"linecolor\":\"white\",\"ticks\":\"\",\"title\":{\"standoff\":15},\"zerolinecolor\":\"white\",\"zerolinewidth\":2},\"yaxis\":{\"automargin\":true,\"gridcolor\":\"white\",\"linecolor\":\"white\",\"ticks\":\"\",\"title\":{\"standoff\":15},\"zerolinecolor\":\"white\",\"zerolinewidth\":2}}},\"xaxis\":{\"anchor\":\"y\",\"domain\":[0.0,0.98],\"title\":{\"text\":\"age_category\"}},\"yaxis\":{\"anchor\":\"x\",\"domain\":[0.0,0.485],\"title\":{\"text\":\"agg_fraud\"}},\"xaxis2\":{\"anchor\":\"y2\",\"domain\":[0.0,0.98],\"matches\":\"x\",\"showticklabels\":false},\"yaxis2\":{\"anchor\":\"x2\",\"domain\":[0.515,1.0],\"matches\":\"y\",\"title\":{\"text\":\"agg_fraud\"}},\"annotations\":[{\"font\":{},\"showarrow\":false,\"text\":\"fraudulent=Yes\",\"textangle\":90,\"x\":0.98,\"xanchor\":\"left\",\"xref\":\"paper\",\"y\":0.2425,\"yanchor\":\"middle\",\"yref\":\"paper\"},{\"font\":{},\"showarrow\":false,\"text\":\"fraudulent=No\",\"textangle\":90,\"x\":0.98,\"xanchor\":\"left\",\"xref\":\"paper\",\"y\":0.7575000000000001,\"yanchor\":\"middle\",\"yref\":\"paper\"}],\"legend\":{\"title\":{\"text\":\"gender\"},\"tracegroupgap\":0},\"margin\":{\"t\":60},\"barmode\":\"group\"},                        {\"responsive\": true}                    ).then(function(){\n",
       "                            \n",
       "var gd = document.getElementById('cd2bf063-de09-4a81-838e-c1b9cc10a3e2');\n",
       "var x = new MutationObserver(function (mutations, observer) {{\n",
       "        var display = window.getComputedStyle(gd).display;\n",
       "        if (!display || display === 'none') {{\n",
       "            console.log([gd, 'removed!']);\n",
       "            Plotly.purge(gd);\n",
       "            observer.disconnect();\n",
       "        }}\n",
       "}});\n",
       "\n",
       "// Listen for the removal of the full notebook cells\n",
       "var notebookContainer = gd.closest('#notebook-container');\n",
       "if (notebookContainer) {{\n",
       "    x.observe(notebookContainer, {childList: true});\n",
       "}}\n",
       "\n",
       "// Listen for the clearing of the current output cell\n",
       "var outputEl = gd.closest('.output');\n",
       "if (outputEl) {{\n",
       "    x.observe(outputEl, {childList: true});\n",
       "}}\n",
       "\n",
       "                        })                };                });            </script>        </div>"
      ]
     },
     "metadata": {},
     "output_type": "display_data"
    }
   ],
   "source": [
    "fig = px.bar(facet_fraud, x=\"age_category\", y=\"agg_fraud\", color=\"gender\", barmode=\"group\", facet_row=\"fraudulent\")\n",
    "fig.show()"
   ]
  },
  {
   "cell_type": "markdown",
   "id": "295b5844",
   "metadata": {},
   "source": [
    "## Based on the conclusions from exploratory analysis as well as suitable statistical tests, answer the below questions. Please include a detailed write-up on the parameters taken into consideration, the Hypothesis testing steps, conclusion from the p-values and the business implications of the statements.\n",
    "\n",
    "### 16. Is there any similarity in the amount claimed by males and females?\n",
    "\n",
    "### 1. Defining Hypothesis\n",
    "Is there any similarity in the amount claimed by males and females\n",
    "\n",
    "    H0: There is no difference in the amount claimed by males and females.\n",
    "    H1: There is difference in the amount claimed by males and females.\n",
    "    \n",
    "The performance of the methods by using a 0.05 significance level. The hypothesis testing to check whether there is a difference between the amount claimed by males and females by using a 0.05 significance level.    \n",
    "\n",
    "### 2. Assumption Check\n",
    "    H₀: The data is normally distributed.\n",
    "    H₁: The data is not normally distributed.\n",
    "\n",
    "    H₀: The variances of the samples are the same.\n",
    "    H₁: The variances of the samples are different. "
   ]
  },
  {
   "cell_type": "code",
   "execution_count": 43,
   "id": "e2e4492b",
   "metadata": {
    "ExecuteTime": {
     "end_time": "2022-06-25T08:03:02.134678Z",
     "start_time": "2022-06-25T08:03:02.120717Z"
    }
   },
   "outputs": [],
   "source": [
    "claim_male = cust_claim_data['claim_amount'].loc[cust_claim_data['gender']==\"Male\"]\n",
    "\n",
    "claim_female = cust_claim_data['claim_amount'].loc[cust_claim_data['gender']==\"Female\"]"
   ]
  },
  {
   "cell_type": "code",
   "execution_count": 44,
   "id": "c4d33e40",
   "metadata": {
    "ExecuteTime": {
     "end_time": "2022-06-25T08:03:02.228947Z",
     "start_time": "2022-06-25T08:03:02.136001Z"
    }
   },
   "outputs": [],
   "source": [
    "def check_normality(data):\n",
    "    test_stat_normality, p_value_normality=stats.shapiro(data)\n",
    "    print(\"p value:%.4f\" % p_value_normality)\n",
    "    if p_value_normality <0.05:\n",
    "        print(\"Reject null hypothesis >> The data is not normally distributed\")\n",
    "    else:\n",
    "        print(\"Fail to reject null hypothesis >> The data is normally distributed\")  "
   ]
  },
  {
   "cell_type": "code",
   "execution_count": 45,
   "id": "144c0681",
   "metadata": {
    "ExecuteTime": {
     "end_time": "2022-06-25T08:03:02.307878Z",
     "start_time": "2022-06-25T08:03:02.229921Z"
    }
   },
   "outputs": [],
   "source": [
    "def check_variance_homogeneity(group1, group2):\n",
    "    test_stat_var, p_value_var= stats.levene(group1,group2)\n",
    "    print(\"p value:%.4f\" % p_value_var)\n",
    "    if p_value_var <0.05:\n",
    "        print(\"Reject null hypothesis >> The variances of the samples are different.\")\n",
    "    else:\n",
    "        print(\"Fail to reject null hypothesis >> The variances of the samples are same.\")"
   ]
  },
  {
   "cell_type": "code",
   "execution_count": 46,
   "id": "0d825e44",
   "metadata": {
    "ExecuteTime": {
     "end_time": "2022-06-25T08:03:02.465347Z",
     "start_time": "2022-06-25T08:03:02.309873Z"
    }
   },
   "outputs": [
    {
     "name": "stdout",
     "output_type": "stream",
     "text": [
      "p value:0.0000\n",
      "Reject null hypothesis >> The data is not normally distributed\n",
      "p value:0.0000\n",
      "Reject null hypothesis >> The data is not normally distributed\n"
     ]
    }
   ],
   "source": [
    "check_normality(claim_male)\n",
    "check_normality(claim_female)"
   ]
  },
  {
   "cell_type": "code",
   "execution_count": 47,
   "id": "5f05fb27",
   "metadata": {
    "ExecuteTime": {
     "end_time": "2022-06-25T08:03:02.590845Z",
     "start_time": "2022-06-25T08:03:02.471496Z"
    }
   },
   "outputs": [
    {
     "name": "stdout",
     "output_type": "stream",
     "text": [
      "p value:0.3227\n",
      "Fail to reject null hypothesis >> The variances of the samples are same.\n"
     ]
    }
   ],
   "source": [
    "check_variance_homogeneity(claim_male, claim_female)"
   ]
  },
  {
   "cell_type": "markdown",
   "id": "7b4dfb92",
   "metadata": {},
   "source": [
    "### 3. Selecting the Proper Test"
   ]
  },
  {
   "cell_type": "code",
   "execution_count": 48,
   "id": "bec60e00",
   "metadata": {
    "ExecuteTime": {
     "end_time": "2022-06-25T08:03:02.685021Z",
     "start_time": "2022-06-25T08:03:02.594855Z"
    }
   },
   "outputs": [
    {
     "name": "stdout",
     "output_type": "stream",
     "text": [
      "p value:0.33036643\n",
      "Fail to reject null hypothesis\n"
     ]
    }
   ],
   "source": [
    "ttest,p_value = stats.ttest_ind(claim_male,claim_female)\n",
    "print(\"p value:%.8f\" % p_value)\n",
    "\n",
    "if p_value <0.05:\n",
    "    print(\"Reject null hypothesis\")\n",
    "else:\n",
    "    print(\"Fail to reject null hypothesis\")"
   ]
  },
  {
   "cell_type": "markdown",
   "id": "b9d7e024",
   "metadata": {},
   "source": [
    "### 4. Decision and Conclusion¶\n",
    "we observe a p-value of 0.33036643 which is higher than significance level. This prove that there is no change in the amount claimed by males and females"
   ]
  },
  {
   "cell_type": "markdown",
   "id": "83b5af3a",
   "metadata": {},
   "source": [
    "### 17. Is there any relationship between age category and segment?\n",
    "\n",
    "### 1. Defining Hypothesis\n",
    "\n",
    "Conduct the hypothesis testing to check whether  Is there any relationship between age category and segment. So here are our hypotheses:\n",
    "\n",
    "    H0: The mean of the samples is the same.\n",
    "    H1: At least one of them is different.\n",
    "    \n",
    "The performance of the methods by using a 0.05 significance level. the hypothesis testing to check whether there is a difference between the performance of the methods by using a 0.05 significance level.    "
   ]
  },
  {
   "cell_type": "code",
   "execution_count": 49,
   "id": "040455bb",
   "metadata": {
    "ExecuteTime": {
     "end_time": "2022-06-25T08:03:02.794947Z",
     "start_time": "2022-06-25T08:03:02.686018Z"
    }
   },
   "outputs": [
    {
     "data": {
      "text/plain": [
       "Index(['claim_id', 'CUST_ID', 'incident_cause', 'claim_date', 'claim_area',\n",
       "       'police_report', 'claim_type', 'claim_amount', 'total_policy_claims',\n",
       "       'fraudulent', 'gender', 'DateOfBirth', 'State', 'Contact', 'Segment',\n",
       "       'alert_flag', 'Age', 'age_category', 'month_year', 'month_no', 'year'],\n",
       "      dtype='object')"
      ]
     },
     "execution_count": 49,
     "metadata": {},
     "output_type": "execute_result"
    }
   ],
   "source": [
    "cust_claim_data.columns"
   ]
  },
  {
   "cell_type": "code",
   "execution_count": 50,
   "id": "49a4eef8",
   "metadata": {
    "ExecuteTime": {
     "end_time": "2022-06-25T08:03:03.091927Z",
     "start_time": "2022-06-25T08:03:02.797937Z"
    }
   },
   "outputs": [
    {
     "data": {
      "text/html": [
       "<div>\n",
       "<style scoped>\n",
       "    .dataframe tbody tr th:only-of-type {\n",
       "        vertical-align: middle;\n",
       "    }\n",
       "\n",
       "    .dataframe tbody tr th {\n",
       "        vertical-align: top;\n",
       "    }\n",
       "\n",
       "    .dataframe thead th {\n",
       "        text-align: right;\n",
       "    }\n",
       "</style>\n",
       "<table border=\"1\" class=\"dataframe\">\n",
       "  <thead>\n",
       "    <tr style=\"text-align: right;\">\n",
       "      <th>Segment</th>\n",
       "      <th>Gold</th>\n",
       "      <th>Platinum</th>\n",
       "      <th>Silver</th>\n",
       "    </tr>\n",
       "    <tr>\n",
       "      <th>age_category</th>\n",
       "      <th></th>\n",
       "      <th></th>\n",
       "      <th></th>\n",
       "    </tr>\n",
       "  </thead>\n",
       "  <tbody>\n",
       "    <tr>\n",
       "      <th>Adult</th>\n",
       "      <td>279</td>\n",
       "      <td>270</td>\n",
       "      <td>256</td>\n",
       "    </tr>\n",
       "    <tr>\n",
       "      <th>Senior</th>\n",
       "      <td>24</td>\n",
       "      <td>21</td>\n",
       "      <td>18</td>\n",
       "    </tr>\n",
       "    <tr>\n",
       "      <th>Youth</th>\n",
       "      <td>72</td>\n",
       "      <td>71</td>\n",
       "      <td>74</td>\n",
       "    </tr>\n",
       "  </tbody>\n",
       "</table>\n",
       "</div>"
      ],
      "text/plain": [
       "Segment       Gold  Platinum  Silver\n",
       "age_category                        \n",
       "Adult          279       270     256\n",
       "Senior          24        21      18\n",
       "Youth           72        71      74"
      ]
     },
     "execution_count": 50,
     "metadata": {},
     "output_type": "execute_result"
    }
   ],
   "source": [
    "age_seg_data = pd.crosstab(cust_claim_data.age_category, cust_claim_data.Segment)\n",
    "age_seg_data"
   ]
  },
  {
   "cell_type": "markdown",
   "id": "d8c78ccf",
   "metadata": {},
   "source": [
    "### 2. Selecting the Proper Test"
   ]
  },
  {
   "cell_type": "code",
   "execution_count": 51,
   "id": "dcb1a2b5",
   "metadata": {
    "ExecuteTime": {
     "end_time": "2022-06-25T08:03:03.138567Z",
     "start_time": "2022-06-25T08:03:03.096913Z"
    }
   },
   "outputs": [
    {
     "data": {
      "text/plain": [
       "(0.922002733439911,\n",
       " 0.9213831643305384,\n",
       " 4,\n",
       " array([[278.22580645, 268.58064516, 258.19354839],\n",
       "        [ 21.77419355,  21.01935484,  20.20645161],\n",
       "        [ 75.        ,  72.4       ,  69.6       ]]))"
      ]
     },
     "execution_count": 51,
     "metadata": {},
     "output_type": "execute_result"
    }
   ],
   "source": [
    "stats.chi2_contingency( age_seg_data )"
   ]
  },
  {
   "cell_type": "code",
   "execution_count": 52,
   "id": "64496494",
   "metadata": {
    "ExecuteTime": {
     "end_time": "2022-06-25T08:03:03.216618Z",
     "start_time": "2022-06-25T08:03:03.139540Z"
    }
   },
   "outputs": [
    {
     "name": "stdout",
     "output_type": "stream",
     "text": [
      "p value:0.92138316433053835\n",
      "Fail to reject null hypothesis\n"
     ]
    }
   ],
   "source": [
    "test_stat,p_value,dof, ex = stats.chi2_contingency( age_seg_data )\n",
    "print(\"p value:%.17f\" % p_value)\n",
    "if p_value <0.05:\n",
    "    print(\"Reject null hypothesis\")\n",
    "else:\n",
    "    print(\"Fail to reject null hypothesis\")"
   ]
  },
  {
   "cell_type": "markdown",
   "id": "201d1367",
   "metadata": {},
   "source": [
    "### 3.Decision and Conclusion\n",
    "Since the significance value of the test is greter than 0.05, we fail reject the null hypothesis. Therefore there is relationship between age category and segment"
   ]
  },
  {
   "cell_type": "markdown",
   "id": "1ca617cb",
   "metadata": {},
   "source": [
    "### 18. The current year has shown a significant rise in claim amounts as compared to 2016-17 fiscal average which was $10,000."
   ]
  },
  {
   "cell_type": "markdown",
   "id": "3f949a82",
   "metadata": {},
   "source": [
    "### 1. Defining Hypothesis\n",
    "\n",
    "Conduct the hypothesis testing to check whether The current year has shown a significant rise in claim amounts as compared to 2016-17 fiscal average which was $10,000. So here are our hypothesis:\n",
    "\n",
    "        H0: No rise in claim amounts as compared to 2016-17 fiscal average which was $10,000.\n",
    "        H1: There is rise in claim amounts as compared to 2016-17 fiscal average which was $10,000.\n",
    "    \n",
    "We'll use our conventional α = 0.05."
   ]
  },
  {
   "cell_type": "code",
   "execution_count": 53,
   "id": "4f4fce5e",
   "metadata": {
    "ExecuteTime": {
     "end_time": "2022-06-25T08:03:03.311073Z",
     "start_time": "2022-06-25T08:03:03.222060Z"
    }
   },
   "outputs": [],
   "source": [
    "year_compare =  cust_claim_data.groupby([\"claim_date\"])[[\"claim_amount\"]].sum().reset_index()"
   ]
  },
  {
   "cell_type": "code",
   "execution_count": 54,
   "id": "dc9c6ca0",
   "metadata": {
    "ExecuteTime": {
     "end_time": "2022-06-25T08:03:03.388839Z",
     "start_time": "2022-06-25T08:03:03.313065Z"
    }
   },
   "outputs": [],
   "source": [
    "#creating new columns which show \"Month\" and \"Year\"\n",
    "year_compare['Monthly'] = year_compare['claim_date'].apply(lambda x:pd.Timestamp.strftime(x,format=\"%B\"))\n",
    "year_compare['Yearly'] = year_compare['claim_date'].apply(lambda x:pd.Timestamp.strftime(x,format=\"%Y\"))"
   ]
  },
  {
   "cell_type": "code",
   "execution_count": 55,
   "id": "9b9c5cc7",
   "metadata": {
    "ExecuteTime": {
     "end_time": "2022-06-25T08:03:03.468141Z",
     "start_time": "2022-06-25T08:03:03.390839Z"
    }
   },
   "outputs": [],
   "source": [
    "year_compare_2018 = year_compare.loc[ year_compare.Yearly == '2018', 'claim_amount' ]"
   ]
  },
  {
   "cell_type": "markdown",
   "id": "ee6b153e",
   "metadata": {},
   "source": [
    "### 2. Selecting the Proper Test"
   ]
  },
  {
   "cell_type": "code",
   "execution_count": 56,
   "id": "c640d3ab",
   "metadata": {
    "ExecuteTime": {
     "end_time": "2022-06-25T08:03:03.561487Z",
     "start_time": "2022-06-25T08:03:03.470136Z"
    }
   },
   "outputs": [
    {
     "name": "stdout",
     "output_type": "stream",
     "text": [
      "p value:0.000000\n",
      "Reject null hypothesis\n"
     ]
    }
   ],
   "source": [
    "statsat, p_value = stats.ttest_1samp(year_compare_2018, 10000)\n",
    "print(\"p value:%.6f\" % p_value)\n",
    "if p_value <0.05:\n",
    "    print(\"Reject null hypothesis\")\n",
    "else:\n",
    "    print(\"Fail to reject null hypothesis\")"
   ]
  },
  {
   "cell_type": "markdown",
   "id": "509b6195",
   "metadata": {},
   "source": [
    "### 4. Decision and Conclusion\n",
    "we observe a p-value very less.This confirms that there is rise in claim amounts as compared to 2016-17 fiscal average which was $10,000."
   ]
  },
  {
   "cell_type": "markdown",
   "id": "cbd06a67",
   "metadata": {},
   "source": [
    "### 19. Is there any difference between age groups and insurance claims?\n",
    "\n",
    "### 1. Defining Hypothesis\n",
    "\n",
    "Conduct the hypothesis testing to check whether here any difference between age groups and insurance claims. So here are our hypotheses:\n",
    "\n",
    "    H0: No relation between age groups and insurance claims.\n",
    "    H1: There is relationship between age groups and insurance claims.\n",
    "We'll use our conventional α = 0.05.\n",
    "\n",
    "### 2. Assumption Check\n",
    "    H₀: The data is normally distributed.\n",
    "    H₁: The data is not normally distributed.\n",
    "\n",
    "    H₀: The variances of the samples are the same.\n",
    "    H₁: The variances of the samples are different."
   ]
  },
  {
   "cell_type": "code",
   "execution_count": 57,
   "id": "077e93c5",
   "metadata": {
    "ExecuteTime": {
     "end_time": "2022-06-25T08:03:03.640554Z",
     "start_time": "2022-06-25T08:03:03.564399Z"
    }
   },
   "outputs": [],
   "source": [
    "cust_claim_data[\"total_policy_claims\"] = cust_claim_data[\"total_policy_claims\"].astype('float')"
   ]
  },
  {
   "cell_type": "code",
   "execution_count": 58,
   "id": "6eb36578",
   "metadata": {
    "ExecuteTime": {
     "end_time": "2022-06-25T08:03:03.734090Z",
     "start_time": "2022-06-25T08:03:03.643552Z"
    }
   },
   "outputs": [],
   "source": [
    "age_group_1 = cust_claim_data['total_policy_claims'].loc[cust_claim_data['age_category']==\"Adult\"]\n",
    "age_group_2 = cust_claim_data['total_policy_claims'].loc[cust_claim_data['age_category']==\"Youth\"]\n",
    "age_group_3 = cust_claim_data['total_policy_claims'].loc[cust_claim_data['age_category']==\"Senior\"]"
   ]
  },
  {
   "cell_type": "code",
   "execution_count": 59,
   "id": "b152b7fa",
   "metadata": {
    "ExecuteTime": {
     "end_time": "2022-06-25T08:03:03.812859Z",
     "start_time": "2022-06-25T08:03:03.739071Z"
    }
   },
   "outputs": [
    {
     "name": "stdout",
     "output_type": "stream",
     "text": [
      "p value:0.0000\n",
      "Reject null hypothesis >> The data is not normally distributed\n",
      "p value:0.0000\n",
      "Reject null hypothesis >> The data is not normally distributed\n",
      "p value:0.0000\n",
      "Reject null hypothesis >> The data is not normally distributed\n"
     ]
    }
   ],
   "source": [
    "check_normality(age_group_1)\n",
    "check_normality(age_group_2)\n",
    "check_normality(age_group_3)"
   ]
  },
  {
   "cell_type": "code",
   "execution_count": 60,
   "id": "5d9e01c4",
   "metadata": {
    "ExecuteTime": {
     "end_time": "2022-06-25T08:03:03.906071Z",
     "start_time": "2022-06-25T08:03:03.814853Z"
    }
   },
   "outputs": [
    {
     "name": "stdout",
     "output_type": "stream",
     "text": [
      "p value:0.5301\n",
      "Fail to reject null hypothesis >> The variances of the samples are same.\n"
     ]
    }
   ],
   "source": [
    "stat, pvalue_levene= stats.levene(age_group_1,age_group_2,age_group_3)\n",
    "\n",
    "print(\"p value:%.4f\" % pvalue_levene)\n",
    "if pvalue_levene <0.05:\n",
    "    print(\"Reject null hypothesis >> The variances of the samples are different.\")\n",
    "else:\n",
    "    print(\"Fail to reject null hypothesis >> The variances of the samples are same.\")"
   ]
  },
  {
   "cell_type": "markdown",
   "id": "8019e3b7",
   "metadata": {},
   "source": [
    "### 3. Selecting the Proper Test"
   ]
  },
  {
   "cell_type": "code",
   "execution_count": 61,
   "id": "2c4f2a8d",
   "metadata": {
    "ExecuteTime": {
     "end_time": "2022-06-25T08:03:03.982758Z",
     "start_time": "2022-06-25T08:03:03.908973Z"
    }
   },
   "outputs": [
    {
     "name": "stdout",
     "output_type": "stream",
     "text": [
      "p value:0.530099\n",
      "Fail to reject null hypothesis\n"
     ]
    }
   ],
   "source": [
    "F, p_value = stats.f_oneway(age_group_1,age_group_2,age_group_3)\n",
    "print(\"p value:%.6f\" % p_value)\n",
    "if p_value <0.05:\n",
    "    print(\"Reject null hypothesis\")\n",
    "else:\n",
    "    print(\"Fail to reject null hypothesis\")"
   ]
  },
  {
   "cell_type": "markdown",
   "id": "012cd72b",
   "metadata": {},
   "source": [
    "### 4. Decision and Conclusion\n",
    "The test result shows the pvalue is more than the significance level (0.05). We fail to reject null hypothesis which means no relation between age groups and insurance claims."
   ]
  },
  {
   "cell_type": "markdown",
   "id": "f928b8ac",
   "metadata": {},
   "source": [
    "### 20. Is there any relationship between total number of policy claims and the claimed amount?"
   ]
  },
  {
   "cell_type": "markdown",
   "id": "19acbd6e",
   "metadata": {},
   "source": [
    "### 1. Defining Hypothesis\n",
    "Conduct the hypothesis testing to check whether there any relationship between total number of policy claims and the claimed amount. So here are our hypotheses:\n",
    "\n",
    "    H0: No relation between total number of policy claims and the claimed amount.\n",
    "    H1: There is relationship between total number of policy claims and the claimed amount.\n",
    "We'll use our conventional α = 0.05.\n",
    "\n",
    "### 2. Assumption Check\n",
    "    H₀: The data is normally distributed.\n",
    "    H₁: The data is not normally distributed.\n",
    "\n",
    "    H₀: The variances of the samples are the same.\n",
    "    H₁: The variances of the samples are different."
   ]
  },
  {
   "cell_type": "code",
   "execution_count": 62,
   "id": "20e58e0d",
   "metadata": {
    "ExecuteTime": {
     "end_time": "2022-06-25T08:03:04.061376Z",
     "start_time": "2022-06-25T08:03:03.984752Z"
    }
   },
   "outputs": [
    {
     "data": {
      "text/plain": [
       "Index(['claim_id', 'CUST_ID', 'incident_cause', 'claim_date', 'claim_area',\n",
       "       'police_report', 'claim_type', 'claim_amount', 'total_policy_claims',\n",
       "       'fraudulent', 'gender', 'DateOfBirth', 'State', 'Contact', 'Segment',\n",
       "       'alert_flag', 'Age', 'age_category', 'month_year', 'month_no', 'year'],\n",
       "      dtype='object')"
      ]
     },
     "execution_count": 62,
     "metadata": {},
     "output_type": "execute_result"
    }
   ],
   "source": [
    "cust_claim_data.columns"
   ]
  },
  {
   "cell_type": "code",
   "execution_count": 63,
   "id": "6d7c87bd",
   "metadata": {
    "ExecuteTime": {
     "end_time": "2022-06-25T08:03:04.170779Z",
     "start_time": "2022-06-25T08:03:04.065363Z"
    }
   },
   "outputs": [
    {
     "data": {
      "text/plain": [
       "array([1., 3., 6., 2., 4., 5., 7., 8.])"
      ]
     },
     "execution_count": 63,
     "metadata": {},
     "output_type": "execute_result"
    }
   ],
   "source": [
    "cust_claim_data.total_policy_claims.unique()"
   ]
  },
  {
   "cell_type": "code",
   "execution_count": 64,
   "id": "83f849a9",
   "metadata": {
    "ExecuteTime": {
     "end_time": "2022-06-25T08:03:04.248492Z",
     "start_time": "2022-06-25T08:03:04.174664Z"
    }
   },
   "outputs": [],
   "source": [
    "claim_1 = cust_claim_data.loc[ cust_claim_data.total_policy_claims == 1.0, 'claim_amount' ]\n",
    "claim_2 = cust_claim_data.loc[ cust_claim_data.total_policy_claims == 2.0, 'claim_amount' ]\n",
    "claim_3 = cust_claim_data.loc[ cust_claim_data.total_policy_claims == 3.0, 'claim_amount' ]\n",
    "claim_4 = cust_claim_data.loc[ cust_claim_data.total_policy_claims == 4.0, 'claim_amount' ]\n",
    "claim_5 = cust_claim_data.loc[ cust_claim_data.total_policy_claims == 5.0, 'claim_amount' ]\n",
    "claim_6 = cust_claim_data.loc[ cust_claim_data.total_policy_claims == 6.0, 'claim_amount' ]\n",
    "claim_7 = cust_claim_data.loc[ cust_claim_data.total_policy_claims == 7.0, 'claim_amount' ]\n",
    "claim_8 = cust_claim_data.loc[ cust_claim_data.total_policy_claims == 8.0, 'claim_amount' ]"
   ]
  },
  {
   "cell_type": "code",
   "execution_count": 65,
   "id": "30dda6a7",
   "metadata": {
    "ExecuteTime": {
     "end_time": "2022-06-25T08:03:04.357387Z",
     "start_time": "2022-06-25T08:03:04.254283Z"
    }
   },
   "outputs": [
    {
     "name": "stdout",
     "output_type": "stream",
     "text": [
      "p value:0.0000\n",
      "Reject null hypothesis >> The data is not normally distributed\n",
      "p value:0.0000\n",
      "Reject null hypothesis >> The data is not normally distributed\n",
      "p value:0.0000\n",
      "Reject null hypothesis >> The data is not normally distributed\n",
      "p value:0.0000\n",
      "Reject null hypothesis >> The data is not normally distributed\n",
      "p value:0.0000\n",
      "Reject null hypothesis >> The data is not normally distributed\n",
      "p value:0.1196\n",
      "Fail to reject null hypothesis >> The data is normally distributed\n"
     ]
    }
   ],
   "source": [
    "check_normality(claim_1)\n",
    "check_normality(claim_2)\n",
    "check_normality(claim_3)\n",
    "check_normality(claim_4)\n",
    "check_normality(claim_5)\n",
    "check_normality(claim_6)"
   ]
  },
  {
   "cell_type": "code",
   "execution_count": 66,
   "id": "86bd7eb9",
   "metadata": {
    "ExecuteTime": {
     "end_time": "2022-06-25T08:03:04.435047Z",
     "start_time": "2022-06-25T08:03:04.359231Z"
    }
   },
   "outputs": [
    {
     "name": "stdout",
     "output_type": "stream",
     "text": [
      "p value:0.5703\n",
      "Fail to reject null hypothesis >> The variances of the samples are same.\n"
     ]
    }
   ],
   "source": [
    "stat, pvalue_levene= stats.levene(claim_1, claim_2, claim_3, claim_4, claim_5, claim_6, claim_7, claim_8)\n",
    "\n",
    "print(\"p value:%.4f\" % pvalue_levene)\n",
    "if pvalue_levene <0.05:\n",
    "    print(\"Reject null hypothesis >> The variances of the samples are different.\")\n",
    "else:\n",
    "    print(\"Fail to reject null hypothesis >> The variances of the samples are same.\")"
   ]
  },
  {
   "cell_type": "markdown",
   "id": "d875d3c7",
   "metadata": {},
   "source": [
    "### 3. Selecting the Proper Test"
   ]
  },
  {
   "cell_type": "code",
   "execution_count": 67,
   "id": "dcb82178",
   "metadata": {
    "ExecuteTime": {
     "end_time": "2022-06-25T08:03:04.513326Z",
     "start_time": "2022-06-25T08:03:04.436047Z"
    }
   },
   "outputs": [
    {
     "name": "stdout",
     "output_type": "stream",
     "text": [
      "p value:0.545526\n",
      "Fail to reject null hypothesis\n"
     ]
    }
   ],
   "source": [
    "F, p_value = stats.f_oneway(claim_1, claim_2, claim_3, claim_4, claim_5, claim_6, claim_7, claim_8)\n",
    "print(\"p value:%.6f\" % p_value)\n",
    "if p_value <0.05:\n",
    "    print(\"Reject null hypothesis\")\n",
    "else:\n",
    "    print(\"Fail to reject null hypothesis\")"
   ]
  },
  {
   "cell_type": "markdown",
   "id": "c2fc390a",
   "metadata": {},
   "source": [
    "### 4. Decision and Conclusion\n",
    "The test result shows the pvalue is more than the significance level (0.05). We fail to reject null hypothesis which means no relation between total number of policy claims and the claimed amount."
   ]
  }
 ],
 "metadata": {
  "kernelspec": {
   "display_name": "Python 3 (ipykernel)",
   "language": "python",
   "name": "python3"
  },
  "language_info": {
   "codemirror_mode": {
    "name": "ipython",
    "version": 3
   },
   "file_extension": ".py",
   "mimetype": "text/x-python",
   "name": "python",
   "nbconvert_exporter": "python",
   "pygments_lexer": "ipython3",
   "version": "3.9.12"
  }
 },
 "nbformat": 4,
 "nbformat_minor": 5
}
